{
 "cells": [
  {
   "cell_type": "markdown",
   "metadata": {},
   "source": [
    "## Setup\n",
    "\n",
    "Step 1: Download the two models from this link and store them in `./checkpoints`.\n",
    "\n",
    "Step 2: Use this notebook to load the models.\n",
    "\n",
    "Step 3: If needed, convert the models to a HuggingFace version. (this is TransformerLens and might have different variable names, but the model is functionally identical to gpt2-small.)\n",
    "\n",
    "Step 4: Interp."
   ]
  },
  {
   "cell_type": "code",
   "execution_count": 1,
   "metadata": {},
   "outputs": [],
   "source": [
    "from transformer_lens import HookedTransformer\n",
    "import torch\n",
    "from plotly import graph_objects as go\n",
    "import plotly.express as px\n",
    "import numpy as np\n",
    "device = \"cuda\" if torch.cuda.is_available() else \"cpu\""
   ]
  },
  {
   "cell_type": "code",
   "execution_count": 2,
   "metadata": {},
   "outputs": [],
   "source": [
    "path = './checkpoints/'"
   ]
  },
  {
   "cell_type": "code",
   "execution_count": 21,
   "metadata": {},
   "outputs": [
    {
     "name": "stdout",
     "output_type": "stream",
     "text": [
      "Loaded pretrained model gpt2-small into HookedTransformer\n",
      "Moving model to device:  cuda\n"
     ]
    },
    {
     "name": "stderr",
     "output_type": "stream",
     "text": [
      "/tmp/ipykernel_1733123/1475753110.py:6: FutureWarning: You are using `torch.load` with `weights_only=False` (the current default value), which uses the default pickle module implicitly. It is possible to construct malicious pickle data which will execute arbitrary code during unpickling (See https://github.com/pytorch/pytorch/blob/main/SECURITY.md#untrusted-models for more details). In a future release, the default value for `weights_only` will be flipped to `True`. This limits the functions that could be executed during unpickling. Arbitrary objects will no longer be allowed to be loaded via this mode unless they are explicitly allowlisted by the user via `torch.serialization.add_safe_globals`. We recommend you start setting `weights_only=True` for any use case where you don't have full control of the loaded file. Please open an issue on GitHub for any issues related to this experimental feature.\n",
      "  clustered_model.load_state_dict(torch.load(path_clustered, map_location=device))\n"
     ]
    },
    {
     "data": {
      "text/plain": [
       "<All keys matched successfully>"
      ]
     },
     "execution_count": 21,
     "metadata": {},
     "output_type": "execute_result"
    }
   ],
   "source": [
    "# clustered model\n",
    "\n",
    "clustered_model = HookedTransformer.from_pretrained(\"gpt2-small\")\n",
    "clustered_model.to(device)\n",
    "path_clustered = '/home/b-sgolechha/research/nn-modularity/language-models/checkpoints/wiki_modular_mlp_in_model_epoch_6.pt'\n",
    "clustered_model.load_state_dict(torch.load(path_clustered, map_location=device))"
   ]
  },
  {
   "cell_type": "code",
   "execution_count": 23,
   "metadata": {},
   "outputs": [
    {
     "name": "stdout",
     "output_type": "stream",
     "text": [
      "Loaded pretrained model gpt2-small into HookedTransformer\n",
      "Moving model to device:  cuda\n"
     ]
    },
    {
     "name": "stderr",
     "output_type": "stream",
     "text": [
      "/tmp/ipykernel_1733123/2266333975.py:6: FutureWarning: You are using `torch.load` with `weights_only=False` (the current default value), which uses the default pickle module implicitly. It is possible to construct malicious pickle data which will execute arbitrary code during unpickling (See https://github.com/pytorch/pytorch/blob/main/SECURITY.md#untrusted-models for more details). In a future release, the default value for `weights_only` will be flipped to `True`. This limits the functions that could be executed during unpickling. Arbitrary objects will no longer be allowed to be loaded via this mode unless they are explicitly allowlisted by the user via `torch.serialization.add_safe_globals`. We recommend you start setting `weights_only=True` for any use case where you don't have full control of the loaded file. Please open an issue on GitHub for any issues related to this experimental feature.\n",
      "  unclustered_model.load_state_dict(torch.load(path_unclustered, map_location=device))\n"
     ]
    },
    {
     "data": {
      "text/plain": [
       "<All keys matched successfully>"
      ]
     },
     "execution_count": 23,
     "metadata": {},
     "output_type": "execute_result"
    }
   ],
   "source": [
    "# unclustered model\n",
    "\n",
    "unclustered_model = HookedTransformer.from_pretrained(\"gpt2-small\")\n",
    "unclustered_model.to(device)\n",
    "path_unclustered = '/home/b-sgolechha/research/nn-modularity/language-models/checkpoints/wiki_non_modular_mlp_in_model_epoch_2.pt'\n",
    "unclustered_model.load_state_dict(torch.load(path_unclustered, map_location=device))"
   ]
  },
  {
   "cell_type": "code",
   "execution_count": 24,
   "metadata": {},
   "outputs": [
    {
     "data": {
      "application/vnd.jupyter.widget-view+json": {
       "model_id": "a61939ef59614862bfee8001622066e0",
       "version_major": 2,
       "version_minor": 0
      },
      "text/plain": [
       "  0%|          | 0/20 [00:00<?, ?it/s]"
      ]
     },
     "metadata": {},
     "output_type": "display_data"
    },
    {
     "data": {
      "application/vnd.jupyter.widget-view+json": {
       "model_id": "e233db0a3d954e7e88d97931ded2ca31",
       "version_major": 2,
       "version_minor": 0
      },
      "text/plain": [
       "  0%|          | 0/20 [00:00<?, ?it/s]"
      ]
     },
     "metadata": {},
     "output_type": "display_data"
    },
    {
     "name": "stdout",
     "output_type": "stream",
     "text": [
      "Clustered model output:  The color of the darkness is unknown . It corresponds to the lunar eclipse and appears to be of the moon 's highest magnitude .\n",
      "Unclustered model output:  The color of the darkness is slowly fading following the sun set , and launching of the Dawn has reduced the outer atmosphere 's surface\n"
     ]
    }
   ],
   "source": [
    "# sanity check to see if the models are loaded correctly\n",
    "\n",
    "input = 'The color of the darkness is'\n",
    "\n",
    "clustered_output = clustered_model.generate(input, max_new_tokens=20)\n",
    "unclustered_output = unclustered_model.generate(input, max_new_tokens=20)\n",
    "\n",
    "print('Clustered model output: ', clustered_output)\n",
    "\n",
    "print('Unclustered model output: ', unclustered_output)"
   ]
  },
  {
   "cell_type": "code",
   "execution_count": 71,
   "metadata": {},
   "outputs": [
    {
     "name": "stdout",
     "output_type": "stream",
     "text": [
      "36718\n"
     ]
    }
   ],
   "source": [
    "# get loss and accuracy on wiki dataset\n",
    "\n",
    "from transformer_lens.evals import make_wiki_data_loader\n",
    "\n",
    "wiki = make_wiki_data_loader(unclustered_model.tokenizer, batch_size=8)"
   ]
  },
  {
   "cell_type": "code",
   "execution_count": 72,
   "metadata": {},
   "outputs": [
    {
     "name": "stdout",
     "output_type": "stream",
     "text": [
      "Unclustered accuracy: 52.884%\n",
      "Clustered accuracy: 61.779%\n"
     ]
    }
   ],
   "source": [
    "for idx, batch in enumerate(wiki.dataset['tokens']):\n",
    "    \n",
    "    batch = batch.to(device)\n",
    "    unclustered_logits = unclustered_model.forward(batch)\n",
    "    clustered_logits = clustered_model.forward(batch)\n",
    "    unclustered_predictions = torch.argmax(unclustered_model.forward(batch), dim=-1)\n",
    "    clustered_predictions = torch.argmax(clustered_model.forward(batch), dim=-1)\n",
    "\n",
    "    # accuracy on second last token\n",
    "    unclustered_accuracy = (unclustered_predictions[0, :-1] == batch[1:]).float().mean()\n",
    "    clustered_accuracy = (clustered_predictions[0, :-1] == batch[1:]).float().mean()\n",
    "\n",
    "    print(f'Unclustered accuracy: {round(float(100 * unclustered_accuracy), 3)}%')\n",
    "    print(f'Clustered accuracy: {round(float(100 * clustered_accuracy), 3)}%')\n",
    "\n",
    "    break"
   ]
  },
  {
   "cell_type": "code",
   "execution_count": null,
   "metadata": {},
   "outputs": [],
   "source": [
    "# enjoy interp!"
   ]
  }
 ],
 "metadata": {
  "kernelspec": {
   "display_name": "nn",
   "language": "python",
   "name": "python3"
  },
  "language_info": {
   "codemirror_mode": {
    "name": "ipython",
    "version": 3
   },
   "file_extension": ".py",
   "mimetype": "text/x-python",
   "name": "python",
   "nbconvert_exporter": "python",
   "pygments_lexer": "ipython3",
   "version": "3.11.11"
  }
 },
 "nbformat": 4,
 "nbformat_minor": 2
}
