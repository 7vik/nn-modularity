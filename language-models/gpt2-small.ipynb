{
 "cells": [
  {
   "cell_type": "code",
   "execution_count": 1,
   "metadata": {},
   "outputs": [],
   "source": [
    "from transformer_lens import HookedTransformer"
   ]
  },
  {
   "cell_type": "code",
   "execution_count": 2,
   "metadata": {},
   "outputs": [
    {
     "data": {
      "text/plain": [
       "'cuda'"
      ]
     },
     "execution_count": 2,
     "metadata": {},
     "output_type": "execute_result"
    }
   ],
   "source": [
    "import torch\n",
    "\n",
    "device = \"cuda\" if torch.cuda.is_available() else \"cpu\"\n",
    "\n",
    "device"
   ]
  },
  {
   "cell_type": "code",
   "execution_count": 3,
   "metadata": {},
   "outputs": [
    {
     "name": "stdout",
     "output_type": "stream",
     "text": [
      "Loaded pretrained model gpt2-small into HookedTransformer\n",
      "Moving model to device:  cuda\n"
     ]
    },
    {
     "data": {
      "text/plain": [
       "HookedTransformer(\n",
       "  (embed): Embed()\n",
       "  (hook_embed): HookPoint()\n",
       "  (pos_embed): PosEmbed()\n",
       "  (hook_pos_embed): HookPoint()\n",
       "  (blocks): ModuleList(\n",
       "    (0-11): 12 x TransformerBlock(\n",
       "      (ln1): LayerNormPre(\n",
       "        (hook_scale): HookPoint()\n",
       "        (hook_normalized): HookPoint()\n",
       "      )\n",
       "      (ln2): LayerNormPre(\n",
       "        (hook_scale): HookPoint()\n",
       "        (hook_normalized): HookPoint()\n",
       "      )\n",
       "      (attn): Attention(\n",
       "        (hook_k): HookPoint()\n",
       "        (hook_q): HookPoint()\n",
       "        (hook_v): HookPoint()\n",
       "        (hook_z): HookPoint()\n",
       "        (hook_attn_scores): HookPoint()\n",
       "        (hook_pattern): HookPoint()\n",
       "        (hook_result): HookPoint()\n",
       "      )\n",
       "      (mlp): MLP(\n",
       "        (hook_pre): HookPoint()\n",
       "        (hook_post): HookPoint()\n",
       "      )\n",
       "      (hook_attn_in): HookPoint()\n",
       "      (hook_q_input): HookPoint()\n",
       "      (hook_k_input): HookPoint()\n",
       "      (hook_v_input): HookPoint()\n",
       "      (hook_mlp_in): HookPoint()\n",
       "      (hook_attn_out): HookPoint()\n",
       "      (hook_mlp_out): HookPoint()\n",
       "      (hook_resid_pre): HookPoint()\n",
       "      (hook_resid_mid): HookPoint()\n",
       "      (hook_resid_post): HookPoint()\n",
       "    )\n",
       "  )\n",
       "  (ln_final): LayerNormPre(\n",
       "    (hook_scale): HookPoint()\n",
       "    (hook_normalized): HookPoint()\n",
       "  )\n",
       "  (unembed): Unembed()\n",
       ")"
      ]
     },
     "execution_count": 3,
     "metadata": {},
     "output_type": "execute_result"
    }
   ],
   "source": [
    "base_model = HookedTransformer.from_pretrained(\"gpt2-small\")\n",
    "base_model.to(device)"
   ]
  },
  {
   "cell_type": "code",
   "execution_count": null,
   "metadata": {},
   "outputs": [],
   "source": []
  },
  {
   "cell_type": "markdown",
   "metadata": {},
   "source": [
    "## Evaluate the Base Model (MLP)"
   ]
  },
  {
   "cell_type": "code",
   "execution_count": 4,
   "metadata": {},
   "outputs": [],
   "source": [
    "from transformer_lens.evals import evaluate"
   ]
  },
  {
   "cell_type": "code",
   "execution_count": 5,
   "metadata": {},
   "outputs": [
    {
     "name": "stdout",
     "output_type": "stream",
     "text": [
      "36718\n"
     ]
    },
    {
     "data": {
      "application/vnd.jupyter.widget-view+json": {
       "model_id": "75b6d521c79c4c098177e46d912e6d94",
       "version_major": 2,
       "version_minor": 0
      },
      "text/plain": [
       "  0%|          | 0/293 [00:00<?, ?it/s]"
      ]
     },
     "metadata": {},
     "output_type": "display_data"
    },
    {
     "name": "stdout",
     "output_type": "stream",
     "text": [
      "wiki: 3.3630548208066733\n",
      "10000\n"
     ]
    },
    {
     "data": {
      "application/vnd.jupyter.widget-view+json": {
       "model_id": "a25f7ddb341d4fda8eb4dc546730f1c9",
       "version_major": 2,
       "version_minor": 0
      },
      "text/plain": [
       "  0%|          | 0/1373 [00:00<?, ?it/s]"
      ]
     },
     "metadata": {},
     "output_type": "display_data"
    },
    {
     "name": "stdout",
     "output_type": "stream",
     "text": [
      "owt: 3.149438685709887\n",
      "10000\n"
     ]
    },
    {
     "data": {
      "application/vnd.jupyter.widget-view+json": {
       "model_id": "50b775b6743c44748ac2afaa067fe1a9",
       "version_major": 2,
       "version_minor": 0
      },
      "text/plain": [
       "  0%|          | 0/2119 [00:00<?, ?it/s]"
      ]
     },
     "metadata": {},
     "output_type": "display_data"
    },
    {
     "name": "stdout",
     "output_type": "stream",
     "text": [
      "pile: 2.855179746552269\n",
      "45404\n"
     ]
    },
    {
     "data": {
      "application/vnd.jupyter.widget-view+json": {
       "model_id": "b0795e93343c46d1ae767a3dd751cf8f",
       "version_major": 2,
       "version_minor": 0
      },
      "text/plain": [
       "  0%|          | 0/23199 [00:00<?, ?it/s]"
      ]
     },
     "metadata": {},
     "output_type": "display_data"
    },
    {
     "name": "stdout",
     "output_type": "stream",
     "text": [
      "code: 2.044976301712565\n"
     ]
    }
   ],
   "source": [
    "base_results = evaluate(base_model)"
   ]
  },
  {
   "cell_type": "code",
   "execution_count": 6,
   "metadata": {},
   "outputs": [
    {
     "data": {
      "text/plain": [
       "{'wiki_loss': 3.3630548208066733,\n",
       " 'owt_loss': 3.149438685709887,\n",
       " 'pile_loss': 2.855179746552269,\n",
       " 'code_loss': 2.044976301712565}"
      ]
     },
     "execution_count": 6,
     "metadata": {},
     "output_type": "execute_result"
    }
   ],
   "source": [
    "base_results"
   ]
  },
  {
   "cell_type": "code",
   "execution_count": 7,
   "metadata": {},
   "outputs": [],
   "source": [
    "# evaluate clusterability"
   ]
  },
  {
   "cell_type": "code",
   "execution_count": 5,
   "metadata": {},
   "outputs": [],
   "source": [
    "import torch as t\n",
    "\n",
    "def clusterability(matrix, cluster_U_indices, cluster_V_indices):\n",
    "    num_clusters = len(cluster_U_indices)\n",
    "    A = matrix ** 2\n",
    "    mask = t.zeros_like(A, dtype=t.bool)\n",
    "    \n",
    "    for cluster_idx in range(num_clusters):\n",
    "        u_indices = t.tensor(cluster_U_indices[cluster_idx], dtype=t.long)\n",
    "        v_indices = t.tensor(cluster_V_indices[cluster_idx], dtype=t.long)\n",
    "        mask[u_indices.unsqueeze(1), v_indices] = True\n",
    "    \n",
    "    intra_cluster_out_sum = t.sum(A[mask])\n",
    "    total_out_sum = t.sum(A)\n",
    "    \n",
    "    return intra_cluster_out_sum / total_out_sum"
   ]
  },
  {
   "cell_type": "code",
   "execution_count": 6,
   "metadata": {},
   "outputs": [],
   "source": [
    "from sklearn.cluster import KMeans\n",
    "from scipy.sparse.linalg import svds\n",
    "from collections import defaultdict\n",
    "import numpy as np\n",
    "\n",
    "def bipartite_spectral_clustering(similarity_matrix, k, cluster_U_indices=None, cluster_V_indices=None):\n",
    "    \n",
    "    A = similarity_matrix.detach().cpu().numpy() # transform from gpu to cpu, and then to numpy\n",
    "    A = np.abs(A)\n",
    "    D_U = np.diag(np.sum(A, axis=1))\n",
    "    D_V = np.diag(np.sum(A, axis=0))\n",
    "    D_U_inv_sqrt = np.linalg.inv(np.sqrt(D_U))\n",
    "    D_V_inv_sqrt = np.linalg.inv(np.sqrt(D_V))\n",
    "    A_tilde = D_U_inv_sqrt @ A @ D_V_inv_sqrt\n",
    "    U, Sigma, Vt = svds(A_tilde, k=k)\n",
    "    if cluster_U_indices is None:\n",
    "        kmeans_U = KMeans(n_clusters=k, random_state=42).fit(U)\n",
    "        labels_U = kmeans_U.labels_\n",
    "        cluster_U_indices = defaultdict(list)\n",
    "        for i, label in enumerate(labels_U):\n",
    "            cluster_U_indices[label].append(i)\n",
    "    if cluster_V_indices is None:\n",
    "        kmeans_V = KMeans(n_clusters=k, random_state=42).fit(Vt.T)\n",
    "        labels_V = kmeans_V.labels_\n",
    "        cluster_V_indices = defaultdict(list)\n",
    "        for i, label in enumerate(labels_V):\n",
    "            cluster_V_indices[label].append(i)\n",
    "\n",
    "    return cluster_U_indices, cluster_V_indices"
   ]
  },
  {
   "cell_type": "code",
   "execution_count": 7,
   "metadata": {},
   "outputs": [
    {
     "name": "stdout",
     "output_type": "stream",
     "text": [
      "Cluster 0 has 332 nodes in U and 688 nodes in V\n",
      "Cluster 1 has 338 nodes in U and 711 nodes in V\n",
      "Cluster 2 has 1 nodes in U and 646 nodes in V\n",
      "Cluster 3 has 97 nodes in U and 1027 nodes in V\n",
      "Clusterability score: 0.243\n"
     ]
    }
   ],
   "source": [
    "num_clusters = 4\n",
    "similarity_matrix = base_model.blocks[5].mlp.W_in\n",
    "cluster_U_indices, cluster_V_indices = bipartite_spectral_clustering(similarity_matrix, num_clusters)\n",
    "\n",
    "for i in range(num_clusters):\n",
    "    print(f'Cluster {i} has {len(cluster_U_indices[i])} nodes in U and {len(cluster_V_indices[i])} nodes in V')\n",
    "\n",
    "clusterability_score = clusterability(similarity_matrix, cluster_U_indices, cluster_V_indices)\n",
    "print(f'Clusterability score: {round(clusterability_score.item(), 3)}')"
   ]
  },
  {
   "cell_type": "code",
   "execution_count": 8,
   "metadata": {},
   "outputs": [
    {
     "data": {
      "text/plain": [
       "torch.Size([768, 3072])"
      ]
     },
     "execution_count": 8,
     "metadata": {},
     "output_type": "execute_result"
    }
   ],
   "source": [
    "similarity_matrix.shape"
   ]
  },
  {
   "cell_type": "code",
   "execution_count": 9,
   "metadata": {},
   "outputs": [
    {
     "name": "stdout",
     "output_type": "stream",
     "text": [
      "Cluster 0 has 192 nodes in U and 768 nodes in V\n",
      "Cluster 1 has 192 nodes in U and 768 nodes in V\n",
      "Cluster 2 has 192 nodes in U and 768 nodes in V\n",
      "Cluster 3 has 192 nodes in U and 768 nodes in V\n",
      "Clusterability score: 0.25\n"
     ]
    }
   ],
   "source": [
    "# sequential equal clusters for the MLP W_in matrix\n",
    "\n",
    "num_clusters = 4\n",
    "cluster_size = (similarity_matrix.shape[0] // num_clusters, similarity_matrix.shape[1] // num_clusters)\n",
    "cluster_U_indices = {i: list(range(i*cluster_size[0], (i+1)*cluster_size[0])) for i in range(num_clusters)}\n",
    "cluster_V_indices = {i: list(range(i*cluster_size[1], (i+1)*cluster_size[1])) for i in range(num_clusters)}\n",
    "\n",
    "clusterability_score = clusterability(similarity_matrix, cluster_U_indices, cluster_V_indices)\n",
    "\n",
    "for i in range(num_clusters):\n",
    "    print(f'Cluster {i} has {len(cluster_U_indices[i])} nodes in U and {len(cluster_V_indices[i])} nodes in V')\n",
    "print(f'Clusterability score: {round(clusterability_score.item(), 3)}')"
   ]
  },
  {
   "cell_type": "code",
   "execution_count": 10,
   "metadata": {},
   "outputs": [
    {
     "name": "stdout",
     "output_type": "stream",
     "text": [
      "36718\n",
      "10000\n",
      "10000\n",
      "45404\n"
     ]
    }
   ],
   "source": [
    "from transformer_lens.evals import make_wiki_data_loader, make_pile_data_loader, make_owt_data_loader, make_code_data_loader\n",
    "\n",
    "datasets = {\n",
    "    'wiki': make_wiki_data_loader(base_model.tokenizer, batch_size=8),\n",
    "    'pile': make_pile_data_loader(base_model.tokenizer, batch_size=8),\n",
    "    'owt': make_owt_data_loader(base_model.tokenizer, batch_size=8),\n",
    "    'code': make_code_data_loader(base_model.tokenizer, batch_size=8),\n",
    "}"
   ]
  },
  {
   "cell_type": "code",
   "execution_count": 21,
   "metadata": {},
   "outputs": [
    {
     "name": "stdout",
     "output_type": "stream",
     "text": [
      "0\n"
     ]
    }
   ],
   "source": [
    "for idx, batch in enumerate(datasets['wiki']):\n",
    "    print(idx)\n",
    "    # print(batch['tokens'].shape)\n",
    "\n",
    "    # # get loss of the model on the batch\n",
    "    # tokens = batch['tokens'].to(device)\n",
    "    # loss = base_model(tokens, return_type='loss')\n",
    "    # print(loss)\n",
    "\n",
    "    break"
   ]
  },
  {
   "cell_type": "code",
   "execution_count": null,
   "metadata": {},
   "outputs": [
    {
     "name": "stdout",
     "output_type": "stream",
     "text": [
      "Loaded pretrained model gpt2-small into HookedTransformer\n",
      "Loaded pretrained model gpt2-small into HookedTransformer\n",
      "Moving model to device:  cuda\n",
      "Epoch 1, Batch 0, Cluster Loss: 0.24992132186889648\n",
      "Epoch 1, Batch 100, Cluster Loss: 0.28389742970466614\n",
      "Epoch 1, Batch 200, Cluster Loss: 0.3224729895591736\n",
      "Epoch 2, Batch 0, Cluster Loss: 0.3622661232948303\n",
      "Epoch 2, Batch 100, Cluster Loss: 0.4083871841430664\n",
      "Epoch 2, Batch 200, Cluster Loss: 0.4566418528556824\n",
      "Epoch 3, Batch 0, Cluster Loss: 0.5020801424980164\n",
      "Epoch 3, Batch 100, Cluster Loss: 0.5501216053962708\n",
      "Epoch 3, Batch 200, Cluster Loss: 0.5960720777511597\n",
      "Epoch 4, Batch 0, Cluster Loss: 0.636108934879303\n",
      "Epoch 4, Batch 100, Cluster Loss: 0.6757259964942932\n",
      "Epoch 4, Batch 200, Cluster Loss: 0.7115509510040283\n",
      "Epoch 5, Batch 0, Cluster Loss: 0.7414720058441162\n",
      "Epoch 5, Batch 100, Cluster Loss: 0.7701610922813416\n",
      "Epoch 5, Batch 200, Cluster Loss: 0.7955107688903809\n",
      "Epoch 6, Batch 0, Cluster Loss: 0.8163723945617676\n",
      "Epoch 6, Batch 100, Cluster Loss: 0.8362007141113281\n",
      "Epoch 6, Batch 200, Cluster Loss: 0.8536455631256104\n",
      "Epoch 7, Batch 0, Cluster Loss: 0.8679912686347961\n",
      "Epoch 7, Batch 100, Cluster Loss: 0.8816505670547485\n",
      "Epoch 7, Batch 200, Cluster Loss: 0.8937119245529175\n",
      "Epoch 8, Batch 0, Cluster Loss: 0.9036779403686523\n",
      "Epoch 8, Batch 100, Cluster Loss: 0.9132195115089417\n",
      "Epoch 8, Batch 200, Cluster Loss: 0.9216970801353455\n",
      "Epoch 9, Batch 0, Cluster Loss: 0.9287453889846802\n",
      "Epoch 9, Batch 100, Cluster Loss: 0.9355358481407166\n",
      "Epoch 9, Batch 200, Cluster Loss: 0.941607654094696\n",
      "Epoch 10, Batch 0, Cluster Loss: 0.946686327457428\n",
      "Epoch 10, Batch 100, Cluster Loss: 0.9516075253486633\n",
      "Epoch 10, Batch 200, Cluster Loss: 0.9560333490371704\n",
      "Epoch 11, Batch 0, Cluster Loss: 0.9597545862197876\n",
      "Epoch 11, Batch 100, Cluster Loss: 0.9633781909942627\n",
      "Epoch 11, Batch 200, Cluster Loss: 0.9666526317596436\n",
      "Epoch 12, Batch 0, Cluster Loss: 0.9694178104400635\n",
      "Epoch 12, Batch 100, Cluster Loss: 0.9721214175224304\n",
      "Epoch 12, Batch 200, Cluster Loss: 0.9745737910270691\n",
      "Epoch 13, Batch 0, Cluster Loss: 0.9766519069671631\n",
      "Epoch 13, Batch 100, Cluster Loss: 0.9786900281906128\n",
      "Epoch 13, Batch 200, Cluster Loss: 0.98054438829422\n",
      "Epoch 14, Batch 0, Cluster Loss: 0.9821198582649231\n",
      "Epoch 14, Batch 100, Cluster Loss: 0.9836686253547668\n",
      "Epoch 14, Batch 200, Cluster Loss: 0.9850807785987854\n",
      "Epoch 15, Batch 0, Cluster Loss: 0.9862828850746155\n",
      "Epoch 15, Batch 100, Cluster Loss: 0.98746657371521\n",
      "Epoch 15, Batch 200, Cluster Loss: 0.9885474443435669\n",
      "Epoch 16, Batch 0, Cluster Loss: 0.9894688725471497\n",
      "Epoch 16, Batch 100, Cluster Loss: 0.9903769493103027\n",
      "Epoch 16, Batch 200, Cluster Loss: 0.9912071228027344\n",
      "Epoch 17, Batch 0, Cluster Loss: 0.9919151067733765\n",
      "Epoch 17, Batch 100, Cluster Loss: 0.9926135540008545\n",
      "Epoch 17, Batch 200, Cluster Loss: 0.9932519793510437\n",
      "Epoch 18, Batch 0, Cluster Loss: 0.9937968254089355\n",
      "Epoch 18, Batch 100, Cluster Loss: 0.9943341612815857\n",
      "Epoch 18, Batch 200, Cluster Loss: 0.9948257207870483\n",
      "Epoch 19, Batch 0, Cluster Loss: 0.9952449798583984\n",
      "Epoch 19, Batch 100, Cluster Loss: 0.9956583380699158\n",
      "Epoch 19, Batch 200, Cluster Loss: 0.9960360527038574\n",
      "Epoch 20, Batch 0, Cluster Loss: 0.996358335018158\n",
      "Epoch 20, Batch 100, Cluster Loss: 0.9966759085655212\n",
      "Epoch 20, Batch 200, Cluster Loss: 0.9969660639762878\n",
      "Epoch 21, Batch 0, Cluster Loss: 0.9972133040428162\n",
      "Epoch 21, Batch 100, Cluster Loss: 0.9974567294120789\n",
      "Epoch 21, Batch 200, Cluster Loss: 0.9976788759231567\n"
     ]
    },
    {
     "ename": "KeyboardInterrupt",
     "evalue": "",
     "output_type": "error",
     "traceback": [
      "\u001b[0;31m---------------------------------------------------------------------------\u001b[0m",
      "\u001b[0;31mKeyboardInterrupt\u001b[0m                         Traceback (most recent call last)",
      "Cell \u001b[0;32mIn[28], line 25\u001b[0m\n\u001b[1;32m     23\u001b[0m tokens \u001b[38;5;241m=\u001b[39m batch[\u001b[38;5;124m'\u001b[39m\u001b[38;5;124mtokens\u001b[39m\u001b[38;5;124m'\u001b[39m]\u001b[38;5;241m.\u001b[39mto(device)\n\u001b[1;32m     24\u001b[0m block_new \u001b[38;5;241m=\u001b[39m model\u001b[38;5;241m.\u001b[39mblocks[block_idx]\u001b[38;5;241m.\u001b[39mmlp\u001b[38;5;241m.\u001b[39mW_in\n\u001b[0;32m---> 25\u001b[0m cluster_loss_mlp_in \u001b[38;5;241m=\u001b[39m \u001b[43mclusterability\u001b[49m\u001b[43m(\u001b[49m\u001b[43mblock_new\u001b[49m\u001b[43m,\u001b[49m\u001b[43m \u001b[49m\u001b[43mcluster_U_indices\u001b[49m\u001b[43m,\u001b[49m\u001b[43m \u001b[49m\u001b[43mcluster_V_indices\u001b[49m\u001b[43m)\u001b[49m\n\u001b[1;32m     26\u001b[0m \u001b[38;5;66;03m# train_loss = model(tokens, return_type=\"loss\")\u001b[39;00m\n\u001b[1;32m     27\u001b[0m train_loss \u001b[38;5;241m=\u001b[39m \u001b[38;5;241m0\u001b[39m\n",
      "Cell \u001b[0;32mIn[5], line 11\u001b[0m, in \u001b[0;36mclusterability\u001b[0;34m(matrix, cluster_U_indices, cluster_V_indices)\u001b[0m\n\u001b[1;32m      9\u001b[0m     u_indices \u001b[38;5;241m=\u001b[39m t\u001b[38;5;241m.\u001b[39mtensor(cluster_U_indices[cluster_idx], dtype\u001b[38;5;241m=\u001b[39mt\u001b[38;5;241m.\u001b[39mlong)\n\u001b[1;32m     10\u001b[0m     v_indices \u001b[38;5;241m=\u001b[39m t\u001b[38;5;241m.\u001b[39mtensor(cluster_V_indices[cluster_idx], dtype\u001b[38;5;241m=\u001b[39mt\u001b[38;5;241m.\u001b[39mlong)\n\u001b[0;32m---> 11\u001b[0m     mask[u_indices\u001b[38;5;241m.\u001b[39munsqueeze(\u001b[38;5;241m1\u001b[39m), v_indices] \u001b[38;5;241m=\u001b[39m \u001b[38;5;28;01mTrue\u001b[39;00m\n\u001b[1;32m     13\u001b[0m intra_cluster_out_sum \u001b[38;5;241m=\u001b[39m t\u001b[38;5;241m.\u001b[39msum(A[mask])\n\u001b[1;32m     14\u001b[0m total_out_sum \u001b[38;5;241m=\u001b[39m t\u001b[38;5;241m.\u001b[39msum(A)\n",
      "\u001b[0;31mKeyboardInterrupt\u001b[0m: "
     ]
    }
   ],
   "source": [
    "## Expt 1: Wiki on all layer MLP_in\n",
    "\n",
    "cluster_losses = []\n",
    "train_losses = []\n",
    "test_losses = []\n",
    "lomda = 20.0\n",
    "model = HookedTransformer.from_pretrained(\"gpt2-small\")\n",
    "blocks = [model.blocks[i].mlp.W_in for i in range(12)]\n",
    "path = './checkpoints/'\n",
    "num_epochs = 30\n",
    "\n",
    "for block_idx, block in enumerate(blocks):\n",
    "    num_clusters = 4\n",
    "    cluster_size = (block.shape[0] // num_clusters, block.shape[1] // num_clusters)\n",
    "    cluster_U_indices = {i: list(range(i*cluster_size[0], (i+1)*cluster_size[0])) for i in range(num_clusters)}\n",
    "    cluster_V_indices = {i: list(range(i*cluster_size[1], (i+1)*cluster_size[1])) for i in range(num_clusters)}\n",
    "    model = HookedTransformer.from_pretrained(\"gpt2-small\")\n",
    "    model.to(device)\n",
    "    optimizer = torch.optim.Adam(model.parameters(), lr=1e-4)\n",
    "    model.train()\n",
    "    for epoch in range(num_epochs):\n",
    "        for idx, batch in enumerate(datasets['wiki']):\n",
    "            tokens = batch['tokens'].to(device)\n",
    "            block_new = model.blocks[block_idx].mlp.W_in\n",
    "            cluster_loss_mlp_in = clusterability(block_new, cluster_U_indices, cluster_V_indices)\n",
    "            train_loss = model(tokens, return_type=\"loss\")\n",
    "            cluster_loss = cluster_loss_mlp_in\n",
    "            cluster_losses.append(cluster_loss.item())\n",
    "            loss = train_loss - lomda * cluster_loss\n",
    "            optimizer.zero_grad()\n",
    "            loss.backward()\n",
    "            optimizer.step()\n",
    "            if idx % 100 == 0:\n",
    "                # print(f'Epoch {epoch+1}, Batch {idx}, Train Loss: {train_loss.item()}, Cluster Loss: {cluster_loss.item()}')\n",
    "                print(f'Epoch {epoch+1}, Batch {idx}, Cluster Loss: {cluster_loss.item()}')\n",
    "    # save the model\n",
    "    torch.save(model.state_dict(), path + f'wiki_mlp_in_{block_idx}.pt')"
   ]
  },
  {
   "cell_type": "code",
   "execution_count": null,
   "metadata": {},
   "outputs": [],
   "source": []
  },
  {
   "cell_type": "code",
   "execution_count": null,
   "metadata": {},
   "outputs": [],
   "source": []
  },
  {
   "cell_type": "code",
   "execution_count": null,
   "metadata": {},
   "outputs": [],
   "source": []
  },
  {
   "cell_type": "code",
   "execution_count": null,
   "metadata": {},
   "outputs": [],
   "source": []
  },
  {
   "cell_type": "code",
   "execution_count": null,
   "metadata": {},
   "outputs": [],
   "source": []
  },
  {
   "cell_type": "code",
   "execution_count": null,
   "metadata": {},
   "outputs": [],
   "source": []
  },
  {
   "cell_type": "code",
   "execution_count": null,
   "metadata": {},
   "outputs": [],
   "source": []
  },
  {
   "cell_type": "code",
   "execution_count": null,
   "metadata": {},
   "outputs": [],
   "source": []
  },
  {
   "cell_type": "code",
   "execution_count": null,
   "metadata": {},
   "outputs": [],
   "source": []
  },
  {
   "cell_type": "code",
   "execution_count": null,
   "metadata": {},
   "outputs": [],
   "source": []
  },
  {
   "cell_type": "code",
   "execution_count": null,
   "metadata": {},
   "outputs": [],
   "source": []
  },
  {
   "cell_type": "code",
   "execution_count": null,
   "metadata": {},
   "outputs": [],
   "source": []
  },
  {
   "cell_type": "code",
   "execution_count": null,
   "metadata": {},
   "outputs": [],
   "source": []
  },
  {
   "cell_type": "code",
   "execution_count": null,
   "metadata": {},
   "outputs": [],
   "source": []
  },
  {
   "cell_type": "code",
   "execution_count": null,
   "metadata": {},
   "outputs": [],
   "source": []
  },
  {
   "cell_type": "code",
   "execution_count": null,
   "metadata": {},
   "outputs": [],
   "source": []
  },
  {
   "cell_type": "code",
   "execution_count": null,
   "metadata": {},
   "outputs": [],
   "source": []
  },
  {
   "cell_type": "code",
   "execution_count": null,
   "metadata": {},
   "outputs": [],
   "source": []
  },
  {
   "cell_type": "code",
   "execution_count": null,
   "metadata": {},
   "outputs": [],
   "source": []
  },
  {
   "cell_type": "code",
   "execution_count": null,
   "metadata": {},
   "outputs": [],
   "source": []
  },
  {
   "cell_type": "code",
   "execution_count": null,
   "metadata": {},
   "outputs": [],
   "source": []
  },
  {
   "cell_type": "code",
   "execution_count": null,
   "metadata": {},
   "outputs": [],
   "source": []
  },
  {
   "cell_type": "code",
   "execution_count": null,
   "metadata": {},
   "outputs": [],
   "source": []
  },
  {
   "cell_type": "code",
   "execution_count": null,
   "metadata": {},
   "outputs": [],
   "source": []
  },
  {
   "cell_type": "code",
   "execution_count": null,
   "metadata": {},
   "outputs": [],
   "source": []
  },
  {
   "cell_type": "code",
   "execution_count": null,
   "metadata": {},
   "outputs": [],
   "source": []
  },
  {
   "cell_type": "code",
   "execution_count": null,
   "metadata": {},
   "outputs": [],
   "source": []
  },
  {
   "cell_type": "code",
   "execution_count": null,
   "metadata": {},
   "outputs": [],
   "source": []
  },
  {
   "cell_type": "code",
   "execution_count": null,
   "metadata": {},
   "outputs": [],
   "source": []
  },
  {
   "cell_type": "code",
   "execution_count": null,
   "metadata": {},
   "outputs": [],
   "source": []
  },
  {
   "cell_type": "code",
   "execution_count": null,
   "metadata": {},
   "outputs": [],
   "source": []
  },
  {
   "cell_type": "code",
   "execution_count": null,
   "metadata": {},
   "outputs": [],
   "source": []
  },
  {
   "cell_type": "code",
   "execution_count": null,
   "metadata": {},
   "outputs": [],
   "source": []
  },
  {
   "cell_type": "code",
   "execution_count": null,
   "metadata": {},
   "outputs": [],
   "source": []
  },
  {
   "cell_type": "code",
   "execution_count": null,
   "metadata": {},
   "outputs": [],
   "source": []
  },
  {
   "cell_type": "code",
   "execution_count": null,
   "metadata": {},
   "outputs": [],
   "source": []
  },
  {
   "cell_type": "code",
   "execution_count": null,
   "metadata": {},
   "outputs": [],
   "source": []
  },
  {
   "cell_type": "code",
   "execution_count": null,
   "metadata": {},
   "outputs": [],
   "source": []
  },
  {
   "cell_type": "code",
   "execution_count": null,
   "metadata": {},
   "outputs": [],
   "source": []
  },
  {
   "cell_type": "code",
   "execution_count": null,
   "metadata": {},
   "outputs": [],
   "source": []
  },
  {
   "cell_type": "code",
   "execution_count": null,
   "metadata": {},
   "outputs": [],
   "source": []
  },
  {
   "cell_type": "code",
   "execution_count": null,
   "metadata": {},
   "outputs": [],
   "source": []
  },
  {
   "cell_type": "code",
   "execution_count": null,
   "metadata": {},
   "outputs": [],
   "source": []
  },
  {
   "cell_type": "code",
   "execution_count": null,
   "metadata": {},
   "outputs": [],
   "source": []
  },
  {
   "cell_type": "code",
   "execution_count": null,
   "metadata": {},
   "outputs": [],
   "source": []
  },
  {
   "cell_type": "code",
   "execution_count": null,
   "metadata": {},
   "outputs": [],
   "source": []
  },
  {
   "cell_type": "code",
   "execution_count": null,
   "metadata": {},
   "outputs": [],
   "source": []
  },
  {
   "cell_type": "code",
   "execution_count": null,
   "metadata": {},
   "outputs": [],
   "source": []
  },
  {
   "cell_type": "code",
   "execution_count": null,
   "metadata": {},
   "outputs": [],
   "source": []
  },
  {
   "cell_type": "code",
   "execution_count": null,
   "metadata": {},
   "outputs": [],
   "source": []
  },
  {
   "cell_type": "code",
   "execution_count": null,
   "metadata": {},
   "outputs": [],
   "source": []
  },
  {
   "cell_type": "code",
   "execution_count": null,
   "metadata": {},
   "outputs": [],
   "source": []
  },
  {
   "cell_type": "code",
   "execution_count": null,
   "metadata": {},
   "outputs": [],
   "source": []
  },
  {
   "cell_type": "code",
   "execution_count": null,
   "metadata": {},
   "outputs": [],
   "source": []
  },
  {
   "cell_type": "code",
   "execution_count": null,
   "metadata": {},
   "outputs": [],
   "source": []
  },
  {
   "cell_type": "code",
   "execution_count": null,
   "metadata": {},
   "outputs": [],
   "source": []
  },
  {
   "cell_type": "code",
   "execution_count": null,
   "metadata": {},
   "outputs": [],
   "source": []
  },
  {
   "cell_type": "code",
   "execution_count": null,
   "metadata": {},
   "outputs": [],
   "source": []
  },
  {
   "cell_type": "code",
   "execution_count": null,
   "metadata": {},
   "outputs": [],
   "source": []
  },
  {
   "cell_type": "code",
   "execution_count": null,
   "metadata": {},
   "outputs": [],
   "source": []
  },
  {
   "cell_type": "code",
   "execution_count": null,
   "metadata": {},
   "outputs": [],
   "source": []
  },
  {
   "cell_type": "code",
   "execution_count": null,
   "metadata": {},
   "outputs": [],
   "source": []
  },
  {
   "cell_type": "code",
   "execution_count": null,
   "metadata": {},
   "outputs": [],
   "source": []
  },
  {
   "cell_type": "code",
   "execution_count": null,
   "metadata": {},
   "outputs": [],
   "source": []
  },
  {
   "cell_type": "code",
   "execution_count": null,
   "metadata": {},
   "outputs": [],
   "source": []
  },
  {
   "cell_type": "code",
   "execution_count": null,
   "metadata": {},
   "outputs": [],
   "source": []
  },
  {
   "cell_type": "code",
   "execution_count": null,
   "metadata": {},
   "outputs": [],
   "source": []
  },
  {
   "cell_type": "code",
   "execution_count": null,
   "metadata": {},
   "outputs": [],
   "source": []
  },
  {
   "cell_type": "code",
   "execution_count": null,
   "metadata": {},
   "outputs": [],
   "source": []
  },
  {
   "cell_type": "code",
   "execution_count": null,
   "metadata": {},
   "outputs": [],
   "source": []
  },
  {
   "cell_type": "code",
   "execution_count": null,
   "metadata": {},
   "outputs": [],
   "source": []
  },
  {
   "cell_type": "code",
   "execution_count": null,
   "metadata": {},
   "outputs": [],
   "source": []
  },
  {
   "cell_type": "code",
   "execution_count": null,
   "metadata": {},
   "outputs": [],
   "source": []
  },
  {
   "cell_type": "code",
   "execution_count": null,
   "metadata": {},
   "outputs": [],
   "source": []
  },
  {
   "cell_type": "code",
   "execution_count": null,
   "metadata": {},
   "outputs": [],
   "source": []
  },
  {
   "cell_type": "code",
   "execution_count": null,
   "metadata": {},
   "outputs": [],
   "source": []
  },
  {
   "cell_type": "code",
   "execution_count": null,
   "metadata": {},
   "outputs": [],
   "source": []
  },
  {
   "cell_type": "code",
   "execution_count": null,
   "metadata": {},
   "outputs": [],
   "source": []
  },
  {
   "cell_type": "code",
   "execution_count": null,
   "metadata": {},
   "outputs": [],
   "source": []
  },
  {
   "cell_type": "code",
   "execution_count": null,
   "metadata": {},
   "outputs": [],
   "source": []
  },
  {
   "cell_type": "code",
   "execution_count": null,
   "metadata": {},
   "outputs": [],
   "source": []
  },
  {
   "cell_type": "code",
   "execution_count": null,
   "metadata": {},
   "outputs": [],
   "source": []
  },
  {
   "cell_type": "code",
   "execution_count": null,
   "metadata": {},
   "outputs": [],
   "source": []
  },
  {
   "cell_type": "code",
   "execution_count": null,
   "metadata": {},
   "outputs": [],
   "source": []
  },
  {
   "cell_type": "code",
   "execution_count": null,
   "metadata": {},
   "outputs": [],
   "source": []
  },
  {
   "cell_type": "code",
   "execution_count": null,
   "metadata": {},
   "outputs": [],
   "source": []
  },
  {
   "cell_type": "code",
   "execution_count": null,
   "metadata": {},
   "outputs": [],
   "source": []
  },
  {
   "cell_type": "code",
   "execution_count": null,
   "metadata": {},
   "outputs": [],
   "source": []
  },
  {
   "cell_type": "code",
   "execution_count": null,
   "metadata": {},
   "outputs": [],
   "source": []
  },
  {
   "cell_type": "code",
   "execution_count": null,
   "metadata": {},
   "outputs": [],
   "source": []
  }
 ],
 "metadata": {
  "kernelspec": {
   "display_name": "nn",
   "language": "python",
   "name": "python3"
  },
  "language_info": {
   "codemirror_mode": {
    "name": "ipython",
    "version": 3
   },
   "file_extension": ".py",
   "mimetype": "text/x-python",
   "name": "python",
   "nbconvert_exporter": "python",
   "pygments_lexer": "ipython3",
   "version": "3.11.11"
  }
 },
 "nbformat": 4,
 "nbformat_minor": 2
}
