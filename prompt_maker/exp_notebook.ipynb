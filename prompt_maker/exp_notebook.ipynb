{
 "cells": [
  {
   "cell_type": "code",
   "execution_count": 1,
   "metadata": {},
   "outputs": [],
   "source": [
    "import os\n",
    "import pickle\n",
    "import platform\n",
    "import random\n",
    "\n",
    "import numpy as np\n",
    "import torch\n",
    "from transformer_lens import HookedTransformer\n",
    "\n",
    "torch.set_grad_enabled(False)\n",
    "\n",
    "SEED = 42"
   ]
  },
  {
   "cell_type": "code",
   "execution_count": 2,
   "metadata": {},
   "outputs": [],
   "source": [
    "def is_mps_available() -> bool:\n",
    "    \"\"\"\n",
    "    Safely check if MPS (Metal Performance Shaders) is available.\n",
    "    \"\"\"\n",
    "    if platform.system() != \"Darwin\":  # MPS is only available on macOS\n",
    "        return False\n",
    "\n",
    "    # Check if the current PyTorch version has MPS support\n",
    "    if not hasattr(torch, \"backends\") or not hasattr(torch.backends, \"mps\"):\n",
    "        return False\n",
    "\n",
    "    return torch.backends.mps.is_available()\n",
    "\n",
    "\n",
    "def set_all_seeds(\n",
    "    seed: int, deterministic: bool = True, warn_only: bool = False\n",
    ") -> None:\n",
    "    \"\"\"\n",
    "    Set all seeds and deterministic flags for reproducibility.\n",
    "\n",
    "    Args:\n",
    "        seed (int): The seed value to use for all random number generators\n",
    "        deterministic (bool): Whether to enforce deterministic behavior\n",
    "        warn_only (bool): If True, warning instead of error when deterministic\n",
    "                         operations aren't supported\n",
    "    \"\"\"\n",
    "    # Python RNG\n",
    "    random.seed(seed)\n",
    "\n",
    "    # NumPy RNG\n",
    "    np.random.seed(seed)\n",
    "\n",
    "    # PyTorch RNGs\n",
    "    torch.manual_seed(seed)\n",
    "\n",
    "    # Handle CUDA devices\n",
    "    if torch.cuda.is_available():\n",
    "        try:\n",
    "            torch.cuda.manual_seed(seed)\n",
    "            torch.cuda.manual_seed_all(seed)  # for multi-GPU\n",
    "        except Exception as e:\n",
    "            print(f\"Warning: Could not set CUDA seeds: {str(e)}\")\n",
    "\n",
    "    # Handle MPS device (Apple Silicon)\n",
    "    if is_mps_available():\n",
    "        try:\n",
    "            torch.mps.manual_seed(seed)\n",
    "        except Exception as e:\n",
    "            print(f\"Warning: Could not set MPS seed: {str(e)}\")\n",
    "\n",
    "    # Environment variables\n",
    "    os.environ[\"PYTHONHASHSEED\"] = str(seed)\n",
    "\n",
    "    if deterministic:\n",
    "        try:\n",
    "            # CUDA deterministic behavior\n",
    "            if torch.cuda.is_available():\n",
    "                os.environ[\"CUBLAS_WORKSPACE_CONFIG\"] = \":4096:8\"\n",
    "                torch.backends.cudnn.deterministic = True\n",
    "                torch.backends.cudnn.benchmark = False\n",
    "\n",
    "            # Set deterministic algorithms\n",
    "            torch.use_deterministic_algorithms(True, warn_only=warn_only)\n",
    "\n",
    "        except Exception as e:\n",
    "            msg = f\"Warning: Could not enable deterministic mode. Error: {str(e)}\"\n",
    "            if not warn_only:\n",
    "                raise RuntimeError(msg)\n",
    "            print(msg)\n",
    "\n",
    "\n",
    "def get_device() -> torch.device:\n",
    "    \"\"\"\n",
    "    Get the most appropriate PyTorch device available.\n",
    "\n",
    "    Returns:\n",
    "        torch.device: The preferred device (CUDA > MPS > CPU)\n",
    "    \"\"\"\n",
    "    if torch.cuda.is_available():\n",
    "        return torch.device(\"cuda\")\n",
    "    if is_mps_available():\n",
    "        return torch.device(\"mps\")\n",
    "    return torch.device(\"cpu\")"
   ]
  },
  {
   "cell_type": "code",
   "execution_count": 4,
   "metadata": {},
   "outputs": [
    {
     "name": "stdout",
     "output_type": "stream",
     "text": [
      "Loaded pretrained model gpt2 into HookedTransformer\n"
     ]
    }
   ],
   "source": [
    "set_all_seeds(SEED, warn_only=True)\n",
    "device = get_device()\n",
    "model_name = \"gpt2\"\n",
    "model: HookedTransformer = HookedTransformer.from_pretrained(\n",
    "    model_name, device=device\n",
    ").eval()"
   ]
  },
  {
   "cell_type": "code",
   "execution_count": 5,
   "metadata": {},
   "outputs": [],
   "source": [
    "bank = {\n",
    "    \"city-country\": {\n",
    "        \"bank\": {\n",
    "            \"Bangkok\": \"Thailand\",\n",
    "            \"Beijing\": \"China\",\n",
    "            \"Buenos Aires\": \"Argentina\",\n",
    "            \"Cape Town\": \"South Africa\",\n",
    "            \"Hong Kong\": \"China\",\n",
    "            \"Kuala Lumpur\": \"Malaysia\",\n",
    "            \"Los Angeles\": \"United States\",\n",
    "            \"Mexico City\": \"Mexico\",\n",
    "            \"New Delhi\": \"India\",\n",
    "            \"New York City\": \"United States\",\n",
    "            \"Paris\": \"France\",\n",
    "            \"Rio de Janeiro\": \"Brazil\",\n",
    "            \"Rome\": \"Italy\",\n",
    "            \"San Francisco\": \"United States\",\n",
    "            \"St. Petersburg\": \"Russia\",\n",
    "            \"Sydney\": \"Australia\",\n",
    "            \"Tokyo\": \"Japan\",\n",
    "            \"Toronto\": \"Canada\",\n",
    "        },\n",
    "        \"prompt\": \"%s is a city in the country of\",\n",
    "    },\n",
    "    \"city-continent\": {\n",
    "        \"bank\": {\n",
    "            \"Bangkok\": \"Asia\",\n",
    "            \"Beijing\": \"Asia\",\n",
    "            \"Buenos Aires\": \"South America\",\n",
    "            \"Cape Town\": \"Africa\",\n",
    "            \"Hong Kong\": \"Asia\",\n",
    "            \"Kuala Lumpur\": \"Asia\",\n",
    "            \"Los Angeles\": \"North America\",\n",
    "            \"Mexico City\": \"North America\",\n",
    "            \"New Delhi\": \"Asia\",\n",
    "            \"New York City\": \"North America\",\n",
    "            \"Paris\": \"Europe\",\n",
    "            \"Rio de Janeiro\": \"South America\",\n",
    "            \"Rome\": \"Europe\",\n",
    "            \"San Francisco\": \"North America\",\n",
    "            \"St. Petersburg\": \"Europe\",\n",
    "            \"Sydney\": \"Oceania\",\n",
    "            \"Tokyo\": \"Asia\",\n",
    "            \"Toronto\": \"North America\",\n",
    "        },\n",
    "        \"prompt\": \"%s is a city in the continent of\",\n",
    "    },\n",
    "    \"city-language\": {\n",
    "        \"bank\": {\n",
    "            \"Bangkok\": \"Thai\",\n",
    "            \"Beijing\": \"Chinese\",\n",
    "            \"Buenos Aires\": \"Spanish\",\n",
    "            \"Cape Town\": \"Afrikaans\",\n",
    "            \"Kuala Lumpur\": \"Malay\",\n",
    "            \"Los Angeles\": \"English\",\n",
    "            \"Mexico City\": \"Spanish\",\n",
    "            \"New Delhi\": \"Hindi\",\n",
    "            \"New York City\": \"English\",\n",
    "            \"Paris\": \"French\",\n",
    "            \"Rio de Janeiro\": \"Portuguese\",\n",
    "            \"Rome\": \"Italian\",\n",
    "            \"San Francisco\": \"English\",\n",
    "            \"St. Petersburg\": \"Russian\",\n",
    "            \"Sydney\": \"English\",\n",
    "            \"Tokyo\": \"Japanese\",\n",
    "            \"Toronto\": \"English\",\n",
    "        },\n",
    "        \"prompt\": \"%s is a city where the language spoken is\",\n",
    "    },\n",
    "    \"occupation-duty\": {\n",
    "        \"bank\": {\n",
    "            \"to plan and design the construction of buildings\": \"architect\",\n",
    "            \"to represent clients in court during trial\": \"lawyer\",\n",
    "            \"to diagnose and treat issues related to the teeth\": \"dentist\",\n",
    "            \"to create clothing and accessories according to current trends\": \"fashion designer\",\n",
    "            \"to report news and information\": \"journalist\",\n",
    "            \"to educate students in a classroom setting\": \"teacher\",\n",
    "            \"to capture images using cameras\": \"photographer\",\n",
    "            \"to lead and guide a team of representatives, employees, or workers\": \"manager\",\n",
    "            \"to code, test, and maintain computer programs and applications\": \"software developer\",\n",
    "            \"to prepare and cook food in a professional kitchen\": \"chef\",\n",
    "            \"to care for patients in a medical setting and assist doctors\": \"nurse\",\n",
    "            \"to enforce laws and protect citizens from crime\": \"police officer\",\n",
    "            \"to repair and maintain vehicles and machinery in a workshop, garage, or factory\": \"mechanic\",\n",
    "            \"to conduct research and experiments in a laboratory setting\": \"scientist\",\n",
    "            \"to create visual art using various mediums, such as paint, clay, or digital tools\": \"artist\",\n",
    "            \"to play musical instruments and perform for audiences in various settings\": \"musician\",\n",
    "        },\n",
    "        \"prompt\": \"My duties are %s; I am a\",\n",
    "    },\n",
    "    \"object-color\": {\n",
    "        \"bank\": {\n",
    "            \"apple\": \"red\",\n",
    "            \"banana\": \"yellow\",\n",
    "            \"carrot\": \"orange\",\n",
    "            \"grape\": \"purple\",\n",
    "            \"lemon\": \"yellow\",\n",
    "            \"lime\": \"green\",\n",
    "            \"orange\": \"orange\",\n",
    "            \"pear\": \"green\",\n",
    "            \"strawberry\": \"red\",\n",
    "            \"tomato\": \"red\",\n",
    "            \"blueberry\": \"blue\",\n",
    "            \"cherry\": \"red\",\n",
    "            \"eggplant\": \"purple\",\n",
    "            \"kiwi\": \"brown\",\n",
    "            \"peach\": \"orange\",\n",
    "            \"plum\": \"purple\",\n",
    "            \"watermelon\": \"green\",\n",
    "            \"avocado\": \"green\",\n",
    "        },\n",
    "        \"prompt\": \"The color of the %s is usually\",\n",
    "    },\n",
    "    \"object-size\": {\n",
    "        \"bank\": {\n",
    "            \"diamond\": \"millimeter\",\n",
    "            \"bamboo\": \"meter\",\n",
    "            \"axe\": \"meter\",\n",
    "            \"gopher\": \"centimeter\",\n",
    "            \"saffron\": \"millimeter\",\n",
    "            \"lime\": \"centimeter\",\n",
    "            \"turmeric\": \"centimeter\",\n",
    "            \"lion\": \"meter\",\n",
    "            \"violet\": \"centimeter\",\n",
    "            \"starfish\": \"centimeter\",\n",
    "            \"charcoal\": \"centimeter\",\n",
    "            \"turquoise\": \"centimeter\",\n",
    "            \"flamingo\": \"meter\",\n",
    "            \"pig\": \"meter\",\n",
    "            \"cornmeal\": \"centimeter\",\n",
    "            \"blackberry\": \"centimeter\",\n",
    "        },\n",
    "        \"prompt\": 'Considering the following units \" millimeter \", \" centimeter \", \" meter \", and \" kilometer \", the size of %s is commonly expressed in \"',\n",
    "    },\n",
    "}\n"
   ]
  },
  {
   "cell_type": "code",
   "execution_count": 6,
   "metadata": {},
   "outputs": [],
   "source": [
    "def make_prompt(entity: str = \"city\", target: str = \"country\", num_prompts: int = 30):\n",
    "    pair = \"{entity}-{target}\".format(entity=entity, target=target)\n",
    "    data = bank[pair]\n",
    "    pairs = data[\"bank\"]\n",
    "    prompt = data[\"prompt\"]\n",
    "    cities = list(pairs.keys())\n",
    "\n",
    "    # Generate N 3-shot prompts: \"A is a city in the country of B. C is a city in the country of D. E is a city in the country of \" ground_truth = F\n",
    "    prompts = []\n",
    "    for i in range(num_prompts):\n",
    "        # Randomly sample 3 cities from the list + 1 ground truth city to be queried (all different)\n",
    "        cities_sampled = torch.randperm(len(cities))[:4]\n",
    "        countries_sampled = [pairs[cities[i]] for i in cities_sampled]\n",
    "        ground_truth = countries_sampled[-1]\n",
    "\n",
    "        # Generate the prompt\n",
    "        prompt_instance = (\n",
    "            prompt % cities[cities_sampled[0]]\n",
    "            + \" \"\n",
    "            + countries_sampled[0]\n",
    "            + \". \"\n",
    "            + prompt % cities[cities_sampled[1]]\n",
    "            + \" \"\n",
    "            + countries_sampled[1]\n",
    "            + \". \"\n",
    "            + prompt % cities[cities_sampled[2]]\n",
    "            + \" \"\n",
    "            + countries_sampled[2]\n",
    "            + \". \"\n",
    "            + prompt % cities[cities_sampled[3]]\n",
    "        )\n",
    "\n",
    "        prompts.append((prompt_instance, ground_truth))\n",
    "    return prompts"
   ]
  },
  {
   "cell_type": "code",
   "execution_count": 7,
   "metadata": {},
   "outputs": [],
   "source": [
    "# city - country\n",
    "city_country_prompts = make_prompt(entity=\"city\", target=\"country\", num_prompts=100)\n",
    "\n",
    "# city - continent\n",
    "city_continent_prompts = make_prompt(entity=\"city\", target=\"continent\", num_prompts=100)\n",
    "\n",
    "# city - language\n",
    "city_language_prompts = make_prompt(entity=\"city\", target=\"language\", num_prompts=100)\n",
    "\n",
    "# duty - occupation\n",
    "duty_occupation_prompts = make_prompt(\n",
    "    entity=\"occupation\", target=\"duty\", num_prompts=100\n",
    ")\n",
    "\n",
    "# object - color\n",
    "object_color_prompts = make_prompt(entity=\"object\", target=\"color\", num_prompts=100)\n",
    "\n",
    "# object - size\n",
    "object_size_prompts = make_prompt(entity=\"object\", target=\"size\", num_prompts=100)"
   ]
  },
  {
   "cell_type": "code",
   "execution_count": 8,
   "metadata": {},
   "outputs": [
    {
     "name": "stdout",
     "output_type": "stream",
     "text": [
      "('Los Angeles is a city in the country of United States. Sydney is a city in the country of Australia. St. Petersburg is a city in the country of Russia. Mexico City is a city in the country of', 'Mexico')\n",
      "('Tokyo is a city in the continent of Asia. Kuala Lumpur is a city in the continent of Asia. New Delhi is a city in the continent of Asia. Beijing is a city in the continent of', 'Asia')\n",
      "('Toronto is a city where the language spoken is English. Bangkok is a city where the language spoken is Thai. Buenos Aires is a city where the language spoken is Spanish. New York City is a city where the language spoken is', 'English')\n",
      "('My duties are to diagnose and treat issues related to the teeth; I am a dentist. My duties are to represent clients in court during trial; I am a lawyer. My duties are to code, test, and maintain computer programs and applications; I am a software developer. My duties are to enforce laws and protect citizens from crime; I am a', 'police officer')\n",
      "('The color of the cherry is usually red. The color of the tomato is usually red. The color of the peach is usually orange. The color of the apple is usually', 'red')\n",
      "('Considering the following units \" millimeter \", \" centimeter \", \" meter \", and \" kilometer \", the size of turquoise is commonly expressed in \" centimeter. Considering the following units \" millimeter \", \" centimeter \", \" meter \", and \" kilometer \", the size of starfish is commonly expressed in \" centimeter. Considering the following units \" millimeter \", \" centimeter \", \" meter \", and \" kilometer \", the size of cornmeal is commonly expressed in \" centimeter. Considering the following units \" millimeter \", \" centimeter \", \" meter \", and \" kilometer \", the size of pig is commonly expressed in \"', 'meter')\n"
     ]
    }
   ],
   "source": [
    "# Print some samples\n",
    "print(city_country_prompts[0])\n",
    "print(city_continent_prompts[0])\n",
    "print(city_language_prompts[0])\n",
    "print(duty_occupation_prompts[0])\n",
    "print(object_color_prompts[0])\n",
    "print(object_size_prompts[0])"
   ]
  },
  {
   "cell_type": "code",
   "execution_count": null,
   "metadata": {},
   "outputs": [],
   "source": []
  },
  {
   "cell_type": "code",
   "execution_count": 9,
   "metadata": {},
   "outputs": [],
   "source": [
    "# model.generate(\n",
    "#     \"She is living in Rome, therefore her country of residence is Italy. She is living in New Delhi, therefore her country of residence is India. She is living in Washington, therefore her country of residence is\",\n",
    "#     max_new_tokens=5,\n",
    "#     temperature=1.0,\n",
    "#     prepend_bos=True,\n",
    "# )  # This will print the output of the model"
   ]
  },
  {
   "cell_type": "code",
   "execution_count": 10,
   "metadata": {},
   "outputs": [
    {
     "name": "stdout",
     "output_type": "stream",
     "text": [
      "Los Angeles is a city in the country of United States. Sydney is a city in the country of Australia. St. Petersburg is a city in the country of Russia. Mexico City is a city in the country of\n"
     ]
    },
    {
     "name": "stderr",
     "output_type": "stream",
     "text": [
      "huggingface/tokenizers: The current process just got forked, after parallelism has already been used. Disabling parallelism to avoid deadlocks...\n",
      "To disable this warning, you can either:\n",
      "\t- Avoid using `tokenizers` before the fork if possible\n",
      "\t- Explicitly set the environment variable TOKENIZERS_PARALLELISM=(true | false)\n"
     ]
    },
    {
     "data": {
      "application/vnd.jupyter.widget-view+json": {
       "model_id": "c080300cea6144f380ed2143b1e0bf35",
       "version_major": 2,
       "version_minor": 0
      },
      "text/plain": [
       "  0%|          | 0/1 [00:00<?, ?it/s]"
      ]
     },
     "metadata": {},
     "output_type": "display_data"
    },
    {
     "name": "stdout",
     "output_type": "stream",
     "text": [
      "Los Angeles is a city in the country of United States. Sydney is a city in the country of Australia. St. Petersburg is a city in the country of Russia. Mexico City is a city in the country of Mexico\n",
      "Ground truth:  Mexico\n",
      "\n",
      "\n",
      "\n",
      "---------------------------------------------------\n",
      "San Francisco is a city in the country of United States. Hong Kong is a city in the country of China. Beijing is a city in the country of China. Mexico City is a city in the country of\n"
     ]
    },
    {
     "data": {
      "application/vnd.jupyter.widget-view+json": {
       "model_id": "7d0b18a097964caf8c3d24cb2f3980f7",
       "version_major": 2,
       "version_minor": 0
      },
      "text/plain": [
       "  0%|          | 0/1 [00:00<?, ?it/s]"
      ]
     },
     "metadata": {},
     "output_type": "display_data"
    },
    {
     "name": "stdout",
     "output_type": "stream",
     "text": [
      "San Francisco is a city in the country of United States. Hong Kong is a city in the country of China. Beijing is a city in the country of China. Mexico City is a city in the country of Mexico\n",
      "Ground truth:  Mexico\n",
      "\n",
      "\n",
      "\n",
      "---------------------------------------------------\n",
      "Toronto is a city in the country of Canada. New York City is a city in the country of United States. San Francisco is a city in the country of United States. St. Petersburg is a city in the country of\n"
     ]
    },
    {
     "data": {
      "application/vnd.jupyter.widget-view+json": {
       "model_id": "8edadc07b8f94482afb8ab2e4b501566",
       "version_major": 2,
       "version_minor": 0
      },
      "text/plain": [
       "  0%|          | 0/1 [00:00<?, ?it/s]"
      ]
     },
     "metadata": {},
     "output_type": "display_data"
    },
    {
     "name": "stdout",
     "output_type": "stream",
     "text": [
      "Toronto is a city in the country of Canada. New York City is a city in the country of United States. San Francisco is a city in the country of United States. St. Petersburg is a city in the country of United\n",
      "Ground truth:  Russia\n",
      "\n",
      "\n",
      "\n",
      "---------------------------------------------------\n",
      "New York City is a city in the country of United States. Beijing is a city in the country of China. San Francisco is a city in the country of United States. Hong Kong is a city in the country of\n"
     ]
    },
    {
     "data": {
      "application/vnd.jupyter.widget-view+json": {
       "model_id": "e550d6988b274e57b5b09feecf7bc680",
       "version_major": 2,
       "version_minor": 0
      },
      "text/plain": [
       "  0%|          | 0/1 [00:00<?, ?it/s]"
      ]
     },
     "metadata": {},
     "output_type": "display_data"
    },
    {
     "name": "stdout",
     "output_type": "stream",
     "text": [
      "New York City is a city in the country of United States. Beijing is a city in the country of China. San Francisco is a city in the country of United States. Hong Kong is a city in the country of United\n",
      "Ground truth:  China\n",
      "\n",
      "\n",
      "\n",
      "---------------------------------------------------\n",
      "Mexico City is a city in the country of Mexico. Cape Town is a city in the country of South Africa. Beijing is a city in the country of China. Rome is a city in the country of\n"
     ]
    },
    {
     "data": {
      "application/vnd.jupyter.widget-view+json": {
       "model_id": "f16c7d4d6fc54b978d169afaceebfb62",
       "version_major": 2,
       "version_minor": 0
      },
      "text/plain": [
       "  0%|          | 0/1 [00:00<?, ?it/s]"
      ]
     },
     "metadata": {},
     "output_type": "display_data"
    },
    {
     "name": "stdout",
     "output_type": "stream",
     "text": [
      "Mexico City is a city in the country of Mexico. Cape Town is a city in the country of South Africa. Beijing is a city in the country of China. Rome is a city in the country of Italy\n",
      "Ground truth:  Italy\n",
      "\n",
      "\n",
      "\n",
      "---------------------------------------------------\n",
      "Buenos Aires is a city in the country of Argentina. Sydney is a city in the country of Australia. Bangkok is a city in the country of Thailand. New Delhi is a city in the country of\n"
     ]
    },
    {
     "data": {
      "application/vnd.jupyter.widget-view+json": {
       "model_id": "69d38e4581f943e2984f653b0385ecdc",
       "version_major": 2,
       "version_minor": 0
      },
      "text/plain": [
       "  0%|          | 0/1 [00:00<?, ?it/s]"
      ]
     },
     "metadata": {},
     "output_type": "display_data"
    },
    {
     "name": "stdout",
     "output_type": "stream",
     "text": [
      "Buenos Aires is a city in the country of Argentina. Sydney is a city in the country of Australia. Bangkok is a city in the country of Thailand. New Delhi is a city in the country of India\n",
      "Ground truth:  India\n",
      "\n",
      "\n",
      "\n",
      "---------------------------------------------------\n",
      "New York City is a city in the country of United States. Rome is a city in the country of Italy. Cape Town is a city in the country of South Africa. Bangkok is a city in the country of\n"
     ]
    },
    {
     "data": {
      "application/vnd.jupyter.widget-view+json": {
       "model_id": "25188ab9f989405888b10fc8b5ea9284",
       "version_major": 2,
       "version_minor": 0
      },
      "text/plain": [
       "  0%|          | 0/1 [00:00<?, ?it/s]"
      ]
     },
     "metadata": {},
     "output_type": "display_data"
    },
    {
     "name": "stdout",
     "output_type": "stream",
     "text": [
      "New York City is a city in the country of United States. Rome is a city in the country of Italy. Cape Town is a city in the country of South Africa. Bangkok is a city in the country of Thailand\n",
      "Ground truth:  Thailand\n",
      "\n",
      "\n",
      "\n",
      "---------------------------------------------------\n",
      "Bangkok is a city in the country of Thailand. Sydney is a city in the country of Australia. St. Petersburg is a city in the country of Russia. Kuala Lumpur is a city in the country of\n"
     ]
    },
    {
     "data": {
      "application/vnd.jupyter.widget-view+json": {
       "model_id": "85dcaabd638849058533ca9c77a30272",
       "version_major": 2,
       "version_minor": 0
      },
      "text/plain": [
       "  0%|          | 0/1 [00:00<?, ?it/s]"
      ]
     },
     "metadata": {},
     "output_type": "display_data"
    },
    {
     "name": "stdout",
     "output_type": "stream",
     "text": [
      "Bangkok is a city in the country of Thailand. Sydney is a city in the country of Australia. St. Petersburg is a city in the country of Russia. Kuala Lumpur is a city in the country of Malaysia\n",
      "Ground truth:  Malaysia\n",
      "\n",
      "\n",
      "\n",
      "---------------------------------------------------\n",
      "New Delhi is a city in the country of India. Rome is a city in the country of Italy. Bangkok is a city in the country of Thailand. Hong Kong is a city in the country of\n"
     ]
    },
    {
     "data": {
      "application/vnd.jupyter.widget-view+json": {
       "model_id": "ca7d373e8ce644459e5abfd45969ad06",
       "version_major": 2,
       "version_minor": 0
      },
      "text/plain": [
       "  0%|          | 0/1 [00:00<?, ?it/s]"
      ]
     },
     "metadata": {},
     "output_type": "display_data"
    },
    {
     "name": "stdout",
     "output_type": "stream",
     "text": [
      "New Delhi is a city in the country of India. Rome is a city in the country of Italy. Bangkok is a city in the country of Thailand. Hong Kong is a city in the country of Hong\n",
      "Ground truth:  China\n",
      "\n",
      "\n",
      "\n",
      "---------------------------------------------------\n",
      "Hong Kong is a city in the country of China. Paris is a city in the country of France. Rio de Janeiro is a city in the country of Brazil. New York City is a city in the country of\n"
     ]
    },
    {
     "data": {
      "application/vnd.jupyter.widget-view+json": {
       "model_id": "1743ca4dd5044838a49709ece502604c",
       "version_major": 2,
       "version_minor": 0
      },
      "text/plain": [
       "  0%|          | 0/1 [00:00<?, ?it/s]"
      ]
     },
     "metadata": {},
     "output_type": "display_data"
    },
    {
     "name": "stdout",
     "output_type": "stream",
     "text": [
      "Hong Kong is a city in the country of China. Paris is a city in the country of France. Rio de Janeiro is a city in the country of Brazil. New York City is a city in the country of New\n",
      "Ground truth:  United States\n",
      "\n",
      "\n",
      "\n",
      "---------------------------------------------------\n",
      "Beijing is a city in the country of China. Rio de Janeiro is a city in the country of Brazil. Hong Kong is a city in the country of China. St. Petersburg is a city in the country of\n"
     ]
    },
    {
     "data": {
      "application/vnd.jupyter.widget-view+json": {
       "model_id": "c4db534a5ee24e3391cb56db898a81de",
       "version_major": 2,
       "version_minor": 0
      },
      "text/plain": [
       "  0%|          | 0/1 [00:00<?, ?it/s]"
      ]
     },
     "metadata": {},
     "output_type": "display_data"
    },
    {
     "name": "stdout",
     "output_type": "stream",
     "text": [
      "Beijing is a city in the country of China. Rio de Janeiro is a city in the country of Brazil. Hong Kong is a city in the country of China. St. Petersburg is a city in the country of China\n",
      "Ground truth:  Russia\n",
      "\n",
      "\n",
      "\n",
      "---------------------------------------------------\n",
      "Bangkok is a city in the country of Thailand. Rio de Janeiro is a city in the country of Brazil. Sydney is a city in the country of Australia. Buenos Aires is a city in the country of\n"
     ]
    },
    {
     "data": {
      "application/vnd.jupyter.widget-view+json": {
       "model_id": "0eb4fb69bd69465197049b82c35b4709",
       "version_major": 2,
       "version_minor": 0
      },
      "text/plain": [
       "  0%|          | 0/1 [00:00<?, ?it/s]"
      ]
     },
     "metadata": {},
     "output_type": "display_data"
    },
    {
     "name": "stdout",
     "output_type": "stream",
     "text": [
      "Bangkok is a city in the country of Thailand. Rio de Janeiro is a city in the country of Brazil. Sydney is a city in the country of Australia. Buenos Aires is a city in the country of Argentina\n",
      "Ground truth:  Argentina\n",
      "\n",
      "\n",
      "\n",
      "---------------------------------------------------\n",
      "Sydney is a city in the country of Australia. Rome is a city in the country of Italy. Toronto is a city in the country of Canada. Mexico City is a city in the country of\n"
     ]
    },
    {
     "data": {
      "application/vnd.jupyter.widget-view+json": {
       "model_id": "d87d1835eec54c158a1de0ec7baafe9a",
       "version_major": 2,
       "version_minor": 0
      },
      "text/plain": [
       "  0%|          | 0/1 [00:00<?, ?it/s]"
      ]
     },
     "metadata": {},
     "output_type": "display_data"
    },
    {
     "name": "stdout",
     "output_type": "stream",
     "text": [
      "Sydney is a city in the country of Australia. Rome is a city in the country of Italy. Toronto is a city in the country of Canada. Mexico City is a city in the country of Mexico\n",
      "Ground truth:  Mexico\n",
      "\n",
      "\n",
      "\n",
      "---------------------------------------------------\n",
      "Hong Kong is a city in the country of China. New York City is a city in the country of United States. San Francisco is a city in the country of United States. Rio de Janeiro is a city in the country of\n"
     ]
    },
    {
     "data": {
      "application/vnd.jupyter.widget-view+json": {
       "model_id": "2e82cef9de1b4d4ebafa9ea5fab7f2df",
       "version_major": 2,
       "version_minor": 0
      },
      "text/plain": [
       "  0%|          | 0/1 [00:00<?, ?it/s]"
      ]
     },
     "metadata": {},
     "output_type": "display_data"
    },
    {
     "name": "stdout",
     "output_type": "stream",
     "text": [
      "Hong Kong is a city in the country of China. New York City is a city in the country of United States. San Francisco is a city in the country of United States. Rio de Janeiro is a city in the country of Brazil\n",
      "Ground truth:  Brazil\n",
      "\n",
      "\n",
      "\n",
      "---------------------------------------------------\n",
      "Rome is a city in the country of Italy. Toronto is a city in the country of Canada. Rio de Janeiro is a city in the country of Brazil. New York City is a city in the country of\n"
     ]
    },
    {
     "data": {
      "application/vnd.jupyter.widget-view+json": {
       "model_id": "7e53e29fcec84d589d6766ed2b93aeb9",
       "version_major": 2,
       "version_minor": 0
      },
      "text/plain": [
       "  0%|          | 0/1 [00:00<?, ?it/s]"
      ]
     },
     "metadata": {},
     "output_type": "display_data"
    },
    {
     "name": "stdout",
     "output_type": "stream",
     "text": [
      "Rome is a city in the country of Italy. Toronto is a city in the country of Canada. Rio de Janeiro is a city in the country of Brazil. New York City is a city in the country of New\n",
      "Ground truth:  United States\n",
      "\n",
      "\n",
      "\n",
      "---------------------------------------------------\n",
      "Bangkok is a city in the country of Thailand. Beijing is a city in the country of China. Mexico City is a city in the country of Mexico. New York City is a city in the country of\n"
     ]
    },
    {
     "data": {
      "application/vnd.jupyter.widget-view+json": {
       "model_id": "ddc9577e14414e958cf100e641c33f04",
       "version_major": 2,
       "version_minor": 0
      },
      "text/plain": [
       "  0%|          | 0/1 [00:00<?, ?it/s]"
      ]
     },
     "metadata": {},
     "output_type": "display_data"
    },
    {
     "name": "stdout",
     "output_type": "stream",
     "text": [
      "Bangkok is a city in the country of Thailand. Beijing is a city in the country of China. Mexico City is a city in the country of Mexico. New York City is a city in the country of New\n",
      "Ground truth:  United States\n",
      "\n",
      "\n",
      "\n",
      "---------------------------------------------------\n",
      "Sydney is a city in the country of Australia. San Francisco is a city in the country of United States. Paris is a city in the country of France. Cape Town is a city in the country of\n"
     ]
    },
    {
     "data": {
      "application/vnd.jupyter.widget-view+json": {
       "model_id": "0a2aba7ad98141c19aa3ff7bcdeeca58",
       "version_major": 2,
       "version_minor": 0
      },
      "text/plain": [
       "  0%|          | 0/1 [00:00<?, ?it/s]"
      ]
     },
     "metadata": {},
     "output_type": "display_data"
    },
    {
     "name": "stdout",
     "output_type": "stream",
     "text": [
      "Sydney is a city in the country of Australia. San Francisco is a city in the country of United States. Paris is a city in the country of France. Cape Town is a city in the country of South\n",
      "Ground truth:  South Africa\n",
      "\n",
      "\n",
      "\n",
      "---------------------------------------------------\n",
      "Cape Town is a city in the country of South Africa. Kuala Lumpur is a city in the country of Malaysia. Rome is a city in the country of Italy. Buenos Aires is a city in the country of\n"
     ]
    },
    {
     "data": {
      "application/vnd.jupyter.widget-view+json": {
       "model_id": "d32ca395f6164c68b4dcd44198adea9f",
       "version_major": 2,
       "version_minor": 0
      },
      "text/plain": [
       "  0%|          | 0/1 [00:00<?, ?it/s]"
      ]
     },
     "metadata": {},
     "output_type": "display_data"
    },
    {
     "name": "stdout",
     "output_type": "stream",
     "text": [
      "Cape Town is a city in the country of South Africa. Kuala Lumpur is a city in the country of Malaysia. Rome is a city in the country of Italy. Buenos Aires is a city in the country of Argentina\n",
      "Ground truth:  Argentina\n",
      "\n",
      "\n",
      "\n",
      "---------------------------------------------------\n",
      "New York City is a city in the country of United States. San Francisco is a city in the country of United States. Toronto is a city in the country of Canada. Rio de Janeiro is a city in the country of\n"
     ]
    },
    {
     "data": {
      "application/vnd.jupyter.widget-view+json": {
       "model_id": "f393be73e83548febf8deece5b41077b",
       "version_major": 2,
       "version_minor": 0
      },
      "text/plain": [
       "  0%|          | 0/1 [00:00<?, ?it/s]"
      ]
     },
     "metadata": {},
     "output_type": "display_data"
    },
    {
     "name": "stdout",
     "output_type": "stream",
     "text": [
      "New York City is a city in the country of United States. San Francisco is a city in the country of United States. Toronto is a city in the country of Canada. Rio de Janeiro is a city in the country of Brazil\n",
      "Ground truth:  Brazil\n",
      "\n",
      "\n",
      "\n",
      "---------------------------------------------------\n",
      "New York City is a city in the country of United States. Tokyo is a city in the country of Japan. Mexico City is a city in the country of Mexico. Cape Town is a city in the country of\n"
     ]
    },
    {
     "data": {
      "application/vnd.jupyter.widget-view+json": {
       "model_id": "602a4de13c15439a834afa1f6183d661",
       "version_major": 2,
       "version_minor": 0
      },
      "text/plain": [
       "  0%|          | 0/1 [00:00<?, ?it/s]"
      ]
     },
     "metadata": {},
     "output_type": "display_data"
    },
    {
     "name": "stdout",
     "output_type": "stream",
     "text": [
      "New York City is a city in the country of United States. Tokyo is a city in the country of Japan. Mexico City is a city in the country of Mexico. Cape Town is a city in the country of South\n",
      "Ground truth:  South Africa\n",
      "\n",
      "\n",
      "\n",
      "---------------------------------------------------\n",
      "Hong Kong is a city in the country of China. Mexico City is a city in the country of Mexico. Bangkok is a city in the country of Thailand. Los Angeles is a city in the country of\n"
     ]
    },
    {
     "data": {
      "application/vnd.jupyter.widget-view+json": {
       "model_id": "d3c30c7bf19c4865ae6b6f5e1ab2c465",
       "version_major": 2,
       "version_minor": 0
      },
      "text/plain": [
       "  0%|          | 0/1 [00:00<?, ?it/s]"
      ]
     },
     "metadata": {},
     "output_type": "display_data"
    },
    {
     "name": "stdout",
     "output_type": "stream",
     "text": [
      "Hong Kong is a city in the country of China. Mexico City is a city in the country of Mexico. Bangkok is a city in the country of Thailand. Los Angeles is a city in the country of California\n",
      "Ground truth:  United States\n",
      "\n",
      "\n",
      "\n",
      "---------------------------------------------------\n",
      "Kuala Lumpur is a city in the country of Malaysia. Bangkok is a city in the country of Thailand. Rome is a city in the country of Italy. Sydney is a city in the country of\n"
     ]
    },
    {
     "data": {
      "application/vnd.jupyter.widget-view+json": {
       "model_id": "ff9c02b3ecb9404a87954c8181d2d085",
       "version_major": 2,
       "version_minor": 0
      },
      "text/plain": [
       "  0%|          | 0/1 [00:00<?, ?it/s]"
      ]
     },
     "metadata": {},
     "output_type": "display_data"
    },
    {
     "name": "stdout",
     "output_type": "stream",
     "text": [
      "Kuala Lumpur is a city in the country of Malaysia. Bangkok is a city in the country of Thailand. Rome is a city in the country of Italy. Sydney is a city in the country of Australia\n",
      "Ground truth:  Australia\n",
      "\n",
      "\n",
      "\n",
      "---------------------------------------------------\n",
      "Hong Kong is a city in the country of China. Rome is a city in the country of Italy. San Francisco is a city in the country of United States. Toronto is a city in the country of\n"
     ]
    },
    {
     "data": {
      "application/vnd.jupyter.widget-view+json": {
       "model_id": "e0af242225ab457fa499c825febb2e9b",
       "version_major": 2,
       "version_minor": 0
      },
      "text/plain": [
       "  0%|          | 0/1 [00:00<?, ?it/s]"
      ]
     },
     "metadata": {},
     "output_type": "display_data"
    },
    {
     "name": "stdout",
     "output_type": "stream",
     "text": [
      "Hong Kong is a city in the country of China. Rome is a city in the country of Italy. San Francisco is a city in the country of United States. Toronto is a city in the country of Canada\n",
      "Ground truth:  Canada\n",
      "\n",
      "\n",
      "\n",
      "---------------------------------------------------\n",
      "Hong Kong is a city in the country of China. Sydney is a city in the country of Australia. Toronto is a city in the country of Canada. Paris is a city in the country of\n"
     ]
    },
    {
     "data": {
      "application/vnd.jupyter.widget-view+json": {
       "model_id": "61a29a6068ae433287aefd62d38e7749",
       "version_major": 2,
       "version_minor": 0
      },
      "text/plain": [
       "  0%|          | 0/1 [00:00<?, ?it/s]"
      ]
     },
     "metadata": {},
     "output_type": "display_data"
    },
    {
     "name": "stdout",
     "output_type": "stream",
     "text": [
      "Hong Kong is a city in the country of China. Sydney is a city in the country of Australia. Toronto is a city in the country of Canada. Paris is a city in the country of France\n",
      "Ground truth:  France\n",
      "\n",
      "\n",
      "\n",
      "---------------------------------------------------\n",
      "Toronto is a city in the country of Canada. Rio de Janeiro is a city in the country of Brazil. Hong Kong is a city in the country of China. Rome is a city in the country of\n"
     ]
    },
    {
     "data": {
      "application/vnd.jupyter.widget-view+json": {
       "model_id": "be33e285ccd349f8b9c804a191568095",
       "version_major": 2,
       "version_minor": 0
      },
      "text/plain": [
       "  0%|          | 0/1 [00:00<?, ?it/s]"
      ]
     },
     "metadata": {},
     "output_type": "display_data"
    },
    {
     "name": "stdout",
     "output_type": "stream",
     "text": [
      "Toronto is a city in the country of Canada. Rio de Janeiro is a city in the country of Brazil. Hong Kong is a city in the country of China. Rome is a city in the country of Italy\n",
      "Ground truth:  Italy\n",
      "\n",
      "\n",
      "\n",
      "---------------------------------------------------\n",
      "New Delhi is a city in the country of India. Cape Town is a city in the country of South Africa. Kuala Lumpur is a city in the country of Malaysia. Rome is a city in the country of\n"
     ]
    },
    {
     "data": {
      "application/vnd.jupyter.widget-view+json": {
       "model_id": "168254b56ae44a0a92e7b1a05e0d1023",
       "version_major": 2,
       "version_minor": 0
      },
      "text/plain": [
       "  0%|          | 0/1 [00:00<?, ?it/s]"
      ]
     },
     "metadata": {},
     "output_type": "display_data"
    },
    {
     "name": "stdout",
     "output_type": "stream",
     "text": [
      "New Delhi is a city in the country of India. Cape Town is a city in the country of South Africa. Kuala Lumpur is a city in the country of Malaysia. Rome is a city in the country of Italy\n",
      "Ground truth:  Italy\n",
      "\n",
      "\n",
      "\n",
      "---------------------------------------------------\n",
      "St. Petersburg is a city in the country of Russia. Paris is a city in the country of France. San Francisco is a city in the country of United States. Mexico City is a city in the country of\n"
     ]
    },
    {
     "data": {
      "application/vnd.jupyter.widget-view+json": {
       "model_id": "49375204c7aa44e3a4307f803755df2f",
       "version_major": 2,
       "version_minor": 0
      },
      "text/plain": [
       "  0%|          | 0/1 [00:00<?, ?it/s]"
      ]
     },
     "metadata": {},
     "output_type": "display_data"
    },
    {
     "name": "stdout",
     "output_type": "stream",
     "text": [
      "St. Petersburg is a city in the country of Russia. Paris is a city in the country of France. San Francisco is a city in the country of United States. Mexico City is a city in the country of Mexico\n",
      "Ground truth:  Mexico\n",
      "\n",
      "\n",
      "\n",
      "---------------------------------------------------\n",
      "Bangkok is a city in the country of Thailand. Paris is a city in the country of France. Los Angeles is a city in the country of United States. Cape Town is a city in the country of\n"
     ]
    },
    {
     "data": {
      "application/vnd.jupyter.widget-view+json": {
       "model_id": "bc7bd7c4cf9742c4b98fbe87ccbc62ae",
       "version_major": 2,
       "version_minor": 0
      },
      "text/plain": [
       "  0%|          | 0/1 [00:00<?, ?it/s]"
      ]
     },
     "metadata": {},
     "output_type": "display_data"
    },
    {
     "name": "stdout",
     "output_type": "stream",
     "text": [
      "Bangkok is a city in the country of Thailand. Paris is a city in the country of France. Los Angeles is a city in the country of United States. Cape Town is a city in the country of South\n",
      "Ground truth:  South Africa\n",
      "\n",
      "\n",
      "\n",
      "---------------------------------------------------\n",
      "St. Petersburg is a city in the country of Russia. Los Angeles is a city in the country of United States. Buenos Aires is a city in the country of Argentina. Mexico City is a city in the country of\n"
     ]
    },
    {
     "data": {
      "application/vnd.jupyter.widget-view+json": {
       "model_id": "4dc1ba4df4ca4d188f368eb19ea3c242",
       "version_major": 2,
       "version_minor": 0
      },
      "text/plain": [
       "  0%|          | 0/1 [00:00<?, ?it/s]"
      ]
     },
     "metadata": {},
     "output_type": "display_data"
    },
    {
     "name": "stdout",
     "output_type": "stream",
     "text": [
      "St. Petersburg is a city in the country of Russia. Los Angeles is a city in the country of United States. Buenos Aires is a city in the country of Argentina. Mexico City is a city in the country of Mexico\n",
      "Ground truth:  Mexico\n",
      "\n",
      "\n",
      "\n",
      "---------------------------------------------------\n",
      "Rio de Janeiro is a city in the country of Brazil. New Delhi is a city in the country of India. Tokyo is a city in the country of Japan. Los Angeles is a city in the country of\n"
     ]
    },
    {
     "data": {
      "application/vnd.jupyter.widget-view+json": {
       "model_id": "dd7ccf20a82e4e8291d7c5fd660e747a",
       "version_major": 2,
       "version_minor": 0
      },
      "text/plain": [
       "  0%|          | 0/1 [00:00<?, ?it/s]"
      ]
     },
     "metadata": {},
     "output_type": "display_data"
    },
    {
     "name": "stdout",
     "output_type": "stream",
     "text": [
      "Rio de Janeiro is a city in the country of Brazil. New Delhi is a city in the country of India. Tokyo is a city in the country of Japan. Los Angeles is a city in the country of Mexico\n",
      "Ground truth:  United States\n",
      "\n",
      "\n",
      "\n",
      "---------------------------------------------------\n",
      "Tokyo is a city in the country of Japan. San Francisco is a city in the country of United States. Bangkok is a city in the country of Thailand. Toronto is a city in the country of\n"
     ]
    },
    {
     "data": {
      "application/vnd.jupyter.widget-view+json": {
       "model_id": "bda207c39c734c04a741c7e93673894b",
       "version_major": 2,
       "version_minor": 0
      },
      "text/plain": [
       "  0%|          | 0/1 [00:00<?, ?it/s]"
      ]
     },
     "metadata": {},
     "output_type": "display_data"
    },
    {
     "name": "stdout",
     "output_type": "stream",
     "text": [
      "Tokyo is a city in the country of Japan. San Francisco is a city in the country of United States. Bangkok is a city in the country of Thailand. Toronto is a city in the country of Canada\n",
      "Ground truth:  Canada\n",
      "\n",
      "\n",
      "\n",
      "---------------------------------------------------\n",
      "Sydney is a city in the country of Australia. San Francisco is a city in the country of United States. Rio de Janeiro is a city in the country of Brazil. St. Petersburg is a city in the country of\n"
     ]
    },
    {
     "data": {
      "application/vnd.jupyter.widget-view+json": {
       "model_id": "c25a68b2d4974351820c49fc0749cc36",
       "version_major": 2,
       "version_minor": 0
      },
      "text/plain": [
       "  0%|          | 0/1 [00:00<?, ?it/s]"
      ]
     },
     "metadata": {},
     "output_type": "display_data"
    },
    {
     "name": "stdout",
     "output_type": "stream",
     "text": [
      "Sydney is a city in the country of Australia. San Francisco is a city in the country of United States. Rio de Janeiro is a city in the country of Brazil. St. Petersburg is a city in the country of Russia\n",
      "Ground truth:  Russia\n",
      "\n",
      "\n",
      "\n",
      "---------------------------------------------------\n",
      "Hong Kong is a city in the country of China. San Francisco is a city in the country of United States. St. Petersburg is a city in the country of Russia. Paris is a city in the country of\n"
     ]
    },
    {
     "data": {
      "application/vnd.jupyter.widget-view+json": {
       "model_id": "f924356b64aa4bf783e36146ff6ff1c8",
       "version_major": 2,
       "version_minor": 0
      },
      "text/plain": [
       "  0%|          | 0/1 [00:00<?, ?it/s]"
      ]
     },
     "metadata": {},
     "output_type": "display_data"
    },
    {
     "name": "stdout",
     "output_type": "stream",
     "text": [
      "Hong Kong is a city in the country of China. San Francisco is a city in the country of United States. St. Petersburg is a city in the country of Russia. Paris is a city in the country of France\n",
      "Ground truth:  France\n",
      "\n",
      "\n",
      "\n",
      "---------------------------------------------------\n",
      "Paris is a city in the country of France. Los Angeles is a city in the country of United States. Tokyo is a city in the country of Japan. Bangkok is a city in the country of\n"
     ]
    },
    {
     "data": {
      "application/vnd.jupyter.widget-view+json": {
       "model_id": "ed13112886e64ef1b3c2ebe278495530",
       "version_major": 2,
       "version_minor": 0
      },
      "text/plain": [
       "  0%|          | 0/1 [00:00<?, ?it/s]"
      ]
     },
     "metadata": {},
     "output_type": "display_data"
    },
    {
     "name": "stdout",
     "output_type": "stream",
     "text": [
      "Paris is a city in the country of France. Los Angeles is a city in the country of United States. Tokyo is a city in the country of Japan. Bangkok is a city in the country of Thailand\n",
      "Ground truth:  Thailand\n",
      "\n",
      "\n",
      "\n",
      "---------------------------------------------------\n",
      "Cape Town is a city in the country of South Africa. New Delhi is a city in the country of India. Mexico City is a city in the country of Mexico. Rome is a city in the country of\n"
     ]
    },
    {
     "data": {
      "application/vnd.jupyter.widget-view+json": {
       "model_id": "22e0eb9d01154854b11b24fa1d2cf2d6",
       "version_major": 2,
       "version_minor": 0
      },
      "text/plain": [
       "  0%|          | 0/1 [00:00<?, ?it/s]"
      ]
     },
     "metadata": {},
     "output_type": "display_data"
    },
    {
     "name": "stdout",
     "output_type": "stream",
     "text": [
      "Cape Town is a city in the country of South Africa. New Delhi is a city in the country of India. Mexico City is a city in the country of Mexico. Rome is a city in the country of Italy\n",
      "Ground truth:  Italy\n",
      "\n",
      "\n",
      "\n",
      "---------------------------------------------------\n",
      "New York City is a city in the country of United States. St. Petersburg is a city in the country of Russia. New Delhi is a city in the country of India. Paris is a city in the country of\n"
     ]
    },
    {
     "data": {
      "application/vnd.jupyter.widget-view+json": {
       "model_id": "ed4804f5ed9b4d13b739d1c1e69c8136",
       "version_major": 2,
       "version_minor": 0
      },
      "text/plain": [
       "  0%|          | 0/1 [00:00<?, ?it/s]"
      ]
     },
     "metadata": {},
     "output_type": "display_data"
    },
    {
     "name": "stdout",
     "output_type": "stream",
     "text": [
      "New York City is a city in the country of United States. St. Petersburg is a city in the country of Russia. New Delhi is a city in the country of India. Paris is a city in the country of France\n",
      "Ground truth:  France\n",
      "\n",
      "\n",
      "\n",
      "---------------------------------------------------\n",
      "Toronto is a city in the country of Canada. Paris is a city in the country of France. Sydney is a city in the country of Australia. Bangkok is a city in the country of\n"
     ]
    },
    {
     "data": {
      "application/vnd.jupyter.widget-view+json": {
       "model_id": "97e667858c3547d7aec28fbfdc46478a",
       "version_major": 2,
       "version_minor": 0
      },
      "text/plain": [
       "  0%|          | 0/1 [00:00<?, ?it/s]"
      ]
     },
     "metadata": {},
     "output_type": "display_data"
    },
    {
     "name": "stdout",
     "output_type": "stream",
     "text": [
      "Toronto is a city in the country of Canada. Paris is a city in the country of France. Sydney is a city in the country of Australia. Bangkok is a city in the country of Thailand\n",
      "Ground truth:  Thailand\n",
      "\n",
      "\n",
      "\n",
      "---------------------------------------------------\n",
      "Bangkok is a city in the country of Thailand. New York City is a city in the country of United States. San Francisco is a city in the country of United States. New Delhi is a city in the country of\n"
     ]
    },
    {
     "data": {
      "application/vnd.jupyter.widget-view+json": {
       "model_id": "8314d311aef5420889adecac6b952d47",
       "version_major": 2,
       "version_minor": 0
      },
      "text/plain": [
       "  0%|          | 0/1 [00:00<?, ?it/s]"
      ]
     },
     "metadata": {},
     "output_type": "display_data"
    },
    {
     "name": "stdout",
     "output_type": "stream",
     "text": [
      "Bangkok is a city in the country of Thailand. New York City is a city in the country of United States. San Francisco is a city in the country of United States. New Delhi is a city in the country of United\n",
      "Ground truth:  India\n",
      "\n",
      "\n",
      "\n",
      "---------------------------------------------------\n",
      "Paris is a city in the country of France. Rio de Janeiro is a city in the country of Brazil. Toronto is a city in the country of Canada. Bangkok is a city in the country of\n"
     ]
    },
    {
     "data": {
      "application/vnd.jupyter.widget-view+json": {
       "model_id": "f72e011a53364af2b7f77df102f72c08",
       "version_major": 2,
       "version_minor": 0
      },
      "text/plain": [
       "  0%|          | 0/1 [00:00<?, ?it/s]"
      ]
     },
     "metadata": {},
     "output_type": "display_data"
    },
    {
     "name": "stdout",
     "output_type": "stream",
     "text": [
      "Paris is a city in the country of France. Rio de Janeiro is a city in the country of Brazil. Toronto is a city in the country of Canada. Bangkok is a city in the country of Thailand\n",
      "Ground truth:  Thailand\n",
      "\n",
      "\n",
      "\n",
      "---------------------------------------------------\n",
      "Toronto is a city in the country of Canada. Rome is a city in the country of Italy. St. Petersburg is a city in the country of Russia. San Francisco is a city in the country of\n"
     ]
    },
    {
     "data": {
      "application/vnd.jupyter.widget-view+json": {
       "model_id": "547cf042886347df87c6b483571f4635",
       "version_major": 2,
       "version_minor": 0
      },
      "text/plain": [
       "  0%|          | 0/1 [00:00<?, ?it/s]"
      ]
     },
     "metadata": {},
     "output_type": "display_data"
    },
    {
     "name": "stdout",
     "output_type": "stream",
     "text": [
      "Toronto is a city in the country of Canada. Rome is a city in the country of Italy. St. Petersburg is a city in the country of Russia. San Francisco is a city in the country of China\n",
      "Ground truth:  United States\n",
      "\n",
      "\n",
      "\n",
      "---------------------------------------------------\n",
      "Mexico City is a city in the country of Mexico. Bangkok is a city in the country of Thailand. New Delhi is a city in the country of India. New York City is a city in the country of\n"
     ]
    },
    {
     "data": {
      "application/vnd.jupyter.widget-view+json": {
       "model_id": "b9aa15e4f0a4448ea17141fe73f06995",
       "version_major": 2,
       "version_minor": 0
      },
      "text/plain": [
       "  0%|          | 0/1 [00:00<?, ?it/s]"
      ]
     },
     "metadata": {},
     "output_type": "display_data"
    },
    {
     "name": "stdout",
     "output_type": "stream",
     "text": [
      "Mexico City is a city in the country of Mexico. Bangkok is a city in the country of Thailand. New Delhi is a city in the country of India. New York City is a city in the country of New\n",
      "Ground truth:  United States\n",
      "\n",
      "\n",
      "\n",
      "---------------------------------------------------\n",
      "Toronto is a city in the country of Canada. Rome is a city in the country of Italy. Hong Kong is a city in the country of China. San Francisco is a city in the country of\n"
     ]
    },
    {
     "data": {
      "application/vnd.jupyter.widget-view+json": {
       "model_id": "4843480da18143f5a5d32a233e7b9ce4",
       "version_major": 2,
       "version_minor": 0
      },
      "text/plain": [
       "  0%|          | 0/1 [00:00<?, ?it/s]"
      ]
     },
     "metadata": {},
     "output_type": "display_data"
    },
    {
     "name": "stdout",
     "output_type": "stream",
     "text": [
      "Toronto is a city in the country of Canada. Rome is a city in the country of Italy. Hong Kong is a city in the country of China. San Francisco is a city in the country of Japan\n",
      "Ground truth:  United States\n",
      "\n",
      "\n",
      "\n",
      "---------------------------------------------------\n",
      "Rio de Janeiro is a city in the country of Brazil. Tokyo is a city in the country of Japan. Rome is a city in the country of Italy. Kuala Lumpur is a city in the country of\n"
     ]
    },
    {
     "data": {
      "application/vnd.jupyter.widget-view+json": {
       "model_id": "5989d29e4a844de5a39ce65a61966210",
       "version_major": 2,
       "version_minor": 0
      },
      "text/plain": [
       "  0%|          | 0/1 [00:00<?, ?it/s]"
      ]
     },
     "metadata": {},
     "output_type": "display_data"
    },
    {
     "name": "stdout",
     "output_type": "stream",
     "text": [
      "Rio de Janeiro is a city in the country of Brazil. Tokyo is a city in the country of Japan. Rome is a city in the country of Italy. Kuala Lumpur is a city in the country of Malaysia\n",
      "Ground truth:  Malaysia\n",
      "\n",
      "\n",
      "\n",
      "---------------------------------------------------\n",
      "New Delhi is a city in the country of India. Rio de Janeiro is a city in the country of Brazil. New York City is a city in the country of United States. Buenos Aires is a city in the country of\n"
     ]
    },
    {
     "data": {
      "application/vnd.jupyter.widget-view+json": {
       "model_id": "23ff0aa307cd4ef79385aff557eb68ef",
       "version_major": 2,
       "version_minor": 0
      },
      "text/plain": [
       "  0%|          | 0/1 [00:00<?, ?it/s]"
      ]
     },
     "metadata": {},
     "output_type": "display_data"
    },
    {
     "name": "stdout",
     "output_type": "stream",
     "text": [
      "New Delhi is a city in the country of India. Rio de Janeiro is a city in the country of Brazil. New York City is a city in the country of United States. Buenos Aires is a city in the country of Argentina\n",
      "Ground truth:  Argentina\n",
      "\n",
      "\n",
      "\n",
      "---------------------------------------------------\n",
      "Tokyo is a city in the country of Japan. Rome is a city in the country of Italy. New York City is a city in the country of United States. Toronto is a city in the country of\n"
     ]
    },
    {
     "data": {
      "application/vnd.jupyter.widget-view+json": {
       "model_id": "448ce546c2914bff8acdadc471a3c1fd",
       "version_major": 2,
       "version_minor": 0
      },
      "text/plain": [
       "  0%|          | 0/1 [00:00<?, ?it/s]"
      ]
     },
     "metadata": {},
     "output_type": "display_data"
    },
    {
     "name": "stdout",
     "output_type": "stream",
     "text": [
      "Tokyo is a city in the country of Japan. Rome is a city in the country of Italy. New York City is a city in the country of United States. Toronto is a city in the country of United\n",
      "Ground truth:  Canada\n",
      "\n",
      "\n",
      "\n",
      "---------------------------------------------------\n",
      "New Delhi is a city in the country of India. Toronto is a city in the country of Canada. New York City is a city in the country of United States. Tokyo is a city in the country of\n"
     ]
    },
    {
     "data": {
      "application/vnd.jupyter.widget-view+json": {
       "model_id": "add2b689f3674918b52d365ff4994e60",
       "version_major": 2,
       "version_minor": 0
      },
      "text/plain": [
       "  0%|          | 0/1 [00:00<?, ?it/s]"
      ]
     },
     "metadata": {},
     "output_type": "display_data"
    },
    {
     "name": "stdout",
     "output_type": "stream",
     "text": [
      "New Delhi is a city in the country of India. Toronto is a city in the country of Canada. New York City is a city in the country of United States. Tokyo is a city in the country of Japan\n",
      "Ground truth:  Japan\n",
      "\n",
      "\n",
      "\n",
      "---------------------------------------------------\n",
      "Kuala Lumpur is a city in the country of Malaysia. New Delhi is a city in the country of India. Cape Town is a city in the country of South Africa. Rome is a city in the country of\n"
     ]
    },
    {
     "data": {
      "application/vnd.jupyter.widget-view+json": {
       "model_id": "1fd70990f3094885b8b4a2464c702f5f",
       "version_major": 2,
       "version_minor": 0
      },
      "text/plain": [
       "  0%|          | 0/1 [00:00<?, ?it/s]"
      ]
     },
     "metadata": {},
     "output_type": "display_data"
    },
    {
     "name": "stdout",
     "output_type": "stream",
     "text": [
      "Kuala Lumpur is a city in the country of Malaysia. New Delhi is a city in the country of India. Cape Town is a city in the country of South Africa. Rome is a city in the country of Italy\n",
      "Ground truth:  Italy\n",
      "\n",
      "\n",
      "\n",
      "---------------------------------------------------\n",
      "Buenos Aires is a city in the country of Argentina. Paris is a city in the country of France. Sydney is a city in the country of Australia. New York City is a city in the country of\n"
     ]
    },
    {
     "data": {
      "application/vnd.jupyter.widget-view+json": {
       "model_id": "e3cead71fd4e42c8821f2e42729d5b9a",
       "version_major": 2,
       "version_minor": 0
      },
      "text/plain": [
       "  0%|          | 0/1 [00:00<?, ?it/s]"
      ]
     },
     "metadata": {},
     "output_type": "display_data"
    },
    {
     "name": "stdout",
     "output_type": "stream",
     "text": [
      "Buenos Aires is a city in the country of Argentina. Paris is a city in the country of France. Sydney is a city in the country of Australia. New York City is a city in the country of New\n",
      "Ground truth:  United States\n",
      "\n",
      "\n",
      "\n",
      "---------------------------------------------------\n",
      "Los Angeles is a city in the country of United States. Toronto is a city in the country of Canada. San Francisco is a city in the country of United States. Mexico City is a city in the country of\n"
     ]
    },
    {
     "data": {
      "application/vnd.jupyter.widget-view+json": {
       "model_id": "7dd4e29652d94582a4eb38842b154459",
       "version_major": 2,
       "version_minor": 0
      },
      "text/plain": [
       "  0%|          | 0/1 [00:00<?, ?it/s]"
      ]
     },
     "metadata": {},
     "output_type": "display_data"
    },
    {
     "name": "stdout",
     "output_type": "stream",
     "text": [
      "Los Angeles is a city in the country of United States. Toronto is a city in the country of Canada. San Francisco is a city in the country of United States. Mexico City is a city in the country of United\n",
      "Ground truth:  Mexico\n",
      "\n",
      "\n",
      "\n",
      "---------------------------------------------------\n",
      "Cape Town is a city in the country of South Africa. Sydney is a city in the country of Australia. Kuala Lumpur is a city in the country of Malaysia. Mexico City is a city in the country of\n"
     ]
    },
    {
     "data": {
      "application/vnd.jupyter.widget-view+json": {
       "model_id": "dc819bcfa7a441229c3f47f4e420f2c8",
       "version_major": 2,
       "version_minor": 0
      },
      "text/plain": [
       "  0%|          | 0/1 [00:00<?, ?it/s]"
      ]
     },
     "metadata": {},
     "output_type": "display_data"
    },
    {
     "name": "stdout",
     "output_type": "stream",
     "text": [
      "Cape Town is a city in the country of South Africa. Sydney is a city in the country of Australia. Kuala Lumpur is a city in the country of Malaysia. Mexico City is a city in the country of Mexico\n",
      "Ground truth:  Mexico\n",
      "\n",
      "\n",
      "\n",
      "---------------------------------------------------\n",
      "Los Angeles is a city in the country of United States. Buenos Aires is a city in the country of Argentina. Bangkok is a city in the country of Thailand. Hong Kong is a city in the country of\n"
     ]
    },
    {
     "data": {
      "application/vnd.jupyter.widget-view+json": {
       "model_id": "125f67230e854e8fadaf70d24bcc55da",
       "version_major": 2,
       "version_minor": 0
      },
      "text/plain": [
       "  0%|          | 0/1 [00:00<?, ?it/s]"
      ]
     },
     "metadata": {},
     "output_type": "display_data"
    },
    {
     "name": "stdout",
     "output_type": "stream",
     "text": [
      "Los Angeles is a city in the country of United States. Buenos Aires is a city in the country of Argentina. Bangkok is a city in the country of Thailand. Hong Kong is a city in the country of Hong\n",
      "Ground truth:  China\n",
      "\n",
      "\n",
      "\n",
      "---------------------------------------------------\n",
      "Mexico City is a city in the country of Mexico. Toronto is a city in the country of Canada. Sydney is a city in the country of Australia. Cape Town is a city in the country of\n"
     ]
    },
    {
     "data": {
      "application/vnd.jupyter.widget-view+json": {
       "model_id": "447aff837deb4726afec898ffe9a8fb6",
       "version_major": 2,
       "version_minor": 0
      },
      "text/plain": [
       "  0%|          | 0/1 [00:00<?, ?it/s]"
      ]
     },
     "metadata": {},
     "output_type": "display_data"
    },
    {
     "name": "stdout",
     "output_type": "stream",
     "text": [
      "Mexico City is a city in the country of Mexico. Toronto is a city in the country of Canada. Sydney is a city in the country of Australia. Cape Town is a city in the country of South\n",
      "Ground truth:  South Africa\n",
      "\n",
      "\n",
      "\n",
      "---------------------------------------------------\n",
      "San Francisco is a city in the country of United States. New York City is a city in the country of United States. Buenos Aires is a city in the country of Argentina. Rome is a city in the country of\n"
     ]
    },
    {
     "data": {
      "application/vnd.jupyter.widget-view+json": {
       "model_id": "2a903ac6a16a430c9ca3ef616b5263f3",
       "version_major": 2,
       "version_minor": 0
      },
      "text/plain": [
       "  0%|          | 0/1 [00:00<?, ?it/s]"
      ]
     },
     "metadata": {},
     "output_type": "display_data"
    },
    {
     "name": "stdout",
     "output_type": "stream",
     "text": [
      "San Francisco is a city in the country of United States. New York City is a city in the country of United States. Buenos Aires is a city in the country of Argentina. Rome is a city in the country of Italy\n",
      "Ground truth:  Italy\n",
      "\n",
      "\n",
      "\n",
      "---------------------------------------------------\n",
      "San Francisco is a city in the country of United States. Beijing is a city in the country of China. New Delhi is a city in the country of India. Mexico City is a city in the country of\n"
     ]
    },
    {
     "data": {
      "application/vnd.jupyter.widget-view+json": {
       "model_id": "45719ca6f57149de9e20e5c9535f8917",
       "version_major": 2,
       "version_minor": 0
      },
      "text/plain": [
       "  0%|          | 0/1 [00:00<?, ?it/s]"
      ]
     },
     "metadata": {},
     "output_type": "display_data"
    },
    {
     "name": "stdout",
     "output_type": "stream",
     "text": [
      "San Francisco is a city in the country of United States. Beijing is a city in the country of China. New Delhi is a city in the country of India. Mexico City is a city in the country of Mexico\n",
      "Ground truth:  Mexico\n",
      "\n",
      "\n",
      "\n",
      "---------------------------------------------------\n",
      "Kuala Lumpur is a city in the country of Malaysia. New York City is a city in the country of United States. St. Petersburg is a city in the country of Russia. Sydney is a city in the country of\n"
     ]
    },
    {
     "data": {
      "application/vnd.jupyter.widget-view+json": {
       "model_id": "7d2981cfec0f446d98f7afcd53085f40",
       "version_major": 2,
       "version_minor": 0
      },
      "text/plain": [
       "  0%|          | 0/1 [00:00<?, ?it/s]"
      ]
     },
     "metadata": {},
     "output_type": "display_data"
    },
    {
     "name": "stdout",
     "output_type": "stream",
     "text": [
      "Kuala Lumpur is a city in the country of Malaysia. New York City is a city in the country of United States. St. Petersburg is a city in the country of Russia. Sydney is a city in the country of Australia\n",
      "Ground truth:  Australia\n",
      "\n",
      "\n",
      "\n",
      "---------------------------------------------------\n",
      "Los Angeles is a city in the country of United States. Bangkok is a city in the country of Thailand. Beijing is a city in the country of China. Cape Town is a city in the country of\n"
     ]
    },
    {
     "data": {
      "application/vnd.jupyter.widget-view+json": {
       "model_id": "a35c6a2b2e0f433a908e3219b346d393",
       "version_major": 2,
       "version_minor": 0
      },
      "text/plain": [
       "  0%|          | 0/1 [00:00<?, ?it/s]"
      ]
     },
     "metadata": {},
     "output_type": "display_data"
    },
    {
     "name": "stdout",
     "output_type": "stream",
     "text": [
      "Los Angeles is a city in the country of United States. Bangkok is a city in the country of Thailand. Beijing is a city in the country of China. Cape Town is a city in the country of South\n",
      "Ground truth:  South Africa\n",
      "\n",
      "\n",
      "\n",
      "---------------------------------------------------\n",
      "Bangkok is a city in the country of Thailand. Los Angeles is a city in the country of United States. Hong Kong is a city in the country of China. Tokyo is a city in the country of\n"
     ]
    },
    {
     "data": {
      "application/vnd.jupyter.widget-view+json": {
       "model_id": "f5b2129249504fc984f3458fae0838ab",
       "version_major": 2,
       "version_minor": 0
      },
      "text/plain": [
       "  0%|          | 0/1 [00:00<?, ?it/s]"
      ]
     },
     "metadata": {},
     "output_type": "display_data"
    },
    {
     "name": "stdout",
     "output_type": "stream",
     "text": [
      "Bangkok is a city in the country of Thailand. Los Angeles is a city in the country of United States. Hong Kong is a city in the country of China. Tokyo is a city in the country of Japan\n",
      "Ground truth:  Japan\n",
      "\n",
      "\n",
      "\n",
      "---------------------------------------------------\n",
      "Los Angeles is a city in the country of United States. St. Petersburg is a city in the country of Russia. New Delhi is a city in the country of India. Kuala Lumpur is a city in the country of\n"
     ]
    },
    {
     "data": {
      "application/vnd.jupyter.widget-view+json": {
       "model_id": "906b31ddeb3141b6bec47609f9a6cbe3",
       "version_major": 2,
       "version_minor": 0
      },
      "text/plain": [
       "  0%|          | 0/1 [00:00<?, ?it/s]"
      ]
     },
     "metadata": {},
     "output_type": "display_data"
    },
    {
     "name": "stdout",
     "output_type": "stream",
     "text": [
      "Los Angeles is a city in the country of United States. St. Petersburg is a city in the country of Russia. New Delhi is a city in the country of India. Kuala Lumpur is a city in the country of Malaysia\n",
      "Ground truth:  Malaysia\n",
      "\n",
      "\n",
      "\n",
      "---------------------------------------------------\n",
      "New York City is a city in the country of United States. Beijing is a city in the country of China. Rio de Janeiro is a city in the country of Brazil. Sydney is a city in the country of\n"
     ]
    },
    {
     "data": {
      "application/vnd.jupyter.widget-view+json": {
       "model_id": "ba4e3375bdaf4b1b8ab4fc49f78b16c7",
       "version_major": 2,
       "version_minor": 0
      },
      "text/plain": [
       "  0%|          | 0/1 [00:00<?, ?it/s]"
      ]
     },
     "metadata": {},
     "output_type": "display_data"
    },
    {
     "name": "stdout",
     "output_type": "stream",
     "text": [
      "New York City is a city in the country of United States. Beijing is a city in the country of China. Rio de Janeiro is a city in the country of Brazil. Sydney is a city in the country of Australia\n",
      "Ground truth:  Australia\n",
      "\n",
      "\n",
      "\n",
      "---------------------------------------------------\n",
      "Tokyo is a city in the country of Japan. Rome is a city in the country of Italy. Los Angeles is a city in the country of United States. New Delhi is a city in the country of\n"
     ]
    },
    {
     "data": {
      "application/vnd.jupyter.widget-view+json": {
       "model_id": "fd95724aa5494eeea352cc28222db57c",
       "version_major": 2,
       "version_minor": 0
      },
      "text/plain": [
       "  0%|          | 0/1 [00:00<?, ?it/s]"
      ]
     },
     "metadata": {},
     "output_type": "display_data"
    },
    {
     "name": "stdout",
     "output_type": "stream",
     "text": [
      "Tokyo is a city in the country of Japan. Rome is a city in the country of Italy. Los Angeles is a city in the country of United States. New Delhi is a city in the country of India\n",
      "Ground truth:  India\n",
      "\n",
      "\n",
      "\n",
      "---------------------------------------------------\n",
      "Buenos Aires is a city in the country of Argentina. San Francisco is a city in the country of United States. Cape Town is a city in the country of South Africa. Kuala Lumpur is a city in the country of\n"
     ]
    },
    {
     "data": {
      "application/vnd.jupyter.widget-view+json": {
       "model_id": "cbdabb222da447cf9f121c9b4436f639",
       "version_major": 2,
       "version_minor": 0
      },
      "text/plain": [
       "  0%|          | 0/1 [00:00<?, ?it/s]"
      ]
     },
     "metadata": {},
     "output_type": "display_data"
    },
    {
     "name": "stdout",
     "output_type": "stream",
     "text": [
      "Buenos Aires is a city in the country of Argentina. San Francisco is a city in the country of United States. Cape Town is a city in the country of South Africa. Kuala Lumpur is a city in the country of Malaysia\n",
      "Ground truth:  Malaysia\n",
      "\n",
      "\n",
      "\n",
      "---------------------------------------------------\n",
      "Rome is a city in the country of Italy. Beijing is a city in the country of China. Bangkok is a city in the country of Thailand. Rio de Janeiro is a city in the country of\n"
     ]
    },
    {
     "data": {
      "application/vnd.jupyter.widget-view+json": {
       "model_id": "5f72ee3e9e614c73b2cfa3793e84e614",
       "version_major": 2,
       "version_minor": 0
      },
      "text/plain": [
       "  0%|          | 0/1 [00:00<?, ?it/s]"
      ]
     },
     "metadata": {},
     "output_type": "display_data"
    },
    {
     "name": "stdout",
     "output_type": "stream",
     "text": [
      "Rome is a city in the country of Italy. Beijing is a city in the country of China. Bangkok is a city in the country of Thailand. Rio de Janeiro is a city in the country of Brazil\n",
      "Ground truth:  Brazil\n",
      "\n",
      "\n",
      "\n",
      "---------------------------------------------------\n",
      "New Delhi is a city in the country of India. New York City is a city in the country of United States. Toronto is a city in the country of Canada. Mexico City is a city in the country of\n"
     ]
    },
    {
     "data": {
      "application/vnd.jupyter.widget-view+json": {
       "model_id": "aafbf170af4e48569fe2bebef13dc067",
       "version_major": 2,
       "version_minor": 0
      },
      "text/plain": [
       "  0%|          | 0/1 [00:00<?, ?it/s]"
      ]
     },
     "metadata": {},
     "output_type": "display_data"
    },
    {
     "name": "stdout",
     "output_type": "stream",
     "text": [
      "New Delhi is a city in the country of India. New York City is a city in the country of United States. Toronto is a city in the country of Canada. Mexico City is a city in the country of Mexico\n",
      "Ground truth:  Mexico\n",
      "\n",
      "\n",
      "\n",
      "---------------------------------------------------\n",
      "Kuala Lumpur is a city in the country of Malaysia. Rio de Janeiro is a city in the country of Brazil. Hong Kong is a city in the country of China. St. Petersburg is a city in the country of\n"
     ]
    },
    {
     "data": {
      "application/vnd.jupyter.widget-view+json": {
       "model_id": "12a6874c30b0488db45a174d78be6026",
       "version_major": 2,
       "version_minor": 0
      },
      "text/plain": [
       "  0%|          | 0/1 [00:00<?, ?it/s]"
      ]
     },
     "metadata": {},
     "output_type": "display_data"
    },
    {
     "name": "stdout",
     "output_type": "stream",
     "text": [
      "Kuala Lumpur is a city in the country of Malaysia. Rio de Janeiro is a city in the country of Brazil. Hong Kong is a city in the country of China. St. Petersburg is a city in the country of Russia\n",
      "Ground truth:  Russia\n",
      "\n",
      "\n",
      "\n",
      "---------------------------------------------------\n",
      "Sydney is a city in the country of Australia. Bangkok is a city in the country of Thailand. San Francisco is a city in the country of United States. New Delhi is a city in the country of\n"
     ]
    },
    {
     "data": {
      "application/vnd.jupyter.widget-view+json": {
       "model_id": "d94d812bf34f4f45a6e7c67cf70ffe3c",
       "version_major": 2,
       "version_minor": 0
      },
      "text/plain": [
       "  0%|          | 0/1 [00:00<?, ?it/s]"
      ]
     },
     "metadata": {},
     "output_type": "display_data"
    },
    {
     "name": "stdout",
     "output_type": "stream",
     "text": [
      "Sydney is a city in the country of Australia. Bangkok is a city in the country of Thailand. San Francisco is a city in the country of United States. New Delhi is a city in the country of India\n",
      "Ground truth:  India\n",
      "\n",
      "\n",
      "\n",
      "---------------------------------------------------\n",
      "Rio de Janeiro is a city in the country of Brazil. Rome is a city in the country of Italy. Sydney is a city in the country of Australia. Kuala Lumpur is a city in the country of\n"
     ]
    },
    {
     "data": {
      "application/vnd.jupyter.widget-view+json": {
       "model_id": "f7690c0719ba47089ee2f578018b7bd5",
       "version_major": 2,
       "version_minor": 0
      },
      "text/plain": [
       "  0%|          | 0/1 [00:00<?, ?it/s]"
      ]
     },
     "metadata": {},
     "output_type": "display_data"
    },
    {
     "name": "stdout",
     "output_type": "stream",
     "text": [
      "Rio de Janeiro is a city in the country of Brazil. Rome is a city in the country of Italy. Sydney is a city in the country of Australia. Kuala Lumpur is a city in the country of Malaysia\n",
      "Ground truth:  Malaysia\n",
      "\n",
      "\n",
      "\n",
      "---------------------------------------------------\n",
      "Rome is a city in the country of Italy. Los Angeles is a city in the country of United States. Mexico City is a city in the country of Mexico. Paris is a city in the country of\n"
     ]
    },
    {
     "data": {
      "application/vnd.jupyter.widget-view+json": {
       "model_id": "1e99f0c3cb834a95abbdcc54838b78ce",
       "version_major": 2,
       "version_minor": 0
      },
      "text/plain": [
       "  0%|          | 0/1 [00:00<?, ?it/s]"
      ]
     },
     "metadata": {},
     "output_type": "display_data"
    },
    {
     "name": "stdout",
     "output_type": "stream",
     "text": [
      "Rome is a city in the country of Italy. Los Angeles is a city in the country of United States. Mexico City is a city in the country of Mexico. Paris is a city in the country of France\n",
      "Ground truth:  France\n",
      "\n",
      "\n",
      "\n",
      "---------------------------------------------------\n",
      "Los Angeles is a city in the country of United States. Mexico City is a city in the country of Mexico. Buenos Aires is a city in the country of Argentina. New Delhi is a city in the country of\n"
     ]
    },
    {
     "data": {
      "application/vnd.jupyter.widget-view+json": {
       "model_id": "75a1d2c895a44a7ca930ef1a7f563164",
       "version_major": 2,
       "version_minor": 0
      },
      "text/plain": [
       "  0%|          | 0/1 [00:00<?, ?it/s]"
      ]
     },
     "metadata": {},
     "output_type": "display_data"
    },
    {
     "name": "stdout",
     "output_type": "stream",
     "text": [
      "Los Angeles is a city in the country of United States. Mexico City is a city in the country of Mexico. Buenos Aires is a city in the country of Argentina. New Delhi is a city in the country of India\n",
      "Ground truth:  India\n",
      "\n",
      "\n",
      "\n",
      "---------------------------------------------------\n",
      "New York City is a city in the country of United States. Buenos Aires is a city in the country of Argentina. San Francisco is a city in the country of United States. Los Angeles is a city in the country of\n"
     ]
    },
    {
     "data": {
      "application/vnd.jupyter.widget-view+json": {
       "model_id": "e2bec21ff26a4c81bc8e8571fc400cd8",
       "version_major": 2,
       "version_minor": 0
      },
      "text/plain": [
       "  0%|          | 0/1 [00:00<?, ?it/s]"
      ]
     },
     "metadata": {},
     "output_type": "display_data"
    },
    {
     "name": "stdout",
     "output_type": "stream",
     "text": [
      "New York City is a city in the country of United States. Buenos Aires is a city in the country of Argentina. San Francisco is a city in the country of United States. Los Angeles is a city in the country of United\n",
      "Ground truth:  United States\n",
      "\n",
      "\n",
      "\n",
      "---------------------------------------------------\n",
      "Hong Kong is a city in the country of China. Los Angeles is a city in the country of United States. New Delhi is a city in the country of India. Toronto is a city in the country of\n"
     ]
    },
    {
     "data": {
      "application/vnd.jupyter.widget-view+json": {
       "model_id": "5a20919f1f9845a5972bf8645ebac4d2",
       "version_major": 2,
       "version_minor": 0
      },
      "text/plain": [
       "  0%|          | 0/1 [00:00<?, ?it/s]"
      ]
     },
     "metadata": {},
     "output_type": "display_data"
    },
    {
     "name": "stdout",
     "output_type": "stream",
     "text": [
      "Hong Kong is a city in the country of China. Los Angeles is a city in the country of United States. New Delhi is a city in the country of India. Toronto is a city in the country of Canada\n",
      "Ground truth:  Canada\n",
      "\n",
      "\n",
      "\n",
      "---------------------------------------------------\n",
      "Rome is a city in the country of Italy. Toronto is a city in the country of Canada. St. Petersburg is a city in the country of Russia. Hong Kong is a city in the country of\n"
     ]
    },
    {
     "data": {
      "application/vnd.jupyter.widget-view+json": {
       "model_id": "d7cd785fe2a9436fb1ac99038c029ded",
       "version_major": 2,
       "version_minor": 0
      },
      "text/plain": [
       "  0%|          | 0/1 [00:00<?, ?it/s]"
      ]
     },
     "metadata": {},
     "output_type": "display_data"
    },
    {
     "name": "stdout",
     "output_type": "stream",
     "text": [
      "Rome is a city in the country of Italy. Toronto is a city in the country of Canada. St. Petersburg is a city in the country of Russia. Hong Kong is a city in the country of China\n",
      "Ground truth:  China\n",
      "\n",
      "\n",
      "\n",
      "---------------------------------------------------\n",
      "San Francisco is a city in the country of United States. Toronto is a city in the country of Canada. Los Angeles is a city in the country of United States. St. Petersburg is a city in the country of\n"
     ]
    },
    {
     "data": {
      "application/vnd.jupyter.widget-view+json": {
       "model_id": "e5eee49154564249be14704d5d2a61ac",
       "version_major": 2,
       "version_minor": 0
      },
      "text/plain": [
       "  0%|          | 0/1 [00:00<?, ?it/s]"
      ]
     },
     "metadata": {},
     "output_type": "display_data"
    },
    {
     "name": "stdout",
     "output_type": "stream",
     "text": [
      "San Francisco is a city in the country of United States. Toronto is a city in the country of Canada. Los Angeles is a city in the country of United States. St. Petersburg is a city in the country of Russia\n",
      "Ground truth:  Russia\n",
      "\n",
      "\n",
      "\n",
      "---------------------------------------------------\n",
      "Tokyo is a city in the country of Japan. Sydney is a city in the country of Australia. Bangkok is a city in the country of Thailand. New Delhi is a city in the country of\n"
     ]
    },
    {
     "data": {
      "application/vnd.jupyter.widget-view+json": {
       "model_id": "7953861108c8479597cfb0374590ab00",
       "version_major": 2,
       "version_minor": 0
      },
      "text/plain": [
       "  0%|          | 0/1 [00:00<?, ?it/s]"
      ]
     },
     "metadata": {},
     "output_type": "display_data"
    },
    {
     "name": "stdout",
     "output_type": "stream",
     "text": [
      "Tokyo is a city in the country of Japan. Sydney is a city in the country of Australia. Bangkok is a city in the country of Thailand. New Delhi is a city in the country of India\n",
      "Ground truth:  India\n",
      "\n",
      "\n",
      "\n",
      "---------------------------------------------------\n",
      "Mexico City is a city in the country of Mexico. Tokyo is a city in the country of Japan. Beijing is a city in the country of China. New York City is a city in the country of\n"
     ]
    },
    {
     "data": {
      "application/vnd.jupyter.widget-view+json": {
       "model_id": "b4fbcd947ff24e2096b2c4e1c63939cd",
       "version_major": 2,
       "version_minor": 0
      },
      "text/plain": [
       "  0%|          | 0/1 [00:00<?, ?it/s]"
      ]
     },
     "metadata": {},
     "output_type": "display_data"
    },
    {
     "name": "stdout",
     "output_type": "stream",
     "text": [
      "Mexico City is a city in the country of Mexico. Tokyo is a city in the country of Japan. Beijing is a city in the country of China. New York City is a city in the country of New\n",
      "Ground truth:  United States\n",
      "\n",
      "\n",
      "\n",
      "---------------------------------------------------\n",
      "Cape Town is a city in the country of South Africa. Bangkok is a city in the country of Thailand. New Delhi is a city in the country of India. St. Petersburg is a city in the country of\n"
     ]
    },
    {
     "data": {
      "application/vnd.jupyter.widget-view+json": {
       "model_id": "1b31c8edeab541e989a9602016033d2a",
       "version_major": 2,
       "version_minor": 0
      },
      "text/plain": [
       "  0%|          | 0/1 [00:00<?, ?it/s]"
      ]
     },
     "metadata": {},
     "output_type": "display_data"
    },
    {
     "name": "stdout",
     "output_type": "stream",
     "text": [
      "Cape Town is a city in the country of South Africa. Bangkok is a city in the country of Thailand. New Delhi is a city in the country of India. St. Petersburg is a city in the country of Russia\n",
      "Ground truth:  Russia\n",
      "\n",
      "\n",
      "\n",
      "---------------------------------------------------\n",
      "Beijing is a city in the country of China. New York City is a city in the country of United States. New Delhi is a city in the country of India. Buenos Aires is a city in the country of\n"
     ]
    },
    {
     "data": {
      "application/vnd.jupyter.widget-view+json": {
       "model_id": "9e9461580bec4963866a532fd702c517",
       "version_major": 2,
       "version_minor": 0
      },
      "text/plain": [
       "  0%|          | 0/1 [00:00<?, ?it/s]"
      ]
     },
     "metadata": {},
     "output_type": "display_data"
    },
    {
     "name": "stdout",
     "output_type": "stream",
     "text": [
      "Beijing is a city in the country of China. New York City is a city in the country of United States. New Delhi is a city in the country of India. Buenos Aires is a city in the country of Brazil\n",
      "Ground truth:  Argentina\n",
      "\n",
      "\n",
      "\n",
      "---------------------------------------------------\n",
      "Rio de Janeiro is a city in the country of Brazil. Beijing is a city in the country of China. Kuala Lumpur is a city in the country of Malaysia. Bangkok is a city in the country of\n"
     ]
    },
    {
     "data": {
      "application/vnd.jupyter.widget-view+json": {
       "model_id": "1afe305fd5004f1abba9cfb2572a8773",
       "version_major": 2,
       "version_minor": 0
      },
      "text/plain": [
       "  0%|          | 0/1 [00:00<?, ?it/s]"
      ]
     },
     "metadata": {},
     "output_type": "display_data"
    },
    {
     "name": "stdout",
     "output_type": "stream",
     "text": [
      "Rio de Janeiro is a city in the country of Brazil. Beijing is a city in the country of China. Kuala Lumpur is a city in the country of Malaysia. Bangkok is a city in the country of Thailand\n",
      "Ground truth:  Thailand\n",
      "\n",
      "\n",
      "\n",
      "---------------------------------------------------\n",
      "Sydney is a city in the country of Australia. Hong Kong is a city in the country of China. Rio de Janeiro is a city in the country of Brazil. Kuala Lumpur is a city in the country of\n"
     ]
    },
    {
     "data": {
      "application/vnd.jupyter.widget-view+json": {
       "model_id": "be85799fc4dd426ea2a82165a585a8e7",
       "version_major": 2,
       "version_minor": 0
      },
      "text/plain": [
       "  0%|          | 0/1 [00:00<?, ?it/s]"
      ]
     },
     "metadata": {},
     "output_type": "display_data"
    },
    {
     "name": "stdout",
     "output_type": "stream",
     "text": [
      "Sydney is a city in the country of Australia. Hong Kong is a city in the country of China. Rio de Janeiro is a city in the country of Brazil. Kuala Lumpur is a city in the country of Malaysia\n",
      "Ground truth:  Malaysia\n",
      "\n",
      "\n",
      "\n",
      "---------------------------------------------------\n",
      "Los Angeles is a city in the country of United States. Hong Kong is a city in the country of China. Mexico City is a city in the country of Mexico. Sydney is a city in the country of\n"
     ]
    },
    {
     "data": {
      "application/vnd.jupyter.widget-view+json": {
       "model_id": "80015b2d7bb246d39174380a69ed6bfa",
       "version_major": 2,
       "version_minor": 0
      },
      "text/plain": [
       "  0%|          | 0/1 [00:00<?, ?it/s]"
      ]
     },
     "metadata": {},
     "output_type": "display_data"
    },
    {
     "name": "stdout",
     "output_type": "stream",
     "text": [
      "Los Angeles is a city in the country of United States. Hong Kong is a city in the country of China. Mexico City is a city in the country of Mexico. Sydney is a city in the country of Australia\n",
      "Ground truth:  Australia\n",
      "\n",
      "\n",
      "\n",
      "---------------------------------------------------\n",
      "St. Petersburg is a city in the country of Russia. San Francisco is a city in the country of United States. Hong Kong is a city in the country of China. Kuala Lumpur is a city in the country of\n"
     ]
    },
    {
     "data": {
      "application/vnd.jupyter.widget-view+json": {
       "model_id": "c63c97978af64eeb958e3f9560545269",
       "version_major": 2,
       "version_minor": 0
      },
      "text/plain": [
       "  0%|          | 0/1 [00:00<?, ?it/s]"
      ]
     },
     "metadata": {},
     "output_type": "display_data"
    },
    {
     "name": "stdout",
     "output_type": "stream",
     "text": [
      "St. Petersburg is a city in the country of Russia. San Francisco is a city in the country of United States. Hong Kong is a city in the country of China. Kuala Lumpur is a city in the country of Malaysia\n",
      "Ground truth:  Malaysia\n",
      "\n",
      "\n",
      "\n",
      "---------------------------------------------------\n",
      "San Francisco is a city in the country of United States. Sydney is a city in the country of Australia. Buenos Aires is a city in the country of Argentina. New York City is a city in the country of\n"
     ]
    },
    {
     "data": {
      "application/vnd.jupyter.widget-view+json": {
       "model_id": "c65d8caf8ecf4c0eb42705f42a2d0aca",
       "version_major": 2,
       "version_minor": 0
      },
      "text/plain": [
       "  0%|          | 0/1 [00:00<?, ?it/s]"
      ]
     },
     "metadata": {},
     "output_type": "display_data"
    },
    {
     "name": "stdout",
     "output_type": "stream",
     "text": [
      "San Francisco is a city in the country of United States. Sydney is a city in the country of Australia. Buenos Aires is a city in the country of Argentina. New York City is a city in the country of New\n",
      "Ground truth:  United States\n",
      "\n",
      "\n",
      "\n",
      "---------------------------------------------------\n",
      "St. Petersburg is a city in the country of Russia. Rio de Janeiro is a city in the country of Brazil. Beijing is a city in the country of China. Tokyo is a city in the country of\n"
     ]
    },
    {
     "data": {
      "application/vnd.jupyter.widget-view+json": {
       "model_id": "9afa199d6fea4e69b91dea1a438133eb",
       "version_major": 2,
       "version_minor": 0
      },
      "text/plain": [
       "  0%|          | 0/1 [00:00<?, ?it/s]"
      ]
     },
     "metadata": {},
     "output_type": "display_data"
    },
    {
     "name": "stdout",
     "output_type": "stream",
     "text": [
      "St. Petersburg is a city in the country of Russia. Rio de Janeiro is a city in the country of Brazil. Beijing is a city in the country of China. Tokyo is a city in the country of Japan\n",
      "Ground truth:  Japan\n",
      "\n",
      "\n",
      "\n",
      "---------------------------------------------------\n",
      "Buenos Aires is a city in the country of Argentina. Sydney is a city in the country of Australia. Rome is a city in the country of Italy. Mexico City is a city in the country of\n"
     ]
    },
    {
     "data": {
      "application/vnd.jupyter.widget-view+json": {
       "model_id": "518adb0ad827475b8c38c45d61e41667",
       "version_major": 2,
       "version_minor": 0
      },
      "text/plain": [
       "  0%|          | 0/1 [00:00<?, ?it/s]"
      ]
     },
     "metadata": {},
     "output_type": "display_data"
    },
    {
     "name": "stdout",
     "output_type": "stream",
     "text": [
      "Buenos Aires is a city in the country of Argentina. Sydney is a city in the country of Australia. Rome is a city in the country of Italy. Mexico City is a city in the country of Mexico\n",
      "Ground truth:  Mexico\n",
      "\n",
      "\n",
      "\n",
      "---------------------------------------------------\n",
      "San Francisco is a city in the country of United States. Cape Town is a city in the country of South Africa. New York City is a city in the country of United States. Sydney is a city in the country of\n"
     ]
    },
    {
     "data": {
      "application/vnd.jupyter.widget-view+json": {
       "model_id": "f154b63d06084b66883de03ca20e005c",
       "version_major": 2,
       "version_minor": 0
      },
      "text/plain": [
       "  0%|          | 0/1 [00:00<?, ?it/s]"
      ]
     },
     "metadata": {},
     "output_type": "display_data"
    },
    {
     "name": "stdout",
     "output_type": "stream",
     "text": [
      "San Francisco is a city in the country of United States. Cape Town is a city in the country of South Africa. New York City is a city in the country of United States. Sydney is a city in the country of United\n",
      "Ground truth:  Australia\n",
      "\n",
      "\n",
      "\n",
      "---------------------------------------------------\n",
      "Kuala Lumpur is a city in the country of Malaysia. New York City is a city in the country of United States. Buenos Aires is a city in the country of Argentina. Hong Kong is a city in the country of\n"
     ]
    },
    {
     "data": {
      "application/vnd.jupyter.widget-view+json": {
       "model_id": "f8d885f71f3b4f40a5cac9321b85aa8a",
       "version_major": 2,
       "version_minor": 0
      },
      "text/plain": [
       "  0%|          | 0/1 [00:00<?, ?it/s]"
      ]
     },
     "metadata": {},
     "output_type": "display_data"
    },
    {
     "name": "stdout",
     "output_type": "stream",
     "text": [
      "Kuala Lumpur is a city in the country of Malaysia. New York City is a city in the country of United States. Buenos Aires is a city in the country of Argentina. Hong Kong is a city in the country of Hong\n",
      "Ground truth:  China\n",
      "\n",
      "\n",
      "\n",
      "---------------------------------------------------\n",
      "St. Petersburg is a city in the country of Russia. Rio de Janeiro is a city in the country of Brazil. Toronto is a city in the country of Canada. Los Angeles is a city in the country of\n"
     ]
    },
    {
     "data": {
      "application/vnd.jupyter.widget-view+json": {
       "model_id": "552ad42fba184ae88f8d32f2036bc4cb",
       "version_major": 2,
       "version_minor": 0
      },
      "text/plain": [
       "  0%|          | 0/1 [00:00<?, ?it/s]"
      ]
     },
     "metadata": {},
     "output_type": "display_data"
    },
    {
     "name": "stdout",
     "output_type": "stream",
     "text": [
      "St. Petersburg is a city in the country of Russia. Rio de Janeiro is a city in the country of Brazil. Toronto is a city in the country of Canada. Los Angeles is a city in the country of Mexico\n",
      "Ground truth:  United States\n",
      "\n",
      "\n",
      "\n",
      "---------------------------------------------------\n",
      "Tokyo is a city in the country of Japan. Sydney is a city in the country of Australia. Rome is a city in the country of Italy. Hong Kong is a city in the country of\n"
     ]
    },
    {
     "data": {
      "application/vnd.jupyter.widget-view+json": {
       "model_id": "12ed221bad5e439586b64aae66deec0c",
       "version_major": 2,
       "version_minor": 0
      },
      "text/plain": [
       "  0%|          | 0/1 [00:00<?, ?it/s]"
      ]
     },
     "metadata": {},
     "output_type": "display_data"
    },
    {
     "name": "stdout",
     "output_type": "stream",
     "text": [
      "Tokyo is a city in the country of Japan. Sydney is a city in the country of Australia. Rome is a city in the country of Italy. Hong Kong is a city in the country of China\n",
      "Ground truth:  China\n",
      "\n",
      "\n",
      "\n",
      "---------------------------------------------------\n",
      "Beijing is a city in the country of China. Sydney is a city in the country of Australia. St. Petersburg is a city in the country of Russia. New York City is a city in the country of\n"
     ]
    },
    {
     "data": {
      "application/vnd.jupyter.widget-view+json": {
       "model_id": "f3e94ae2d10944e9bbea51521d73d844",
       "version_major": 2,
       "version_minor": 0
      },
      "text/plain": [
       "  0%|          | 0/1 [00:00<?, ?it/s]"
      ]
     },
     "metadata": {},
     "output_type": "display_data"
    },
    {
     "name": "stdout",
     "output_type": "stream",
     "text": [
      "Beijing is a city in the country of China. Sydney is a city in the country of Australia. St. Petersburg is a city in the country of Russia. New York City is a city in the country of New\n",
      "Ground truth:  United States\n",
      "\n",
      "\n",
      "\n",
      "---------------------------------------------------\n",
      "Rio de Janeiro is a city in the country of Brazil. Buenos Aires is a city in the country of Argentina. Hong Kong is a city in the country of China. Los Angeles is a city in the country of\n"
     ]
    },
    {
     "data": {
      "application/vnd.jupyter.widget-view+json": {
       "model_id": "14ca13694b5d476aa90b01a9f1f12dd6",
       "version_major": 2,
       "version_minor": 0
      },
      "text/plain": [
       "  0%|          | 0/1 [00:00<?, ?it/s]"
      ]
     },
     "metadata": {},
     "output_type": "display_data"
    },
    {
     "name": "stdout",
     "output_type": "stream",
     "text": [
      "Rio de Janeiro is a city in the country of Brazil. Buenos Aires is a city in the country of Argentina. Hong Kong is a city in the country of China. Los Angeles is a city in the country of Mexico\n",
      "Ground truth:  United States\n",
      "\n",
      "\n",
      "\n",
      "---------------------------------------------------\n",
      "Tokyo is a city in the country of Japan. Mexico City is a city in the country of Mexico. Sydney is a city in the country of Australia. Los Angeles is a city in the country of\n"
     ]
    },
    {
     "data": {
      "application/vnd.jupyter.widget-view+json": {
       "model_id": "eb3243e24f25488681624463eae75bec",
       "version_major": 2,
       "version_minor": 0
      },
      "text/plain": [
       "  0%|          | 0/1 [00:00<?, ?it/s]"
      ]
     },
     "metadata": {},
     "output_type": "display_data"
    },
    {
     "name": "stdout",
     "output_type": "stream",
     "text": [
      "Tokyo is a city in the country of Japan. Mexico City is a city in the country of Mexico. Sydney is a city in the country of Australia. Los Angeles is a city in the country of Australia\n",
      "Ground truth:  United States\n",
      "\n",
      "\n",
      "\n",
      "---------------------------------------------------\n",
      "Mexico City is a city in the country of Mexico. Cape Town is a city in the country of South Africa. Rio de Janeiro is a city in the country of Brazil. Los Angeles is a city in the country of\n"
     ]
    },
    {
     "data": {
      "application/vnd.jupyter.widget-view+json": {
       "model_id": "1a9164b0ec1f40918bc3a1c13799cc52",
       "version_major": 2,
       "version_minor": 0
      },
      "text/plain": [
       "  0%|          | 0/1 [00:00<?, ?it/s]"
      ]
     },
     "metadata": {},
     "output_type": "display_data"
    },
    {
     "name": "stdout",
     "output_type": "stream",
     "text": [
      "Mexico City is a city in the country of Mexico. Cape Town is a city in the country of South Africa. Rio de Janeiro is a city in the country of Brazil. Los Angeles is a city in the country of Mexico\n",
      "Ground truth:  United States\n",
      "\n",
      "\n",
      "\n",
      "---------------------------------------------------\n",
      "New Delhi is a city in the country of India. Beijing is a city in the country of China. New York City is a city in the country of United States. Hong Kong is a city in the country of\n"
     ]
    },
    {
     "data": {
      "application/vnd.jupyter.widget-view+json": {
       "model_id": "ef1fb8b5b5da4b599ff4a5fa49414213",
       "version_major": 2,
       "version_minor": 0
      },
      "text/plain": [
       "  0%|          | 0/1 [00:00<?, ?it/s]"
      ]
     },
     "metadata": {},
     "output_type": "display_data"
    },
    {
     "name": "stdout",
     "output_type": "stream",
     "text": [
      "New Delhi is a city in the country of India. Beijing is a city in the country of China. New York City is a city in the country of United States. Hong Kong is a city in the country of Hong\n",
      "Ground truth:  China\n",
      "\n",
      "\n",
      "\n",
      "---------------------------------------------------\n",
      "Hong Kong is a city in the country of China. Rome is a city in the country of Italy. Los Angeles is a city in the country of United States. Beijing is a city in the country of\n"
     ]
    },
    {
     "data": {
      "application/vnd.jupyter.widget-view+json": {
       "model_id": "a8e7cf14e65c44eb90982185dc8aca91",
       "version_major": 2,
       "version_minor": 0
      },
      "text/plain": [
       "  0%|          | 0/1 [00:00<?, ?it/s]"
      ]
     },
     "metadata": {},
     "output_type": "display_data"
    },
    {
     "name": "stdout",
     "output_type": "stream",
     "text": [
      "Hong Kong is a city in the country of China. Rome is a city in the country of Italy. Los Angeles is a city in the country of United States. Beijing is a city in the country of China\n",
      "Ground truth:  China\n",
      "\n",
      "\n",
      "\n",
      "---------------------------------------------------\n",
      "Beijing is a city in the country of China. Paris is a city in the country of France. New York City is a city in the country of United States. Bangkok is a city in the country of\n"
     ]
    },
    {
     "data": {
      "application/vnd.jupyter.widget-view+json": {
       "model_id": "d79493ade4494d27979a18ca6a98e2c6",
       "version_major": 2,
       "version_minor": 0
      },
      "text/plain": [
       "  0%|          | 0/1 [00:00<?, ?it/s]"
      ]
     },
     "metadata": {},
     "output_type": "display_data"
    },
    {
     "name": "stdout",
     "output_type": "stream",
     "text": [
      "Beijing is a city in the country of China. Paris is a city in the country of France. New York City is a city in the country of United States. Bangkok is a city in the country of Thailand\n",
      "Ground truth:  Thailand\n",
      "\n",
      "\n",
      "\n",
      "---------------------------------------------------\n",
      "New York City is a city in the country of United States. Beijing is a city in the country of China. Bangkok is a city in the country of Thailand. Mexico City is a city in the country of\n"
     ]
    },
    {
     "data": {
      "application/vnd.jupyter.widget-view+json": {
       "model_id": "6422ac52acee47608dd238fcac8d4d76",
       "version_major": 2,
       "version_minor": 0
      },
      "text/plain": [
       "  0%|          | 0/1 [00:00<?, ?it/s]"
      ]
     },
     "metadata": {},
     "output_type": "display_data"
    },
    {
     "name": "stdout",
     "output_type": "stream",
     "text": [
      "New York City is a city in the country of United States. Beijing is a city in the country of China. Bangkok is a city in the country of Thailand. Mexico City is a city in the country of Mexico\n",
      "Ground truth:  Mexico\n",
      "\n",
      "\n",
      "\n",
      "---------------------------------------------------\n",
      "St. Petersburg is a city in the country of Russia. Toronto is a city in the country of Canada. Buenos Aires is a city in the country of Argentina. Rome is a city in the country of\n"
     ]
    },
    {
     "data": {
      "application/vnd.jupyter.widget-view+json": {
       "model_id": "e39a44e96452484a8723742b3964505c",
       "version_major": 2,
       "version_minor": 0
      },
      "text/plain": [
       "  0%|          | 0/1 [00:00<?, ?it/s]"
      ]
     },
     "metadata": {},
     "output_type": "display_data"
    },
    {
     "name": "stdout",
     "output_type": "stream",
     "text": [
      "St. Petersburg is a city in the country of Russia. Toronto is a city in the country of Canada. Buenos Aires is a city in the country of Argentina. Rome is a city in the country of Italy\n",
      "Ground truth:  Italy\n",
      "\n",
      "\n",
      "\n",
      "---------------------------------------------------\n",
      "San Francisco is a city in the country of United States. Los Angeles is a city in the country of United States. Beijing is a city in the country of China. Sydney is a city in the country of\n"
     ]
    },
    {
     "data": {
      "application/vnd.jupyter.widget-view+json": {
       "model_id": "9bbaacc460d94bd3b4cb5667de3e0a25",
       "version_major": 2,
       "version_minor": 0
      },
      "text/plain": [
       "  0%|          | 0/1 [00:00<?, ?it/s]"
      ]
     },
     "metadata": {},
     "output_type": "display_data"
    },
    {
     "name": "stdout",
     "output_type": "stream",
     "text": [
      "San Francisco is a city in the country of United States. Los Angeles is a city in the country of United States. Beijing is a city in the country of China. Sydney is a city in the country of Australia\n",
      "Ground truth:  Australia\n",
      "\n",
      "\n",
      "\n",
      "---------------------------------------------------\n",
      "Sydney is a city in the country of Australia. Los Angeles is a city in the country of United States. Mexico City is a city in the country of Mexico. Cape Town is a city in the country of\n"
     ]
    },
    {
     "data": {
      "application/vnd.jupyter.widget-view+json": {
       "model_id": "84cf41bd605148b780666adb6c59c6f1",
       "version_major": 2,
       "version_minor": 0
      },
      "text/plain": [
       "  0%|          | 0/1 [00:00<?, ?it/s]"
      ]
     },
     "metadata": {},
     "output_type": "display_data"
    },
    {
     "name": "stdout",
     "output_type": "stream",
     "text": [
      "Sydney is a city in the country of Australia. Los Angeles is a city in the country of United States. Mexico City is a city in the country of Mexico. Cape Town is a city in the country of South\n",
      "Ground truth:  South Africa\n",
      "\n",
      "\n",
      "\n",
      "---------------------------------------------------\n",
      "Rio de Janeiro is a city in the country of Brazil. Paris is a city in the country of France. New Delhi is a city in the country of India. New York City is a city in the country of\n"
     ]
    },
    {
     "data": {
      "application/vnd.jupyter.widget-view+json": {
       "model_id": "812251d9968048248c7102706573926b",
       "version_major": 2,
       "version_minor": 0
      },
      "text/plain": [
       "  0%|          | 0/1 [00:00<?, ?it/s]"
      ]
     },
     "metadata": {},
     "output_type": "display_data"
    },
    {
     "name": "stdout",
     "output_type": "stream",
     "text": [
      "Rio de Janeiro is a city in the country of Brazil. Paris is a city in the country of France. New Delhi is a city in the country of India. New York City is a city in the country of New\n",
      "Ground truth:  United States\n",
      "\n",
      "\n",
      "\n",
      "---------------------------------------------------\n",
      "Los Angeles is a city in the country of United States. New Delhi is a city in the country of India. Buenos Aires is a city in the country of Argentina. Paris is a city in the country of\n"
     ]
    },
    {
     "data": {
      "application/vnd.jupyter.widget-view+json": {
       "model_id": "cfc06731c07f44299c7cd889d0f9fb99",
       "version_major": 2,
       "version_minor": 0
      },
      "text/plain": [
       "  0%|          | 0/1 [00:00<?, ?it/s]"
      ]
     },
     "metadata": {},
     "output_type": "display_data"
    },
    {
     "name": "stdout",
     "output_type": "stream",
     "text": [
      "Los Angeles is a city in the country of United States. New Delhi is a city in the country of India. Buenos Aires is a city in the country of Argentina. Paris is a city in the country of France\n",
      "Ground truth:  France\n",
      "\n",
      "\n",
      "\n",
      "---------------------------------------------------\n",
      "Accuracy:  0.71\n"
     ]
    }
   ],
   "source": [
    "city_country_correct = 0\n",
    "city_country_retained = []\n",
    "for prompt, gt in city_country_prompts:\n",
    "    print(prompt)\n",
    "    generation = model.generate(\n",
    "        prompt, max_new_tokens=1, temperature=0.0, prepend_bos=True\n",
    "    )\n",
    "    print(generation)\n",
    "\n",
    "    print(\"Ground truth: \", gt)\n",
    "    print(\"\\n\\n\")\n",
    "    print(\"---------------------------------------------------\")\n",
    "    if gt.startswith(generation[len(prompt) :].strip()):\n",
    "        city_country_correct += 1\n",
    "        city_country_retained.append((prompt, gt))\n",
    "\n",
    "print(\"Accuracy: \", city_country_correct / len(city_country_prompts))"
   ]
  },
  {
   "cell_type": "code",
   "execution_count": 11,
   "metadata": {},
   "outputs": [
    {
     "name": "stdout",
     "output_type": "stream",
     "text": [
      "Tokyo is a city in the continent of Asia. Kuala Lumpur is a city in the continent of Asia. New Delhi is a city in the continent of Asia. Beijing is a city in the continent of\n"
     ]
    },
    {
     "data": {
      "application/vnd.jupyter.widget-view+json": {
       "model_id": "b3cdc7fdf4c24341b1b2b263fbebc8cd",
       "version_major": 2,
       "version_minor": 0
      },
      "text/plain": [
       "  0%|          | 0/1 [00:00<?, ?it/s]"
      ]
     },
     "metadata": {},
     "output_type": "display_data"
    },
    {
     "name": "stdout",
     "output_type": "stream",
     "text": [
      "Tokyo is a city in the continent of Asia. Kuala Lumpur is a city in the continent of Asia. New Delhi is a city in the continent of Asia. Beijing is a city in the continent of Asia\n",
      "Ground truth:  Asia\n",
      "\n",
      "\n",
      "\n",
      "---------------------------------------------------\n",
      "St. Petersburg is a city in the continent of Europe. Paris is a city in the continent of Europe. Buenos Aires is a city in the continent of South America. Hong Kong is a city in the continent of\n"
     ]
    },
    {
     "data": {
      "application/vnd.jupyter.widget-view+json": {
       "model_id": "1fd174a48eca4a44a393c04049fc6573",
       "version_major": 2,
       "version_minor": 0
      },
      "text/plain": [
       "  0%|          | 0/1 [00:00<?, ?it/s]"
      ]
     },
     "metadata": {},
     "output_type": "display_data"
    },
    {
     "name": "stdout",
     "output_type": "stream",
     "text": [
      "St. Petersburg is a city in the continent of Europe. Paris is a city in the continent of Europe. Buenos Aires is a city in the continent of South America. Hong Kong is a city in the continent of South\n",
      "Ground truth:  Asia\n",
      "\n",
      "\n",
      "\n",
      "---------------------------------------------------\n",
      "Hong Kong is a city in the continent of Asia. New Delhi is a city in the continent of Asia. St. Petersburg is a city in the continent of Europe. San Francisco is a city in the continent of\n"
     ]
    },
    {
     "data": {
      "application/vnd.jupyter.widget-view+json": {
       "model_id": "5bc17e4ffffd459ba1c0703213b27f93",
       "version_major": 2,
       "version_minor": 0
      },
      "text/plain": [
       "  0%|          | 0/1 [00:00<?, ?it/s]"
      ]
     },
     "metadata": {},
     "output_type": "display_data"
    },
    {
     "name": "stdout",
     "output_type": "stream",
     "text": [
      "Hong Kong is a city in the continent of Asia. New Delhi is a city in the continent of Asia. St. Petersburg is a city in the continent of Europe. San Francisco is a city in the continent of Asia\n",
      "Ground truth:  North America\n",
      "\n",
      "\n",
      "\n",
      "---------------------------------------------------\n",
      "New York City is a city in the continent of North America. Sydney is a city in the continent of Oceania. New Delhi is a city in the continent of Asia. Hong Kong is a city in the continent of\n"
     ]
    },
    {
     "data": {
      "application/vnd.jupyter.widget-view+json": {
       "model_id": "842d6ad71c3245d3bf9d8d55c6699084",
       "version_major": 2,
       "version_minor": 0
      },
      "text/plain": [
       "  0%|          | 0/1 [00:00<?, ?it/s]"
      ]
     },
     "metadata": {},
     "output_type": "display_data"
    },
    {
     "name": "stdout",
     "output_type": "stream",
     "text": [
      "New York City is a city in the continent of North America. Sydney is a city in the continent of Oceania. New Delhi is a city in the continent of Asia. Hong Kong is a city in the continent of China\n",
      "Ground truth:  Asia\n",
      "\n",
      "\n",
      "\n",
      "---------------------------------------------------\n",
      "Los Angeles is a city in the continent of North America. Mexico City is a city in the continent of North America. Hong Kong is a city in the continent of Asia. Buenos Aires is a city in the continent of\n"
     ]
    },
    {
     "data": {
      "application/vnd.jupyter.widget-view+json": {
       "model_id": "fe2dad4275c046a187f79ad3f65c7409",
       "version_major": 2,
       "version_minor": 0
      },
      "text/plain": [
       "  0%|          | 0/1 [00:00<?, ?it/s]"
      ]
     },
     "metadata": {},
     "output_type": "display_data"
    },
    {
     "name": "stdout",
     "output_type": "stream",
     "text": [
      "Los Angeles is a city in the continent of North America. Mexico City is a city in the continent of North America. Hong Kong is a city in the continent of Asia. Buenos Aires is a city in the continent of South\n",
      "Ground truth:  South America\n",
      "\n",
      "\n",
      "\n",
      "---------------------------------------------------\n",
      "Rio de Janeiro is a city in the continent of South America. Tokyo is a city in the continent of Asia. Kuala Lumpur is a city in the continent of Asia. Paris is a city in the continent of\n"
     ]
    },
    {
     "data": {
      "application/vnd.jupyter.widget-view+json": {
       "model_id": "24444088fbbb4e398723a316a8634533",
       "version_major": 2,
       "version_minor": 0
      },
      "text/plain": [
       "  0%|          | 0/1 [00:00<?, ?it/s]"
      ]
     },
     "metadata": {},
     "output_type": "display_data"
    },
    {
     "name": "stdout",
     "output_type": "stream",
     "text": [
      "Rio de Janeiro is a city in the continent of South America. Tokyo is a city in the continent of Asia. Kuala Lumpur is a city in the continent of Asia. Paris is a city in the continent of Europe\n",
      "Ground truth:  Europe\n",
      "\n",
      "\n",
      "\n",
      "---------------------------------------------------\n",
      "Hong Kong is a city in the continent of Asia. New Delhi is a city in the continent of Asia. St. Petersburg is a city in the continent of Europe. Sydney is a city in the continent of\n"
     ]
    },
    {
     "data": {
      "application/vnd.jupyter.widget-view+json": {
       "model_id": "63c4eaf5dca843f58abe0ae357de3a58",
       "version_major": 2,
       "version_minor": 0
      },
      "text/plain": [
       "  0%|          | 0/1 [00:00<?, ?it/s]"
      ]
     },
     "metadata": {},
     "output_type": "display_data"
    },
    {
     "name": "stdout",
     "output_type": "stream",
     "text": [
      "Hong Kong is a city in the continent of Asia. New Delhi is a city in the continent of Asia. St. Petersburg is a city in the continent of Europe. Sydney is a city in the continent of Asia\n",
      "Ground truth:  Oceania\n",
      "\n",
      "\n",
      "\n",
      "---------------------------------------------------\n",
      "New Delhi is a city in the continent of Asia. San Francisco is a city in the continent of North America. Bangkok is a city in the continent of Asia. Buenos Aires is a city in the continent of\n"
     ]
    },
    {
     "data": {
      "application/vnd.jupyter.widget-view+json": {
       "model_id": "46e3d788f1c14fe7a0e787a77961eee2",
       "version_major": 2,
       "version_minor": 0
      },
      "text/plain": [
       "  0%|          | 0/1 [00:00<?, ?it/s]"
      ]
     },
     "metadata": {},
     "output_type": "display_data"
    },
    {
     "name": "stdout",
     "output_type": "stream",
     "text": [
      "New Delhi is a city in the continent of Asia. San Francisco is a city in the continent of North America. Bangkok is a city in the continent of Asia. Buenos Aires is a city in the continent of Asia\n",
      "Ground truth:  South America\n",
      "\n",
      "\n",
      "\n",
      "---------------------------------------------------\n",
      "Mexico City is a city in the continent of North America. Bangkok is a city in the continent of Asia. New York City is a city in the continent of North America. Beijing is a city in the continent of\n"
     ]
    },
    {
     "data": {
      "application/vnd.jupyter.widget-view+json": {
       "model_id": "06a95f1a1c7e41319616fa2178e1134d",
       "version_major": 2,
       "version_minor": 0
      },
      "text/plain": [
       "  0%|          | 0/1 [00:00<?, ?it/s]"
      ]
     },
     "metadata": {},
     "output_type": "display_data"
    },
    {
     "name": "stdout",
     "output_type": "stream",
     "text": [
      "Mexico City is a city in the continent of North America. Bangkok is a city in the continent of Asia. New York City is a city in the continent of North America. Beijing is a city in the continent of North\n",
      "Ground truth:  Asia\n",
      "\n",
      "\n",
      "\n",
      "---------------------------------------------------\n",
      "St. Petersburg is a city in the continent of Europe. New Delhi is a city in the continent of Asia. Cape Town is a city in the continent of Africa. Hong Kong is a city in the continent of\n"
     ]
    },
    {
     "data": {
      "application/vnd.jupyter.widget-view+json": {
       "model_id": "a96e93b64e3e43fda19be45b3706a782",
       "version_major": 2,
       "version_minor": 0
      },
      "text/plain": [
       "  0%|          | 0/1 [00:00<?, ?it/s]"
      ]
     },
     "metadata": {},
     "output_type": "display_data"
    },
    {
     "name": "stdout",
     "output_type": "stream",
     "text": [
      "St. Petersburg is a city in the continent of Europe. New Delhi is a city in the continent of Asia. Cape Town is a city in the continent of Africa. Hong Kong is a city in the continent of Asia\n",
      "Ground truth:  Asia\n",
      "\n",
      "\n",
      "\n",
      "---------------------------------------------------\n",
      "Bangkok is a city in the continent of Asia. Tokyo is a city in the continent of Asia. Rome is a city in the continent of Europe. Hong Kong is a city in the continent of\n"
     ]
    },
    {
     "data": {
      "application/vnd.jupyter.widget-view+json": {
       "model_id": "2009415d119b41419ce8190ec1f8394d",
       "version_major": 2,
       "version_minor": 0
      },
      "text/plain": [
       "  0%|          | 0/1 [00:00<?, ?it/s]"
      ]
     },
     "metadata": {},
     "output_type": "display_data"
    },
    {
     "name": "stdout",
     "output_type": "stream",
     "text": [
      "Bangkok is a city in the continent of Asia. Tokyo is a city in the continent of Asia. Rome is a city in the continent of Europe. Hong Kong is a city in the continent of Asia\n",
      "Ground truth:  Asia\n",
      "\n",
      "\n",
      "\n",
      "---------------------------------------------------\n",
      "Toronto is a city in the continent of North America. Hong Kong is a city in the continent of Asia. Los Angeles is a city in the continent of North America. Rome is a city in the continent of\n"
     ]
    },
    {
     "data": {
      "application/vnd.jupyter.widget-view+json": {
       "model_id": "fc01ab60356d457a8b7ee95b2fe3479c",
       "version_major": 2,
       "version_minor": 0
      },
      "text/plain": [
       "  0%|          | 0/1 [00:00<?, ?it/s]"
      ]
     },
     "metadata": {},
     "output_type": "display_data"
    },
    {
     "name": "stdout",
     "output_type": "stream",
     "text": [
      "Toronto is a city in the continent of North America. Hong Kong is a city in the continent of Asia. Los Angeles is a city in the continent of North America. Rome is a city in the continent of North\n",
      "Ground truth:  Europe\n",
      "\n",
      "\n",
      "\n",
      "---------------------------------------------------\n",
      "Los Angeles is a city in the continent of North America. New Delhi is a city in the continent of Asia. St. Petersburg is a city in the continent of Europe. Beijing is a city in the continent of\n"
     ]
    },
    {
     "data": {
      "application/vnd.jupyter.widget-view+json": {
       "model_id": "eac39794b3c449d485119cae08617183",
       "version_major": 2,
       "version_minor": 0
      },
      "text/plain": [
       "  0%|          | 0/1 [00:00<?, ?it/s]"
      ]
     },
     "metadata": {},
     "output_type": "display_data"
    },
    {
     "name": "stdout",
     "output_type": "stream",
     "text": [
      "Los Angeles is a city in the continent of North America. New Delhi is a city in the continent of Asia. St. Petersburg is a city in the continent of Europe. Beijing is a city in the continent of Asia\n",
      "Ground truth:  Asia\n",
      "\n",
      "\n",
      "\n",
      "---------------------------------------------------\n",
      "New Delhi is a city in the continent of Asia. Tokyo is a city in the continent of Asia. Hong Kong is a city in the continent of Asia. Cape Town is a city in the continent of\n"
     ]
    },
    {
     "data": {
      "application/vnd.jupyter.widget-view+json": {
       "model_id": "8aaff74af5a5421f84c7306149293108",
       "version_major": 2,
       "version_minor": 0
      },
      "text/plain": [
       "  0%|          | 0/1 [00:00<?, ?it/s]"
      ]
     },
     "metadata": {},
     "output_type": "display_data"
    },
    {
     "name": "stdout",
     "output_type": "stream",
     "text": [
      "New Delhi is a city in the continent of Asia. Tokyo is a city in the continent of Asia. Hong Kong is a city in the continent of Asia. Cape Town is a city in the continent of Asia\n",
      "Ground truth:  Africa\n",
      "\n",
      "\n",
      "\n",
      "---------------------------------------------------\n",
      "Sydney is a city in the continent of Oceania. New York City is a city in the continent of North America. Tokyo is a city in the continent of Asia. Los Angeles is a city in the continent of\n"
     ]
    },
    {
     "data": {
      "application/vnd.jupyter.widget-view+json": {
       "model_id": "35025a1dd9df4185902a87179888380b",
       "version_major": 2,
       "version_minor": 0
      },
      "text/plain": [
       "  0%|          | 0/1 [00:00<?, ?it/s]"
      ]
     },
     "metadata": {},
     "output_type": "display_data"
    },
    {
     "name": "stdout",
     "output_type": "stream",
     "text": [
      "Sydney is a city in the continent of Oceania. New York City is a city in the continent of North America. Tokyo is a city in the continent of Asia. Los Angeles is a city in the continent of South\n",
      "Ground truth:  North America\n",
      "\n",
      "\n",
      "\n",
      "---------------------------------------------------\n",
      "Paris is a city in the continent of Europe. New York City is a city in the continent of North America. Rome is a city in the continent of Europe. Buenos Aires is a city in the continent of\n"
     ]
    },
    {
     "data": {
      "application/vnd.jupyter.widget-view+json": {
       "model_id": "da02e0bf7d594a838648bb0846604150",
       "version_major": 2,
       "version_minor": 0
      },
      "text/plain": [
       "  0%|          | 0/1 [00:00<?, ?it/s]"
      ]
     },
     "metadata": {},
     "output_type": "display_data"
    },
    {
     "name": "stdout",
     "output_type": "stream",
     "text": [
      "Paris is a city in the continent of Europe. New York City is a city in the continent of North America. Rome is a city in the continent of Europe. Buenos Aires is a city in the continent of South\n",
      "Ground truth:  South America\n",
      "\n",
      "\n",
      "\n",
      "---------------------------------------------------\n",
      "New Delhi is a city in the continent of Asia. Rio de Janeiro is a city in the continent of South America. Beijing is a city in the continent of Asia. San Francisco is a city in the continent of\n"
     ]
    },
    {
     "data": {
      "application/vnd.jupyter.widget-view+json": {
       "model_id": "50bbfceb3ce849b0998a91fe19313aac",
       "version_major": 2,
       "version_minor": 0
      },
      "text/plain": [
       "  0%|          | 0/1 [00:00<?, ?it/s]"
      ]
     },
     "metadata": {},
     "output_type": "display_data"
    },
    {
     "name": "stdout",
     "output_type": "stream",
     "text": [
      "New Delhi is a city in the continent of Asia. Rio de Janeiro is a city in the continent of South America. Beijing is a city in the continent of Asia. San Francisco is a city in the continent of Asia\n",
      "Ground truth:  North America\n",
      "\n",
      "\n",
      "\n",
      "---------------------------------------------------\n",
      "New Delhi is a city in the continent of Asia. Bangkok is a city in the continent of Asia. Rome is a city in the continent of Europe. Paris is a city in the continent of\n"
     ]
    },
    {
     "data": {
      "application/vnd.jupyter.widget-view+json": {
       "model_id": "b15fb47300374b7ebbc74c585d104916",
       "version_major": 2,
       "version_minor": 0
      },
      "text/plain": [
       "  0%|          | 0/1 [00:00<?, ?it/s]"
      ]
     },
     "metadata": {},
     "output_type": "display_data"
    },
    {
     "name": "stdout",
     "output_type": "stream",
     "text": [
      "New Delhi is a city in the continent of Asia. Bangkok is a city in the continent of Asia. Rome is a city in the continent of Europe. Paris is a city in the continent of Asia\n",
      "Ground truth:  Europe\n",
      "\n",
      "\n",
      "\n",
      "---------------------------------------------------\n",
      "Rio de Janeiro is a city in the continent of South America. Beijing is a city in the continent of Asia. Los Angeles is a city in the continent of North America. Bangkok is a city in the continent of\n"
     ]
    },
    {
     "data": {
      "application/vnd.jupyter.widget-view+json": {
       "model_id": "7887f33d7df1424fa62e18b4b3a452a1",
       "version_major": 2,
       "version_minor": 0
      },
      "text/plain": [
       "  0%|          | 0/1 [00:00<?, ?it/s]"
      ]
     },
     "metadata": {},
     "output_type": "display_data"
    },
    {
     "name": "stdout",
     "output_type": "stream",
     "text": [
      "Rio de Janeiro is a city in the continent of South America. Beijing is a city in the continent of Asia. Los Angeles is a city in the continent of North America. Bangkok is a city in the continent of Southeast\n",
      "Ground truth:  Asia\n",
      "\n",
      "\n",
      "\n",
      "---------------------------------------------------\n",
      "St. Petersburg is a city in the continent of Europe. Sydney is a city in the continent of Oceania. Rio de Janeiro is a city in the continent of South America. Los Angeles is a city in the continent of\n"
     ]
    },
    {
     "data": {
      "application/vnd.jupyter.widget-view+json": {
       "model_id": "e0197f7c4a034b0da986e87b6391557d",
       "version_major": 2,
       "version_minor": 0
      },
      "text/plain": [
       "  0%|          | 0/1 [00:00<?, ?it/s]"
      ]
     },
     "metadata": {},
     "output_type": "display_data"
    },
    {
     "name": "stdout",
     "output_type": "stream",
     "text": [
      "St. Petersburg is a city in the continent of Europe. Sydney is a city in the continent of Oceania. Rio de Janeiro is a city in the continent of South America. Los Angeles is a city in the continent of South\n",
      "Ground truth:  North America\n",
      "\n",
      "\n",
      "\n",
      "---------------------------------------------------\n",
      "Paris is a city in the continent of Europe. Beijing is a city in the continent of Asia. Bangkok is a city in the continent of Asia. Toronto is a city in the continent of\n"
     ]
    },
    {
     "data": {
      "application/vnd.jupyter.widget-view+json": {
       "model_id": "20569f835ee443048317b29d079353a8",
       "version_major": 2,
       "version_minor": 0
      },
      "text/plain": [
       "  0%|          | 0/1 [00:00<?, ?it/s]"
      ]
     },
     "metadata": {},
     "output_type": "display_data"
    },
    {
     "name": "stdout",
     "output_type": "stream",
     "text": [
      "Paris is a city in the continent of Europe. Beijing is a city in the continent of Asia. Bangkok is a city in the continent of Asia. Toronto is a city in the continent of Asia\n",
      "Ground truth:  North America\n",
      "\n",
      "\n",
      "\n",
      "---------------------------------------------------\n",
      "New Delhi is a city in the continent of Asia. Kuala Lumpur is a city in the continent of Asia. Bangkok is a city in the continent of Asia. New York City is a city in the continent of\n"
     ]
    },
    {
     "data": {
      "application/vnd.jupyter.widget-view+json": {
       "model_id": "7def990e96604f12b180f27eaa0f1b6e",
       "version_major": 2,
       "version_minor": 0
      },
      "text/plain": [
       "  0%|          | 0/1 [00:00<?, ?it/s]"
      ]
     },
     "metadata": {},
     "output_type": "display_data"
    },
    {
     "name": "stdout",
     "output_type": "stream",
     "text": [
      "New Delhi is a city in the continent of Asia. Kuala Lumpur is a city in the continent of Asia. Bangkok is a city in the continent of Asia. New York City is a city in the continent of Asia\n",
      "Ground truth:  North America\n",
      "\n",
      "\n",
      "\n",
      "---------------------------------------------------\n",
      "Los Angeles is a city in the continent of North America. Kuala Lumpur is a city in the continent of Asia. San Francisco is a city in the continent of North America. Beijing is a city in the continent of\n"
     ]
    },
    {
     "data": {
      "application/vnd.jupyter.widget-view+json": {
       "model_id": "4b9377fb77864870ba168e04e137f742",
       "version_major": 2,
       "version_minor": 0
      },
      "text/plain": [
       "  0%|          | 0/1 [00:00<?, ?it/s]"
      ]
     },
     "metadata": {},
     "output_type": "display_data"
    },
    {
     "name": "stdout",
     "output_type": "stream",
     "text": [
      "Los Angeles is a city in the continent of North America. Kuala Lumpur is a city in the continent of Asia. San Francisco is a city in the continent of North America. Beijing is a city in the continent of North\n",
      "Ground truth:  Asia\n",
      "\n",
      "\n",
      "\n",
      "---------------------------------------------------\n",
      "Kuala Lumpur is a city in the continent of Asia. Tokyo is a city in the continent of Asia. Cape Town is a city in the continent of Africa. New York City is a city in the continent of\n"
     ]
    },
    {
     "data": {
      "application/vnd.jupyter.widget-view+json": {
       "model_id": "64a8f8d9d44847aeb17ddba41c394742",
       "version_major": 2,
       "version_minor": 0
      },
      "text/plain": [
       "  0%|          | 0/1 [00:00<?, ?it/s]"
      ]
     },
     "metadata": {},
     "output_type": "display_data"
    },
    {
     "name": "stdout",
     "output_type": "stream",
     "text": [
      "Kuala Lumpur is a city in the continent of Asia. Tokyo is a city in the continent of Asia. Cape Town is a city in the continent of Africa. New York City is a city in the continent of Asia\n",
      "Ground truth:  North America\n",
      "\n",
      "\n",
      "\n",
      "---------------------------------------------------\n",
      "Buenos Aires is a city in the continent of South America. St. Petersburg is a city in the continent of Europe. Kuala Lumpur is a city in the continent of Asia. Beijing is a city in the continent of\n"
     ]
    },
    {
     "data": {
      "application/vnd.jupyter.widget-view+json": {
       "model_id": "2c57bde340cf4fd796df4cbad41b5afe",
       "version_major": 2,
       "version_minor": 0
      },
      "text/plain": [
       "  0%|          | 0/1 [00:00<?, ?it/s]"
      ]
     },
     "metadata": {},
     "output_type": "display_data"
    },
    {
     "name": "stdout",
     "output_type": "stream",
     "text": [
      "Buenos Aires is a city in the continent of South America. St. Petersburg is a city in the continent of Europe. Kuala Lumpur is a city in the continent of Asia. Beijing is a city in the continent of China\n",
      "Ground truth:  Asia\n",
      "\n",
      "\n",
      "\n",
      "---------------------------------------------------\n",
      "New York City is a city in the continent of North America. Tokyo is a city in the continent of Asia. Beijing is a city in the continent of Asia. Rome is a city in the continent of\n"
     ]
    },
    {
     "data": {
      "application/vnd.jupyter.widget-view+json": {
       "model_id": "0c9b49f662144edcb65a9018576c3dbb",
       "version_major": 2,
       "version_minor": 0
      },
      "text/plain": [
       "  0%|          | 0/1 [00:00<?, ?it/s]"
      ]
     },
     "metadata": {},
     "output_type": "display_data"
    },
    {
     "name": "stdout",
     "output_type": "stream",
     "text": [
      "New York City is a city in the continent of North America. Tokyo is a city in the continent of Asia. Beijing is a city in the continent of Asia. Rome is a city in the continent of Europe\n",
      "Ground truth:  Europe\n",
      "\n",
      "\n",
      "\n",
      "---------------------------------------------------\n",
      "Cape Town is a city in the continent of Africa. New Delhi is a city in the continent of Asia. Paris is a city in the continent of Europe. Bangkok is a city in the continent of\n"
     ]
    },
    {
     "data": {
      "application/vnd.jupyter.widget-view+json": {
       "model_id": "c837e229fbe44ad79978e3d4e154ce88",
       "version_major": 2,
       "version_minor": 0
      },
      "text/plain": [
       "  0%|          | 0/1 [00:00<?, ?it/s]"
      ]
     },
     "metadata": {},
     "output_type": "display_data"
    },
    {
     "name": "stdout",
     "output_type": "stream",
     "text": [
      "Cape Town is a city in the continent of Africa. New Delhi is a city in the continent of Asia. Paris is a city in the continent of Europe. Bangkok is a city in the continent of Asia\n",
      "Ground truth:  Asia\n",
      "\n",
      "\n",
      "\n",
      "---------------------------------------------------\n",
      "St. Petersburg is a city in the continent of Europe. Paris is a city in the continent of Europe. Los Angeles is a city in the continent of North America. Sydney is a city in the continent of\n"
     ]
    },
    {
     "data": {
      "application/vnd.jupyter.widget-view+json": {
       "model_id": "412c14098bec4e138ed99a8aa9fd9058",
       "version_major": 2,
       "version_minor": 0
      },
      "text/plain": [
       "  0%|          | 0/1 [00:00<?, ?it/s]"
      ]
     },
     "metadata": {},
     "output_type": "display_data"
    },
    {
     "name": "stdout",
     "output_type": "stream",
     "text": [
      "St. Petersburg is a city in the continent of Europe. Paris is a city in the continent of Europe. Los Angeles is a city in the continent of North America. Sydney is a city in the continent of Australia\n",
      "Ground truth:  Oceania\n",
      "\n",
      "\n",
      "\n",
      "---------------------------------------------------\n",
      "Kuala Lumpur is a city in the continent of Asia. Toronto is a city in the continent of North America. Rome is a city in the continent of Europe. Buenos Aires is a city in the continent of\n"
     ]
    },
    {
     "data": {
      "application/vnd.jupyter.widget-view+json": {
       "model_id": "4dd0ddbe02734be083314b212c03a9df",
       "version_major": 2,
       "version_minor": 0
      },
      "text/plain": [
       "  0%|          | 0/1 [00:00<?, ?it/s]"
      ]
     },
     "metadata": {},
     "output_type": "display_data"
    },
    {
     "name": "stdout",
     "output_type": "stream",
     "text": [
      "Kuala Lumpur is a city in the continent of Asia. Toronto is a city in the continent of North America. Rome is a city in the continent of Europe. Buenos Aires is a city in the continent of Latin\n",
      "Ground truth:  South America\n",
      "\n",
      "\n",
      "\n",
      "---------------------------------------------------\n",
      "St. Petersburg is a city in the continent of Europe. Buenos Aires is a city in the continent of South America. Rio de Janeiro is a city in the continent of South America. Rome is a city in the continent of\n"
     ]
    },
    {
     "data": {
      "application/vnd.jupyter.widget-view+json": {
       "model_id": "c52ebcc602464faeaec397c50c18518e",
       "version_major": 2,
       "version_minor": 0
      },
      "text/plain": [
       "  0%|          | 0/1 [00:00<?, ?it/s]"
      ]
     },
     "metadata": {},
     "output_type": "display_data"
    },
    {
     "name": "stdout",
     "output_type": "stream",
     "text": [
      "St. Petersburg is a city in the continent of Europe. Buenos Aires is a city in the continent of South America. Rio de Janeiro is a city in the continent of South America. Rome is a city in the continent of South\n",
      "Ground truth:  Europe\n",
      "\n",
      "\n",
      "\n",
      "---------------------------------------------------\n",
      "St. Petersburg is a city in the continent of Europe. Hong Kong is a city in the continent of Asia. Rio de Janeiro is a city in the continent of South America. Sydney is a city in the continent of\n"
     ]
    },
    {
     "data": {
      "application/vnd.jupyter.widget-view+json": {
       "model_id": "8ac4ffc2a558401e96f9e46c6a2bc594",
       "version_major": 2,
       "version_minor": 0
      },
      "text/plain": [
       "  0%|          | 0/1 [00:00<?, ?it/s]"
      ]
     },
     "metadata": {},
     "output_type": "display_data"
    },
    {
     "name": "stdout",
     "output_type": "stream",
     "text": [
      "St. Petersburg is a city in the continent of Europe. Hong Kong is a city in the continent of Asia. Rio de Janeiro is a city in the continent of South America. Sydney is a city in the continent of South\n",
      "Ground truth:  Oceania\n",
      "\n",
      "\n",
      "\n",
      "---------------------------------------------------\n",
      "Paris is a city in the continent of Europe. San Francisco is a city in the continent of North America. Kuala Lumpur is a city in the continent of Asia. Sydney is a city in the continent of\n"
     ]
    },
    {
     "data": {
      "application/vnd.jupyter.widget-view+json": {
       "model_id": "b71e93b495e44389b5bc61100c96ef06",
       "version_major": 2,
       "version_minor": 0
      },
      "text/plain": [
       "  0%|          | 0/1 [00:00<?, ?it/s]"
      ]
     },
     "metadata": {},
     "output_type": "display_data"
    },
    {
     "name": "stdout",
     "output_type": "stream",
     "text": [
      "Paris is a city in the continent of Europe. San Francisco is a city in the continent of North America. Kuala Lumpur is a city in the continent of Asia. Sydney is a city in the continent of South\n",
      "Ground truth:  Oceania\n",
      "\n",
      "\n",
      "\n",
      "---------------------------------------------------\n",
      "Sydney is a city in the continent of Oceania. Buenos Aires is a city in the continent of South America. Paris is a city in the continent of Europe. New York City is a city in the continent of\n"
     ]
    },
    {
     "data": {
      "application/vnd.jupyter.widget-view+json": {
       "model_id": "95d39402191f4fa3845502140a1a53fc",
       "version_major": 2,
       "version_minor": 0
      },
      "text/plain": [
       "  0%|          | 0/1 [00:00<?, ?it/s]"
      ]
     },
     "metadata": {},
     "output_type": "display_data"
    },
    {
     "name": "stdout",
     "output_type": "stream",
     "text": [
      "Sydney is a city in the continent of Oceania. Buenos Aires is a city in the continent of South America. Paris is a city in the continent of Europe. New York City is a city in the continent of Asia\n",
      "Ground truth:  North America\n",
      "\n",
      "\n",
      "\n",
      "---------------------------------------------------\n",
      "Toronto is a city in the continent of North America. Paris is a city in the continent of Europe. Cape Town is a city in the continent of Africa. St. Petersburg is a city in the continent of\n"
     ]
    },
    {
     "data": {
      "application/vnd.jupyter.widget-view+json": {
       "model_id": "7918fdad33f246bbb42561cabbac7f0d",
       "version_major": 2,
       "version_minor": 0
      },
      "text/plain": [
       "  0%|          | 0/1 [00:00<?, ?it/s]"
      ]
     },
     "metadata": {},
     "output_type": "display_data"
    },
    {
     "name": "stdout",
     "output_type": "stream",
     "text": [
      "Toronto is a city in the continent of North America. Paris is a city in the continent of Europe. Cape Town is a city in the continent of Africa. St. Petersburg is a city in the continent of Russia\n",
      "Ground truth:  Europe\n",
      "\n",
      "\n",
      "\n",
      "---------------------------------------------------\n",
      "Los Angeles is a city in the continent of North America. Rio de Janeiro is a city in the continent of South America. Beijing is a city in the continent of Asia. Sydney is a city in the continent of\n"
     ]
    },
    {
     "data": {
      "application/vnd.jupyter.widget-view+json": {
       "model_id": "d6074c70d41449bd989ae220b313e983",
       "version_major": 2,
       "version_minor": 0
      },
      "text/plain": [
       "  0%|          | 0/1 [00:00<?, ?it/s]"
      ]
     },
     "metadata": {},
     "output_type": "display_data"
    },
    {
     "name": "stdout",
     "output_type": "stream",
     "text": [
      "Los Angeles is a city in the continent of North America. Rio de Janeiro is a city in the continent of South America. Beijing is a city in the continent of Asia. Sydney is a city in the continent of Australia\n",
      "Ground truth:  Oceania\n",
      "\n",
      "\n",
      "\n",
      "---------------------------------------------------\n",
      "San Francisco is a city in the continent of North America. Paris is a city in the continent of Europe. Rome is a city in the continent of Europe. Cape Town is a city in the continent of\n"
     ]
    },
    {
     "data": {
      "application/vnd.jupyter.widget-view+json": {
       "model_id": "029b65cbd16a42b4971aad3abef4af33",
       "version_major": 2,
       "version_minor": 0
      },
      "text/plain": [
       "  0%|          | 0/1 [00:00<?, ?it/s]"
      ]
     },
     "metadata": {},
     "output_type": "display_data"
    },
    {
     "name": "stdout",
     "output_type": "stream",
     "text": [
      "San Francisco is a city in the continent of North America. Paris is a city in the continent of Europe. Rome is a city in the continent of Europe. Cape Town is a city in the continent of Africa\n",
      "Ground truth:  Africa\n",
      "\n",
      "\n",
      "\n",
      "---------------------------------------------------\n",
      "Bangkok is a city in the continent of Asia. Buenos Aires is a city in the continent of South America. Rome is a city in the continent of Europe. Tokyo is a city in the continent of\n"
     ]
    },
    {
     "data": {
      "application/vnd.jupyter.widget-view+json": {
       "model_id": "4aae2806e70745cb99494d7fe9ee1e4c",
       "version_major": 2,
       "version_minor": 0
      },
      "text/plain": [
       "  0%|          | 0/1 [00:00<?, ?it/s]"
      ]
     },
     "metadata": {},
     "output_type": "display_data"
    },
    {
     "name": "stdout",
     "output_type": "stream",
     "text": [
      "Bangkok is a city in the continent of Asia. Buenos Aires is a city in the continent of South America. Rome is a city in the continent of Europe. Tokyo is a city in the continent of Asia\n",
      "Ground truth:  Asia\n",
      "\n",
      "\n",
      "\n",
      "---------------------------------------------------\n",
      "New York City is a city in the continent of North America. New Delhi is a city in the continent of Asia. Cape Town is a city in the continent of Africa. Toronto is a city in the continent of\n"
     ]
    },
    {
     "data": {
      "application/vnd.jupyter.widget-view+json": {
       "model_id": "1f0f6b03b1b14acba94f154106a07965",
       "version_major": 2,
       "version_minor": 0
      },
      "text/plain": [
       "  0%|          | 0/1 [00:00<?, ?it/s]"
      ]
     },
     "metadata": {},
     "output_type": "display_data"
    },
    {
     "name": "stdout",
     "output_type": "stream",
     "text": [
      "New York City is a city in the continent of North America. New Delhi is a city in the continent of Asia. Cape Town is a city in the continent of Africa. Toronto is a city in the continent of Asia\n",
      "Ground truth:  North America\n",
      "\n",
      "\n",
      "\n",
      "---------------------------------------------------\n",
      "Buenos Aires is a city in the continent of South America. New York City is a city in the continent of North America. San Francisco is a city in the continent of North America. Cape Town is a city in the continent of\n"
     ]
    },
    {
     "data": {
      "application/vnd.jupyter.widget-view+json": {
       "model_id": "74bfd04f496e4cd5aee1412e84f22e67",
       "version_major": 2,
       "version_minor": 0
      },
      "text/plain": [
       "  0%|          | 0/1 [00:00<?, ?it/s]"
      ]
     },
     "metadata": {},
     "output_type": "display_data"
    },
    {
     "name": "stdout",
     "output_type": "stream",
     "text": [
      "Buenos Aires is a city in the continent of South America. New York City is a city in the continent of North America. San Francisco is a city in the continent of North America. Cape Town is a city in the continent of South\n",
      "Ground truth:  Africa\n",
      "\n",
      "\n",
      "\n",
      "---------------------------------------------------\n",
      "Cape Town is a city in the continent of Africa. Tokyo is a city in the continent of Asia. Beijing is a city in the continent of Asia. Paris is a city in the continent of\n"
     ]
    },
    {
     "data": {
      "application/vnd.jupyter.widget-view+json": {
       "model_id": "f14e9586ca29439985340fca42103d38",
       "version_major": 2,
       "version_minor": 0
      },
      "text/plain": [
       "  0%|          | 0/1 [00:00<?, ?it/s]"
      ]
     },
     "metadata": {},
     "output_type": "display_data"
    },
    {
     "name": "stdout",
     "output_type": "stream",
     "text": [
      "Cape Town is a city in the continent of Africa. Tokyo is a city in the continent of Asia. Beijing is a city in the continent of Asia. Paris is a city in the continent of Africa\n",
      "Ground truth:  Europe\n",
      "\n",
      "\n",
      "\n",
      "---------------------------------------------------\n",
      "Mexico City is a city in the continent of North America. Rome is a city in the continent of Europe. Rio de Janeiro is a city in the continent of South America. Los Angeles is a city in the continent of\n"
     ]
    },
    {
     "data": {
      "application/vnd.jupyter.widget-view+json": {
       "model_id": "afb809d0e3fb4f1a9e8d239b4e5809af",
       "version_major": 2,
       "version_minor": 0
      },
      "text/plain": [
       "  0%|          | 0/1 [00:00<?, ?it/s]"
      ]
     },
     "metadata": {},
     "output_type": "display_data"
    },
    {
     "name": "stdout",
     "output_type": "stream",
     "text": [
      "Mexico City is a city in the continent of North America. Rome is a city in the continent of Europe. Rio de Janeiro is a city in the continent of South America. Los Angeles is a city in the continent of Asia\n",
      "Ground truth:  North America\n",
      "\n",
      "\n",
      "\n",
      "---------------------------------------------------\n",
      "Hong Kong is a city in the continent of Asia. San Francisco is a city in the continent of North America. Kuala Lumpur is a city in the continent of Asia. Mexico City is a city in the continent of\n"
     ]
    },
    {
     "data": {
      "application/vnd.jupyter.widget-view+json": {
       "model_id": "af5c8b051f194e02bd0239176952e5cc",
       "version_major": 2,
       "version_minor": 0
      },
      "text/plain": [
       "  0%|          | 0/1 [00:00<?, ?it/s]"
      ]
     },
     "metadata": {},
     "output_type": "display_data"
    },
    {
     "name": "stdout",
     "output_type": "stream",
     "text": [
      "Hong Kong is a city in the continent of Asia. San Francisco is a city in the continent of North America. Kuala Lumpur is a city in the continent of Asia. Mexico City is a city in the continent of North\n",
      "Ground truth:  North America\n",
      "\n",
      "\n",
      "\n",
      "---------------------------------------------------\n",
      "Cape Town is a city in the continent of Africa. Rio de Janeiro is a city in the continent of South America. Sydney is a city in the continent of Oceania. New York City is a city in the continent of\n"
     ]
    },
    {
     "data": {
      "application/vnd.jupyter.widget-view+json": {
       "model_id": "f662063024124929b337a9ba2a9edf84",
       "version_major": 2,
       "version_minor": 0
      },
      "text/plain": [
       "  0%|          | 0/1 [00:00<?, ?it/s]"
      ]
     },
     "metadata": {},
     "output_type": "display_data"
    },
    {
     "name": "stdout",
     "output_type": "stream",
     "text": [
      "Cape Town is a city in the continent of Africa. Rio de Janeiro is a city in the continent of South America. Sydney is a city in the continent of Oceania. New York City is a city in the continent of Africa\n",
      "Ground truth:  North America\n",
      "\n",
      "\n",
      "\n",
      "---------------------------------------------------\n",
      "San Francisco is a city in the continent of North America. Beijing is a city in the continent of Asia. Tokyo is a city in the continent of Asia. Los Angeles is a city in the continent of\n"
     ]
    },
    {
     "data": {
      "application/vnd.jupyter.widget-view+json": {
       "model_id": "63e11bef6edf4cd896b48b5efd85e0b4",
       "version_major": 2,
       "version_minor": 0
      },
      "text/plain": [
       "  0%|          | 0/1 [00:00<?, ?it/s]"
      ]
     },
     "metadata": {},
     "output_type": "display_data"
    },
    {
     "name": "stdout",
     "output_type": "stream",
     "text": [
      "San Francisco is a city in the continent of North America. Beijing is a city in the continent of Asia. Tokyo is a city in the continent of Asia. Los Angeles is a city in the continent of Asia\n",
      "Ground truth:  North America\n",
      "\n",
      "\n",
      "\n",
      "---------------------------------------------------\n",
      "Cape Town is a city in the continent of Africa. Los Angeles is a city in the continent of North America. Rome is a city in the continent of Europe. New York City is a city in the continent of\n"
     ]
    },
    {
     "data": {
      "application/vnd.jupyter.widget-view+json": {
       "model_id": "0d5e47cdddbd48ed92be32a579041fe1",
       "version_major": 2,
       "version_minor": 0
      },
      "text/plain": [
       "  0%|          | 0/1 [00:00<?, ?it/s]"
      ]
     },
     "metadata": {},
     "output_type": "display_data"
    },
    {
     "name": "stdout",
     "output_type": "stream",
     "text": [
      "Cape Town is a city in the continent of Africa. Los Angeles is a city in the continent of North America. Rome is a city in the continent of Europe. New York City is a city in the continent of Asia\n",
      "Ground truth:  North America\n",
      "\n",
      "\n",
      "\n",
      "---------------------------------------------------\n",
      "Tokyo is a city in the continent of Asia. St. Petersburg is a city in the continent of Europe. Buenos Aires is a city in the continent of South America. Rome is a city in the continent of\n"
     ]
    },
    {
     "data": {
      "application/vnd.jupyter.widget-view+json": {
       "model_id": "0df7628ee2c1419abcaafa58b945a422",
       "version_major": 2,
       "version_minor": 0
      },
      "text/plain": [
       "  0%|          | 0/1 [00:00<?, ?it/s]"
      ]
     },
     "metadata": {},
     "output_type": "display_data"
    },
    {
     "name": "stdout",
     "output_type": "stream",
     "text": [
      "Tokyo is a city in the continent of Asia. St. Petersburg is a city in the continent of Europe. Buenos Aires is a city in the continent of South America. Rome is a city in the continent of Asia\n",
      "Ground truth:  Europe\n",
      "\n",
      "\n",
      "\n",
      "---------------------------------------------------\n",
      "St. Petersburg is a city in the continent of Europe. Bangkok is a city in the continent of Asia. Tokyo is a city in the continent of Asia. Paris is a city in the continent of\n"
     ]
    },
    {
     "data": {
      "application/vnd.jupyter.widget-view+json": {
       "model_id": "1b7c117cbf264531a830dfc22a83dbfa",
       "version_major": 2,
       "version_minor": 0
      },
      "text/plain": [
       "  0%|          | 0/1 [00:00<?, ?it/s]"
      ]
     },
     "metadata": {},
     "output_type": "display_data"
    },
    {
     "name": "stdout",
     "output_type": "stream",
     "text": [
      "St. Petersburg is a city in the continent of Europe. Bangkok is a city in the continent of Asia. Tokyo is a city in the continent of Asia. Paris is a city in the continent of Europe\n",
      "Ground truth:  Europe\n",
      "\n",
      "\n",
      "\n",
      "---------------------------------------------------\n",
      "Sydney is a city in the continent of Oceania. Mexico City is a city in the continent of North America. Tokyo is a city in the continent of Asia. St. Petersburg is a city in the continent of\n"
     ]
    },
    {
     "data": {
      "application/vnd.jupyter.widget-view+json": {
       "model_id": "f47f039b26424655aeea7cca493d67cf",
       "version_major": 2,
       "version_minor": 0
      },
      "text/plain": [
       "  0%|          | 0/1 [00:00<?, ?it/s]"
      ]
     },
     "metadata": {},
     "output_type": "display_data"
    },
    {
     "name": "stdout",
     "output_type": "stream",
     "text": [
      "Sydney is a city in the continent of Oceania. Mexico City is a city in the continent of North America. Tokyo is a city in the continent of Asia. St. Petersburg is a city in the continent of Russia\n",
      "Ground truth:  Europe\n",
      "\n",
      "\n",
      "\n",
      "---------------------------------------------------\n",
      "Rome is a city in the continent of Europe. Sydney is a city in the continent of Oceania. Mexico City is a city in the continent of North America. San Francisco is a city in the continent of\n"
     ]
    },
    {
     "data": {
      "application/vnd.jupyter.widget-view+json": {
       "model_id": "2761a68d6534462fb2f6899e920a2665",
       "version_major": 2,
       "version_minor": 0
      },
      "text/plain": [
       "  0%|          | 0/1 [00:00<?, ?it/s]"
      ]
     },
     "metadata": {},
     "output_type": "display_data"
    },
    {
     "name": "stdout",
     "output_type": "stream",
     "text": [
      "Rome is a city in the continent of Europe. Sydney is a city in the continent of Oceania. Mexico City is a city in the continent of North America. San Francisco is a city in the continent of Asia\n",
      "Ground truth:  North America\n",
      "\n",
      "\n",
      "\n",
      "---------------------------------------------------\n",
      "Mexico City is a city in the continent of North America. Rome is a city in the continent of Europe. Tokyo is a city in the continent of Asia. Buenos Aires is a city in the continent of\n"
     ]
    },
    {
     "data": {
      "application/vnd.jupyter.widget-view+json": {
       "model_id": "bad303c1f67447dabeb32d9d4ad05f01",
       "version_major": 2,
       "version_minor": 0
      },
      "text/plain": [
       "  0%|          | 0/1 [00:00<?, ?it/s]"
      ]
     },
     "metadata": {},
     "output_type": "display_data"
    },
    {
     "name": "stdout",
     "output_type": "stream",
     "text": [
      "Mexico City is a city in the continent of North America. Rome is a city in the continent of Europe. Tokyo is a city in the continent of Asia. Buenos Aires is a city in the continent of Latin\n",
      "Ground truth:  South America\n",
      "\n",
      "\n",
      "\n",
      "---------------------------------------------------\n",
      "Sydney is a city in the continent of Oceania. Cape Town is a city in the continent of Africa. Buenos Aires is a city in the continent of South America. New Delhi is a city in the continent of\n"
     ]
    },
    {
     "data": {
      "application/vnd.jupyter.widget-view+json": {
       "model_id": "e692c7976ffb480e956df486aea84f1b",
       "version_major": 2,
       "version_minor": 0
      },
      "text/plain": [
       "  0%|          | 0/1 [00:00<?, ?it/s]"
      ]
     },
     "metadata": {},
     "output_type": "display_data"
    },
    {
     "name": "stdout",
     "output_type": "stream",
     "text": [
      "Sydney is a city in the continent of Oceania. Cape Town is a city in the continent of Africa. Buenos Aires is a city in the continent of South America. New Delhi is a city in the continent of India\n",
      "Ground truth:  Asia\n",
      "\n",
      "\n",
      "\n",
      "---------------------------------------------------\n",
      "Toronto is a city in the continent of North America. St. Petersburg is a city in the continent of Europe. Buenos Aires is a city in the continent of South America. Beijing is a city in the continent of\n"
     ]
    },
    {
     "data": {
      "application/vnd.jupyter.widget-view+json": {
       "model_id": "c19e7d660eed48fe90575a7a183afa99",
       "version_major": 2,
       "version_minor": 0
      },
      "text/plain": [
       "  0%|          | 0/1 [00:00<?, ?it/s]"
      ]
     },
     "metadata": {},
     "output_type": "display_data"
    },
    {
     "name": "stdout",
     "output_type": "stream",
     "text": [
      "Toronto is a city in the continent of North America. St. Petersburg is a city in the continent of Europe. Buenos Aires is a city in the continent of South America. Beijing is a city in the continent of Asia\n",
      "Ground truth:  Asia\n",
      "\n",
      "\n",
      "\n",
      "---------------------------------------------------\n",
      "Hong Kong is a city in the continent of Asia. Buenos Aires is a city in the continent of South America. Sydney is a city in the continent of Oceania. New Delhi is a city in the continent of\n"
     ]
    },
    {
     "data": {
      "application/vnd.jupyter.widget-view+json": {
       "model_id": "a0f3030c56634f20b48dbf1ba4dbdf44",
       "version_major": 2,
       "version_minor": 0
      },
      "text/plain": [
       "  0%|          | 0/1 [00:00<?, ?it/s]"
      ]
     },
     "metadata": {},
     "output_type": "display_data"
    },
    {
     "name": "stdout",
     "output_type": "stream",
     "text": [
      "Hong Kong is a city in the continent of Asia. Buenos Aires is a city in the continent of South America. Sydney is a city in the continent of Oceania. New Delhi is a city in the continent of South\n",
      "Ground truth:  Asia\n",
      "\n",
      "\n",
      "\n",
      "---------------------------------------------------\n",
      "New Delhi is a city in the continent of Asia. Paris is a city in the continent of Europe. Beijing is a city in the continent of Asia. San Francisco is a city in the continent of\n"
     ]
    },
    {
     "data": {
      "application/vnd.jupyter.widget-view+json": {
       "model_id": "6957b4134a7a48b2a9d48c555cc91a19",
       "version_major": 2,
       "version_minor": 0
      },
      "text/plain": [
       "  0%|          | 0/1 [00:00<?, ?it/s]"
      ]
     },
     "metadata": {},
     "output_type": "display_data"
    },
    {
     "name": "stdout",
     "output_type": "stream",
     "text": [
      "New Delhi is a city in the continent of Asia. Paris is a city in the continent of Europe. Beijing is a city in the continent of Asia. San Francisco is a city in the continent of Asia\n",
      "Ground truth:  North America\n",
      "\n",
      "\n",
      "\n",
      "---------------------------------------------------\n",
      "Tokyo is a city in the continent of Asia. Sydney is a city in the continent of Oceania. New Delhi is a city in the continent of Asia. Los Angeles is a city in the continent of\n"
     ]
    },
    {
     "data": {
      "application/vnd.jupyter.widget-view+json": {
       "model_id": "8666f8b74dd44494babeeb71caca78a2",
       "version_major": 2,
       "version_minor": 0
      },
      "text/plain": [
       "  0%|          | 0/1 [00:00<?, ?it/s]"
      ]
     },
     "metadata": {},
     "output_type": "display_data"
    },
    {
     "name": "stdout",
     "output_type": "stream",
     "text": [
      "Tokyo is a city in the continent of Asia. Sydney is a city in the continent of Oceania. New Delhi is a city in the continent of Asia. Los Angeles is a city in the continent of Asia\n",
      "Ground truth:  North America\n",
      "\n",
      "\n",
      "\n",
      "---------------------------------------------------\n",
      "Toronto is a city in the continent of North America. Buenos Aires is a city in the continent of South America. Cape Town is a city in the continent of Africa. Bangkok is a city in the continent of\n"
     ]
    },
    {
     "data": {
      "application/vnd.jupyter.widget-view+json": {
       "model_id": "89c548aec018471999eec69c61463cd0",
       "version_major": 2,
       "version_minor": 0
      },
      "text/plain": [
       "  0%|          | 0/1 [00:00<?, ?it/s]"
      ]
     },
     "metadata": {},
     "output_type": "display_data"
    },
    {
     "name": "stdout",
     "output_type": "stream",
     "text": [
      "Toronto is a city in the continent of North America. Buenos Aires is a city in the continent of South America. Cape Town is a city in the continent of Africa. Bangkok is a city in the continent of Asia\n",
      "Ground truth:  Asia\n",
      "\n",
      "\n",
      "\n",
      "---------------------------------------------------\n",
      "Cape Town is a city in the continent of Africa. Mexico City is a city in the continent of North America. New Delhi is a city in the continent of Asia. St. Petersburg is a city in the continent of\n"
     ]
    },
    {
     "data": {
      "application/vnd.jupyter.widget-view+json": {
       "model_id": "6e9454fba6b34ca2839e86479191f1f2",
       "version_major": 2,
       "version_minor": 0
      },
      "text/plain": [
       "  0%|          | 0/1 [00:00<?, ?it/s]"
      ]
     },
     "metadata": {},
     "output_type": "display_data"
    },
    {
     "name": "stdout",
     "output_type": "stream",
     "text": [
      "Cape Town is a city in the continent of Africa. Mexico City is a city in the continent of North America. New Delhi is a city in the continent of Asia. St. Petersburg is a city in the continent of Russia\n",
      "Ground truth:  Europe\n",
      "\n",
      "\n",
      "\n",
      "---------------------------------------------------\n",
      "Paris is a city in the continent of Europe. Sydney is a city in the continent of Oceania. San Francisco is a city in the continent of North America. Beijing is a city in the continent of\n"
     ]
    },
    {
     "data": {
      "application/vnd.jupyter.widget-view+json": {
       "model_id": "c4b96a9948e34518a08a2581878cac64",
       "version_major": 2,
       "version_minor": 0
      },
      "text/plain": [
       "  0%|          | 0/1 [00:00<?, ?it/s]"
      ]
     },
     "metadata": {},
     "output_type": "display_data"
    },
    {
     "name": "stdout",
     "output_type": "stream",
     "text": [
      "Paris is a city in the continent of Europe. Sydney is a city in the continent of Oceania. San Francisco is a city in the continent of North America. Beijing is a city in the continent of China\n",
      "Ground truth:  Asia\n",
      "\n",
      "\n",
      "\n",
      "---------------------------------------------------\n",
      "New Delhi is a city in the continent of Asia. St. Petersburg is a city in the continent of Europe. Beijing is a city in the continent of Asia. Tokyo is a city in the continent of\n"
     ]
    },
    {
     "data": {
      "application/vnd.jupyter.widget-view+json": {
       "model_id": "77258ebc461e48429ca216c9cfd2a8b7",
       "version_major": 2,
       "version_minor": 0
      },
      "text/plain": [
       "  0%|          | 0/1 [00:00<?, ?it/s]"
      ]
     },
     "metadata": {},
     "output_type": "display_data"
    },
    {
     "name": "stdout",
     "output_type": "stream",
     "text": [
      "New Delhi is a city in the continent of Asia. St. Petersburg is a city in the continent of Europe. Beijing is a city in the continent of Asia. Tokyo is a city in the continent of Asia\n",
      "Ground truth:  Asia\n",
      "\n",
      "\n",
      "\n",
      "---------------------------------------------------\n",
      "Hong Kong is a city in the continent of Asia. Toronto is a city in the continent of North America. Rio de Janeiro is a city in the continent of South America. San Francisco is a city in the continent of\n"
     ]
    },
    {
     "data": {
      "application/vnd.jupyter.widget-view+json": {
       "model_id": "34fedf91aee54b788e3dc8b40d301a8c",
       "version_major": 2,
       "version_minor": 0
      },
      "text/plain": [
       "  0%|          | 0/1 [00:00<?, ?it/s]"
      ]
     },
     "metadata": {},
     "output_type": "display_data"
    },
    {
     "name": "stdout",
     "output_type": "stream",
     "text": [
      "Hong Kong is a city in the continent of Asia. Toronto is a city in the continent of North America. Rio de Janeiro is a city in the continent of South America. San Francisco is a city in the continent of South\n",
      "Ground truth:  North America\n",
      "\n",
      "\n",
      "\n",
      "---------------------------------------------------\n",
      "New York City is a city in the continent of North America. Rome is a city in the continent of Europe. San Francisco is a city in the continent of North America. Bangkok is a city in the continent of\n"
     ]
    },
    {
     "data": {
      "application/vnd.jupyter.widget-view+json": {
       "model_id": "532b97dd6e994b419c4e9e0a133ceb19",
       "version_major": 2,
       "version_minor": 0
      },
      "text/plain": [
       "  0%|          | 0/1 [00:00<?, ?it/s]"
      ]
     },
     "metadata": {},
     "output_type": "display_data"
    },
    {
     "name": "stdout",
     "output_type": "stream",
     "text": [
      "New York City is a city in the continent of North America. Rome is a city in the continent of Europe. San Francisco is a city in the continent of North America. Bangkok is a city in the continent of North\n",
      "Ground truth:  Asia\n",
      "\n",
      "\n",
      "\n",
      "---------------------------------------------------\n",
      "Kuala Lumpur is a city in the continent of Asia. Mexico City is a city in the continent of North America. Sydney is a city in the continent of Oceania. Bangkok is a city in the continent of\n"
     ]
    },
    {
     "data": {
      "application/vnd.jupyter.widget-view+json": {
       "model_id": "c6c3bbb3c9634b78b19219a061b29caf",
       "version_major": 2,
       "version_minor": 0
      },
      "text/plain": [
       "  0%|          | 0/1 [00:00<?, ?it/s]"
      ]
     },
     "metadata": {},
     "output_type": "display_data"
    },
    {
     "name": "stdout",
     "output_type": "stream",
     "text": [
      "Kuala Lumpur is a city in the continent of Asia. Mexico City is a city in the continent of North America. Sydney is a city in the continent of Oceania. Bangkok is a city in the continent of Asia\n",
      "Ground truth:  Asia\n",
      "\n",
      "\n",
      "\n",
      "---------------------------------------------------\n",
      "San Francisco is a city in the continent of North America. Hong Kong is a city in the continent of Asia. Paris is a city in the continent of Europe. Tokyo is a city in the continent of\n"
     ]
    },
    {
     "data": {
      "application/vnd.jupyter.widget-view+json": {
       "model_id": "b62af0a1321e48ac824410b4f738fd28",
       "version_major": 2,
       "version_minor": 0
      },
      "text/plain": [
       "  0%|          | 0/1 [00:00<?, ?it/s]"
      ]
     },
     "metadata": {},
     "output_type": "display_data"
    },
    {
     "name": "stdout",
     "output_type": "stream",
     "text": [
      "San Francisco is a city in the continent of North America. Hong Kong is a city in the continent of Asia. Paris is a city in the continent of Europe. Tokyo is a city in the continent of Japan\n",
      "Ground truth:  Asia\n",
      "\n",
      "\n",
      "\n",
      "---------------------------------------------------\n",
      "St. Petersburg is a city in the continent of Europe. Rio de Janeiro is a city in the continent of South America. San Francisco is a city in the continent of North America. Tokyo is a city in the continent of\n"
     ]
    },
    {
     "data": {
      "application/vnd.jupyter.widget-view+json": {
       "model_id": "82607c9c77ed4188a09610a936ff3231",
       "version_major": 2,
       "version_minor": 0
      },
      "text/plain": [
       "  0%|          | 0/1 [00:00<?, ?it/s]"
      ]
     },
     "metadata": {},
     "output_type": "display_data"
    },
    {
     "name": "stdout",
     "output_type": "stream",
     "text": [
      "St. Petersburg is a city in the continent of Europe. Rio de Janeiro is a city in the continent of South America. San Francisco is a city in the continent of North America. Tokyo is a city in the continent of Asia\n",
      "Ground truth:  Asia\n",
      "\n",
      "\n",
      "\n",
      "---------------------------------------------------\n",
      "Mexico City is a city in the continent of North America. New York City is a city in the continent of North America. Sydney is a city in the continent of Oceania. Tokyo is a city in the continent of\n"
     ]
    },
    {
     "data": {
      "application/vnd.jupyter.widget-view+json": {
       "model_id": "2b4e768f701e4b3da8f2cb4397d1c3b2",
       "version_major": 2,
       "version_minor": 0
      },
      "text/plain": [
       "  0%|          | 0/1 [00:00<?, ?it/s]"
      ]
     },
     "metadata": {},
     "output_type": "display_data"
    },
    {
     "name": "stdout",
     "output_type": "stream",
     "text": [
      "Mexico City is a city in the continent of North America. New York City is a city in the continent of North America. Sydney is a city in the continent of Oceania. Tokyo is a city in the continent of Japan\n",
      "Ground truth:  Asia\n",
      "\n",
      "\n",
      "\n",
      "---------------------------------------------------\n",
      "Rome is a city in the continent of Europe. Cape Town is a city in the continent of Africa. Tokyo is a city in the continent of Asia. Toronto is a city in the continent of\n"
     ]
    },
    {
     "data": {
      "application/vnd.jupyter.widget-view+json": {
       "model_id": "0abc65cdacd947cfb5674c7d9ed28478",
       "version_major": 2,
       "version_minor": 0
      },
      "text/plain": [
       "  0%|          | 0/1 [00:00<?, ?it/s]"
      ]
     },
     "metadata": {},
     "output_type": "display_data"
    },
    {
     "name": "stdout",
     "output_type": "stream",
     "text": [
      "Rome is a city in the continent of Europe. Cape Town is a city in the continent of Africa. Tokyo is a city in the continent of Asia. Toronto is a city in the continent of Europe\n",
      "Ground truth:  North America\n",
      "\n",
      "\n",
      "\n",
      "---------------------------------------------------\n",
      "Tokyo is a city in the continent of Asia. Mexico City is a city in the continent of North America. Cape Town is a city in the continent of Africa. Rio de Janeiro is a city in the continent of\n"
     ]
    },
    {
     "data": {
      "application/vnd.jupyter.widget-view+json": {
       "model_id": "1d413d577c5b419ea89e93b53db92bc2",
       "version_major": 2,
       "version_minor": 0
      },
      "text/plain": [
       "  0%|          | 0/1 [00:00<?, ?it/s]"
      ]
     },
     "metadata": {},
     "output_type": "display_data"
    },
    {
     "name": "stdout",
     "output_type": "stream",
     "text": [
      "Tokyo is a city in the continent of Asia. Mexico City is a city in the continent of North America. Cape Town is a city in the continent of Africa. Rio de Janeiro is a city in the continent of Asia\n",
      "Ground truth:  South America\n",
      "\n",
      "\n",
      "\n",
      "---------------------------------------------------\n",
      "Los Angeles is a city in the continent of North America. Tokyo is a city in the continent of Asia. Buenos Aires is a city in the continent of South America. Paris is a city in the continent of\n"
     ]
    },
    {
     "data": {
      "application/vnd.jupyter.widget-view+json": {
       "model_id": "868eba24a67e4a6493d1c0d10a56e451",
       "version_major": 2,
       "version_minor": 0
      },
      "text/plain": [
       "  0%|          | 0/1 [00:00<?, ?it/s]"
      ]
     },
     "metadata": {},
     "output_type": "display_data"
    },
    {
     "name": "stdout",
     "output_type": "stream",
     "text": [
      "Los Angeles is a city in the continent of North America. Tokyo is a city in the continent of Asia. Buenos Aires is a city in the continent of South America. Paris is a city in the continent of Europe\n",
      "Ground truth:  Europe\n",
      "\n",
      "\n",
      "\n",
      "---------------------------------------------------\n",
      "New York City is a city in the continent of North America. Beijing is a city in the continent of Asia. Paris is a city in the continent of Europe. Hong Kong is a city in the continent of\n"
     ]
    },
    {
     "data": {
      "application/vnd.jupyter.widget-view+json": {
       "model_id": "dadc1d838a37429abbe1bd4eb2bd02ff",
       "version_major": 2,
       "version_minor": 0
      },
      "text/plain": [
       "  0%|          | 0/1 [00:00<?, ?it/s]"
      ]
     },
     "metadata": {},
     "output_type": "display_data"
    },
    {
     "name": "stdout",
     "output_type": "stream",
     "text": [
      "New York City is a city in the continent of North America. Beijing is a city in the continent of Asia. Paris is a city in the continent of Europe. Hong Kong is a city in the continent of Asia\n",
      "Ground truth:  Asia\n",
      "\n",
      "\n",
      "\n",
      "---------------------------------------------------\n",
      "New York City is a city in the continent of North America. Rio de Janeiro is a city in the continent of South America. Cape Town is a city in the continent of Africa. St. Petersburg is a city in the continent of\n"
     ]
    },
    {
     "data": {
      "application/vnd.jupyter.widget-view+json": {
       "model_id": "d84d8f3bd2cf4e3cb3762d95d2094db3",
       "version_major": 2,
       "version_minor": 0
      },
      "text/plain": [
       "  0%|          | 0/1 [00:00<?, ?it/s]"
      ]
     },
     "metadata": {},
     "output_type": "display_data"
    },
    {
     "name": "stdout",
     "output_type": "stream",
     "text": [
      "New York City is a city in the continent of North America. Rio de Janeiro is a city in the continent of South America. Cape Town is a city in the continent of Africa. St. Petersburg is a city in the continent of Russia\n",
      "Ground truth:  Europe\n",
      "\n",
      "\n",
      "\n",
      "---------------------------------------------------\n",
      "Toronto is a city in the continent of North America. Bangkok is a city in the continent of Asia. Cape Town is a city in the continent of Africa. Buenos Aires is a city in the continent of\n"
     ]
    },
    {
     "data": {
      "application/vnd.jupyter.widget-view+json": {
       "model_id": "bc66bed197e64b1887c2b7ca535fffe2",
       "version_major": 2,
       "version_minor": 0
      },
      "text/plain": [
       "  0%|          | 0/1 [00:00<?, ?it/s]"
      ]
     },
     "metadata": {},
     "output_type": "display_data"
    },
    {
     "name": "stdout",
     "output_type": "stream",
     "text": [
      "Toronto is a city in the continent of North America. Bangkok is a city in the continent of Asia. Cape Town is a city in the continent of Africa. Buenos Aires is a city in the continent of Latin\n",
      "Ground truth:  South America\n",
      "\n",
      "\n",
      "\n",
      "---------------------------------------------------\n",
      "Bangkok is a city in the continent of Asia. Kuala Lumpur is a city in the continent of Asia. Rome is a city in the continent of Europe. Los Angeles is a city in the continent of\n"
     ]
    },
    {
     "data": {
      "application/vnd.jupyter.widget-view+json": {
       "model_id": "3bc57bf6126c4ea483f0eae2825526b6",
       "version_major": 2,
       "version_minor": 0
      },
      "text/plain": [
       "  0%|          | 0/1 [00:00<?, ?it/s]"
      ]
     },
     "metadata": {},
     "output_type": "display_data"
    },
    {
     "name": "stdout",
     "output_type": "stream",
     "text": [
      "Bangkok is a city in the continent of Asia. Kuala Lumpur is a city in the continent of Asia. Rome is a city in the continent of Europe. Los Angeles is a city in the continent of Asia\n",
      "Ground truth:  North America\n",
      "\n",
      "\n",
      "\n",
      "---------------------------------------------------\n",
      "New York City is a city in the continent of North America. San Francisco is a city in the continent of North America. Beijing is a city in the continent of Asia. Sydney is a city in the continent of\n"
     ]
    },
    {
     "data": {
      "application/vnd.jupyter.widget-view+json": {
       "model_id": "9f17126c490346f38326244453462ec8",
       "version_major": 2,
       "version_minor": 0
      },
      "text/plain": [
       "  0%|          | 0/1 [00:00<?, ?it/s]"
      ]
     },
     "metadata": {},
     "output_type": "display_data"
    },
    {
     "name": "stdout",
     "output_type": "stream",
     "text": [
      "New York City is a city in the continent of North America. San Francisco is a city in the continent of North America. Beijing is a city in the continent of Asia. Sydney is a city in the continent of North\n",
      "Ground truth:  Oceania\n",
      "\n",
      "\n",
      "\n",
      "---------------------------------------------------\n",
      "Paris is a city in the continent of Europe. New York City is a city in the continent of North America. Rome is a city in the continent of Europe. Bangkok is a city in the continent of\n"
     ]
    },
    {
     "data": {
      "application/vnd.jupyter.widget-view+json": {
       "model_id": "497faf5a0f1f422d98ba0636c9bcb9c7",
       "version_major": 2,
       "version_minor": 0
      },
      "text/plain": [
       "  0%|          | 0/1 [00:00<?, ?it/s]"
      ]
     },
     "metadata": {},
     "output_type": "display_data"
    },
    {
     "name": "stdout",
     "output_type": "stream",
     "text": [
      "Paris is a city in the continent of Europe. New York City is a city in the continent of North America. Rome is a city in the continent of Europe. Bangkok is a city in the continent of Asia\n",
      "Ground truth:  Asia\n",
      "\n",
      "\n",
      "\n",
      "---------------------------------------------------\n",
      "St. Petersburg is a city in the continent of Europe. Buenos Aires is a city in the continent of South America. Rome is a city in the continent of Europe. Sydney is a city in the continent of\n"
     ]
    },
    {
     "data": {
      "application/vnd.jupyter.widget-view+json": {
       "model_id": "4defbb1f5dd34080bad88ec064519c23",
       "version_major": 2,
       "version_minor": 0
      },
      "text/plain": [
       "  0%|          | 0/1 [00:00<?, ?it/s]"
      ]
     },
     "metadata": {},
     "output_type": "display_data"
    },
    {
     "name": "stdout",
     "output_type": "stream",
     "text": [
      "St. Petersburg is a city in the continent of Europe. Buenos Aires is a city in the continent of South America. Rome is a city in the continent of Europe. Sydney is a city in the continent of Asia\n",
      "Ground truth:  Oceania\n",
      "\n",
      "\n",
      "\n",
      "---------------------------------------------------\n",
      "New Delhi is a city in the continent of Asia. Paris is a city in the continent of Europe. St. Petersburg is a city in the continent of Europe. San Francisco is a city in the continent of\n"
     ]
    },
    {
     "data": {
      "application/vnd.jupyter.widget-view+json": {
       "model_id": "b8d906da469d4be9a609973c8bb78544",
       "version_major": 2,
       "version_minor": 0
      },
      "text/plain": [
       "  0%|          | 0/1 [00:00<?, ?it/s]"
      ]
     },
     "metadata": {},
     "output_type": "display_data"
    },
    {
     "name": "stdout",
     "output_type": "stream",
     "text": [
      "New Delhi is a city in the continent of Asia. Paris is a city in the continent of Europe. St. Petersburg is a city in the continent of Europe. San Francisco is a city in the continent of Asia\n",
      "Ground truth:  North America\n",
      "\n",
      "\n",
      "\n",
      "---------------------------------------------------\n",
      "Mexico City is a city in the continent of North America. New York City is a city in the continent of North America. Sydney is a city in the continent of Oceania. Kuala Lumpur is a city in the continent of\n"
     ]
    },
    {
     "data": {
      "application/vnd.jupyter.widget-view+json": {
       "model_id": "ec11c3799e134e7d84c0dadb5d2c7e0f",
       "version_major": 2,
       "version_minor": 0
      },
      "text/plain": [
       "  0%|          | 0/1 [00:00<?, ?it/s]"
      ]
     },
     "metadata": {},
     "output_type": "display_data"
    },
    {
     "name": "stdout",
     "output_type": "stream",
     "text": [
      "Mexico City is a city in the continent of North America. New York City is a city in the continent of North America. Sydney is a city in the continent of Oceania. Kuala Lumpur is a city in the continent of South\n",
      "Ground truth:  Asia\n",
      "\n",
      "\n",
      "\n",
      "---------------------------------------------------\n",
      "Buenos Aires is a city in the continent of South America. New Delhi is a city in the continent of Asia. Toronto is a city in the continent of North America. Los Angeles is a city in the continent of\n"
     ]
    },
    {
     "data": {
      "application/vnd.jupyter.widget-view+json": {
       "model_id": "6e3c7336165d44a8b880b33d64a48f62",
       "version_major": 2,
       "version_minor": 0
      },
      "text/plain": [
       "  0%|          | 0/1 [00:00<?, ?it/s]"
      ]
     },
     "metadata": {},
     "output_type": "display_data"
    },
    {
     "name": "stdout",
     "output_type": "stream",
     "text": [
      "Buenos Aires is a city in the continent of South America. New Delhi is a city in the continent of Asia. Toronto is a city in the continent of North America. Los Angeles is a city in the continent of South\n",
      "Ground truth:  North America\n",
      "\n",
      "\n",
      "\n",
      "---------------------------------------------------\n",
      "Tokyo is a city in the continent of Asia. Hong Kong is a city in the continent of Asia. New Delhi is a city in the continent of Asia. Kuala Lumpur is a city in the continent of\n"
     ]
    },
    {
     "data": {
      "application/vnd.jupyter.widget-view+json": {
       "model_id": "d9eb3b72a4234b76be55fa4a387d1386",
       "version_major": 2,
       "version_minor": 0
      },
      "text/plain": [
       "  0%|          | 0/1 [00:00<?, ?it/s]"
      ]
     },
     "metadata": {},
     "output_type": "display_data"
    },
    {
     "name": "stdout",
     "output_type": "stream",
     "text": [
      "Tokyo is a city in the continent of Asia. Hong Kong is a city in the continent of Asia. New Delhi is a city in the continent of Asia. Kuala Lumpur is a city in the continent of Asia\n",
      "Ground truth:  Asia\n",
      "\n",
      "\n",
      "\n",
      "---------------------------------------------------\n",
      "Hong Kong is a city in the continent of Asia. Bangkok is a city in the continent of Asia. Beijing is a city in the continent of Asia. Paris is a city in the continent of\n"
     ]
    },
    {
     "data": {
      "application/vnd.jupyter.widget-view+json": {
       "model_id": "8bc7bfabca674bb9a799173fc6539b22",
       "version_major": 2,
       "version_minor": 0
      },
      "text/plain": [
       "  0%|          | 0/1 [00:00<?, ?it/s]"
      ]
     },
     "metadata": {},
     "output_type": "display_data"
    },
    {
     "name": "stdout",
     "output_type": "stream",
     "text": [
      "Hong Kong is a city in the continent of Asia. Bangkok is a city in the continent of Asia. Beijing is a city in the continent of Asia. Paris is a city in the continent of Asia\n",
      "Ground truth:  Europe\n",
      "\n",
      "\n",
      "\n",
      "---------------------------------------------------\n",
      "Beijing is a city in the continent of Asia. Toronto is a city in the continent of North America. Kuala Lumpur is a city in the continent of Asia. Paris is a city in the continent of\n"
     ]
    },
    {
     "data": {
      "application/vnd.jupyter.widget-view+json": {
       "model_id": "f105e8ddabe440b4adf1d6c4a1518d6f",
       "version_major": 2,
       "version_minor": 0
      },
      "text/plain": [
       "  0%|          | 0/1 [00:00<?, ?it/s]"
      ]
     },
     "metadata": {},
     "output_type": "display_data"
    },
    {
     "name": "stdout",
     "output_type": "stream",
     "text": [
      "Beijing is a city in the continent of Asia. Toronto is a city in the continent of North America. Kuala Lumpur is a city in the continent of Asia. Paris is a city in the continent of Europe\n",
      "Ground truth:  Europe\n",
      "\n",
      "\n",
      "\n",
      "---------------------------------------------------\n",
      "Buenos Aires is a city in the continent of South America. Mexico City is a city in the continent of North America. Tokyo is a city in the continent of Asia. Paris is a city in the continent of\n"
     ]
    },
    {
     "data": {
      "application/vnd.jupyter.widget-view+json": {
       "model_id": "9a0c09b933314c29a399e51b91ef9a7e",
       "version_major": 2,
       "version_minor": 0
      },
      "text/plain": [
       "  0%|          | 0/1 [00:00<?, ?it/s]"
      ]
     },
     "metadata": {},
     "output_type": "display_data"
    },
    {
     "name": "stdout",
     "output_type": "stream",
     "text": [
      "Buenos Aires is a city in the continent of South America. Mexico City is a city in the continent of North America. Tokyo is a city in the continent of Asia. Paris is a city in the continent of Europe\n",
      "Ground truth:  Europe\n",
      "\n",
      "\n",
      "\n",
      "---------------------------------------------------\n",
      "Hong Kong is a city in the continent of Asia. Tokyo is a city in the continent of Asia. New York City is a city in the continent of North America. Sydney is a city in the continent of\n"
     ]
    },
    {
     "data": {
      "application/vnd.jupyter.widget-view+json": {
       "model_id": "bbf3aa56a3d245dba927269a0f751699",
       "version_major": 2,
       "version_minor": 0
      },
      "text/plain": [
       "  0%|          | 0/1 [00:00<?, ?it/s]"
      ]
     },
     "metadata": {},
     "output_type": "display_data"
    },
    {
     "name": "stdout",
     "output_type": "stream",
     "text": [
      "Hong Kong is a city in the continent of Asia. Tokyo is a city in the continent of Asia. New York City is a city in the continent of North America. Sydney is a city in the continent of South\n",
      "Ground truth:  Oceania\n",
      "\n",
      "\n",
      "\n",
      "---------------------------------------------------\n",
      "Los Angeles is a city in the continent of North America. Rome is a city in the continent of Europe. New York City is a city in the continent of North America. Beijing is a city in the continent of\n"
     ]
    },
    {
     "data": {
      "application/vnd.jupyter.widget-view+json": {
       "model_id": "779ed07971d94ca9b70812e1dca9101b",
       "version_major": 2,
       "version_minor": 0
      },
      "text/plain": [
       "  0%|          | 0/1 [00:00<?, ?it/s]"
      ]
     },
     "metadata": {},
     "output_type": "display_data"
    },
    {
     "name": "stdout",
     "output_type": "stream",
     "text": [
      "Los Angeles is a city in the continent of North America. Rome is a city in the continent of Europe. New York City is a city in the continent of North America. Beijing is a city in the continent of North\n",
      "Ground truth:  Asia\n",
      "\n",
      "\n",
      "\n",
      "---------------------------------------------------\n",
      "New Delhi is a city in the continent of Asia. New York City is a city in the continent of North America. San Francisco is a city in the continent of North America. Sydney is a city in the continent of\n"
     ]
    },
    {
     "data": {
      "application/vnd.jupyter.widget-view+json": {
       "model_id": "512e24e8c17b4fc990ee76456a6bd1fa",
       "version_major": 2,
       "version_minor": 0
      },
      "text/plain": [
       "  0%|          | 0/1 [00:00<?, ?it/s]"
      ]
     },
     "metadata": {},
     "output_type": "display_data"
    },
    {
     "name": "stdout",
     "output_type": "stream",
     "text": [
      "New Delhi is a city in the continent of Asia. New York City is a city in the continent of North America. San Francisco is a city in the continent of North America. Sydney is a city in the continent of North\n",
      "Ground truth:  Oceania\n",
      "\n",
      "\n",
      "\n",
      "---------------------------------------------------\n",
      "Rio de Janeiro is a city in the continent of South America. Mexico City is a city in the continent of North America. Buenos Aires is a city in the continent of South America. Los Angeles is a city in the continent of\n"
     ]
    },
    {
     "data": {
      "application/vnd.jupyter.widget-view+json": {
       "model_id": "972371191c12449cac8fc3ad8126c04a",
       "version_major": 2,
       "version_minor": 0
      },
      "text/plain": [
       "  0%|          | 0/1 [00:00<?, ?it/s]"
      ]
     },
     "metadata": {},
     "output_type": "display_data"
    },
    {
     "name": "stdout",
     "output_type": "stream",
     "text": [
      "Rio de Janeiro is a city in the continent of South America. Mexico City is a city in the continent of North America. Buenos Aires is a city in the continent of South America. Los Angeles is a city in the continent of South\n",
      "Ground truth:  North America\n",
      "\n",
      "\n",
      "\n",
      "---------------------------------------------------\n",
      "Mexico City is a city in the continent of North America. New Delhi is a city in the continent of Asia. St. Petersburg is a city in the continent of Europe. Rome is a city in the continent of\n"
     ]
    },
    {
     "data": {
      "application/vnd.jupyter.widget-view+json": {
       "model_id": "901acb41f0da49cd8d496a5934efe0f6",
       "version_major": 2,
       "version_minor": 0
      },
      "text/plain": [
       "  0%|          | 0/1 [00:00<?, ?it/s]"
      ]
     },
     "metadata": {},
     "output_type": "display_data"
    },
    {
     "name": "stdout",
     "output_type": "stream",
     "text": [
      "Mexico City is a city in the continent of North America. New Delhi is a city in the continent of Asia. St. Petersburg is a city in the continent of Europe. Rome is a city in the continent of Asia\n",
      "Ground truth:  Europe\n",
      "\n",
      "\n",
      "\n",
      "---------------------------------------------------\n",
      "St. Petersburg is a city in the continent of Europe. Tokyo is a city in the continent of Asia. Rome is a city in the continent of Europe. New Delhi is a city in the continent of\n"
     ]
    },
    {
     "data": {
      "application/vnd.jupyter.widget-view+json": {
       "model_id": "20d67f38fbb44f3bb69e373d4527a668",
       "version_major": 2,
       "version_minor": 0
      },
      "text/plain": [
       "  0%|          | 0/1 [00:00<?, ?it/s]"
      ]
     },
     "metadata": {},
     "output_type": "display_data"
    },
    {
     "name": "stdout",
     "output_type": "stream",
     "text": [
      "St. Petersburg is a city in the continent of Europe. Tokyo is a city in the continent of Asia. Rome is a city in the continent of Europe. New Delhi is a city in the continent of Asia\n",
      "Ground truth:  Asia\n",
      "\n",
      "\n",
      "\n",
      "---------------------------------------------------\n",
      "San Francisco is a city in the continent of North America. Bangkok is a city in the continent of Asia. Buenos Aires is a city in the continent of South America. St. Petersburg is a city in the continent of\n"
     ]
    },
    {
     "data": {
      "application/vnd.jupyter.widget-view+json": {
       "model_id": "afd8caf78206405b8139a17a0e422d0f",
       "version_major": 2,
       "version_minor": 0
      },
      "text/plain": [
       "  0%|          | 0/1 [00:00<?, ?it/s]"
      ]
     },
     "metadata": {},
     "output_type": "display_data"
    },
    {
     "name": "stdout",
     "output_type": "stream",
     "text": [
      "San Francisco is a city in the continent of North America. Bangkok is a city in the continent of Asia. Buenos Aires is a city in the continent of South America. St. Petersburg is a city in the continent of Russia\n",
      "Ground truth:  Europe\n",
      "\n",
      "\n",
      "\n",
      "---------------------------------------------------\n",
      "San Francisco is a city in the continent of North America. Cape Town is a city in the continent of Africa. Bangkok is a city in the continent of Asia. Mexico City is a city in the continent of\n"
     ]
    },
    {
     "data": {
      "application/vnd.jupyter.widget-view+json": {
       "model_id": "55d8250c37cd44a48f0ab8e3425d4c72",
       "version_major": 2,
       "version_minor": 0
      },
      "text/plain": [
       "  0%|          | 0/1 [00:00<?, ?it/s]"
      ]
     },
     "metadata": {},
     "output_type": "display_data"
    },
    {
     "name": "stdout",
     "output_type": "stream",
     "text": [
      "San Francisco is a city in the continent of North America. Cape Town is a city in the continent of Africa. Bangkok is a city in the continent of Asia. Mexico City is a city in the continent of Central\n",
      "Ground truth:  North America\n",
      "\n",
      "\n",
      "\n",
      "---------------------------------------------------\n",
      "Beijing is a city in the continent of Asia. Paris is a city in the continent of Europe. New Delhi is a city in the continent of Asia. Hong Kong is a city in the continent of\n"
     ]
    },
    {
     "data": {
      "application/vnd.jupyter.widget-view+json": {
       "model_id": "2b9cc2ed4a874ea9b00a4ffc8e1b1716",
       "version_major": 2,
       "version_minor": 0
      },
      "text/plain": [
       "  0%|          | 0/1 [00:00<?, ?it/s]"
      ]
     },
     "metadata": {},
     "output_type": "display_data"
    },
    {
     "name": "stdout",
     "output_type": "stream",
     "text": [
      "Beijing is a city in the continent of Asia. Paris is a city in the continent of Europe. New Delhi is a city in the continent of Asia. Hong Kong is a city in the continent of Asia\n",
      "Ground truth:  Asia\n",
      "\n",
      "\n",
      "\n",
      "---------------------------------------------------\n",
      "New Delhi is a city in the continent of Asia. Buenos Aires is a city in the continent of South America. St. Petersburg is a city in the continent of Europe. New York City is a city in the continent of\n"
     ]
    },
    {
     "data": {
      "application/vnd.jupyter.widget-view+json": {
       "model_id": "87f6b4e063b247868714ce6dbeb7cae9",
       "version_major": 2,
       "version_minor": 0
      },
      "text/plain": [
       "  0%|          | 0/1 [00:00<?, ?it/s]"
      ]
     },
     "metadata": {},
     "output_type": "display_data"
    },
    {
     "name": "stdout",
     "output_type": "stream",
     "text": [
      "New Delhi is a city in the continent of Asia. Buenos Aires is a city in the continent of South America. St. Petersburg is a city in the continent of Europe. New York City is a city in the continent of Asia\n",
      "Ground truth:  North America\n",
      "\n",
      "\n",
      "\n",
      "---------------------------------------------------\n",
      "Cape Town is a city in the continent of Africa. Kuala Lumpur is a city in the continent of Asia. Beijing is a city in the continent of Asia. St. Petersburg is a city in the continent of\n"
     ]
    },
    {
     "data": {
      "application/vnd.jupyter.widget-view+json": {
       "model_id": "0745916eaf4e439d9aaccd80cdd3e04e",
       "version_major": 2,
       "version_minor": 0
      },
      "text/plain": [
       "  0%|          | 0/1 [00:00<?, ?it/s]"
      ]
     },
     "metadata": {},
     "output_type": "display_data"
    },
    {
     "name": "stdout",
     "output_type": "stream",
     "text": [
      "Cape Town is a city in the continent of Africa. Kuala Lumpur is a city in the continent of Asia. Beijing is a city in the continent of Asia. St. Petersburg is a city in the continent of Asia\n",
      "Ground truth:  Europe\n",
      "\n",
      "\n",
      "\n",
      "---------------------------------------------------\n",
      "Paris is a city in the continent of Europe. Bangkok is a city in the continent of Asia. Sydney is a city in the continent of Oceania. Beijing is a city in the continent of\n"
     ]
    },
    {
     "data": {
      "application/vnd.jupyter.widget-view+json": {
       "model_id": "5a105d4e31a44df3a72eabbf9d20fef9",
       "version_major": 2,
       "version_minor": 0
      },
      "text/plain": [
       "  0%|          | 0/1 [00:00<?, ?it/s]"
      ]
     },
     "metadata": {},
     "output_type": "display_data"
    },
    {
     "name": "stdout",
     "output_type": "stream",
     "text": [
      "Paris is a city in the continent of Europe. Bangkok is a city in the continent of Asia. Sydney is a city in the continent of Oceania. Beijing is a city in the continent of China\n",
      "Ground truth:  Asia\n",
      "\n",
      "\n",
      "\n",
      "---------------------------------------------------\n",
      "Beijing is a city in the continent of Asia. St. Petersburg is a city in the continent of Europe. Sydney is a city in the continent of Oceania. Rio de Janeiro is a city in the continent of\n"
     ]
    },
    {
     "data": {
      "application/vnd.jupyter.widget-view+json": {
       "model_id": "d82fa5b3e14a46a8ad51de0250081841",
       "version_major": 2,
       "version_minor": 0
      },
      "text/plain": [
       "  0%|          | 0/1 [00:00<?, ?it/s]"
      ]
     },
     "metadata": {},
     "output_type": "display_data"
    },
    {
     "name": "stdout",
     "output_type": "stream",
     "text": [
      "Beijing is a city in the continent of Asia. St. Petersburg is a city in the continent of Europe. Sydney is a city in the continent of Oceania. Rio de Janeiro is a city in the continent of South\n",
      "Ground truth:  South America\n",
      "\n",
      "\n",
      "\n",
      "---------------------------------------------------\n",
      "Hong Kong is a city in the continent of Asia. Rio de Janeiro is a city in the continent of South America. Sydney is a city in the continent of Oceania. Beijing is a city in the continent of\n"
     ]
    },
    {
     "data": {
      "application/vnd.jupyter.widget-view+json": {
       "model_id": "dfa8593c4a144dd4bc37df31611ac961",
       "version_major": 2,
       "version_minor": 0
      },
      "text/plain": [
       "  0%|          | 0/1 [00:00<?, ?it/s]"
      ]
     },
     "metadata": {},
     "output_type": "display_data"
    },
    {
     "name": "stdout",
     "output_type": "stream",
     "text": [
      "Hong Kong is a city in the continent of Asia. Rio de Janeiro is a city in the continent of South America. Sydney is a city in the continent of Oceania. Beijing is a city in the continent of China\n",
      "Ground truth:  Asia\n",
      "\n",
      "\n",
      "\n",
      "---------------------------------------------------\n",
      "Kuala Lumpur is a city in the continent of Asia. Buenos Aires is a city in the continent of South America. Tokyo is a city in the continent of Asia. Bangkok is a city in the continent of\n"
     ]
    },
    {
     "data": {
      "application/vnd.jupyter.widget-view+json": {
       "model_id": "3fbe265bdc7849b4890138470a44036c",
       "version_major": 2,
       "version_minor": 0
      },
      "text/plain": [
       "  0%|          | 0/1 [00:00<?, ?it/s]"
      ]
     },
     "metadata": {},
     "output_type": "display_data"
    },
    {
     "name": "stdout",
     "output_type": "stream",
     "text": [
      "Kuala Lumpur is a city in the continent of Asia. Buenos Aires is a city in the continent of South America. Tokyo is a city in the continent of Asia. Bangkok is a city in the continent of Asia\n",
      "Ground truth:  Asia\n",
      "\n",
      "\n",
      "\n",
      "---------------------------------------------------\n",
      "Los Angeles is a city in the continent of North America. Sydney is a city in the continent of Oceania. Beijing is a city in the continent of Asia. Paris is a city in the continent of\n"
     ]
    },
    {
     "data": {
      "application/vnd.jupyter.widget-view+json": {
       "model_id": "578f9b974b8240efb54f44f0e4da68fb",
       "version_major": 2,
       "version_minor": 0
      },
      "text/plain": [
       "  0%|          | 0/1 [00:00<?, ?it/s]"
      ]
     },
     "metadata": {},
     "output_type": "display_data"
    },
    {
     "name": "stdout",
     "output_type": "stream",
     "text": [
      "Los Angeles is a city in the continent of North America. Sydney is a city in the continent of Oceania. Beijing is a city in the continent of Asia. Paris is a city in the continent of Europe\n",
      "Ground truth:  Europe\n",
      "\n",
      "\n",
      "\n",
      "---------------------------------------------------\n",
      "Buenos Aires is a city in the continent of South America. Hong Kong is a city in the continent of Asia. Paris is a city in the continent of Europe. Rome is a city in the continent of\n"
     ]
    },
    {
     "data": {
      "application/vnd.jupyter.widget-view+json": {
       "model_id": "ac9f6cd2cb484958a8413154c2fc9a14",
       "version_major": 2,
       "version_minor": 0
      },
      "text/plain": [
       "  0%|          | 0/1 [00:00<?, ?it/s]"
      ]
     },
     "metadata": {},
     "output_type": "display_data"
    },
    {
     "name": "stdout",
     "output_type": "stream",
     "text": [
      "Buenos Aires is a city in the continent of South America. Hong Kong is a city in the continent of Asia. Paris is a city in the continent of Europe. Rome is a city in the continent of Asia\n",
      "Ground truth:  Europe\n",
      "\n",
      "\n",
      "\n",
      "---------------------------------------------------\n",
      "Bangkok is a city in the continent of Asia. New Delhi is a city in the continent of Asia. Mexico City is a city in the continent of North America. Kuala Lumpur is a city in the continent of\n"
     ]
    },
    {
     "data": {
      "application/vnd.jupyter.widget-view+json": {
       "model_id": "462937437dd443b7a2fbd648b48a731e",
       "version_major": 2,
       "version_minor": 0
      },
      "text/plain": [
       "  0%|          | 0/1 [00:00<?, ?it/s]"
      ]
     },
     "metadata": {},
     "output_type": "display_data"
    },
    {
     "name": "stdout",
     "output_type": "stream",
     "text": [
      "Bangkok is a city in the continent of Asia. New Delhi is a city in the continent of Asia. Mexico City is a city in the continent of North America. Kuala Lumpur is a city in the continent of Asia\n",
      "Ground truth:  Asia\n",
      "\n",
      "\n",
      "\n",
      "---------------------------------------------------\n",
      "Accuracy:  0.3\n"
     ]
    }
   ],
   "source": [
    "city_continent_correct = 0\n",
    "\n",
    "\n",
    "city_continent_retained = []\n",
    "for prompt, gt in city_continent_prompts:\n",
    "    print(prompt)\n",
    "    generation = model.generate(\n",
    "        prompt, max_new_tokens=1, temperature=0.0, prepend_bos=True\n",
    "    )\n",
    "    print(generation)\n",
    "    print(\"Ground truth: \", gt)\n",
    "    print(\"\\n\\n\")\n",
    "    print(\"---------------------------------------------------\")\n",
    "    if gt.startswith(generation[len(prompt) :].strip()):\n",
    "        city_continent_correct += 1\n",
    "        city_continent_retained.append((prompt, gt))\n",
    "\n",
    "print(\"Accuracy: \", city_continent_correct / len(city_continent_prompts))"
   ]
  },
  {
   "cell_type": "code",
   "execution_count": 12,
   "metadata": {},
   "outputs": [
    {
     "name": "stdout",
     "output_type": "stream",
     "text": [
      "Toronto is a city where the language spoken is English. Bangkok is a city where the language spoken is Thai. Buenos Aires is a city where the language spoken is Spanish. New York City is a city where the language spoken is\n"
     ]
    },
    {
     "data": {
      "application/vnd.jupyter.widget-view+json": {
       "model_id": "57b423b38283499eac1ffac8117770d6",
       "version_major": 2,
       "version_minor": 0
      },
      "text/plain": [
       "  0%|          | 0/1 [00:00<?, ?it/s]"
      ]
     },
     "metadata": {},
     "output_type": "display_data"
    },
    {
     "name": "stdout",
     "output_type": "stream",
     "text": [
      "Toronto is a city where the language spoken is English. Bangkok is a city where the language spoken is Thai. Buenos Aires is a city where the language spoken is Spanish. New York City is a city where the language spoken is English\n",
      "Ground truth:  English\n",
      "\n",
      "\n",
      "\n",
      "---------------------------------------------------\n",
      "Buenos Aires is a city where the language spoken is Spanish. Bangkok is a city where the language spoken is Thai. Rio de Janeiro is a city where the language spoken is Portuguese. New Delhi is a city where the language spoken is\n"
     ]
    },
    {
     "data": {
      "application/vnd.jupyter.widget-view+json": {
       "model_id": "9581c497f21744fbba66d1603ab72546",
       "version_major": 2,
       "version_minor": 0
      },
      "text/plain": [
       "  0%|          | 0/1 [00:00<?, ?it/s]"
      ]
     },
     "metadata": {},
     "output_type": "display_data"
    },
    {
     "name": "stdout",
     "output_type": "stream",
     "text": [
      "Buenos Aires is a city where the language spoken is Spanish. Bangkok is a city where the language spoken is Thai. Rio de Janeiro is a city where the language spoken is Portuguese. New Delhi is a city where the language spoken is Hindi\n",
      "Ground truth:  Hindi\n",
      "\n",
      "\n",
      "\n",
      "---------------------------------------------------\n",
      "Buenos Aires is a city where the language spoken is Spanish. Tokyo is a city where the language spoken is Japanese. New York City is a city where the language spoken is English. Cape Town is a city where the language spoken is\n"
     ]
    },
    {
     "data": {
      "application/vnd.jupyter.widget-view+json": {
       "model_id": "1ffa386369534cce80cbfc7c4ac865c9",
       "version_major": 2,
       "version_minor": 0
      },
      "text/plain": [
       "  0%|          | 0/1 [00:00<?, ?it/s]"
      ]
     },
     "metadata": {},
     "output_type": "display_data"
    },
    {
     "name": "stdout",
     "output_type": "stream",
     "text": [
      "Buenos Aires is a city where the language spoken is Spanish. Tokyo is a city where the language spoken is Japanese. New York City is a city where the language spoken is English. Cape Town is a city where the language spoken is Portuguese\n",
      "Ground truth:  Afrikaans\n",
      "\n",
      "\n",
      "\n",
      "---------------------------------------------------\n",
      "Kuala Lumpur is a city where the language spoken is Malay. Toronto is a city where the language spoken is English. Tokyo is a city where the language spoken is Japanese. Paris is a city where the language spoken is\n"
     ]
    },
    {
     "data": {
      "application/vnd.jupyter.widget-view+json": {
       "model_id": "ca601dd07c344b13aeed4ac43a930ec5",
       "version_major": 2,
       "version_minor": 0
      },
      "text/plain": [
       "  0%|          | 0/1 [00:00<?, ?it/s]"
      ]
     },
     "metadata": {},
     "output_type": "display_data"
    },
    {
     "name": "stdout",
     "output_type": "stream",
     "text": [
      "Kuala Lumpur is a city where the language spoken is Malay. Toronto is a city where the language spoken is English. Tokyo is a city where the language spoken is Japanese. Paris is a city where the language spoken is French\n",
      "Ground truth:  French\n",
      "\n",
      "\n",
      "\n",
      "---------------------------------------------------\n",
      "Sydney is a city where the language spoken is English. Mexico City is a city where the language spoken is Spanish. Paris is a city where the language spoken is French. Beijing is a city where the language spoken is\n"
     ]
    },
    {
     "data": {
      "application/vnd.jupyter.widget-view+json": {
       "model_id": "84dd5d3f8d814a30859fd6e71f2930a5",
       "version_major": 2,
       "version_minor": 0
      },
      "text/plain": [
       "  0%|          | 0/1 [00:00<?, ?it/s]"
      ]
     },
     "metadata": {},
     "output_type": "display_data"
    },
    {
     "name": "stdout",
     "output_type": "stream",
     "text": [
      "Sydney is a city where the language spoken is English. Mexico City is a city where the language spoken is Spanish. Paris is a city where the language spoken is French. Beijing is a city where the language spoken is Chinese\n",
      "Ground truth:  Chinese\n",
      "\n",
      "\n",
      "\n",
      "---------------------------------------------------\n",
      "Sydney is a city where the language spoken is English. New Delhi is a city where the language spoken is Hindi. Toronto is a city where the language spoken is English. Cape Town is a city where the language spoken is\n"
     ]
    },
    {
     "data": {
      "application/vnd.jupyter.widget-view+json": {
       "model_id": "701982a2263b4287a8645233e7cbf5e3",
       "version_major": 2,
       "version_minor": 0
      },
      "text/plain": [
       "  0%|          | 0/1 [00:00<?, ?it/s]"
      ]
     },
     "metadata": {},
     "output_type": "display_data"
    },
    {
     "name": "stdout",
     "output_type": "stream",
     "text": [
      "Sydney is a city where the language spoken is English. New Delhi is a city where the language spoken is Hindi. Toronto is a city where the language spoken is English. Cape Town is a city where the language spoken is English\n",
      "Ground truth:  Afrikaans\n",
      "\n",
      "\n",
      "\n",
      "---------------------------------------------------\n",
      "Los Angeles is a city where the language spoken is English. New Delhi is a city where the language spoken is Hindi. New York City is a city where the language spoken is English. Sydney is a city where the language spoken is\n"
     ]
    },
    {
     "data": {
      "application/vnd.jupyter.widget-view+json": {
       "model_id": "99900c6263674f04b2bed0af08c351a4",
       "version_major": 2,
       "version_minor": 0
      },
      "text/plain": [
       "  0%|          | 0/1 [00:00<?, ?it/s]"
      ]
     },
     "metadata": {},
     "output_type": "display_data"
    },
    {
     "name": "stdout",
     "output_type": "stream",
     "text": [
      "Los Angeles is a city where the language spoken is English. New Delhi is a city where the language spoken is Hindi. New York City is a city where the language spoken is English. Sydney is a city where the language spoken is English\n",
      "Ground truth:  English\n",
      "\n",
      "\n",
      "\n",
      "---------------------------------------------------\n",
      "Paris is a city where the language spoken is French. Toronto is a city where the language spoken is English. New Delhi is a city where the language spoken is Hindi. Cape Town is a city where the language spoken is\n"
     ]
    },
    {
     "data": {
      "application/vnd.jupyter.widget-view+json": {
       "model_id": "acd7e26bbe6e492cb002ce94ab553d8e",
       "version_major": 2,
       "version_minor": 0
      },
      "text/plain": [
       "  0%|          | 0/1 [00:00<?, ?it/s]"
      ]
     },
     "metadata": {},
     "output_type": "display_data"
    },
    {
     "name": "stdout",
     "output_type": "stream",
     "text": [
      "Paris is a city where the language spoken is French. Toronto is a city where the language spoken is English. New Delhi is a city where the language spoken is Hindi. Cape Town is a city where the language spoken is English\n",
      "Ground truth:  Afrikaans\n",
      "\n",
      "\n",
      "\n",
      "---------------------------------------------------\n",
      "San Francisco is a city where the language spoken is English. Buenos Aires is a city where the language spoken is Spanish. Mexico City is a city where the language spoken is Spanish. Kuala Lumpur is a city where the language spoken is\n"
     ]
    },
    {
     "data": {
      "application/vnd.jupyter.widget-view+json": {
       "model_id": "a1fc479d96fb4259a46531645fb0eb76",
       "version_major": 2,
       "version_minor": 0
      },
      "text/plain": [
       "  0%|          | 0/1 [00:00<?, ?it/s]"
      ]
     },
     "metadata": {},
     "output_type": "display_data"
    },
    {
     "name": "stdout",
     "output_type": "stream",
     "text": [
      "San Francisco is a city where the language spoken is English. Buenos Aires is a city where the language spoken is Spanish. Mexico City is a city where the language spoken is Spanish. Kuala Lumpur is a city where the language spoken is English\n",
      "Ground truth:  Malay\n",
      "\n",
      "\n",
      "\n",
      "---------------------------------------------------\n",
      "Cape Town is a city where the language spoken is Afrikaans. Beijing is a city where the language spoken is Chinese. San Francisco is a city where the language spoken is English. Mexico City is a city where the language spoken is\n"
     ]
    },
    {
     "data": {
      "application/vnd.jupyter.widget-view+json": {
       "model_id": "50d309449c624f0d956df20068ec7082",
       "version_major": 2,
       "version_minor": 0
      },
      "text/plain": [
       "  0%|          | 0/1 [00:00<?, ?it/s]"
      ]
     },
     "metadata": {},
     "output_type": "display_data"
    },
    {
     "name": "stdout",
     "output_type": "stream",
     "text": [
      "Cape Town is a city where the language spoken is Afrikaans. Beijing is a city where the language spoken is Chinese. San Francisco is a city where the language spoken is English. Mexico City is a city where the language spoken is Spanish\n",
      "Ground truth:  Spanish\n",
      "\n",
      "\n",
      "\n",
      "---------------------------------------------------\n",
      "Buenos Aires is a city where the language spoken is Spanish. Toronto is a city where the language spoken is English. Kuala Lumpur is a city where the language spoken is Malay. Bangkok is a city where the language spoken is\n"
     ]
    },
    {
     "data": {
      "application/vnd.jupyter.widget-view+json": {
       "model_id": "575f4388f6844d79b99ad24ce4e3e64a",
       "version_major": 2,
       "version_minor": 0
      },
      "text/plain": [
       "  0%|          | 0/1 [00:00<?, ?it/s]"
      ]
     },
     "metadata": {},
     "output_type": "display_data"
    },
    {
     "name": "stdout",
     "output_type": "stream",
     "text": [
      "Buenos Aires is a city where the language spoken is Spanish. Toronto is a city where the language spoken is English. Kuala Lumpur is a city where the language spoken is Malay. Bangkok is a city where the language spoken is Thai\n",
      "Ground truth:  Thai\n",
      "\n",
      "\n",
      "\n",
      "---------------------------------------------------\n",
      "Paris is a city where the language spoken is French. New Delhi is a city where the language spoken is Hindi. Beijing is a city where the language spoken is Chinese. Tokyo is a city where the language spoken is\n"
     ]
    },
    {
     "data": {
      "application/vnd.jupyter.widget-view+json": {
       "model_id": "3e30e8d79c0a4a51aca7c837a4948580",
       "version_major": 2,
       "version_minor": 0
      },
      "text/plain": [
       "  0%|          | 0/1 [00:00<?, ?it/s]"
      ]
     },
     "metadata": {},
     "output_type": "display_data"
    },
    {
     "name": "stdout",
     "output_type": "stream",
     "text": [
      "Paris is a city where the language spoken is French. New Delhi is a city where the language spoken is Hindi. Beijing is a city where the language spoken is Chinese. Tokyo is a city where the language spoken is Japanese\n",
      "Ground truth:  Japanese\n",
      "\n",
      "\n",
      "\n",
      "---------------------------------------------------\n",
      "New York City is a city where the language spoken is English. Beijing is a city where the language spoken is Chinese. Kuala Lumpur is a city where the language spoken is Malay. Rome is a city where the language spoken is\n"
     ]
    },
    {
     "data": {
      "application/vnd.jupyter.widget-view+json": {
       "model_id": "fe1c0aba2c7a43ea96637a41c567adfa",
       "version_major": 2,
       "version_minor": 0
      },
      "text/plain": [
       "  0%|          | 0/1 [00:00<?, ?it/s]"
      ]
     },
     "metadata": {},
     "output_type": "display_data"
    },
    {
     "name": "stdout",
     "output_type": "stream",
     "text": [
      "New York City is a city where the language spoken is English. Beijing is a city where the language spoken is Chinese. Kuala Lumpur is a city where the language spoken is Malay. Rome is a city where the language spoken is Italian\n",
      "Ground truth:  Italian\n",
      "\n",
      "\n",
      "\n",
      "---------------------------------------------------\n",
      "New York City is a city where the language spoken is English. Kuala Lumpur is a city where the language spoken is Malay. St. Petersburg is a city where the language spoken is Russian. Paris is a city where the language spoken is\n"
     ]
    },
    {
     "data": {
      "application/vnd.jupyter.widget-view+json": {
       "model_id": "c57bc604e93e4f4c9492d21044df2c30",
       "version_major": 2,
       "version_minor": 0
      },
      "text/plain": [
       "  0%|          | 0/1 [00:00<?, ?it/s]"
      ]
     },
     "metadata": {},
     "output_type": "display_data"
    },
    {
     "name": "stdout",
     "output_type": "stream",
     "text": [
      "New York City is a city where the language spoken is English. Kuala Lumpur is a city where the language spoken is Malay. St. Petersburg is a city where the language spoken is Russian. Paris is a city where the language spoken is French\n",
      "Ground truth:  French\n",
      "\n",
      "\n",
      "\n",
      "---------------------------------------------------\n",
      "San Francisco is a city where the language spoken is English. Rio de Janeiro is a city where the language spoken is Portuguese. Buenos Aires is a city where the language spoken is Spanish. St. Petersburg is a city where the language spoken is\n"
     ]
    },
    {
     "data": {
      "application/vnd.jupyter.widget-view+json": {
       "model_id": "b42cf30452074fca98469e6013b00c68",
       "version_major": 2,
       "version_minor": 0
      },
      "text/plain": [
       "  0%|          | 0/1 [00:00<?, ?it/s]"
      ]
     },
     "metadata": {},
     "output_type": "display_data"
    },
    {
     "name": "stdout",
     "output_type": "stream",
     "text": [
      "San Francisco is a city where the language spoken is English. Rio de Janeiro is a city where the language spoken is Portuguese. Buenos Aires is a city where the language spoken is Spanish. St. Petersburg is a city where the language spoken is Russian\n",
      "Ground truth:  Russian\n",
      "\n",
      "\n",
      "\n",
      "---------------------------------------------------\n",
      "Buenos Aires is a city where the language spoken is Spanish. Cape Town is a city where the language spoken is Afrikaans. Rome is a city where the language spoken is Italian. Rio de Janeiro is a city where the language spoken is\n"
     ]
    },
    {
     "data": {
      "application/vnd.jupyter.widget-view+json": {
       "model_id": "6de14e4c96694f0787c8d2b1b0fb6d77",
       "version_major": 2,
       "version_minor": 0
      },
      "text/plain": [
       "  0%|          | 0/1 [00:00<?, ?it/s]"
      ]
     },
     "metadata": {},
     "output_type": "display_data"
    },
    {
     "name": "stdout",
     "output_type": "stream",
     "text": [
      "Buenos Aires is a city where the language spoken is Spanish. Cape Town is a city where the language spoken is Afrikaans. Rome is a city where the language spoken is Italian. Rio de Janeiro is a city where the language spoken is Portuguese\n",
      "Ground truth:  Portuguese\n",
      "\n",
      "\n",
      "\n",
      "---------------------------------------------------\n",
      "St. Petersburg is a city where the language spoken is Russian. Kuala Lumpur is a city where the language spoken is Malay. Beijing is a city where the language spoken is Chinese. Tokyo is a city where the language spoken is\n"
     ]
    },
    {
     "data": {
      "application/vnd.jupyter.widget-view+json": {
       "model_id": "c655847984b645f791d9eae14cfcf9d9",
       "version_major": 2,
       "version_minor": 0
      },
      "text/plain": [
       "  0%|          | 0/1 [00:00<?, ?it/s]"
      ]
     },
     "metadata": {},
     "output_type": "display_data"
    },
    {
     "name": "stdout",
     "output_type": "stream",
     "text": [
      "St. Petersburg is a city where the language spoken is Russian. Kuala Lumpur is a city where the language spoken is Malay. Beijing is a city where the language spoken is Chinese. Tokyo is a city where the language spoken is Japanese\n",
      "Ground truth:  Japanese\n",
      "\n",
      "\n",
      "\n",
      "---------------------------------------------------\n",
      "Rome is a city where the language spoken is Italian. Rio de Janeiro is a city where the language spoken is Portuguese. St. Petersburg is a city where the language spoken is Russian. Cape Town is a city where the language spoken is\n"
     ]
    },
    {
     "data": {
      "application/vnd.jupyter.widget-view+json": {
       "model_id": "f3c9ceef3cb24695961adaceaabb0586",
       "version_major": 2,
       "version_minor": 0
      },
      "text/plain": [
       "  0%|          | 0/1 [00:00<?, ?it/s]"
      ]
     },
     "metadata": {},
     "output_type": "display_data"
    },
    {
     "name": "stdout",
     "output_type": "stream",
     "text": [
      "Rome is a city where the language spoken is Italian. Rio de Janeiro is a city where the language spoken is Portuguese. St. Petersburg is a city where the language spoken is Russian. Cape Town is a city where the language spoken is Spanish\n",
      "Ground truth:  Afrikaans\n",
      "\n",
      "\n",
      "\n",
      "---------------------------------------------------\n",
      "Buenos Aires is a city where the language spoken is Spanish. Kuala Lumpur is a city where the language spoken is Malay. San Francisco is a city where the language spoken is English. Toronto is a city where the language spoken is\n"
     ]
    },
    {
     "data": {
      "application/vnd.jupyter.widget-view+json": {
       "model_id": "e6830bd201034ab8922550abfb5dcb07",
       "version_major": 2,
       "version_minor": 0
      },
      "text/plain": [
       "  0%|          | 0/1 [00:00<?, ?it/s]"
      ]
     },
     "metadata": {},
     "output_type": "display_data"
    },
    {
     "name": "stdout",
     "output_type": "stream",
     "text": [
      "Buenos Aires is a city where the language spoken is Spanish. Kuala Lumpur is a city where the language spoken is Malay. San Francisco is a city where the language spoken is English. Toronto is a city where the language spoken is English\n",
      "Ground truth:  English\n",
      "\n",
      "\n",
      "\n",
      "---------------------------------------------------\n",
      "San Francisco is a city where the language spoken is English. New Delhi is a city where the language spoken is Hindi. Los Angeles is a city where the language spoken is English. Mexico City is a city where the language spoken is\n"
     ]
    },
    {
     "data": {
      "application/vnd.jupyter.widget-view+json": {
       "model_id": "74b886f0a456401e9242afbf7306a5f9",
       "version_major": 2,
       "version_minor": 0
      },
      "text/plain": [
       "  0%|          | 0/1 [00:00<?, ?it/s]"
      ]
     },
     "metadata": {},
     "output_type": "display_data"
    },
    {
     "name": "stdout",
     "output_type": "stream",
     "text": [
      "San Francisco is a city where the language spoken is English. New Delhi is a city where the language spoken is Hindi. Los Angeles is a city where the language spoken is English. Mexico City is a city where the language spoken is Spanish\n",
      "Ground truth:  Spanish\n",
      "\n",
      "\n",
      "\n",
      "---------------------------------------------------\n",
      "Bangkok is a city where the language spoken is Thai. New Delhi is a city where the language spoken is Hindi. Los Angeles is a city where the language spoken is English. Rio de Janeiro is a city where the language spoken is\n"
     ]
    },
    {
     "data": {
      "application/vnd.jupyter.widget-view+json": {
       "model_id": "1e885810ef9a4530ab9257ce5be72de4",
       "version_major": 2,
       "version_minor": 0
      },
      "text/plain": [
       "  0%|          | 0/1 [00:00<?, ?it/s]"
      ]
     },
     "metadata": {},
     "output_type": "display_data"
    },
    {
     "name": "stdout",
     "output_type": "stream",
     "text": [
      "Bangkok is a city where the language spoken is Thai. New Delhi is a city where the language spoken is Hindi. Los Angeles is a city where the language spoken is English. Rio de Janeiro is a city where the language spoken is Portuguese\n",
      "Ground truth:  Portuguese\n",
      "\n",
      "\n",
      "\n",
      "---------------------------------------------------\n",
      "Buenos Aires is a city where the language spoken is Spanish. Los Angeles is a city where the language spoken is English. Paris is a city where the language spoken is French. Sydney is a city where the language spoken is\n"
     ]
    },
    {
     "data": {
      "application/vnd.jupyter.widget-view+json": {
       "model_id": "0823082fa90148ee8c8296832a29ce53",
       "version_major": 2,
       "version_minor": 0
      },
      "text/plain": [
       "  0%|          | 0/1 [00:00<?, ?it/s]"
      ]
     },
     "metadata": {},
     "output_type": "display_data"
    },
    {
     "name": "stdout",
     "output_type": "stream",
     "text": [
      "Buenos Aires is a city where the language spoken is Spanish. Los Angeles is a city where the language spoken is English. Paris is a city where the language spoken is French. Sydney is a city where the language spoken is English\n",
      "Ground truth:  English\n",
      "\n",
      "\n",
      "\n",
      "---------------------------------------------------\n",
      "Kuala Lumpur is a city where the language spoken is Malay. Beijing is a city where the language spoken is Chinese. Sydney is a city where the language spoken is English. Cape Town is a city where the language spoken is\n"
     ]
    },
    {
     "data": {
      "application/vnd.jupyter.widget-view+json": {
       "model_id": "a9b10497f0ec4e38afe1a665f145d413",
       "version_major": 2,
       "version_minor": 0
      },
      "text/plain": [
       "  0%|          | 0/1 [00:00<?, ?it/s]"
      ]
     },
     "metadata": {},
     "output_type": "display_data"
    },
    {
     "name": "stdout",
     "output_type": "stream",
     "text": [
      "Kuala Lumpur is a city where the language spoken is Malay. Beijing is a city where the language spoken is Chinese. Sydney is a city where the language spoken is English. Cape Town is a city where the language spoken is English\n",
      "Ground truth:  Afrikaans\n",
      "\n",
      "\n",
      "\n",
      "---------------------------------------------------\n",
      "Mexico City is a city where the language spoken is Spanish. New York City is a city where the language spoken is English. Bangkok is a city where the language spoken is Thai. Rio de Janeiro is a city where the language spoken is\n"
     ]
    },
    {
     "data": {
      "application/vnd.jupyter.widget-view+json": {
       "model_id": "416426397fb244d388f29063beb21510",
       "version_major": 2,
       "version_minor": 0
      },
      "text/plain": [
       "  0%|          | 0/1 [00:00<?, ?it/s]"
      ]
     },
     "metadata": {},
     "output_type": "display_data"
    },
    {
     "name": "stdout",
     "output_type": "stream",
     "text": [
      "Mexico City is a city where the language spoken is Spanish. New York City is a city where the language spoken is English. Bangkok is a city where the language spoken is Thai. Rio de Janeiro is a city where the language spoken is Portuguese\n",
      "Ground truth:  Portuguese\n",
      "\n",
      "\n",
      "\n",
      "---------------------------------------------------\n",
      "Kuala Lumpur is a city where the language spoken is Malay. Buenos Aires is a city where the language spoken is Spanish. Rio de Janeiro is a city where the language spoken is Portuguese. Cape Town is a city where the language spoken is\n"
     ]
    },
    {
     "data": {
      "application/vnd.jupyter.widget-view+json": {
       "model_id": "35915b6c51804c4299afe434ab10fb66",
       "version_major": 2,
       "version_minor": 0
      },
      "text/plain": [
       "  0%|          | 0/1 [00:00<?, ?it/s]"
      ]
     },
     "metadata": {},
     "output_type": "display_data"
    },
    {
     "name": "stdout",
     "output_type": "stream",
     "text": [
      "Kuala Lumpur is a city where the language spoken is Malay. Buenos Aires is a city where the language spoken is Spanish. Rio de Janeiro is a city where the language spoken is Portuguese. Cape Town is a city where the language spoken is Portuguese\n",
      "Ground truth:  Afrikaans\n",
      "\n",
      "\n",
      "\n",
      "---------------------------------------------------\n",
      "Rome is a city where the language spoken is Italian. Kuala Lumpur is a city where the language spoken is Malay. Tokyo is a city where the language spoken is Japanese. Mexico City is a city where the language spoken is\n"
     ]
    },
    {
     "data": {
      "application/vnd.jupyter.widget-view+json": {
       "model_id": "29c7c56f0caf4d08a3360a197bab8188",
       "version_major": 2,
       "version_minor": 0
      },
      "text/plain": [
       "  0%|          | 0/1 [00:00<?, ?it/s]"
      ]
     },
     "metadata": {},
     "output_type": "display_data"
    },
    {
     "name": "stdout",
     "output_type": "stream",
     "text": [
      "Rome is a city where the language spoken is Italian. Kuala Lumpur is a city where the language spoken is Malay. Tokyo is a city where the language spoken is Japanese. Mexico City is a city where the language spoken is Spanish\n",
      "Ground truth:  Spanish\n",
      "\n",
      "\n",
      "\n",
      "---------------------------------------------------\n",
      "Paris is a city where the language spoken is French. Toronto is a city where the language spoken is English. Rio de Janeiro is a city where the language spoken is Portuguese. Bangkok is a city where the language spoken is\n"
     ]
    },
    {
     "data": {
      "application/vnd.jupyter.widget-view+json": {
       "model_id": "726f8362fa984e899f6fa23d67d1f2b7",
       "version_major": 2,
       "version_minor": 0
      },
      "text/plain": [
       "  0%|          | 0/1 [00:00<?, ?it/s]"
      ]
     },
     "metadata": {},
     "output_type": "display_data"
    },
    {
     "name": "stdout",
     "output_type": "stream",
     "text": [
      "Paris is a city where the language spoken is French. Toronto is a city where the language spoken is English. Rio de Janeiro is a city where the language spoken is Portuguese. Bangkok is a city where the language spoken is Thai\n",
      "Ground truth:  Thai\n",
      "\n",
      "\n",
      "\n",
      "---------------------------------------------------\n",
      "Rio de Janeiro is a city where the language spoken is Portuguese. Mexico City is a city where the language spoken is Spanish. Tokyo is a city where the language spoken is Japanese. Bangkok is a city where the language spoken is\n"
     ]
    },
    {
     "data": {
      "application/vnd.jupyter.widget-view+json": {
       "model_id": "5974c379091a44579e9094a7be905d72",
       "version_major": 2,
       "version_minor": 0
      },
      "text/plain": [
       "  0%|          | 0/1 [00:00<?, ?it/s]"
      ]
     },
     "metadata": {},
     "output_type": "display_data"
    },
    {
     "name": "stdout",
     "output_type": "stream",
     "text": [
      "Rio de Janeiro is a city where the language spoken is Portuguese. Mexico City is a city where the language spoken is Spanish. Tokyo is a city where the language spoken is Japanese. Bangkok is a city where the language spoken is Thai\n",
      "Ground truth:  Thai\n",
      "\n",
      "\n",
      "\n",
      "---------------------------------------------------\n",
      "San Francisco is a city where the language spoken is English. St. Petersburg is a city where the language spoken is Russian. Rio de Janeiro is a city where the language spoken is Portuguese. New Delhi is a city where the language spoken is\n"
     ]
    },
    {
     "data": {
      "application/vnd.jupyter.widget-view+json": {
       "model_id": "3d54dba91f9d4358aa5798d110b4a276",
       "version_major": 2,
       "version_minor": 0
      },
      "text/plain": [
       "  0%|          | 0/1 [00:00<?, ?it/s]"
      ]
     },
     "metadata": {},
     "output_type": "display_data"
    },
    {
     "name": "stdout",
     "output_type": "stream",
     "text": [
      "San Francisco is a city where the language spoken is English. St. Petersburg is a city where the language spoken is Russian. Rio de Janeiro is a city where the language spoken is Portuguese. New Delhi is a city where the language spoken is Hindi\n",
      "Ground truth:  Hindi\n",
      "\n",
      "\n",
      "\n",
      "---------------------------------------------------\n",
      "Mexico City is a city where the language spoken is Spanish. New York City is a city where the language spoken is English. New Delhi is a city where the language spoken is Hindi. Sydney is a city where the language spoken is\n"
     ]
    },
    {
     "data": {
      "application/vnd.jupyter.widget-view+json": {
       "model_id": "0266826d97014285860a3cd38273f142",
       "version_major": 2,
       "version_minor": 0
      },
      "text/plain": [
       "  0%|          | 0/1 [00:00<?, ?it/s]"
      ]
     },
     "metadata": {},
     "output_type": "display_data"
    },
    {
     "name": "stdout",
     "output_type": "stream",
     "text": [
      "Mexico City is a city where the language spoken is Spanish. New York City is a city where the language spoken is English. New Delhi is a city where the language spoken is Hindi. Sydney is a city where the language spoken is English\n",
      "Ground truth:  English\n",
      "\n",
      "\n",
      "\n",
      "---------------------------------------------------\n",
      "Mexico City is a city where the language spoken is Spanish. New York City is a city where the language spoken is English. Beijing is a city where the language spoken is Chinese. Rio de Janeiro is a city where the language spoken is\n"
     ]
    },
    {
     "data": {
      "application/vnd.jupyter.widget-view+json": {
       "model_id": "faf762c1331241d191572474dde8f3b3",
       "version_major": 2,
       "version_minor": 0
      },
      "text/plain": [
       "  0%|          | 0/1 [00:00<?, ?it/s]"
      ]
     },
     "metadata": {},
     "output_type": "display_data"
    },
    {
     "name": "stdout",
     "output_type": "stream",
     "text": [
      "Mexico City is a city where the language spoken is Spanish. New York City is a city where the language spoken is English. Beijing is a city where the language spoken is Chinese. Rio de Janeiro is a city where the language spoken is Portuguese\n",
      "Ground truth:  Portuguese\n",
      "\n",
      "\n",
      "\n",
      "---------------------------------------------------\n",
      "New York City is a city where the language spoken is English. Beijing is a city where the language spoken is Chinese. Rio de Janeiro is a city where the language spoken is Portuguese. Tokyo is a city where the language spoken is\n"
     ]
    },
    {
     "data": {
      "application/vnd.jupyter.widget-view+json": {
       "model_id": "57b4505769c7487e9835c4f2fc336dfb",
       "version_major": 2,
       "version_minor": 0
      },
      "text/plain": [
       "  0%|          | 0/1 [00:00<?, ?it/s]"
      ]
     },
     "metadata": {},
     "output_type": "display_data"
    },
    {
     "name": "stdout",
     "output_type": "stream",
     "text": [
      "New York City is a city where the language spoken is English. Beijing is a city where the language spoken is Chinese. Rio de Janeiro is a city where the language spoken is Portuguese. Tokyo is a city where the language spoken is Japanese\n",
      "Ground truth:  Japanese\n",
      "\n",
      "\n",
      "\n",
      "---------------------------------------------------\n",
      "Bangkok is a city where the language spoken is Thai. Beijing is a city where the language spoken is Chinese. Rio de Janeiro is a city where the language spoken is Portuguese. Mexico City is a city where the language spoken is\n"
     ]
    },
    {
     "data": {
      "application/vnd.jupyter.widget-view+json": {
       "model_id": "61de49a1cf2a4f63b3107c968563dade",
       "version_major": 2,
       "version_minor": 0
      },
      "text/plain": [
       "  0%|          | 0/1 [00:00<?, ?it/s]"
      ]
     },
     "metadata": {},
     "output_type": "display_data"
    },
    {
     "name": "stdout",
     "output_type": "stream",
     "text": [
      "Bangkok is a city where the language spoken is Thai. Beijing is a city where the language spoken is Chinese. Rio de Janeiro is a city where the language spoken is Portuguese. Mexico City is a city where the language spoken is Spanish\n",
      "Ground truth:  Spanish\n",
      "\n",
      "\n",
      "\n",
      "---------------------------------------------------\n",
      "Tokyo is a city where the language spoken is Japanese. Rio de Janeiro is a city where the language spoken is Portuguese. New York City is a city where the language spoken is English. New Delhi is a city where the language spoken is\n"
     ]
    },
    {
     "data": {
      "application/vnd.jupyter.widget-view+json": {
       "model_id": "e033f5745ba24eab9bcbdbc2df306d61",
       "version_major": 2,
       "version_minor": 0
      },
      "text/plain": [
       "  0%|          | 0/1 [00:00<?, ?it/s]"
      ]
     },
     "metadata": {},
     "output_type": "display_data"
    },
    {
     "name": "stdout",
     "output_type": "stream",
     "text": [
      "Tokyo is a city where the language spoken is Japanese. Rio de Janeiro is a city where the language spoken is Portuguese. New York City is a city where the language spoken is English. New Delhi is a city where the language spoken is Hindi\n",
      "Ground truth:  Hindi\n",
      "\n",
      "\n",
      "\n",
      "---------------------------------------------------\n",
      "Beijing is a city where the language spoken is Chinese. Mexico City is a city where the language spoken is Spanish. Rome is a city where the language spoken is Italian. New Delhi is a city where the language spoken is\n"
     ]
    },
    {
     "data": {
      "application/vnd.jupyter.widget-view+json": {
       "model_id": "433489d702614e05950c067214f39124",
       "version_major": 2,
       "version_minor": 0
      },
      "text/plain": [
       "  0%|          | 0/1 [00:00<?, ?it/s]"
      ]
     },
     "metadata": {},
     "output_type": "display_data"
    },
    {
     "name": "stdout",
     "output_type": "stream",
     "text": [
      "Beijing is a city where the language spoken is Chinese. Mexico City is a city where the language spoken is Spanish. Rome is a city where the language spoken is Italian. New Delhi is a city where the language spoken is Hindi\n",
      "Ground truth:  Hindi\n",
      "\n",
      "\n",
      "\n",
      "---------------------------------------------------\n",
      "Cape Town is a city where the language spoken is Afrikaans. Kuala Lumpur is a city where the language spoken is Malay. Rio de Janeiro is a city where the language spoken is Portuguese. Paris is a city where the language spoken is\n"
     ]
    },
    {
     "data": {
      "application/vnd.jupyter.widget-view+json": {
       "model_id": "5f69d45b766a4e4f85cad7948da62636",
       "version_major": 2,
       "version_minor": 0
      },
      "text/plain": [
       "  0%|          | 0/1 [00:00<?, ?it/s]"
      ]
     },
     "metadata": {},
     "output_type": "display_data"
    },
    {
     "name": "stdout",
     "output_type": "stream",
     "text": [
      "Cape Town is a city where the language spoken is Afrikaans. Kuala Lumpur is a city where the language spoken is Malay. Rio de Janeiro is a city where the language spoken is Portuguese. Paris is a city where the language spoken is French\n",
      "Ground truth:  French\n",
      "\n",
      "\n",
      "\n",
      "---------------------------------------------------\n",
      "Los Angeles is a city where the language spoken is English. New York City is a city where the language spoken is English. Tokyo is a city where the language spoken is Japanese. Beijing is a city where the language spoken is\n"
     ]
    },
    {
     "data": {
      "application/vnd.jupyter.widget-view+json": {
       "model_id": "7d21f4e3f69441e4a4424f33f3fa78db",
       "version_major": 2,
       "version_minor": 0
      },
      "text/plain": [
       "  0%|          | 0/1 [00:00<?, ?it/s]"
      ]
     },
     "metadata": {},
     "output_type": "display_data"
    },
    {
     "name": "stdout",
     "output_type": "stream",
     "text": [
      "Los Angeles is a city where the language spoken is English. New York City is a city where the language spoken is English. Tokyo is a city where the language spoken is Japanese. Beijing is a city where the language spoken is Chinese\n",
      "Ground truth:  Chinese\n",
      "\n",
      "\n",
      "\n",
      "---------------------------------------------------\n",
      "Los Angeles is a city where the language spoken is English. Bangkok is a city where the language spoken is Thai. San Francisco is a city where the language spoken is English. New York City is a city where the language spoken is\n"
     ]
    },
    {
     "data": {
      "application/vnd.jupyter.widget-view+json": {
       "model_id": "77cf909e099c43de9c8756090a4213e3",
       "version_major": 2,
       "version_minor": 0
      },
      "text/plain": [
       "  0%|          | 0/1 [00:00<?, ?it/s]"
      ]
     },
     "metadata": {},
     "output_type": "display_data"
    },
    {
     "name": "stdout",
     "output_type": "stream",
     "text": [
      "Los Angeles is a city where the language spoken is English. Bangkok is a city where the language spoken is Thai. San Francisco is a city where the language spoken is English. New York City is a city where the language spoken is English\n",
      "Ground truth:  English\n",
      "\n",
      "\n",
      "\n",
      "---------------------------------------------------\n",
      "New York City is a city where the language spoken is English. Toronto is a city where the language spoken is English. Rome is a city where the language spoken is Italian. St. Petersburg is a city where the language spoken is\n"
     ]
    },
    {
     "data": {
      "application/vnd.jupyter.widget-view+json": {
       "model_id": "f4f5f0bd99974ca08f73b475283437ca",
       "version_major": 2,
       "version_minor": 0
      },
      "text/plain": [
       "  0%|          | 0/1 [00:00<?, ?it/s]"
      ]
     },
     "metadata": {},
     "output_type": "display_data"
    },
    {
     "name": "stdout",
     "output_type": "stream",
     "text": [
      "New York City is a city where the language spoken is English. Toronto is a city where the language spoken is English. Rome is a city where the language spoken is Italian. St. Petersburg is a city where the language spoken is Russian\n",
      "Ground truth:  Russian\n",
      "\n",
      "\n",
      "\n",
      "---------------------------------------------------\n",
      "Kuala Lumpur is a city where the language spoken is Malay. Rome is a city where the language spoken is Italian. Rio de Janeiro is a city where the language spoken is Portuguese. St. Petersburg is a city where the language spoken is\n"
     ]
    },
    {
     "data": {
      "application/vnd.jupyter.widget-view+json": {
       "model_id": "fa9bade58b2a4c98aa4db1ef7c1a832c",
       "version_major": 2,
       "version_minor": 0
      },
      "text/plain": [
       "  0%|          | 0/1 [00:00<?, ?it/s]"
      ]
     },
     "metadata": {},
     "output_type": "display_data"
    },
    {
     "name": "stdout",
     "output_type": "stream",
     "text": [
      "Kuala Lumpur is a city where the language spoken is Malay. Rome is a city where the language spoken is Italian. Rio de Janeiro is a city where the language spoken is Portuguese. St. Petersburg is a city where the language spoken is Russian\n",
      "Ground truth:  Russian\n",
      "\n",
      "\n",
      "\n",
      "---------------------------------------------------\n",
      "Sydney is a city where the language spoken is English. New York City is a city where the language spoken is English. Toronto is a city where the language spoken is English. Bangkok is a city where the language spoken is\n"
     ]
    },
    {
     "data": {
      "application/vnd.jupyter.widget-view+json": {
       "model_id": "ea4e6664e33c4a488d440efe3811e5bd",
       "version_major": 2,
       "version_minor": 0
      },
      "text/plain": [
       "  0%|          | 0/1 [00:00<?, ?it/s]"
      ]
     },
     "metadata": {},
     "output_type": "display_data"
    },
    {
     "name": "stdout",
     "output_type": "stream",
     "text": [
      "Sydney is a city where the language spoken is English. New York City is a city where the language spoken is English. Toronto is a city where the language spoken is English. Bangkok is a city where the language spoken is English\n",
      "Ground truth:  Thai\n",
      "\n",
      "\n",
      "\n",
      "---------------------------------------------------\n",
      "Bangkok is a city where the language spoken is Thai. Los Angeles is a city where the language spoken is English. Rio de Janeiro is a city where the language spoken is Portuguese. Cape Town is a city where the language spoken is\n"
     ]
    },
    {
     "data": {
      "application/vnd.jupyter.widget-view+json": {
       "model_id": "7cc4be7a4f5c45fbac82bd36104792a3",
       "version_major": 2,
       "version_minor": 0
      },
      "text/plain": [
       "  0%|          | 0/1 [00:00<?, ?it/s]"
      ]
     },
     "metadata": {},
     "output_type": "display_data"
    },
    {
     "name": "stdout",
     "output_type": "stream",
     "text": [
      "Bangkok is a city where the language spoken is Thai. Los Angeles is a city where the language spoken is English. Rio de Janeiro is a city where the language spoken is Portuguese. Cape Town is a city where the language spoken is English\n",
      "Ground truth:  Afrikaans\n",
      "\n",
      "\n",
      "\n",
      "---------------------------------------------------\n",
      "New Delhi is a city where the language spoken is Hindi. Beijing is a city where the language spoken is Chinese. Paris is a city where the language spoken is French. St. Petersburg is a city where the language spoken is\n"
     ]
    },
    {
     "data": {
      "application/vnd.jupyter.widget-view+json": {
       "model_id": "4684adf69d15422ead2521e242aadfa7",
       "version_major": 2,
       "version_minor": 0
      },
      "text/plain": [
       "  0%|          | 0/1 [00:00<?, ?it/s]"
      ]
     },
     "metadata": {},
     "output_type": "display_data"
    },
    {
     "name": "stdout",
     "output_type": "stream",
     "text": [
      "New Delhi is a city where the language spoken is Hindi. Beijing is a city where the language spoken is Chinese. Paris is a city where the language spoken is French. St. Petersburg is a city where the language spoken is Russian\n",
      "Ground truth:  Russian\n",
      "\n",
      "\n",
      "\n",
      "---------------------------------------------------\n",
      "Los Angeles is a city where the language spoken is English. San Francisco is a city where the language spoken is English. New York City is a city where the language spoken is English. Cape Town is a city where the language spoken is\n"
     ]
    },
    {
     "data": {
      "application/vnd.jupyter.widget-view+json": {
       "model_id": "18287de46c0440db864efd6a7ff7190d",
       "version_major": 2,
       "version_minor": 0
      },
      "text/plain": [
       "  0%|          | 0/1 [00:00<?, ?it/s]"
      ]
     },
     "metadata": {},
     "output_type": "display_data"
    },
    {
     "name": "stdout",
     "output_type": "stream",
     "text": [
      "Los Angeles is a city where the language spoken is English. San Francisco is a city where the language spoken is English. New York City is a city where the language spoken is English. Cape Town is a city where the language spoken is English\n",
      "Ground truth:  Afrikaans\n",
      "\n",
      "\n",
      "\n",
      "---------------------------------------------------\n",
      "Bangkok is a city where the language spoken is Thai. Los Angeles is a city where the language spoken is English. Rio de Janeiro is a city where the language spoken is Portuguese. Sydney is a city where the language spoken is\n"
     ]
    },
    {
     "data": {
      "application/vnd.jupyter.widget-view+json": {
       "model_id": "c81fc45471b4456b98ee3cd0895f1b55",
       "version_major": 2,
       "version_minor": 0
      },
      "text/plain": [
       "  0%|          | 0/1 [00:00<?, ?it/s]"
      ]
     },
     "metadata": {},
     "output_type": "display_data"
    },
    {
     "name": "stdout",
     "output_type": "stream",
     "text": [
      "Bangkok is a city where the language spoken is Thai. Los Angeles is a city where the language spoken is English. Rio de Janeiro is a city where the language spoken is Portuguese. Sydney is a city where the language spoken is English\n",
      "Ground truth:  English\n",
      "\n",
      "\n",
      "\n",
      "---------------------------------------------------\n",
      "Buenos Aires is a city where the language spoken is Spanish. Tokyo is a city where the language spoken is Japanese. Rome is a city where the language spoken is Italian. New York City is a city where the language spoken is\n"
     ]
    },
    {
     "data": {
      "application/vnd.jupyter.widget-view+json": {
       "model_id": "09d9293b08ba4d1a968c746d52228d3b",
       "version_major": 2,
       "version_minor": 0
      },
      "text/plain": [
       "  0%|          | 0/1 [00:00<?, ?it/s]"
      ]
     },
     "metadata": {},
     "output_type": "display_data"
    },
    {
     "name": "stdout",
     "output_type": "stream",
     "text": [
      "Buenos Aires is a city where the language spoken is Spanish. Tokyo is a city where the language spoken is Japanese. Rome is a city where the language spoken is Italian. New York City is a city where the language spoken is English\n",
      "Ground truth:  English\n",
      "\n",
      "\n",
      "\n",
      "---------------------------------------------------\n",
      "Bangkok is a city where the language spoken is Thai. Rio de Janeiro is a city where the language spoken is Portuguese. San Francisco is a city where the language spoken is English. Buenos Aires is a city where the language spoken is\n"
     ]
    },
    {
     "data": {
      "application/vnd.jupyter.widget-view+json": {
       "model_id": "5edcf5d2832c46e7b1b955d34d8e7427",
       "version_major": 2,
       "version_minor": 0
      },
      "text/plain": [
       "  0%|          | 0/1 [00:00<?, ?it/s]"
      ]
     },
     "metadata": {},
     "output_type": "display_data"
    },
    {
     "name": "stdout",
     "output_type": "stream",
     "text": [
      "Bangkok is a city where the language spoken is Thai. Rio de Janeiro is a city where the language spoken is Portuguese. San Francisco is a city where the language spoken is English. Buenos Aires is a city where the language spoken is Spanish\n",
      "Ground truth:  Spanish\n",
      "\n",
      "\n",
      "\n",
      "---------------------------------------------------\n",
      "Sydney is a city where the language spoken is English. St. Petersburg is a city where the language spoken is Russian. Cape Town is a city where the language spoken is Afrikaans. Toronto is a city where the language spoken is\n"
     ]
    },
    {
     "data": {
      "application/vnd.jupyter.widget-view+json": {
       "model_id": "51995316c57249bfa4fee5b729627224",
       "version_major": 2,
       "version_minor": 0
      },
      "text/plain": [
       "  0%|          | 0/1 [00:00<?, ?it/s]"
      ]
     },
     "metadata": {},
     "output_type": "display_data"
    },
    {
     "name": "stdout",
     "output_type": "stream",
     "text": [
      "Sydney is a city where the language spoken is English. St. Petersburg is a city where the language spoken is Russian. Cape Town is a city where the language spoken is Afrikaans. Toronto is a city where the language spoken is English\n",
      "Ground truth:  English\n",
      "\n",
      "\n",
      "\n",
      "---------------------------------------------------\n",
      "St. Petersburg is a city where the language spoken is Russian. Rio de Janeiro is a city where the language spoken is Portuguese. Buenos Aires is a city where the language spoken is Spanish. Cape Town is a city where the language spoken is\n"
     ]
    },
    {
     "data": {
      "application/vnd.jupyter.widget-view+json": {
       "model_id": "01ba5f1cccad44e49ae28d93386ccf32",
       "version_major": 2,
       "version_minor": 0
      },
      "text/plain": [
       "  0%|          | 0/1 [00:00<?, ?it/s]"
      ]
     },
     "metadata": {},
     "output_type": "display_data"
    },
    {
     "name": "stdout",
     "output_type": "stream",
     "text": [
      "St. Petersburg is a city where the language spoken is Russian. Rio de Janeiro is a city where the language spoken is Portuguese. Buenos Aires is a city where the language spoken is Spanish. Cape Town is a city where the language spoken is Portuguese\n",
      "Ground truth:  Afrikaans\n",
      "\n",
      "\n",
      "\n",
      "---------------------------------------------------\n",
      "Rio de Janeiro is a city where the language spoken is Portuguese. San Francisco is a city where the language spoken is English. Kuala Lumpur is a city where the language spoken is Malay. Beijing is a city where the language spoken is\n"
     ]
    },
    {
     "data": {
      "application/vnd.jupyter.widget-view+json": {
       "model_id": "a23301264b6f4027b3d3e287bb9a47d5",
       "version_major": 2,
       "version_minor": 0
      },
      "text/plain": [
       "  0%|          | 0/1 [00:00<?, ?it/s]"
      ]
     },
     "metadata": {},
     "output_type": "display_data"
    },
    {
     "name": "stdout",
     "output_type": "stream",
     "text": [
      "Rio de Janeiro is a city where the language spoken is Portuguese. San Francisco is a city where the language spoken is English. Kuala Lumpur is a city where the language spoken is Malay. Beijing is a city where the language spoken is Chinese\n",
      "Ground truth:  Chinese\n",
      "\n",
      "\n",
      "\n",
      "---------------------------------------------------\n",
      "Buenos Aires is a city where the language spoken is Spanish. Sydney is a city where the language spoken is English. Rio de Janeiro is a city where the language spoken is Portuguese. Toronto is a city where the language spoken is\n"
     ]
    },
    {
     "data": {
      "application/vnd.jupyter.widget-view+json": {
       "model_id": "4edbb07be8e04de8979933658e3c075c",
       "version_major": 2,
       "version_minor": 0
      },
      "text/plain": [
       "  0%|          | 0/1 [00:00<?, ?it/s]"
      ]
     },
     "metadata": {},
     "output_type": "display_data"
    },
    {
     "name": "stdout",
     "output_type": "stream",
     "text": [
      "Buenos Aires is a city where the language spoken is Spanish. Sydney is a city where the language spoken is English. Rio de Janeiro is a city where the language spoken is Portuguese. Toronto is a city where the language spoken is French\n",
      "Ground truth:  English\n",
      "\n",
      "\n",
      "\n",
      "---------------------------------------------------\n",
      "Los Angeles is a city where the language spoken is English. Rome is a city where the language spoken is Italian. St. Petersburg is a city where the language spoken is Russian. San Francisco is a city where the language spoken is\n"
     ]
    },
    {
     "data": {
      "application/vnd.jupyter.widget-view+json": {
       "model_id": "4cec13976eef4bd99c292f62234587d0",
       "version_major": 2,
       "version_minor": 0
      },
      "text/plain": [
       "  0%|          | 0/1 [00:00<?, ?it/s]"
      ]
     },
     "metadata": {},
     "output_type": "display_data"
    },
    {
     "name": "stdout",
     "output_type": "stream",
     "text": [
      "Los Angeles is a city where the language spoken is English. Rome is a city where the language spoken is Italian. St. Petersburg is a city where the language spoken is Russian. San Francisco is a city where the language spoken is Spanish\n",
      "Ground truth:  English\n",
      "\n",
      "\n",
      "\n",
      "---------------------------------------------------\n",
      "Cape Town is a city where the language spoken is Afrikaans. Sydney is a city where the language spoken is English. Mexico City is a city where the language spoken is Spanish. Kuala Lumpur is a city where the language spoken is\n"
     ]
    },
    {
     "data": {
      "application/vnd.jupyter.widget-view+json": {
       "model_id": "848f9e11e8224c9e832a1a94b0a0b183",
       "version_major": 2,
       "version_minor": 0
      },
      "text/plain": [
       "  0%|          | 0/1 [00:00<?, ?it/s]"
      ]
     },
     "metadata": {},
     "output_type": "display_data"
    },
    {
     "name": "stdout",
     "output_type": "stream",
     "text": [
      "Cape Town is a city where the language spoken is Afrikaans. Sydney is a city where the language spoken is English. Mexico City is a city where the language spoken is Spanish. Kuala Lumpur is a city where the language spoken is Mal\n",
      "Ground truth:  Malay\n",
      "\n",
      "\n",
      "\n",
      "---------------------------------------------------\n",
      "Paris is a city where the language spoken is French. Los Angeles is a city where the language spoken is English. Beijing is a city where the language spoken is Chinese. Toronto is a city where the language spoken is\n"
     ]
    },
    {
     "data": {
      "application/vnd.jupyter.widget-view+json": {
       "model_id": "d18c7bb446b94d64b3e6ee4f3ba544bc",
       "version_major": 2,
       "version_minor": 0
      },
      "text/plain": [
       "  0%|          | 0/1 [00:00<?, ?it/s]"
      ]
     },
     "metadata": {},
     "output_type": "display_data"
    },
    {
     "name": "stdout",
     "output_type": "stream",
     "text": [
      "Paris is a city where the language spoken is French. Los Angeles is a city where the language spoken is English. Beijing is a city where the language spoken is Chinese. Toronto is a city where the language spoken is English\n",
      "Ground truth:  English\n",
      "\n",
      "\n",
      "\n",
      "---------------------------------------------------\n",
      "Paris is a city where the language spoken is French. Cape Town is a city where the language spoken is Afrikaans. Tokyo is a city where the language spoken is Japanese. Rio de Janeiro is a city where the language spoken is\n"
     ]
    },
    {
     "data": {
      "application/vnd.jupyter.widget-view+json": {
       "model_id": "90a9eb84f0cf4655a7791953e1a0390f",
       "version_major": 2,
       "version_minor": 0
      },
      "text/plain": [
       "  0%|          | 0/1 [00:00<?, ?it/s]"
      ]
     },
     "metadata": {},
     "output_type": "display_data"
    },
    {
     "name": "stdout",
     "output_type": "stream",
     "text": [
      "Paris is a city where the language spoken is French. Cape Town is a city where the language spoken is Afrikaans. Tokyo is a city where the language spoken is Japanese. Rio de Janeiro is a city where the language spoken is Portuguese\n",
      "Ground truth:  Portuguese\n",
      "\n",
      "\n",
      "\n",
      "---------------------------------------------------\n",
      "New York City is a city where the language spoken is English. Mexico City is a city where the language spoken is Spanish. New Delhi is a city where the language spoken is Hindi. Toronto is a city where the language spoken is\n"
     ]
    },
    {
     "data": {
      "application/vnd.jupyter.widget-view+json": {
       "model_id": "a776243633f242b4a84bf63305d904b9",
       "version_major": 2,
       "version_minor": 0
      },
      "text/plain": [
       "  0%|          | 0/1 [00:00<?, ?it/s]"
      ]
     },
     "metadata": {},
     "output_type": "display_data"
    },
    {
     "name": "stdout",
     "output_type": "stream",
     "text": [
      "New York City is a city where the language spoken is English. Mexico City is a city where the language spoken is Spanish. New Delhi is a city where the language spoken is Hindi. Toronto is a city where the language spoken is English\n",
      "Ground truth:  English\n",
      "\n",
      "\n",
      "\n",
      "---------------------------------------------------\n",
      "Bangkok is a city where the language spoken is Thai. Mexico City is a city where the language spoken is Spanish. St. Petersburg is a city where the language spoken is Russian. Kuala Lumpur is a city where the language spoken is\n"
     ]
    },
    {
     "data": {
      "application/vnd.jupyter.widget-view+json": {
       "model_id": "3155b42e552047e18f39bc26648cb304",
       "version_major": 2,
       "version_minor": 0
      },
      "text/plain": [
       "  0%|          | 0/1 [00:00<?, ?it/s]"
      ]
     },
     "metadata": {},
     "output_type": "display_data"
    },
    {
     "name": "stdout",
     "output_type": "stream",
     "text": [
      "Bangkok is a city where the language spoken is Thai. Mexico City is a city where the language spoken is Spanish. St. Petersburg is a city where the language spoken is Russian. Kuala Lumpur is a city where the language spoken is Thai\n",
      "Ground truth:  Malay\n",
      "\n",
      "\n",
      "\n",
      "---------------------------------------------------\n",
      "Toronto is a city where the language spoken is English. Buenos Aires is a city where the language spoken is Spanish. Rio de Janeiro is a city where the language spoken is Portuguese. St. Petersburg is a city where the language spoken is\n"
     ]
    },
    {
     "data": {
      "application/vnd.jupyter.widget-view+json": {
       "model_id": "c786ee95c36e4412a04a6a68bf4a354b",
       "version_major": 2,
       "version_minor": 0
      },
      "text/plain": [
       "  0%|          | 0/1 [00:00<?, ?it/s]"
      ]
     },
     "metadata": {},
     "output_type": "display_data"
    },
    {
     "name": "stdout",
     "output_type": "stream",
     "text": [
      "Toronto is a city where the language spoken is English. Buenos Aires is a city where the language spoken is Spanish. Rio de Janeiro is a city where the language spoken is Portuguese. St. Petersburg is a city where the language spoken is Russian\n",
      "Ground truth:  Russian\n",
      "\n",
      "\n",
      "\n",
      "---------------------------------------------------\n",
      "Beijing is a city where the language spoken is Chinese. Sydney is a city where the language spoken is English. Mexico City is a city where the language spoken is Spanish. Paris is a city where the language spoken is\n"
     ]
    },
    {
     "data": {
      "application/vnd.jupyter.widget-view+json": {
       "model_id": "c88b9081dfc547da853a8bab69e317e4",
       "version_major": 2,
       "version_minor": 0
      },
      "text/plain": [
       "  0%|          | 0/1 [00:00<?, ?it/s]"
      ]
     },
     "metadata": {},
     "output_type": "display_data"
    },
    {
     "name": "stdout",
     "output_type": "stream",
     "text": [
      "Beijing is a city where the language spoken is Chinese. Sydney is a city where the language spoken is English. Mexico City is a city where the language spoken is Spanish. Paris is a city where the language spoken is French\n",
      "Ground truth:  French\n",
      "\n",
      "\n",
      "\n",
      "---------------------------------------------------\n",
      "Mexico City is a city where the language spoken is Spanish. Bangkok is a city where the language spoken is Thai. Los Angeles is a city where the language spoken is English. Beijing is a city where the language spoken is\n"
     ]
    },
    {
     "data": {
      "application/vnd.jupyter.widget-view+json": {
       "model_id": "fb52757a29694254ac8d33c8e3d17e92",
       "version_major": 2,
       "version_minor": 0
      },
      "text/plain": [
       "  0%|          | 0/1 [00:00<?, ?it/s]"
      ]
     },
     "metadata": {},
     "output_type": "display_data"
    },
    {
     "name": "stdout",
     "output_type": "stream",
     "text": [
      "Mexico City is a city where the language spoken is Spanish. Bangkok is a city where the language spoken is Thai. Los Angeles is a city where the language spoken is English. Beijing is a city where the language spoken is Chinese\n",
      "Ground truth:  Chinese\n",
      "\n",
      "\n",
      "\n",
      "---------------------------------------------------\n",
      "St. Petersburg is a city where the language spoken is Russian. Tokyo is a city where the language spoken is Japanese. New Delhi is a city where the language spoken is Hindi. Paris is a city where the language spoken is\n"
     ]
    },
    {
     "data": {
      "application/vnd.jupyter.widget-view+json": {
       "model_id": "09892455ae4349299e25cf9998324ba8",
       "version_major": 2,
       "version_minor": 0
      },
      "text/plain": [
       "  0%|          | 0/1 [00:00<?, ?it/s]"
      ]
     },
     "metadata": {},
     "output_type": "display_data"
    },
    {
     "name": "stdout",
     "output_type": "stream",
     "text": [
      "St. Petersburg is a city where the language spoken is Russian. Tokyo is a city where the language spoken is Japanese. New Delhi is a city where the language spoken is Hindi. Paris is a city where the language spoken is French\n",
      "Ground truth:  French\n",
      "\n",
      "\n",
      "\n",
      "---------------------------------------------------\n",
      "Paris is a city where the language spoken is French. San Francisco is a city where the language spoken is English. Cape Town is a city where the language spoken is Afrikaans. St. Petersburg is a city where the language spoken is\n"
     ]
    },
    {
     "data": {
      "application/vnd.jupyter.widget-view+json": {
       "model_id": "a736a2da0c61463b963f349af0fb111f",
       "version_major": 2,
       "version_minor": 0
      },
      "text/plain": [
       "  0%|          | 0/1 [00:00<?, ?it/s]"
      ]
     },
     "metadata": {},
     "output_type": "display_data"
    },
    {
     "name": "stdout",
     "output_type": "stream",
     "text": [
      "Paris is a city where the language spoken is French. San Francisco is a city where the language spoken is English. Cape Town is a city where the language spoken is Afrikaans. St. Petersburg is a city where the language spoken is Russian\n",
      "Ground truth:  Russian\n",
      "\n",
      "\n",
      "\n",
      "---------------------------------------------------\n",
      "New York City is a city where the language spoken is English. Sydney is a city where the language spoken is English. Rome is a city where the language spoken is Italian. New Delhi is a city where the language spoken is\n"
     ]
    },
    {
     "data": {
      "application/vnd.jupyter.widget-view+json": {
       "model_id": "643b60e4992248e48f2fc77210614502",
       "version_major": 2,
       "version_minor": 0
      },
      "text/plain": [
       "  0%|          | 0/1 [00:00<?, ?it/s]"
      ]
     },
     "metadata": {},
     "output_type": "display_data"
    },
    {
     "name": "stdout",
     "output_type": "stream",
     "text": [
      "New York City is a city where the language spoken is English. Sydney is a city where the language spoken is English. Rome is a city where the language spoken is Italian. New Delhi is a city where the language spoken is English\n",
      "Ground truth:  Hindi\n",
      "\n",
      "\n",
      "\n",
      "---------------------------------------------------\n",
      "Sydney is a city where the language spoken is English. Bangkok is a city where the language spoken is Thai. New York City is a city where the language spoken is English. Rio de Janeiro is a city where the language spoken is\n"
     ]
    },
    {
     "data": {
      "application/vnd.jupyter.widget-view+json": {
       "model_id": "b97b61a5b0bd4feb886dda98d129a2bb",
       "version_major": 2,
       "version_minor": 0
      },
      "text/plain": [
       "  0%|          | 0/1 [00:00<?, ?it/s]"
      ]
     },
     "metadata": {},
     "output_type": "display_data"
    },
    {
     "name": "stdout",
     "output_type": "stream",
     "text": [
      "Sydney is a city where the language spoken is English. Bangkok is a city where the language spoken is Thai. New York City is a city where the language spoken is English. Rio de Janeiro is a city where the language spoken is Portuguese\n",
      "Ground truth:  Portuguese\n",
      "\n",
      "\n",
      "\n",
      "---------------------------------------------------\n",
      "Toronto is a city where the language spoken is English. St. Petersburg is a city where the language spoken is Russian. Sydney is a city where the language spoken is English. Mexico City is a city where the language spoken is\n"
     ]
    },
    {
     "data": {
      "application/vnd.jupyter.widget-view+json": {
       "model_id": "4e22ff96ed62489f8f3a027a7f55fc32",
       "version_major": 2,
       "version_minor": 0
      },
      "text/plain": [
       "  0%|          | 0/1 [00:00<?, ?it/s]"
      ]
     },
     "metadata": {},
     "output_type": "display_data"
    },
    {
     "name": "stdout",
     "output_type": "stream",
     "text": [
      "Toronto is a city where the language spoken is English. St. Petersburg is a city where the language spoken is Russian. Sydney is a city where the language spoken is English. Mexico City is a city where the language spoken is Spanish\n",
      "Ground truth:  Spanish\n",
      "\n",
      "\n",
      "\n",
      "---------------------------------------------------\n",
      "Tokyo is a city where the language spoken is Japanese. Los Angeles is a city where the language spoken is English. Buenos Aires is a city where the language spoken is Spanish. Kuala Lumpur is a city where the language spoken is\n"
     ]
    },
    {
     "data": {
      "application/vnd.jupyter.widget-view+json": {
       "model_id": "cb84476a56fa44c7acaf63fde5b5cf78",
       "version_major": 2,
       "version_minor": 0
      },
      "text/plain": [
       "  0%|          | 0/1 [00:00<?, ?it/s]"
      ]
     },
     "metadata": {},
     "output_type": "display_data"
    },
    {
     "name": "stdout",
     "output_type": "stream",
     "text": [
      "Tokyo is a city where the language spoken is Japanese. Los Angeles is a city where the language spoken is English. Buenos Aires is a city where the language spoken is Spanish. Kuala Lumpur is a city where the language spoken is English\n",
      "Ground truth:  Malay\n",
      "\n",
      "\n",
      "\n",
      "---------------------------------------------------\n",
      "St. Petersburg is a city where the language spoken is Russian. Paris is a city where the language spoken is French. Los Angeles is a city where the language spoken is English. Mexico City is a city where the language spoken is\n"
     ]
    },
    {
     "data": {
      "application/vnd.jupyter.widget-view+json": {
       "model_id": "26db97aa218843e68424f66eba9648bf",
       "version_major": 2,
       "version_minor": 0
      },
      "text/plain": [
       "  0%|          | 0/1 [00:00<?, ?it/s]"
      ]
     },
     "metadata": {},
     "output_type": "display_data"
    },
    {
     "name": "stdout",
     "output_type": "stream",
     "text": [
      "St. Petersburg is a city where the language spoken is Russian. Paris is a city where the language spoken is French. Los Angeles is a city where the language spoken is English. Mexico City is a city where the language spoken is Spanish\n",
      "Ground truth:  Spanish\n",
      "\n",
      "\n",
      "\n",
      "---------------------------------------------------\n",
      "St. Petersburg is a city where the language spoken is Russian. New York City is a city where the language spoken is English. San Francisco is a city where the language spoken is English. New Delhi is a city where the language spoken is\n"
     ]
    },
    {
     "data": {
      "application/vnd.jupyter.widget-view+json": {
       "model_id": "02a6721a15c1432ba52715de8dc02643",
       "version_major": 2,
       "version_minor": 0
      },
      "text/plain": [
       "  0%|          | 0/1 [00:00<?, ?it/s]"
      ]
     },
     "metadata": {},
     "output_type": "display_data"
    },
    {
     "name": "stdout",
     "output_type": "stream",
     "text": [
      "St. Petersburg is a city where the language spoken is Russian. New York City is a city where the language spoken is English. San Francisco is a city where the language spoken is English. New Delhi is a city where the language spoken is Hindi\n",
      "Ground truth:  Hindi\n",
      "\n",
      "\n",
      "\n",
      "---------------------------------------------------\n",
      "Buenos Aires is a city where the language spoken is Spanish. Los Angeles is a city where the language spoken is English. Bangkok is a city where the language spoken is Thai. Cape Town is a city where the language spoken is\n"
     ]
    },
    {
     "data": {
      "application/vnd.jupyter.widget-view+json": {
       "model_id": "3d8ecd09e43348118468893e05a87344",
       "version_major": 2,
       "version_minor": 0
      },
      "text/plain": [
       "  0%|          | 0/1 [00:00<?, ?it/s]"
      ]
     },
     "metadata": {},
     "output_type": "display_data"
    },
    {
     "name": "stdout",
     "output_type": "stream",
     "text": [
      "Buenos Aires is a city where the language spoken is Spanish. Los Angeles is a city where the language spoken is English. Bangkok is a city where the language spoken is Thai. Cape Town is a city where the language spoken is Portuguese\n",
      "Ground truth:  Afrikaans\n",
      "\n",
      "\n",
      "\n",
      "---------------------------------------------------\n",
      "Mexico City is a city where the language spoken is Spanish. Cape Town is a city where the language spoken is Afrikaans. New York City is a city where the language spoken is English. Sydney is a city where the language spoken is\n"
     ]
    },
    {
     "data": {
      "application/vnd.jupyter.widget-view+json": {
       "model_id": "fd34c288fa2549ca98dabc3e846ae192",
       "version_major": 2,
       "version_minor": 0
      },
      "text/plain": [
       "  0%|          | 0/1 [00:00<?, ?it/s]"
      ]
     },
     "metadata": {},
     "output_type": "display_data"
    },
    {
     "name": "stdout",
     "output_type": "stream",
     "text": [
      "Mexico City is a city where the language spoken is Spanish. Cape Town is a city where the language spoken is Afrikaans. New York City is a city where the language spoken is English. Sydney is a city where the language spoken is English\n",
      "Ground truth:  English\n",
      "\n",
      "\n",
      "\n",
      "---------------------------------------------------\n",
      "San Francisco is a city where the language spoken is English. Tokyo is a city where the language spoken is Japanese. Beijing is a city where the language spoken is Chinese. Cape Town is a city where the language spoken is\n"
     ]
    },
    {
     "data": {
      "application/vnd.jupyter.widget-view+json": {
       "model_id": "b1ce0f248d6b4d26be5ac6089b2e4d30",
       "version_major": 2,
       "version_minor": 0
      },
      "text/plain": [
       "  0%|          | 0/1 [00:00<?, ?it/s]"
      ]
     },
     "metadata": {},
     "output_type": "display_data"
    },
    {
     "name": "stdout",
     "output_type": "stream",
     "text": [
      "San Francisco is a city where the language spoken is English. Tokyo is a city where the language spoken is Japanese. Beijing is a city where the language spoken is Chinese. Cape Town is a city where the language spoken is English\n",
      "Ground truth:  Afrikaans\n",
      "\n",
      "\n",
      "\n",
      "---------------------------------------------------\n",
      "Rio de Janeiro is a city where the language spoken is Portuguese. New Delhi is a city where the language spoken is Hindi. Beijing is a city where the language spoken is Chinese. San Francisco is a city where the language spoken is\n"
     ]
    },
    {
     "data": {
      "application/vnd.jupyter.widget-view+json": {
       "model_id": "fafa88df4ee54ea0a10255b181c1bfd7",
       "version_major": 2,
       "version_minor": 0
      },
      "text/plain": [
       "  0%|          | 0/1 [00:00<?, ?it/s]"
      ]
     },
     "metadata": {},
     "output_type": "display_data"
    },
    {
     "name": "stdout",
     "output_type": "stream",
     "text": [
      "Rio de Janeiro is a city where the language spoken is Portuguese. New Delhi is a city where the language spoken is Hindi. Beijing is a city where the language spoken is Chinese. San Francisco is a city where the language spoken is English\n",
      "Ground truth:  English\n",
      "\n",
      "\n",
      "\n",
      "---------------------------------------------------\n",
      "Sydney is a city where the language spoken is English. Paris is a city where the language spoken is French. Buenos Aires is a city where the language spoken is Spanish. Kuala Lumpur is a city where the language spoken is\n"
     ]
    },
    {
     "data": {
      "application/vnd.jupyter.widget-view+json": {
       "model_id": "26c82137ad5940cda780191f3ff11e29",
       "version_major": 2,
       "version_minor": 0
      },
      "text/plain": [
       "  0%|          | 0/1 [00:00<?, ?it/s]"
      ]
     },
     "metadata": {},
     "output_type": "display_data"
    },
    {
     "name": "stdout",
     "output_type": "stream",
     "text": [
      "Sydney is a city where the language spoken is English. Paris is a city where the language spoken is French. Buenos Aires is a city where the language spoken is Spanish. Kuala Lumpur is a city where the language spoken is Mal\n",
      "Ground truth:  Malay\n",
      "\n",
      "\n",
      "\n",
      "---------------------------------------------------\n",
      "Bangkok is a city where the language spoken is Thai. Cape Town is a city where the language spoken is Afrikaans. St. Petersburg is a city where the language spoken is Russian. San Francisco is a city where the language spoken is\n"
     ]
    },
    {
     "data": {
      "application/vnd.jupyter.widget-view+json": {
       "model_id": "19a57f06c7f74620a8d0e41472435b9e",
       "version_major": 2,
       "version_minor": 0
      },
      "text/plain": [
       "  0%|          | 0/1 [00:00<?, ?it/s]"
      ]
     },
     "metadata": {},
     "output_type": "display_data"
    },
    {
     "name": "stdout",
     "output_type": "stream",
     "text": [
      "Bangkok is a city where the language spoken is Thai. Cape Town is a city where the language spoken is Afrikaans. St. Petersburg is a city where the language spoken is Russian. San Francisco is a city where the language spoken is Spanish\n",
      "Ground truth:  English\n",
      "\n",
      "\n",
      "\n",
      "---------------------------------------------------\n",
      "Cape Town is a city where the language spoken is Afrikaans. Beijing is a city where the language spoken is Chinese. Buenos Aires is a city where the language spoken is Spanish. Paris is a city where the language spoken is\n"
     ]
    },
    {
     "data": {
      "application/vnd.jupyter.widget-view+json": {
       "model_id": "5241c2ff22bb47c38fe37131f2303a83",
       "version_major": 2,
       "version_minor": 0
      },
      "text/plain": [
       "  0%|          | 0/1 [00:00<?, ?it/s]"
      ]
     },
     "metadata": {},
     "output_type": "display_data"
    },
    {
     "name": "stdout",
     "output_type": "stream",
     "text": [
      "Cape Town is a city where the language spoken is Afrikaans. Beijing is a city where the language spoken is Chinese. Buenos Aires is a city where the language spoken is Spanish. Paris is a city where the language spoken is French\n",
      "Ground truth:  French\n",
      "\n",
      "\n",
      "\n",
      "---------------------------------------------------\n",
      "St. Petersburg is a city where the language spoken is Russian. Los Angeles is a city where the language spoken is English. Mexico City is a city where the language spoken is Spanish. Buenos Aires is a city where the language spoken is\n"
     ]
    },
    {
     "data": {
      "application/vnd.jupyter.widget-view+json": {
       "model_id": "81a79cc7730647f991472b6615fdc11d",
       "version_major": 2,
       "version_minor": 0
      },
      "text/plain": [
       "  0%|          | 0/1 [00:00<?, ?it/s]"
      ]
     },
     "metadata": {},
     "output_type": "display_data"
    },
    {
     "name": "stdout",
     "output_type": "stream",
     "text": [
      "St. Petersburg is a city where the language spoken is Russian. Los Angeles is a city where the language spoken is English. Mexico City is a city where the language spoken is Spanish. Buenos Aires is a city where the language spoken is Spanish\n",
      "Ground truth:  Spanish\n",
      "\n",
      "\n",
      "\n",
      "---------------------------------------------------\n",
      "Rome is a city where the language spoken is Italian. Los Angeles is a city where the language spoken is English. Tokyo is a city where the language spoken is Japanese. New Delhi is a city where the language spoken is\n"
     ]
    },
    {
     "data": {
      "application/vnd.jupyter.widget-view+json": {
       "model_id": "56c6c16ad161480da3766dfe610b5088",
       "version_major": 2,
       "version_minor": 0
      },
      "text/plain": [
       "  0%|          | 0/1 [00:00<?, ?it/s]"
      ]
     },
     "metadata": {},
     "output_type": "display_data"
    },
    {
     "name": "stdout",
     "output_type": "stream",
     "text": [
      "Rome is a city where the language spoken is Italian. Los Angeles is a city where the language spoken is English. Tokyo is a city where the language spoken is Japanese. New Delhi is a city where the language spoken is English\n",
      "Ground truth:  Hindi\n",
      "\n",
      "\n",
      "\n",
      "---------------------------------------------------\n",
      "Sydney is a city where the language spoken is English. St. Petersburg is a city where the language spoken is Russian. Tokyo is a city where the language spoken is Japanese. Kuala Lumpur is a city where the language spoken is\n"
     ]
    },
    {
     "data": {
      "application/vnd.jupyter.widget-view+json": {
       "model_id": "6efe2b46b0e24aa2871eec5b7d5ba22a",
       "version_major": 2,
       "version_minor": 0
      },
      "text/plain": [
       "  0%|          | 0/1 [00:00<?, ?it/s]"
      ]
     },
     "metadata": {},
     "output_type": "display_data"
    },
    {
     "name": "stdout",
     "output_type": "stream",
     "text": [
      "Sydney is a city where the language spoken is English. St. Petersburg is a city where the language spoken is Russian. Tokyo is a city where the language spoken is Japanese. Kuala Lumpur is a city where the language spoken is Chinese\n",
      "Ground truth:  Malay\n",
      "\n",
      "\n",
      "\n",
      "---------------------------------------------------\n",
      "Kuala Lumpur is a city where the language spoken is Malay. Rio de Janeiro is a city where the language spoken is Portuguese. Tokyo is a city where the language spoken is Japanese. Toronto is a city where the language spoken is\n"
     ]
    },
    {
     "data": {
      "application/vnd.jupyter.widget-view+json": {
       "model_id": "3403f4a4a0594e37b9eddf37af0e6b16",
       "version_major": 2,
       "version_minor": 0
      },
      "text/plain": [
       "  0%|          | 0/1 [00:00<?, ?it/s]"
      ]
     },
     "metadata": {},
     "output_type": "display_data"
    },
    {
     "name": "stdout",
     "output_type": "stream",
     "text": [
      "Kuala Lumpur is a city where the language spoken is Malay. Rio de Janeiro is a city where the language spoken is Portuguese. Tokyo is a city where the language spoken is Japanese. Toronto is a city where the language spoken is Japanese\n",
      "Ground truth:  English\n",
      "\n",
      "\n",
      "\n",
      "---------------------------------------------------\n",
      "Toronto is a city where the language spoken is English. Kuala Lumpur is a city where the language spoken is Malay. Los Angeles is a city where the language spoken is English. Rio de Janeiro is a city where the language spoken is\n"
     ]
    },
    {
     "data": {
      "application/vnd.jupyter.widget-view+json": {
       "model_id": "3f59dc51ce9b43e898c1ac4f691ffcc9",
       "version_major": 2,
       "version_minor": 0
      },
      "text/plain": [
       "  0%|          | 0/1 [00:00<?, ?it/s]"
      ]
     },
     "metadata": {},
     "output_type": "display_data"
    },
    {
     "name": "stdout",
     "output_type": "stream",
     "text": [
      "Toronto is a city where the language spoken is English. Kuala Lumpur is a city where the language spoken is Malay. Los Angeles is a city where the language spoken is English. Rio de Janeiro is a city where the language spoken is Portuguese\n",
      "Ground truth:  Portuguese\n",
      "\n",
      "\n",
      "\n",
      "---------------------------------------------------\n",
      "St. Petersburg is a city where the language spoken is Russian. Beijing is a city where the language spoken is Chinese. Rome is a city where the language spoken is Italian. Rio de Janeiro is a city where the language spoken is\n"
     ]
    },
    {
     "data": {
      "application/vnd.jupyter.widget-view+json": {
       "model_id": "bdcfbc7578f44f14b2ca703fa4703c80",
       "version_major": 2,
       "version_minor": 0
      },
      "text/plain": [
       "  0%|          | 0/1 [00:00<?, ?it/s]"
      ]
     },
     "metadata": {},
     "output_type": "display_data"
    },
    {
     "name": "stdout",
     "output_type": "stream",
     "text": [
      "St. Petersburg is a city where the language spoken is Russian. Beijing is a city where the language spoken is Chinese. Rome is a city where the language spoken is Italian. Rio de Janeiro is a city where the language spoken is Portuguese\n",
      "Ground truth:  Portuguese\n",
      "\n",
      "\n",
      "\n",
      "---------------------------------------------------\n",
      "Kuala Lumpur is a city where the language spoken is Malay. St. Petersburg is a city where the language spoken is Russian. Bangkok is a city where the language spoken is Thai. New York City is a city where the language spoken is\n"
     ]
    },
    {
     "data": {
      "application/vnd.jupyter.widget-view+json": {
       "model_id": "b3b0b8529db44b38abc16cb10cf2f01b",
       "version_major": 2,
       "version_minor": 0
      },
      "text/plain": [
       "  0%|          | 0/1 [00:00<?, ?it/s]"
      ]
     },
     "metadata": {},
     "output_type": "display_data"
    },
    {
     "name": "stdout",
     "output_type": "stream",
     "text": [
      "Kuala Lumpur is a city where the language spoken is Malay. St. Petersburg is a city where the language spoken is Russian. Bangkok is a city where the language spoken is Thai. New York City is a city where the language spoken is English\n",
      "Ground truth:  English\n",
      "\n",
      "\n",
      "\n",
      "---------------------------------------------------\n",
      "St. Petersburg is a city where the language spoken is Russian. Bangkok is a city where the language spoken is Thai. Kuala Lumpur is a city where the language spoken is Malay. Rome is a city where the language spoken is\n"
     ]
    },
    {
     "data": {
      "application/vnd.jupyter.widget-view+json": {
       "model_id": "1e62662104864d8bb0d3e0f04fdde77b",
       "version_major": 2,
       "version_minor": 0
      },
      "text/plain": [
       "  0%|          | 0/1 [00:00<?, ?it/s]"
      ]
     },
     "metadata": {},
     "output_type": "display_data"
    },
    {
     "name": "stdout",
     "output_type": "stream",
     "text": [
      "St. Petersburg is a city where the language spoken is Russian. Bangkok is a city where the language spoken is Thai. Kuala Lumpur is a city where the language spoken is Malay. Rome is a city where the language spoken is Italian\n",
      "Ground truth:  Italian\n",
      "\n",
      "\n",
      "\n",
      "---------------------------------------------------\n",
      "Los Angeles is a city where the language spoken is English. Tokyo is a city where the language spoken is Japanese. St. Petersburg is a city where the language spoken is Russian. Rome is a city where the language spoken is\n"
     ]
    },
    {
     "data": {
      "application/vnd.jupyter.widget-view+json": {
       "model_id": "720570f7d6134e97a7025ac8e18f80dc",
       "version_major": 2,
       "version_minor": 0
      },
      "text/plain": [
       "  0%|          | 0/1 [00:00<?, ?it/s]"
      ]
     },
     "metadata": {},
     "output_type": "display_data"
    },
    {
     "name": "stdout",
     "output_type": "stream",
     "text": [
      "Los Angeles is a city where the language spoken is English. Tokyo is a city where the language spoken is Japanese. St. Petersburg is a city where the language spoken is Russian. Rome is a city where the language spoken is Italian\n",
      "Ground truth:  Italian\n",
      "\n",
      "\n",
      "\n",
      "---------------------------------------------------\n",
      "Mexico City is a city where the language spoken is Spanish. Rome is a city where the language spoken is Italian. New York City is a city where the language spoken is English. Toronto is a city where the language spoken is\n"
     ]
    },
    {
     "data": {
      "application/vnd.jupyter.widget-view+json": {
       "model_id": "9bfcd7616ba04e82a2b49e2fb592ea23",
       "version_major": 2,
       "version_minor": 0
      },
      "text/plain": [
       "  0%|          | 0/1 [00:00<?, ?it/s]"
      ]
     },
     "metadata": {},
     "output_type": "display_data"
    },
    {
     "name": "stdout",
     "output_type": "stream",
     "text": [
      "Mexico City is a city where the language spoken is Spanish. Rome is a city where the language spoken is Italian. New York City is a city where the language spoken is English. Toronto is a city where the language spoken is French\n",
      "Ground truth:  English\n",
      "\n",
      "\n",
      "\n",
      "---------------------------------------------------\n",
      "Toronto is a city where the language spoken is English. Cape Town is a city where the language spoken is Afrikaans. Rio de Janeiro is a city where the language spoken is Portuguese. San Francisco is a city where the language spoken is\n"
     ]
    },
    {
     "data": {
      "application/vnd.jupyter.widget-view+json": {
       "model_id": "5f5e84709e064faea29fae3c9c710a6b",
       "version_major": 2,
       "version_minor": 0
      },
      "text/plain": [
       "  0%|          | 0/1 [00:00<?, ?it/s]"
      ]
     },
     "metadata": {},
     "output_type": "display_data"
    },
    {
     "name": "stdout",
     "output_type": "stream",
     "text": [
      "Toronto is a city where the language spoken is English. Cape Town is a city where the language spoken is Afrikaans. Rio de Janeiro is a city where the language spoken is Portuguese. San Francisco is a city where the language spoken is Spanish\n",
      "Ground truth:  English\n",
      "\n",
      "\n",
      "\n",
      "---------------------------------------------------\n",
      "Bangkok is a city where the language spoken is Thai. San Francisco is a city where the language spoken is English. Rome is a city where the language spoken is Italian. Mexico City is a city where the language spoken is\n"
     ]
    },
    {
     "data": {
      "application/vnd.jupyter.widget-view+json": {
       "model_id": "6d02b7cf17f14ec880d5ae2548bc57e8",
       "version_major": 2,
       "version_minor": 0
      },
      "text/plain": [
       "  0%|          | 0/1 [00:00<?, ?it/s]"
      ]
     },
     "metadata": {},
     "output_type": "display_data"
    },
    {
     "name": "stdout",
     "output_type": "stream",
     "text": [
      "Bangkok is a city where the language spoken is Thai. San Francisco is a city where the language spoken is English. Rome is a city where the language spoken is Italian. Mexico City is a city where the language spoken is Spanish\n",
      "Ground truth:  Spanish\n",
      "\n",
      "\n",
      "\n",
      "---------------------------------------------------\n",
      "Cape Town is a city where the language spoken is Afrikaans. Bangkok is a city where the language spoken is Thai. Los Angeles is a city where the language spoken is English. Kuala Lumpur is a city where the language spoken is\n"
     ]
    },
    {
     "data": {
      "application/vnd.jupyter.widget-view+json": {
       "model_id": "d24ad305e58b41b79bd53f8e21e619fd",
       "version_major": 2,
       "version_minor": 0
      },
      "text/plain": [
       "  0%|          | 0/1 [00:00<?, ?it/s]"
      ]
     },
     "metadata": {},
     "output_type": "display_data"
    },
    {
     "name": "stdout",
     "output_type": "stream",
     "text": [
      "Cape Town is a city where the language spoken is Afrikaans. Bangkok is a city where the language spoken is Thai. Los Angeles is a city where the language spoken is English. Kuala Lumpur is a city where the language spoken is Mal\n",
      "Ground truth:  Malay\n",
      "\n",
      "\n",
      "\n",
      "---------------------------------------------------\n",
      "Cape Town is a city where the language spoken is Afrikaans. Toronto is a city where the language spoken is English. Kuala Lumpur is a city where the language spoken is Malay. Beijing is a city where the language spoken is\n"
     ]
    },
    {
     "data": {
      "application/vnd.jupyter.widget-view+json": {
       "model_id": "2d34c3e63ec64560af44e28ea8a579a6",
       "version_major": 2,
       "version_minor": 0
      },
      "text/plain": [
       "  0%|          | 0/1 [00:00<?, ?it/s]"
      ]
     },
     "metadata": {},
     "output_type": "display_data"
    },
    {
     "name": "stdout",
     "output_type": "stream",
     "text": [
      "Cape Town is a city where the language spoken is Afrikaans. Toronto is a city where the language spoken is English. Kuala Lumpur is a city where the language spoken is Malay. Beijing is a city where the language spoken is Chinese\n",
      "Ground truth:  Chinese\n",
      "\n",
      "\n",
      "\n",
      "---------------------------------------------------\n",
      "Beijing is a city where the language spoken is Chinese. Sydney is a city where the language spoken is English. Los Angeles is a city where the language spoken is English. New York City is a city where the language spoken is\n"
     ]
    },
    {
     "data": {
      "application/vnd.jupyter.widget-view+json": {
       "model_id": "bb8f4c9059394b5d82bf89a5f2601c39",
       "version_major": 2,
       "version_minor": 0
      },
      "text/plain": [
       "  0%|          | 0/1 [00:00<?, ?it/s]"
      ]
     },
     "metadata": {},
     "output_type": "display_data"
    },
    {
     "name": "stdout",
     "output_type": "stream",
     "text": [
      "Beijing is a city where the language spoken is Chinese. Sydney is a city where the language spoken is English. Los Angeles is a city where the language spoken is English. New York City is a city where the language spoken is English\n",
      "Ground truth:  English\n",
      "\n",
      "\n",
      "\n",
      "---------------------------------------------------\n",
      "New York City is a city where the language spoken is English. Cape Town is a city where the language spoken is Afrikaans. Kuala Lumpur is a city where the language spoken is Malay. Rio de Janeiro is a city where the language spoken is\n"
     ]
    },
    {
     "data": {
      "application/vnd.jupyter.widget-view+json": {
       "model_id": "d8f8090718414f14902680d850713adf",
       "version_major": 2,
       "version_minor": 0
      },
      "text/plain": [
       "  0%|          | 0/1 [00:00<?, ?it/s]"
      ]
     },
     "metadata": {},
     "output_type": "display_data"
    },
    {
     "name": "stdout",
     "output_type": "stream",
     "text": [
      "New York City is a city where the language spoken is English. Cape Town is a city where the language spoken is Afrikaans. Kuala Lumpur is a city where the language spoken is Malay. Rio de Janeiro is a city where the language spoken is Portuguese\n",
      "Ground truth:  Portuguese\n",
      "\n",
      "\n",
      "\n",
      "---------------------------------------------------\n",
      "Beijing is a city where the language spoken is Chinese. Cape Town is a city where the language spoken is Afrikaans. New York City is a city where the language spoken is English. Mexico City is a city where the language spoken is\n"
     ]
    },
    {
     "data": {
      "application/vnd.jupyter.widget-view+json": {
       "model_id": "ea69560749dd4f0585f29e6563fa6668",
       "version_major": 2,
       "version_minor": 0
      },
      "text/plain": [
       "  0%|          | 0/1 [00:00<?, ?it/s]"
      ]
     },
     "metadata": {},
     "output_type": "display_data"
    },
    {
     "name": "stdout",
     "output_type": "stream",
     "text": [
      "Beijing is a city where the language spoken is Chinese. Cape Town is a city where the language spoken is Afrikaans. New York City is a city where the language spoken is English. Mexico City is a city where the language spoken is Spanish\n",
      "Ground truth:  Spanish\n",
      "\n",
      "\n",
      "\n",
      "---------------------------------------------------\n",
      "Buenos Aires is a city where the language spoken is Spanish. Toronto is a city where the language spoken is English. New York City is a city where the language spoken is English. San Francisco is a city where the language spoken is\n"
     ]
    },
    {
     "data": {
      "application/vnd.jupyter.widget-view+json": {
       "model_id": "7475518cba6a4b6c87a790a59ceb7b84",
       "version_major": 2,
       "version_minor": 0
      },
      "text/plain": [
       "  0%|          | 0/1 [00:00<?, ?it/s]"
      ]
     },
     "metadata": {},
     "output_type": "display_data"
    },
    {
     "name": "stdout",
     "output_type": "stream",
     "text": [
      "Buenos Aires is a city where the language spoken is Spanish. Toronto is a city where the language spoken is English. New York City is a city where the language spoken is English. San Francisco is a city where the language spoken is Spanish\n",
      "Ground truth:  English\n",
      "\n",
      "\n",
      "\n",
      "---------------------------------------------------\n",
      "Sydney is a city where the language spoken is English. Cape Town is a city where the language spoken is Afrikaans. St. Petersburg is a city where the language spoken is Russian. New York City is a city where the language spoken is\n"
     ]
    },
    {
     "data": {
      "application/vnd.jupyter.widget-view+json": {
       "model_id": "8b767315202a4aa18d258825a55aadec",
       "version_major": 2,
       "version_minor": 0
      },
      "text/plain": [
       "  0%|          | 0/1 [00:00<?, ?it/s]"
      ]
     },
     "metadata": {},
     "output_type": "display_data"
    },
    {
     "name": "stdout",
     "output_type": "stream",
     "text": [
      "Sydney is a city where the language spoken is English. Cape Town is a city where the language spoken is Afrikaans. St. Petersburg is a city where the language spoken is Russian. New York City is a city where the language spoken is English\n",
      "Ground truth:  English\n",
      "\n",
      "\n",
      "\n",
      "---------------------------------------------------\n",
      "Beijing is a city where the language spoken is Chinese. Kuala Lumpur is a city where the language spoken is Malay. Tokyo is a city where the language spoken is Japanese. Los Angeles is a city where the language spoken is\n"
     ]
    },
    {
     "data": {
      "application/vnd.jupyter.widget-view+json": {
       "model_id": "a4b686f1052c40699592798590a7a935",
       "version_major": 2,
       "version_minor": 0
      },
      "text/plain": [
       "  0%|          | 0/1 [00:00<?, ?it/s]"
      ]
     },
     "metadata": {},
     "output_type": "display_data"
    },
    {
     "name": "stdout",
     "output_type": "stream",
     "text": [
      "Beijing is a city where the language spoken is Chinese. Kuala Lumpur is a city where the language spoken is Malay. Tokyo is a city where the language spoken is Japanese. Los Angeles is a city where the language spoken is Korean\n",
      "Ground truth:  English\n",
      "\n",
      "\n",
      "\n",
      "---------------------------------------------------\n",
      "Bangkok is a city where the language spoken is Thai. Cape Town is a city where the language spoken is Afrikaans. Beijing is a city where the language spoken is Chinese. San Francisco is a city where the language spoken is\n"
     ]
    },
    {
     "data": {
      "application/vnd.jupyter.widget-view+json": {
       "model_id": "f34e498daeb045ccbe6e3a662d25b9ce",
       "version_major": 2,
       "version_minor": 0
      },
      "text/plain": [
       "  0%|          | 0/1 [00:00<?, ?it/s]"
      ]
     },
     "metadata": {},
     "output_type": "display_data"
    },
    {
     "name": "stdout",
     "output_type": "stream",
     "text": [
      "Bangkok is a city where the language spoken is Thai. Cape Town is a city where the language spoken is Afrikaans. Beijing is a city where the language spoken is Chinese. San Francisco is a city where the language spoken is Mandarin\n",
      "Ground truth:  English\n",
      "\n",
      "\n",
      "\n",
      "---------------------------------------------------\n",
      "New York City is a city where the language spoken is English. Los Angeles is a city where the language spoken is English. Rio de Janeiro is a city where the language spoken is Portuguese. Sydney is a city where the language spoken is\n"
     ]
    },
    {
     "data": {
      "application/vnd.jupyter.widget-view+json": {
       "model_id": "69f483d8f57d47b280d0665d0194b42a",
       "version_major": 2,
       "version_minor": 0
      },
      "text/plain": [
       "  0%|          | 0/1 [00:00<?, ?it/s]"
      ]
     },
     "metadata": {},
     "output_type": "display_data"
    },
    {
     "name": "stdout",
     "output_type": "stream",
     "text": [
      "New York City is a city where the language spoken is English. Los Angeles is a city where the language spoken is English. Rio de Janeiro is a city where the language spoken is Portuguese. Sydney is a city where the language spoken is English\n",
      "Ground truth:  English\n",
      "\n",
      "\n",
      "\n",
      "---------------------------------------------------\n",
      "Sydney is a city where the language spoken is English. Mexico City is a city where the language spoken is Spanish. New York City is a city where the language spoken is English. Los Angeles is a city where the language spoken is\n"
     ]
    },
    {
     "data": {
      "application/vnd.jupyter.widget-view+json": {
       "model_id": "ea060113c35c4576abc0a0f6cdffbbaf",
       "version_major": 2,
       "version_minor": 0
      },
      "text/plain": [
       "  0%|          | 0/1 [00:00<?, ?it/s]"
      ]
     },
     "metadata": {},
     "output_type": "display_data"
    },
    {
     "name": "stdout",
     "output_type": "stream",
     "text": [
      "Sydney is a city where the language spoken is English. Mexico City is a city where the language spoken is Spanish. New York City is a city where the language spoken is English. Los Angeles is a city where the language spoken is Spanish\n",
      "Ground truth:  English\n",
      "\n",
      "\n",
      "\n",
      "---------------------------------------------------\n",
      "Sydney is a city where the language spoken is English. Rio de Janeiro is a city where the language spoken is Portuguese. Toronto is a city where the language spoken is English. New York City is a city where the language spoken is\n"
     ]
    },
    {
     "data": {
      "application/vnd.jupyter.widget-view+json": {
       "model_id": "214d9464b764450c94d5a20bd4850840",
       "version_major": 2,
       "version_minor": 0
      },
      "text/plain": [
       "  0%|          | 0/1 [00:00<?, ?it/s]"
      ]
     },
     "metadata": {},
     "output_type": "display_data"
    },
    {
     "name": "stdout",
     "output_type": "stream",
     "text": [
      "Sydney is a city where the language spoken is English. Rio de Janeiro is a city where the language spoken is Portuguese. Toronto is a city where the language spoken is English. New York City is a city where the language spoken is English\n",
      "Ground truth:  English\n",
      "\n",
      "\n",
      "\n",
      "---------------------------------------------------\n",
      "New York City is a city where the language spoken is English. New Delhi is a city where the language spoken is Hindi. San Francisco is a city where the language spoken is English. Cape Town is a city where the language spoken is\n"
     ]
    },
    {
     "data": {
      "application/vnd.jupyter.widget-view+json": {
       "model_id": "ec3c6355235f444c89cc9bf14171b50f",
       "version_major": 2,
       "version_minor": 0
      },
      "text/plain": [
       "  0%|          | 0/1 [00:00<?, ?it/s]"
      ]
     },
     "metadata": {},
     "output_type": "display_data"
    },
    {
     "name": "stdout",
     "output_type": "stream",
     "text": [
      "New York City is a city where the language spoken is English. New Delhi is a city where the language spoken is Hindi. San Francisco is a city where the language spoken is English. Cape Town is a city where the language spoken is English\n",
      "Ground truth:  Afrikaans\n",
      "\n",
      "\n",
      "\n",
      "---------------------------------------------------\n",
      "Accuracy:  0.71\n"
     ]
    }
   ],
   "source": [
    "city_language_correct = 0\n",
    "city_language_retained = []\n",
    "for prompt, gt in city_language_prompts:\n",
    "    print(prompt)\n",
    "    generation = model.generate(\n",
    "        prompt, max_new_tokens=1, temperature=0.0, prepend_bos=True\n",
    "    )\n",
    "    print(generation)\n",
    "    print(\"Ground truth: \", gt)\n",
    "    print(\"\\n\\n\")\n",
    "    print(\"---------------------------------------------------\")\n",
    "    if gt.startswith(generation[len(prompt) :].strip()):\n",
    "        city_language_correct += 1\n",
    "        city_language_retained.append((prompt, gt))\n",
    "\n",
    "print(\"Accuracy: \", city_language_correct / len(city_language_prompts))"
   ]
  },
  {
   "cell_type": "code",
   "execution_count": 13,
   "metadata": {},
   "outputs": [
    {
     "name": "stdout",
     "output_type": "stream",
     "text": [
      "My duties are to diagnose and treat issues related to the teeth; I am a dentist. My duties are to represent clients in court during trial; I am a lawyer. My duties are to code, test, and maintain computer programs and applications; I am a software developer. My duties are to enforce laws and protect citizens from crime; I am a\n"
     ]
    },
    {
     "data": {
      "application/vnd.jupyter.widget-view+json": {
       "model_id": "72ab6d946e5b4185a3e134b6526148dd",
       "version_major": 2,
       "version_minor": 0
      },
      "text/plain": [
       "  0%|          | 0/1 [00:00<?, ?it/s]"
      ]
     },
     "metadata": {},
     "output_type": "display_data"
    },
    {
     "name": "stdout",
     "output_type": "stream",
     "text": [
      "My duties are to diagnose and treat issues related to the teeth; I am a dentist. My duties are to represent clients in court during trial; I am a lawyer. My duties are to code, test, and maintain computer programs and applications; I am a software developer. My duties are to enforce laws and protect citizens from crime; I am a lawyer\n",
      "Ground truth:  police officer\n",
      "\n",
      "\n",
      "\n",
      "---------------------------------------------------\n",
      "My duties are to plan and design the construction of buildings; I am a architect. My duties are to diagnose and treat issues related to the teeth; I am a dentist. My duties are to care for patients in a medical setting and assist doctors; I am a nurse. My duties are to create clothing and accessories according to current trends; I am a\n"
     ]
    },
    {
     "data": {
      "application/vnd.jupyter.widget-view+json": {
       "model_id": "29f146abd8254d2e9281d80473c86892",
       "version_major": 2,
       "version_minor": 0
      },
      "text/plain": [
       "  0%|          | 0/1 [00:00<?, ?it/s]"
      ]
     },
     "metadata": {},
     "output_type": "display_data"
    },
    {
     "name": "stdout",
     "output_type": "stream",
     "text": [
      "My duties are to plan and design the construction of buildings; I am a architect. My duties are to diagnose and treat issues related to the teeth; I am a dentist. My duties are to care for patients in a medical setting and assist doctors; I am a nurse. My duties are to create clothing and accessories according to current trends; I am a nurse\n",
      "Ground truth:  fashion designer\n",
      "\n",
      "\n",
      "\n",
      "---------------------------------------------------\n",
      "My duties are to create visual art using various mediums, such as paint, clay, or digital tools; I am a artist. My duties are to repair and maintain vehicles and machinery in a workshop, garage, or factory; I am a mechanic. My duties are to lead and guide a team of representatives, employees, or workers; I am a manager. My duties are to capture images using cameras; I am a\n"
     ]
    },
    {
     "data": {
      "application/vnd.jupyter.widget-view+json": {
       "model_id": "910fedb37b974ca0b54d07f44827b0c9",
       "version_major": 2,
       "version_minor": 0
      },
      "text/plain": [
       "  0%|          | 0/1 [00:00<?, ?it/s]"
      ]
     },
     "metadata": {},
     "output_type": "display_data"
    },
    {
     "name": "stdout",
     "output_type": "stream",
     "text": [
      "My duties are to create visual art using various mediums, such as paint, clay, or digital tools; I am a artist. My duties are to repair and maintain vehicles and machinery in a workshop, garage, or factory; I am a mechanic. My duties are to lead and guide a team of representatives, employees, or workers; I am a manager. My duties are to capture images using cameras; I am a photographer\n",
      "Ground truth:  photographer\n",
      "\n",
      "\n",
      "\n",
      "---------------------------------------------------\n",
      "My duties are to report news and information; I am a journalist. My duties are to educate students in a classroom setting; I am a teacher. My duties are to create clothing and accessories according to current trends; I am a fashion designer. My duties are to diagnose and treat issues related to the teeth; I am a\n"
     ]
    },
    {
     "data": {
      "application/vnd.jupyter.widget-view+json": {
       "model_id": "83be1422efec4481b06c397a3b85fa57",
       "version_major": 2,
       "version_minor": 0
      },
      "text/plain": [
       "  0%|          | 0/1 [00:00<?, ?it/s]"
      ]
     },
     "metadata": {},
     "output_type": "display_data"
    },
    {
     "name": "stdout",
     "output_type": "stream",
     "text": [
      "My duties are to report news and information; I am a journalist. My duties are to educate students in a classroom setting; I am a teacher. My duties are to create clothing and accessories according to current trends; I am a fashion designer. My duties are to diagnose and treat issues related to the teeth; I am a fashion\n",
      "Ground truth:  dentist\n",
      "\n",
      "\n",
      "\n",
      "---------------------------------------------------\n",
      "My duties are to lead and guide a team of representatives, employees, or workers; I am a manager. My duties are to capture images using cameras; I am a photographer. My duties are to code, test, and maintain computer programs and applications; I am a software developer. My duties are to play musical instruments and perform for audiences in various settings; I am a\n"
     ]
    },
    {
     "data": {
      "application/vnd.jupyter.widget-view+json": {
       "model_id": "4374aacb75e947a790bb8e1738730c66",
       "version_major": 2,
       "version_minor": 0
      },
      "text/plain": [
       "  0%|          | 0/1 [00:00<?, ?it/s]"
      ]
     },
     "metadata": {},
     "output_type": "display_data"
    },
    {
     "name": "stdout",
     "output_type": "stream",
     "text": [
      "My duties are to lead and guide a team of representatives, employees, or workers; I am a manager. My duties are to capture images using cameras; I am a photographer. My duties are to code, test, and maintain computer programs and applications; I am a software developer. My duties are to play musical instruments and perform for audiences in various settings; I am a programmer\n",
      "Ground truth:  musician\n",
      "\n",
      "\n",
      "\n",
      "---------------------------------------------------\n",
      "My duties are to repair and maintain vehicles and machinery in a workshop, garage, or factory; I am a mechanic. My duties are to report news and information; I am a journalist. My duties are to educate students in a classroom setting; I am a teacher. My duties are to care for patients in a medical setting and assist doctors; I am a\n"
     ]
    },
    {
     "data": {
      "application/vnd.jupyter.widget-view+json": {
       "model_id": "ebabf278d6434e3f93d3ad2cff0b49cd",
       "version_major": 2,
       "version_minor": 0
      },
      "text/plain": [
       "  0%|          | 0/1 [00:00<?, ?it/s]"
      ]
     },
     "metadata": {},
     "output_type": "display_data"
    },
    {
     "name": "stdout",
     "output_type": "stream",
     "text": [
      "My duties are to repair and maintain vehicles and machinery in a workshop, garage, or factory; I am a mechanic. My duties are to report news and information; I am a journalist. My duties are to educate students in a classroom setting; I am a teacher. My duties are to care for patients in a medical setting and assist doctors; I am a teacher\n",
      "Ground truth:  nurse\n",
      "\n",
      "\n",
      "\n",
      "---------------------------------------------------\n",
      "My duties are to code, test, and maintain computer programs and applications; I am a software developer. My duties are to report news and information; I am a journalist. My duties are to prepare and cook food in a professional kitchen; I am a chef. My duties are to conduct research and experiments in a laboratory setting; I am a\n"
     ]
    },
    {
     "data": {
      "application/vnd.jupyter.widget-view+json": {
       "model_id": "eb00d927b1324dc093c900d00424d063",
       "version_major": 2,
       "version_minor": 0
      },
      "text/plain": [
       "  0%|          | 0/1 [00:00<?, ?it/s]"
      ]
     },
     "metadata": {},
     "output_type": "display_data"
    },
    {
     "name": "stdout",
     "output_type": "stream",
     "text": [
      "My duties are to code, test, and maintain computer programs and applications; I am a software developer. My duties are to report news and information; I am a journalist. My duties are to prepare and cook food in a professional kitchen; I am a chef. My duties are to conduct research and experiments in a laboratory setting; I am a computer\n",
      "Ground truth:  scientist\n",
      "\n",
      "\n",
      "\n",
      "---------------------------------------------------\n",
      "My duties are to repair and maintain vehicles and machinery in a workshop, garage, or factory; I am a mechanic. My duties are to prepare and cook food in a professional kitchen; I am a chef. My duties are to enforce laws and protect citizens from crime; I am a police officer. My duties are to create clothing and accessories according to current trends; I am a\n"
     ]
    },
    {
     "data": {
      "application/vnd.jupyter.widget-view+json": {
       "model_id": "964e9bbf39c44bf28861b277899357eb",
       "version_major": 2,
       "version_minor": 0
      },
      "text/plain": [
       "  0%|          | 0/1 [00:00<?, ?it/s]"
      ]
     },
     "metadata": {},
     "output_type": "display_data"
    },
    {
     "name": "stdout",
     "output_type": "stream",
     "text": [
      "My duties are to repair and maintain vehicles and machinery in a workshop, garage, or factory; I am a mechanic. My duties are to prepare and cook food in a professional kitchen; I am a chef. My duties are to enforce laws and protect citizens from crime; I am a police officer. My duties are to create clothing and accessories according to current trends; I am a police\n",
      "Ground truth:  fashion designer\n",
      "\n",
      "\n",
      "\n",
      "---------------------------------------------------\n",
      "My duties are to prepare and cook food in a professional kitchen; I am a chef. My duties are to report news and information; I am a journalist. My duties are to educate students in a classroom setting; I am a teacher. My duties are to create clothing and accessories according to current trends; I am a\n"
     ]
    },
    {
     "data": {
      "application/vnd.jupyter.widget-view+json": {
       "model_id": "8037e5003ef449f6ab36a705d0cfa04c",
       "version_major": 2,
       "version_minor": 0
      },
      "text/plain": [
       "  0%|          | 0/1 [00:00<?, ?it/s]"
      ]
     },
     "metadata": {},
     "output_type": "display_data"
    },
    {
     "name": "stdout",
     "output_type": "stream",
     "text": [
      "My duties are to prepare and cook food in a professional kitchen; I am a chef. My duties are to report news and information; I am a journalist. My duties are to educate students in a classroom setting; I am a teacher. My duties are to create clothing and accessories according to current trends; I am a teacher\n",
      "Ground truth:  fashion designer\n",
      "\n",
      "\n",
      "\n",
      "---------------------------------------------------\n",
      "My duties are to diagnose and treat issues related to the teeth; I am a dentist. My duties are to report news and information; I am a journalist. My duties are to capture images using cameras; I am a photographer. My duties are to represent clients in court during trial; I am a\n"
     ]
    },
    {
     "data": {
      "application/vnd.jupyter.widget-view+json": {
       "model_id": "676ab5103b18453d85fe5e38d6eb5ed0",
       "version_major": 2,
       "version_minor": 0
      },
      "text/plain": [
       "  0%|          | 0/1 [00:00<?, ?it/s]"
      ]
     },
     "metadata": {},
     "output_type": "display_data"
    },
    {
     "name": "stdout",
     "output_type": "stream",
     "text": [
      "My duties are to diagnose and treat issues related to the teeth; I am a dentist. My duties are to report news and information; I am a journalist. My duties are to capture images using cameras; I am a photographer. My duties are to represent clients in court during trial; I am a lawyer\n",
      "Ground truth:  lawyer\n",
      "\n",
      "\n",
      "\n",
      "---------------------------------------------------\n",
      "My duties are to code, test, and maintain computer programs and applications; I am a software developer. My duties are to report news and information; I am a journalist. My duties are to represent clients in court during trial; I am a lawyer. My duties are to capture images using cameras; I am a\n"
     ]
    },
    {
     "data": {
      "application/vnd.jupyter.widget-view+json": {
       "model_id": "392d5032e8dc4ab0ba041cabb569972c",
       "version_major": 2,
       "version_minor": 0
      },
      "text/plain": [
       "  0%|          | 0/1 [00:00<?, ?it/s]"
      ]
     },
     "metadata": {},
     "output_type": "display_data"
    },
    {
     "name": "stdout",
     "output_type": "stream",
     "text": [
      "My duties are to code, test, and maintain computer programs and applications; I am a software developer. My duties are to report news and information; I am a journalist. My duties are to represent clients in court during trial; I am a lawyer. My duties are to capture images using cameras; I am a photographer\n",
      "Ground truth:  photographer\n",
      "\n",
      "\n",
      "\n",
      "---------------------------------------------------\n",
      "My duties are to play musical instruments and perform for audiences in various settings; I am a musician. My duties are to repair and maintain vehicles and machinery in a workshop, garage, or factory; I am a mechanic. My duties are to plan and design the construction of buildings; I am a architect. My duties are to enforce laws and protect citizens from crime; I am a\n"
     ]
    },
    {
     "data": {
      "application/vnd.jupyter.widget-view+json": {
       "model_id": "e170db369b854b769f4f588dfce99c93",
       "version_major": 2,
       "version_minor": 0
      },
      "text/plain": [
       "  0%|          | 0/1 [00:00<?, ?it/s]"
      ]
     },
     "metadata": {},
     "output_type": "display_data"
    },
    {
     "name": "stdout",
     "output_type": "stream",
     "text": [
      "My duties are to play musical instruments and perform for audiences in various settings; I am a musician. My duties are to repair and maintain vehicles and machinery in a workshop, garage, or factory; I am a mechanic. My duties are to plan and design the construction of buildings; I am a architect. My duties are to enforce laws and protect citizens from crime; I am a lawyer\n",
      "Ground truth:  police officer\n",
      "\n",
      "\n",
      "\n",
      "---------------------------------------------------\n",
      "My duties are to create clothing and accessories according to current trends; I am a fashion designer. My duties are to educate students in a classroom setting; I am a teacher. My duties are to play musical instruments and perform for audiences in various settings; I am a musician. My duties are to prepare and cook food in a professional kitchen; I am a\n"
     ]
    },
    {
     "data": {
      "application/vnd.jupyter.widget-view+json": {
       "model_id": "d04972b5fb20429081346a925ca1b8b4",
       "version_major": 2,
       "version_minor": 0
      },
      "text/plain": [
       "  0%|          | 0/1 [00:00<?, ?it/s]"
      ]
     },
     "metadata": {},
     "output_type": "display_data"
    },
    {
     "name": "stdout",
     "output_type": "stream",
     "text": [
      "My duties are to create clothing and accessories according to current trends; I am a fashion designer. My duties are to educate students in a classroom setting; I am a teacher. My duties are to play musical instruments and perform for audiences in various settings; I am a musician. My duties are to prepare and cook food in a professional kitchen; I am a teacher\n",
      "Ground truth:  chef\n",
      "\n",
      "\n",
      "\n",
      "---------------------------------------------------\n",
      "My duties are to create visual art using various mediums, such as paint, clay, or digital tools; I am a artist. My duties are to conduct research and experiments in a laboratory setting; I am a scientist. My duties are to educate students in a classroom setting; I am a teacher. My duties are to plan and design the construction of buildings; I am a\n"
     ]
    },
    {
     "data": {
      "application/vnd.jupyter.widget-view+json": {
       "model_id": "74041038c97240068b20ac21c2c2be32",
       "version_major": 2,
       "version_minor": 0
      },
      "text/plain": [
       "  0%|          | 0/1 [00:00<?, ?it/s]"
      ]
     },
     "metadata": {},
     "output_type": "display_data"
    },
    {
     "name": "stdout",
     "output_type": "stream",
     "text": [
      "My duties are to create visual art using various mediums, such as paint, clay, or digital tools; I am a artist. My duties are to conduct research and experiments in a laboratory setting; I am a scientist. My duties are to educate students in a classroom setting; I am a teacher. My duties are to plan and design the construction of buildings; I am a teacher\n",
      "Ground truth:  architect\n",
      "\n",
      "\n",
      "\n",
      "---------------------------------------------------\n",
      "My duties are to prepare and cook food in a professional kitchen; I am a chef. My duties are to lead and guide a team of representatives, employees, or workers; I am a manager. My duties are to play musical instruments and perform for audiences in various settings; I am a musician. My duties are to diagnose and treat issues related to the teeth; I am a\n"
     ]
    },
    {
     "data": {
      "application/vnd.jupyter.widget-view+json": {
       "model_id": "16528a45288645efb63c752c1c2f295a",
       "version_major": 2,
       "version_minor": 0
      },
      "text/plain": [
       "  0%|          | 0/1 [00:00<?, ?it/s]"
      ]
     },
     "metadata": {},
     "output_type": "display_data"
    },
    {
     "name": "stdout",
     "output_type": "stream",
     "text": [
      "My duties are to prepare and cook food in a professional kitchen; I am a chef. My duties are to lead and guide a team of representatives, employees, or workers; I am a manager. My duties are to play musical instruments and perform for audiences in various settings; I am a musician. My duties are to diagnose and treat issues related to the teeth; I am a musician\n",
      "Ground truth:  dentist\n",
      "\n",
      "\n",
      "\n",
      "---------------------------------------------------\n",
      "My duties are to enforce laws and protect citizens from crime; I am a police officer. My duties are to create clothing and accessories according to current trends; I am a fashion designer. My duties are to educate students in a classroom setting; I am a teacher. My duties are to represent clients in court during trial; I am a\n"
     ]
    },
    {
     "data": {
      "application/vnd.jupyter.widget-view+json": {
       "model_id": "101fc8f01883443a91bc2ba48f0ea00f",
       "version_major": 2,
       "version_minor": 0
      },
      "text/plain": [
       "  0%|          | 0/1 [00:00<?, ?it/s]"
      ]
     },
     "metadata": {},
     "output_type": "display_data"
    },
    {
     "name": "stdout",
     "output_type": "stream",
     "text": [
      "My duties are to enforce laws and protect citizens from crime; I am a police officer. My duties are to create clothing and accessories according to current trends; I am a fashion designer. My duties are to educate students in a classroom setting; I am a teacher. My duties are to represent clients in court during trial; I am a lawyer\n",
      "Ground truth:  lawyer\n",
      "\n",
      "\n",
      "\n",
      "---------------------------------------------------\n",
      "My duties are to create clothing and accessories according to current trends; I am a fashion designer. My duties are to report news and information; I am a journalist. My duties are to code, test, and maintain computer programs and applications; I am a software developer. My duties are to repair and maintain vehicles and machinery in a workshop, garage, or factory; I am a\n"
     ]
    },
    {
     "data": {
      "application/vnd.jupyter.widget-view+json": {
       "model_id": "a087eeccbcfe4513bbf9b53fdc4938cb",
       "version_major": 2,
       "version_minor": 0
      },
      "text/plain": [
       "  0%|          | 0/1 [00:00<?, ?it/s]"
      ]
     },
     "metadata": {},
     "output_type": "display_data"
    },
    {
     "name": "stdout",
     "output_type": "stream",
     "text": [
      "My duties are to create clothing and accessories according to current trends; I am a fashion designer. My duties are to report news and information; I am a journalist. My duties are to code, test, and maintain computer programs and applications; I am a software developer. My duties are to repair and maintain vehicles and machinery in a workshop, garage, or factory; I am a web\n",
      "Ground truth:  mechanic\n",
      "\n",
      "\n",
      "\n",
      "---------------------------------------------------\n",
      "My duties are to capture images using cameras; I am a photographer. My duties are to diagnose and treat issues related to the teeth; I am a dentist. My duties are to create visual art using various mediums, such as paint, clay, or digital tools; I am a artist. My duties are to create clothing and accessories according to current trends; I am a\n"
     ]
    },
    {
     "data": {
      "application/vnd.jupyter.widget-view+json": {
       "model_id": "e1835d8f2fc6401fbaccfc536e160880",
       "version_major": 2,
       "version_minor": 0
      },
      "text/plain": [
       "  0%|          | 0/1 [00:00<?, ?it/s]"
      ]
     },
     "metadata": {},
     "output_type": "display_data"
    },
    {
     "name": "stdout",
     "output_type": "stream",
     "text": [
      "My duties are to capture images using cameras; I am a photographer. My duties are to diagnose and treat issues related to the teeth; I am a dentist. My duties are to create visual art using various mediums, such as paint, clay, or digital tools; I am a artist. My duties are to create clothing and accessories according to current trends; I am a photographer\n",
      "Ground truth:  fashion designer\n",
      "\n",
      "\n",
      "\n",
      "---------------------------------------------------\n",
      "My duties are to repair and maintain vehicles and machinery in a workshop, garage, or factory; I am a mechanic. My duties are to diagnose and treat issues related to the teeth; I am a dentist. My duties are to care for patients in a medical setting and assist doctors; I am a nurse. My duties are to capture images using cameras; I am a\n"
     ]
    },
    {
     "data": {
      "application/vnd.jupyter.widget-view+json": {
       "model_id": "57229758db544f75962a3db87718e31a",
       "version_major": 2,
       "version_minor": 0
      },
      "text/plain": [
       "  0%|          | 0/1 [00:00<?, ?it/s]"
      ]
     },
     "metadata": {},
     "output_type": "display_data"
    },
    {
     "name": "stdout",
     "output_type": "stream",
     "text": [
      "My duties are to repair and maintain vehicles and machinery in a workshop, garage, or factory; I am a mechanic. My duties are to diagnose and treat issues related to the teeth; I am a dentist. My duties are to care for patients in a medical setting and assist doctors; I am a nurse. My duties are to capture images using cameras; I am a mechanic\n",
      "Ground truth:  photographer\n",
      "\n",
      "\n",
      "\n",
      "---------------------------------------------------\n",
      "My duties are to diagnose and treat issues related to the teeth; I am a dentist. My duties are to play musical instruments and perform for audiences in various settings; I am a musician. My duties are to capture images using cameras; I am a photographer. My duties are to code, test, and maintain computer programs and applications; I am a\n"
     ]
    },
    {
     "data": {
      "application/vnd.jupyter.widget-view+json": {
       "model_id": "458cbdb4088a4b5da0db023ceadf1618",
       "version_major": 2,
       "version_minor": 0
      },
      "text/plain": [
       "  0%|          | 0/1 [00:00<?, ?it/s]"
      ]
     },
     "metadata": {},
     "output_type": "display_data"
    },
    {
     "name": "stdout",
     "output_type": "stream",
     "text": [
      "My duties are to diagnose and treat issues related to the teeth; I am a dentist. My duties are to play musical instruments and perform for audiences in various settings; I am a musician. My duties are to capture images using cameras; I am a photographer. My duties are to code, test, and maintain computer programs and applications; I am a programmer\n",
      "Ground truth:  software developer\n",
      "\n",
      "\n",
      "\n",
      "---------------------------------------------------\n",
      "My duties are to represent clients in court during trial; I am a lawyer. My duties are to capture images using cameras; I am a photographer. My duties are to enforce laws and protect citizens from crime; I am a police officer. My duties are to lead and guide a team of representatives, employees, or workers; I am a\n"
     ]
    },
    {
     "data": {
      "application/vnd.jupyter.widget-view+json": {
       "model_id": "bcbc83e0a04b48c190b4ae534b602aa1",
       "version_major": 2,
       "version_minor": 0
      },
      "text/plain": [
       "  0%|          | 0/1 [00:00<?, ?it/s]"
      ]
     },
     "metadata": {},
     "output_type": "display_data"
    },
    {
     "name": "stdout",
     "output_type": "stream",
     "text": [
      "My duties are to represent clients in court during trial; I am a lawyer. My duties are to capture images using cameras; I am a photographer. My duties are to enforce laws and protect citizens from crime; I am a police officer. My duties are to lead and guide a team of representatives, employees, or workers; I am a police\n",
      "Ground truth:  manager\n",
      "\n",
      "\n",
      "\n",
      "---------------------------------------------------\n",
      "My duties are to represent clients in court during trial; I am a lawyer. My duties are to capture images using cameras; I am a photographer. My duties are to report news and information; I am a journalist. My duties are to educate students in a classroom setting; I am a\n"
     ]
    },
    {
     "data": {
      "application/vnd.jupyter.widget-view+json": {
       "model_id": "4c844de870c146aea0b304956eb61148",
       "version_major": 2,
       "version_minor": 0
      },
      "text/plain": [
       "  0%|          | 0/1 [00:00<?, ?it/s]"
      ]
     },
     "metadata": {},
     "output_type": "display_data"
    },
    {
     "name": "stdout",
     "output_type": "stream",
     "text": [
      "My duties are to represent clients in court during trial; I am a lawyer. My duties are to capture images using cameras; I am a photographer. My duties are to report news and information; I am a journalist. My duties are to educate students in a classroom setting; I am a teacher\n",
      "Ground truth:  teacher\n",
      "\n",
      "\n",
      "\n",
      "---------------------------------------------------\n",
      "My duties are to represent clients in court during trial; I am a lawyer. My duties are to play musical instruments and perform for audiences in various settings; I am a musician. My duties are to educate students in a classroom setting; I am a teacher. My duties are to capture images using cameras; I am a\n"
     ]
    },
    {
     "data": {
      "application/vnd.jupyter.widget-view+json": {
       "model_id": "f39d7576f2dc48f09d4e340782c8e8ed",
       "version_major": 2,
       "version_minor": 0
      },
      "text/plain": [
       "  0%|          | 0/1 [00:00<?, ?it/s]"
      ]
     },
     "metadata": {},
     "output_type": "display_data"
    },
    {
     "name": "stdout",
     "output_type": "stream",
     "text": [
      "My duties are to represent clients in court during trial; I am a lawyer. My duties are to play musical instruments and perform for audiences in various settings; I am a musician. My duties are to educate students in a classroom setting; I am a teacher. My duties are to capture images using cameras; I am a teacher\n",
      "Ground truth:  photographer\n",
      "\n",
      "\n",
      "\n",
      "---------------------------------------------------\n",
      "My duties are to educate students in a classroom setting; I am a teacher. My duties are to prepare and cook food in a professional kitchen; I am a chef. My duties are to code, test, and maintain computer programs and applications; I am a software developer. My duties are to conduct research and experiments in a laboratory setting; I am a\n"
     ]
    },
    {
     "data": {
      "application/vnd.jupyter.widget-view+json": {
       "model_id": "012561d4a0404493bff86bb16cb01923",
       "version_major": 2,
       "version_minor": 0
      },
      "text/plain": [
       "  0%|          | 0/1 [00:00<?, ?it/s]"
      ]
     },
     "metadata": {},
     "output_type": "display_data"
    },
    {
     "name": "stdout",
     "output_type": "stream",
     "text": [
      "My duties are to educate students in a classroom setting; I am a teacher. My duties are to prepare and cook food in a professional kitchen; I am a chef. My duties are to code, test, and maintain computer programs and applications; I am a software developer. My duties are to conduct research and experiments in a laboratory setting; I am a software\n",
      "Ground truth:  scientist\n",
      "\n",
      "\n",
      "\n",
      "---------------------------------------------------\n",
      "My duties are to enforce laws and protect citizens from crime; I am a police officer. My duties are to report news and information; I am a journalist. My duties are to diagnose and treat issues related to the teeth; I am a dentist. My duties are to repair and maintain vehicles and machinery in a workshop, garage, or factory; I am a\n"
     ]
    },
    {
     "data": {
      "application/vnd.jupyter.widget-view+json": {
       "model_id": "78ec6f9e786640449056af2608e5312f",
       "version_major": 2,
       "version_minor": 0
      },
      "text/plain": [
       "  0%|          | 0/1 [00:00<?, ?it/s]"
      ]
     },
     "metadata": {},
     "output_type": "display_data"
    },
    {
     "name": "stdout",
     "output_type": "stream",
     "text": [
      "My duties are to enforce laws and protect citizens from crime; I am a police officer. My duties are to report news and information; I am a journalist. My duties are to diagnose and treat issues related to the teeth; I am a dentist. My duties are to repair and maintain vehicles and machinery in a workshop, garage, or factory; I am a firefighter\n",
      "Ground truth:  mechanic\n",
      "\n",
      "\n",
      "\n",
      "---------------------------------------------------\n",
      "My duties are to diagnose and treat issues related to the teeth; I am a dentist. My duties are to conduct research and experiments in a laboratory setting; I am a scientist. My duties are to repair and maintain vehicles and machinery in a workshop, garage, or factory; I am a mechanic. My duties are to create visual art using various mediums, such as paint, clay, or digital tools; I am a\n"
     ]
    },
    {
     "data": {
      "application/vnd.jupyter.widget-view+json": {
       "model_id": "f420e44dca08430089aa339cd3d943a7",
       "version_major": 2,
       "version_minor": 0
      },
      "text/plain": [
       "  0%|          | 0/1 [00:00<?, ?it/s]"
      ]
     },
     "metadata": {},
     "output_type": "display_data"
    },
    {
     "name": "stdout",
     "output_type": "stream",
     "text": [
      "My duties are to diagnose and treat issues related to the teeth; I am a dentist. My duties are to conduct research and experiments in a laboratory setting; I am a scientist. My duties are to repair and maintain vehicles and machinery in a workshop, garage, or factory; I am a mechanic. My duties are to create visual art using various mediums, such as paint, clay, or digital tools; I am a mechanic\n",
      "Ground truth:  artist\n",
      "\n",
      "\n",
      "\n",
      "---------------------------------------------------\n",
      "My duties are to enforce laws and protect citizens from crime; I am a police officer. My duties are to report news and information; I am a journalist. My duties are to lead and guide a team of representatives, employees, or workers; I am a manager. My duties are to create visual art using various mediums, such as paint, clay, or digital tools; I am a\n"
     ]
    },
    {
     "data": {
      "application/vnd.jupyter.widget-view+json": {
       "model_id": "54117c0ec1b842b08887c84d50e4ecb4",
       "version_major": 2,
       "version_minor": 0
      },
      "text/plain": [
       "  0%|          | 0/1 [00:00<?, ?it/s]"
      ]
     },
     "metadata": {},
     "output_type": "display_data"
    },
    {
     "name": "stdout",
     "output_type": "stream",
     "text": [
      "My duties are to enforce laws and protect citizens from crime; I am a police officer. My duties are to report news and information; I am a journalist. My duties are to lead and guide a team of representatives, employees, or workers; I am a manager. My duties are to create visual art using various mediums, such as paint, clay, or digital tools; I am a police\n",
      "Ground truth:  artist\n",
      "\n",
      "\n",
      "\n",
      "---------------------------------------------------\n",
      "My duties are to educate students in a classroom setting; I am a teacher. My duties are to care for patients in a medical setting and assist doctors; I am a nurse. My duties are to lead and guide a team of representatives, employees, or workers; I am a manager. My duties are to plan and design the construction of buildings; I am a\n"
     ]
    },
    {
     "data": {
      "application/vnd.jupyter.widget-view+json": {
       "model_id": "0fd6a89cc4d742a1a6723d739b8e7587",
       "version_major": 2,
       "version_minor": 0
      },
      "text/plain": [
       "  0%|          | 0/1 [00:00<?, ?it/s]"
      ]
     },
     "metadata": {},
     "output_type": "display_data"
    },
    {
     "name": "stdout",
     "output_type": "stream",
     "text": [
      "My duties are to educate students in a classroom setting; I am a teacher. My duties are to care for patients in a medical setting and assist doctors; I am a nurse. My duties are to lead and guide a team of representatives, employees, or workers; I am a manager. My duties are to plan and design the construction of buildings; I am a teacher\n",
      "Ground truth:  architect\n",
      "\n",
      "\n",
      "\n",
      "---------------------------------------------------\n",
      "My duties are to plan and design the construction of buildings; I am a architect. My duties are to conduct research and experiments in a laboratory setting; I am a scientist. My duties are to represent clients in court during trial; I am a lawyer. My duties are to repair and maintain vehicles and machinery in a workshop, garage, or factory; I am a\n"
     ]
    },
    {
     "data": {
      "application/vnd.jupyter.widget-view+json": {
       "model_id": "d520945aa97042d2ad1e811f82ead307",
       "version_major": 2,
       "version_minor": 0
      },
      "text/plain": [
       "  0%|          | 0/1 [00:00<?, ?it/s]"
      ]
     },
     "metadata": {},
     "output_type": "display_data"
    },
    {
     "name": "stdout",
     "output_type": "stream",
     "text": [
      "My duties are to plan and design the construction of buildings; I am a architect. My duties are to conduct research and experiments in a laboratory setting; I am a scientist. My duties are to represent clients in court during trial; I am a lawyer. My duties are to repair and maintain vehicles and machinery in a workshop, garage, or factory; I am a lawyer\n",
      "Ground truth:  mechanic\n",
      "\n",
      "\n",
      "\n",
      "---------------------------------------------------\n",
      "My duties are to create clothing and accessories according to current trends; I am a fashion designer. My duties are to conduct research and experiments in a laboratory setting; I am a scientist. My duties are to report news and information; I am a journalist. My duties are to capture images using cameras; I am a\n"
     ]
    },
    {
     "data": {
      "application/vnd.jupyter.widget-view+json": {
       "model_id": "f53472c4cb47411f93bf82a5b9b22cf2",
       "version_major": 2,
       "version_minor": 0
      },
      "text/plain": [
       "  0%|          | 0/1 [00:00<?, ?it/s]"
      ]
     },
     "metadata": {},
     "output_type": "display_data"
    },
    {
     "name": "stdout",
     "output_type": "stream",
     "text": [
      "My duties are to create clothing and accessories according to current trends; I am a fashion designer. My duties are to conduct research and experiments in a laboratory setting; I am a scientist. My duties are to report news and information; I am a journalist. My duties are to capture images using cameras; I am a photographer\n",
      "Ground truth:  photographer\n",
      "\n",
      "\n",
      "\n",
      "---------------------------------------------------\n",
      "My duties are to create clothing and accessories according to current trends; I am a fashion designer. My duties are to code, test, and maintain computer programs and applications; I am a software developer. My duties are to capture images using cameras; I am a photographer. My duties are to enforce laws and protect citizens from crime; I am a\n"
     ]
    },
    {
     "data": {
      "application/vnd.jupyter.widget-view+json": {
       "model_id": "1015c719639b44f98d3d8e99fbb82fec",
       "version_major": 2,
       "version_minor": 0
      },
      "text/plain": [
       "  0%|          | 0/1 [00:00<?, ?it/s]"
      ]
     },
     "metadata": {},
     "output_type": "display_data"
    },
    {
     "name": "stdout",
     "output_type": "stream",
     "text": [
      "My duties are to create clothing and accessories according to current trends; I am a fashion designer. My duties are to code, test, and maintain computer programs and applications; I am a software developer. My duties are to capture images using cameras; I am a photographer. My duties are to enforce laws and protect citizens from crime; I am a writer\n",
      "Ground truth:  police officer\n",
      "\n",
      "\n",
      "\n",
      "---------------------------------------------------\n",
      "My duties are to create clothing and accessories according to current trends; I am a fashion designer. My duties are to enforce laws and protect citizens from crime; I am a police officer. My duties are to play musical instruments and perform for audiences in various settings; I am a musician. My duties are to plan and design the construction of buildings; I am a\n"
     ]
    },
    {
     "data": {
      "application/vnd.jupyter.widget-view+json": {
       "model_id": "10b22e32d74c4713bd3ad3284ab2e455",
       "version_major": 2,
       "version_minor": 0
      },
      "text/plain": [
       "  0%|          | 0/1 [00:00<?, ?it/s]"
      ]
     },
     "metadata": {},
     "output_type": "display_data"
    },
    {
     "name": "stdout",
     "output_type": "stream",
     "text": [
      "My duties are to create clothing and accessories according to current trends; I am a fashion designer. My duties are to enforce laws and protect citizens from crime; I am a police officer. My duties are to play musical instruments and perform for audiences in various settings; I am a musician. My duties are to plan and design the construction of buildings; I am a designer\n",
      "Ground truth:  architect\n",
      "\n",
      "\n",
      "\n",
      "---------------------------------------------------\n",
      "My duties are to code, test, and maintain computer programs and applications; I am a software developer. My duties are to enforce laws and protect citizens from crime; I am a police officer. My duties are to diagnose and treat issues related to the teeth; I am a dentist. My duties are to prepare and cook food in a professional kitchen; I am a\n"
     ]
    },
    {
     "data": {
      "application/vnd.jupyter.widget-view+json": {
       "model_id": "97a19a04404f4b1bae176995d033cb11",
       "version_major": 2,
       "version_minor": 0
      },
      "text/plain": [
       "  0%|          | 0/1 [00:00<?, ?it/s]"
      ]
     },
     "metadata": {},
     "output_type": "display_data"
    },
    {
     "name": "stdout",
     "output_type": "stream",
     "text": [
      "My duties are to code, test, and maintain computer programs and applications; I am a software developer. My duties are to enforce laws and protect citizens from crime; I am a police officer. My duties are to diagnose and treat issues related to the teeth; I am a dentist. My duties are to prepare and cook food in a professional kitchen; I am a nurse\n",
      "Ground truth:  chef\n",
      "\n",
      "\n",
      "\n",
      "---------------------------------------------------\n",
      "My duties are to repair and maintain vehicles and machinery in a workshop, garage, or factory; I am a mechanic. My duties are to prepare and cook food in a professional kitchen; I am a chef. My duties are to represent clients in court during trial; I am a lawyer. My duties are to conduct research and experiments in a laboratory setting; I am a\n"
     ]
    },
    {
     "data": {
      "application/vnd.jupyter.widget-view+json": {
       "model_id": "30bac5c56828408b8c20e4ab931e1904",
       "version_major": 2,
       "version_minor": 0
      },
      "text/plain": [
       "  0%|          | 0/1 [00:00<?, ?it/s]"
      ]
     },
     "metadata": {},
     "output_type": "display_data"
    },
    {
     "name": "stdout",
     "output_type": "stream",
     "text": [
      "My duties are to repair and maintain vehicles and machinery in a workshop, garage, or factory; I am a mechanic. My duties are to prepare and cook food in a professional kitchen; I am a chef. My duties are to represent clients in court during trial; I am a lawyer. My duties are to conduct research and experiments in a laboratory setting; I am a scientist\n",
      "Ground truth:  scientist\n",
      "\n",
      "\n",
      "\n",
      "---------------------------------------------------\n",
      "My duties are to lead and guide a team of representatives, employees, or workers; I am a manager. My duties are to repair and maintain vehicles and machinery in a workshop, garage, or factory; I am a mechanic. My duties are to plan and design the construction of buildings; I am a architect. My duties are to play musical instruments and perform for audiences in various settings; I am a\n"
     ]
    },
    {
     "data": {
      "application/vnd.jupyter.widget-view+json": {
       "model_id": "6c37b77f4ac14dbda75bb25b48f93e7a",
       "version_major": 2,
       "version_minor": 0
      },
      "text/plain": [
       "  0%|          | 0/1 [00:00<?, ?it/s]"
      ]
     },
     "metadata": {},
     "output_type": "display_data"
    },
    {
     "name": "stdout",
     "output_type": "stream",
     "text": [
      "My duties are to lead and guide a team of representatives, employees, or workers; I am a manager. My duties are to repair and maintain vehicles and machinery in a workshop, garage, or factory; I am a mechanic. My duties are to plan and design the construction of buildings; I am a architect. My duties are to play musical instruments and perform for audiences in various settings; I am a musician\n",
      "Ground truth:  musician\n",
      "\n",
      "\n",
      "\n",
      "---------------------------------------------------\n",
      "My duties are to code, test, and maintain computer programs and applications; I am a software developer. My duties are to enforce laws and protect citizens from crime; I am a police officer. My duties are to represent clients in court during trial; I am a lawyer. My duties are to conduct research and experiments in a laboratory setting; I am a\n"
     ]
    },
    {
     "data": {
      "application/vnd.jupyter.widget-view+json": {
       "model_id": "d44b0253d7f64a8db0c514fab30d89ac",
       "version_major": 2,
       "version_minor": 0
      },
      "text/plain": [
       "  0%|          | 0/1 [00:00<?, ?it/s]"
      ]
     },
     "metadata": {},
     "output_type": "display_data"
    },
    {
     "name": "stdout",
     "output_type": "stream",
     "text": [
      "My duties are to code, test, and maintain computer programs and applications; I am a software developer. My duties are to enforce laws and protect citizens from crime; I am a police officer. My duties are to represent clients in court during trial; I am a lawyer. My duties are to conduct research and experiments in a laboratory setting; I am a lawyer\n",
      "Ground truth:  scientist\n",
      "\n",
      "\n",
      "\n",
      "---------------------------------------------------\n",
      "My duties are to report news and information; I am a journalist. My duties are to capture images using cameras; I am a photographer. My duties are to enforce laws and protect citizens from crime; I am a police officer. My duties are to conduct research and experiments in a laboratory setting; I am a\n"
     ]
    },
    {
     "data": {
      "application/vnd.jupyter.widget-view+json": {
       "model_id": "4ba35f9076214564bca9b606202e0990",
       "version_major": 2,
       "version_minor": 0
      },
      "text/plain": [
       "  0%|          | 0/1 [00:00<?, ?it/s]"
      ]
     },
     "metadata": {},
     "output_type": "display_data"
    },
    {
     "name": "stdout",
     "output_type": "stream",
     "text": [
      "My duties are to report news and information; I am a journalist. My duties are to capture images using cameras; I am a photographer. My duties are to enforce laws and protect citizens from crime; I am a police officer. My duties are to conduct research and experiments in a laboratory setting; I am a journalist\n",
      "Ground truth:  scientist\n",
      "\n",
      "\n",
      "\n",
      "---------------------------------------------------\n",
      "My duties are to educate students in a classroom setting; I am a teacher. My duties are to represent clients in court during trial; I am a lawyer. My duties are to lead and guide a team of representatives, employees, or workers; I am a manager. My duties are to play musical instruments and perform for audiences in various settings; I am a\n"
     ]
    },
    {
     "data": {
      "application/vnd.jupyter.widget-view+json": {
       "model_id": "95f10dc42c6844509b984a7658cad6c2",
       "version_major": 2,
       "version_minor": 0
      },
      "text/plain": [
       "  0%|          | 0/1 [00:00<?, ?it/s]"
      ]
     },
     "metadata": {},
     "output_type": "display_data"
    },
    {
     "name": "stdout",
     "output_type": "stream",
     "text": [
      "My duties are to educate students in a classroom setting; I am a teacher. My duties are to represent clients in court during trial; I am a lawyer. My duties are to lead and guide a team of representatives, employees, or workers; I am a manager. My duties are to play musical instruments and perform for audiences in various settings; I am a teacher\n",
      "Ground truth:  musician\n",
      "\n",
      "\n",
      "\n",
      "---------------------------------------------------\n",
      "My duties are to enforce laws and protect citizens from crime; I am a police officer. My duties are to create visual art using various mediums, such as paint, clay, or digital tools; I am a artist. My duties are to play musical instruments and perform for audiences in various settings; I am a musician. My duties are to represent clients in court during trial; I am a\n"
     ]
    },
    {
     "data": {
      "application/vnd.jupyter.widget-view+json": {
       "model_id": "44b562f5d63147dfb67ed17f14e8e014",
       "version_major": 2,
       "version_minor": 0
      },
      "text/plain": [
       "  0%|          | 0/1 [00:00<?, ?it/s]"
      ]
     },
     "metadata": {},
     "output_type": "display_data"
    },
    {
     "name": "stdout",
     "output_type": "stream",
     "text": [
      "My duties are to enforce laws and protect citizens from crime; I am a police officer. My duties are to create visual art using various mediums, such as paint, clay, or digital tools; I am a artist. My duties are to play musical instruments and perform for audiences in various settings; I am a musician. My duties are to represent clients in court during trial; I am a lawyer\n",
      "Ground truth:  lawyer\n",
      "\n",
      "\n",
      "\n",
      "---------------------------------------------------\n",
      "My duties are to enforce laws and protect citizens from crime; I am a police officer. My duties are to repair and maintain vehicles and machinery in a workshop, garage, or factory; I am a mechanic. My duties are to diagnose and treat issues related to the teeth; I am a dentist. My duties are to create visual art using various mediums, such as paint, clay, or digital tools; I am a\n"
     ]
    },
    {
     "data": {
      "application/vnd.jupyter.widget-view+json": {
       "model_id": "f3276431ebeb4fcdb14c452e1779862a",
       "version_major": 2,
       "version_minor": 0
      },
      "text/plain": [
       "  0%|          | 0/1 [00:00<?, ?it/s]"
      ]
     },
     "metadata": {},
     "output_type": "display_data"
    },
    {
     "name": "stdout",
     "output_type": "stream",
     "text": [
      "My duties are to enforce laws and protect citizens from crime; I am a police officer. My duties are to repair and maintain vehicles and machinery in a workshop, garage, or factory; I am a mechanic. My duties are to diagnose and treat issues related to the teeth; I am a dentist. My duties are to create visual art using various mediums, such as paint, clay, or digital tools; I am a nurse\n",
      "Ground truth:  artist\n",
      "\n",
      "\n",
      "\n",
      "---------------------------------------------------\n",
      "My duties are to diagnose and treat issues related to the teeth; I am a dentist. My duties are to create clothing and accessories according to current trends; I am a fashion designer. My duties are to report news and information; I am a journalist. My duties are to care for patients in a medical setting and assist doctors; I am a\n"
     ]
    },
    {
     "data": {
      "application/vnd.jupyter.widget-view+json": {
       "model_id": "511c782c39e54d8487532938e8ae0a19",
       "version_major": 2,
       "version_minor": 0
      },
      "text/plain": [
       "  0%|          | 0/1 [00:00<?, ?it/s]"
      ]
     },
     "metadata": {},
     "output_type": "display_data"
    },
    {
     "name": "stdout",
     "output_type": "stream",
     "text": [
      "My duties are to diagnose and treat issues related to the teeth; I am a dentist. My duties are to create clothing and accessories according to current trends; I am a fashion designer. My duties are to report news and information; I am a journalist. My duties are to care for patients in a medical setting and assist doctors; I am a nurse\n",
      "Ground truth:  nurse\n",
      "\n",
      "\n",
      "\n",
      "---------------------------------------------------\n",
      "My duties are to prepare and cook food in a professional kitchen; I am a chef. My duties are to report news and information; I am a journalist. My duties are to lead and guide a team of representatives, employees, or workers; I am a manager. My duties are to enforce laws and protect citizens from crime; I am a\n"
     ]
    },
    {
     "data": {
      "application/vnd.jupyter.widget-view+json": {
       "model_id": "84fc6672537e4d5ba446156b3b577dc5",
       "version_major": 2,
       "version_minor": 0
      },
      "text/plain": [
       "  0%|          | 0/1 [00:00<?, ?it/s]"
      ]
     },
     "metadata": {},
     "output_type": "display_data"
    },
    {
     "name": "stdout",
     "output_type": "stream",
     "text": [
      "My duties are to prepare and cook food in a professional kitchen; I am a chef. My duties are to report news and information; I am a journalist. My duties are to lead and guide a team of representatives, employees, or workers; I am a manager. My duties are to enforce laws and protect citizens from crime; I am a lawyer\n",
      "Ground truth:  police officer\n",
      "\n",
      "\n",
      "\n",
      "---------------------------------------------------\n",
      "My duties are to educate students in a classroom setting; I am a teacher. My duties are to play musical instruments and perform for audiences in various settings; I am a musician. My duties are to prepare and cook food in a professional kitchen; I am a chef. My duties are to care for patients in a medical setting and assist doctors; I am a\n"
     ]
    },
    {
     "data": {
      "application/vnd.jupyter.widget-view+json": {
       "model_id": "a67ca8a36cdf4f4b9eccca24dea1a3db",
       "version_major": 2,
       "version_minor": 0
      },
      "text/plain": [
       "  0%|          | 0/1 [00:00<?, ?it/s]"
      ]
     },
     "metadata": {},
     "output_type": "display_data"
    },
    {
     "name": "stdout",
     "output_type": "stream",
     "text": [
      "My duties are to educate students in a classroom setting; I am a teacher. My duties are to play musical instruments and perform for audiences in various settings; I am a musician. My duties are to prepare and cook food in a professional kitchen; I am a chef. My duties are to care for patients in a medical setting and assist doctors; I am a nurse\n",
      "Ground truth:  nurse\n",
      "\n",
      "\n",
      "\n",
      "---------------------------------------------------\n",
      "My duties are to report news and information; I am a journalist. My duties are to play musical instruments and perform for audiences in various settings; I am a musician. My duties are to create clothing and accessories according to current trends; I am a fashion designer. My duties are to capture images using cameras; I am a\n"
     ]
    },
    {
     "data": {
      "application/vnd.jupyter.widget-view+json": {
       "model_id": "c37c42f843db49f7b52f02a7d86b3410",
       "version_major": 2,
       "version_minor": 0
      },
      "text/plain": [
       "  0%|          | 0/1 [00:00<?, ?it/s]"
      ]
     },
     "metadata": {},
     "output_type": "display_data"
    },
    {
     "name": "stdout",
     "output_type": "stream",
     "text": [
      "My duties are to report news and information; I am a journalist. My duties are to play musical instruments and perform for audiences in various settings; I am a musician. My duties are to create clothing and accessories according to current trends; I am a fashion designer. My duties are to capture images using cameras; I am a fashion\n",
      "Ground truth:  photographer\n",
      "\n",
      "\n",
      "\n",
      "---------------------------------------------------\n",
      "My duties are to diagnose and treat issues related to the teeth; I am a dentist. My duties are to create clothing and accessories according to current trends; I am a fashion designer. My duties are to create visual art using various mediums, such as paint, clay, or digital tools; I am a artist. My duties are to repair and maintain vehicles and machinery in a workshop, garage, or factory; I am a\n"
     ]
    },
    {
     "data": {
      "application/vnd.jupyter.widget-view+json": {
       "model_id": "2942f150e8924c0d87331c722169b999",
       "version_major": 2,
       "version_minor": 0
      },
      "text/plain": [
       "  0%|          | 0/1 [00:00<?, ?it/s]"
      ]
     },
     "metadata": {},
     "output_type": "display_data"
    },
    {
     "name": "stdout",
     "output_type": "stream",
     "text": [
      "My duties are to diagnose and treat issues related to the teeth; I am a dentist. My duties are to create clothing and accessories according to current trends; I am a fashion designer. My duties are to create visual art using various mediums, such as paint, clay, or digital tools; I am a artist. My duties are to repair and maintain vehicles and machinery in a workshop, garage, or factory; I am a mechanic\n",
      "Ground truth:  mechanic\n",
      "\n",
      "\n",
      "\n",
      "---------------------------------------------------\n",
      "My duties are to code, test, and maintain computer programs and applications; I am a software developer. My duties are to diagnose and treat issues related to the teeth; I am a dentist. My duties are to represent clients in court during trial; I am a lawyer. My duties are to capture images using cameras; I am a\n"
     ]
    },
    {
     "data": {
      "application/vnd.jupyter.widget-view+json": {
       "model_id": "92f26df5ff3e410d9046607576c830a8",
       "version_major": 2,
       "version_minor": 0
      },
      "text/plain": [
       "  0%|          | 0/1 [00:00<?, ?it/s]"
      ]
     },
     "metadata": {},
     "output_type": "display_data"
    },
    {
     "name": "stdout",
     "output_type": "stream",
     "text": [
      "My duties are to code, test, and maintain computer programs and applications; I am a software developer. My duties are to diagnose and treat issues related to the teeth; I am a dentist. My duties are to represent clients in court during trial; I am a lawyer. My duties are to capture images using cameras; I am a computer\n",
      "Ground truth:  photographer\n",
      "\n",
      "\n",
      "\n",
      "---------------------------------------------------\n",
      "My duties are to conduct research and experiments in a laboratory setting; I am a scientist. My duties are to prepare and cook food in a professional kitchen; I am a chef. My duties are to create clothing and accessories according to current trends; I am a fashion designer. My duties are to repair and maintain vehicles and machinery in a workshop, garage, or factory; I am a\n"
     ]
    },
    {
     "data": {
      "application/vnd.jupyter.widget-view+json": {
       "model_id": "d2d40874ddd740319b44208c29a2c096",
       "version_major": 2,
       "version_minor": 0
      },
      "text/plain": [
       "  0%|          | 0/1 [00:00<?, ?it/s]"
      ]
     },
     "metadata": {},
     "output_type": "display_data"
    },
    {
     "name": "stdout",
     "output_type": "stream",
     "text": [
      "My duties are to conduct research and experiments in a laboratory setting; I am a scientist. My duties are to prepare and cook food in a professional kitchen; I am a chef. My duties are to create clothing and accessories according to current trends; I am a fashion designer. My duties are to repair and maintain vehicles and machinery in a workshop, garage, or factory; I am a mechanic\n",
      "Ground truth:  mechanic\n",
      "\n",
      "\n",
      "\n",
      "---------------------------------------------------\n",
      "My duties are to prepare and cook food in a professional kitchen; I am a chef. My duties are to report news and information; I am a journalist. My duties are to educate students in a classroom setting; I am a teacher. My duties are to play musical instruments and perform for audiences in various settings; I am a\n"
     ]
    },
    {
     "data": {
      "application/vnd.jupyter.widget-view+json": {
       "model_id": "27c84305b4e748c4902ea4f74ac79593",
       "version_major": 2,
       "version_minor": 0
      },
      "text/plain": [
       "  0%|          | 0/1 [00:00<?, ?it/s]"
      ]
     },
     "metadata": {},
     "output_type": "display_data"
    },
    {
     "name": "stdout",
     "output_type": "stream",
     "text": [
      "My duties are to prepare and cook food in a professional kitchen; I am a chef. My duties are to report news and information; I am a journalist. My duties are to educate students in a classroom setting; I am a teacher. My duties are to play musical instruments and perform for audiences in various settings; I am a teacher\n",
      "Ground truth:  musician\n",
      "\n",
      "\n",
      "\n",
      "---------------------------------------------------\n",
      "My duties are to represent clients in court during trial; I am a lawyer. My duties are to create clothing and accessories according to current trends; I am a fashion designer. My duties are to repair and maintain vehicles and machinery in a workshop, garage, or factory; I am a mechanic. My duties are to lead and guide a team of representatives, employees, or workers; I am a\n"
     ]
    },
    {
     "data": {
      "application/vnd.jupyter.widget-view+json": {
       "model_id": "a2738e18d7914f998c7a76860d95a6ea",
       "version_major": 2,
       "version_minor": 0
      },
      "text/plain": [
       "  0%|          | 0/1 [00:00<?, ?it/s]"
      ]
     },
     "metadata": {},
     "output_type": "display_data"
    },
    {
     "name": "stdout",
     "output_type": "stream",
     "text": [
      "My duties are to represent clients in court during trial; I am a lawyer. My duties are to create clothing and accessories according to current trends; I am a fashion designer. My duties are to repair and maintain vehicles and machinery in a workshop, garage, or factory; I am a mechanic. My duties are to lead and guide a team of representatives, employees, or workers; I am a lawyer\n",
      "Ground truth:  manager\n",
      "\n",
      "\n",
      "\n",
      "---------------------------------------------------\n",
      "My duties are to diagnose and treat issues related to the teeth; I am a dentist. My duties are to report news and information; I am a journalist. My duties are to capture images using cameras; I am a photographer. My duties are to repair and maintain vehicles and machinery in a workshop, garage, or factory; I am a\n"
     ]
    },
    {
     "data": {
      "application/vnd.jupyter.widget-view+json": {
       "model_id": "9f7af2cb2c9a4ab485c2615f096cccb0",
       "version_major": 2,
       "version_minor": 0
      },
      "text/plain": [
       "  0%|          | 0/1 [00:00<?, ?it/s]"
      ]
     },
     "metadata": {},
     "output_type": "display_data"
    },
    {
     "name": "stdout",
     "output_type": "stream",
     "text": [
      "My duties are to diagnose and treat issues related to the teeth; I am a dentist. My duties are to report news and information; I am a journalist. My duties are to capture images using cameras; I am a photographer. My duties are to repair and maintain vehicles and machinery in a workshop, garage, or factory; I am a mechanic\n",
      "Ground truth:  mechanic\n",
      "\n",
      "\n",
      "\n",
      "---------------------------------------------------\n",
      "My duties are to prepare and cook food in a professional kitchen; I am a chef. My duties are to educate students in a classroom setting; I am a teacher. My duties are to code, test, and maintain computer programs and applications; I am a software developer. My duties are to report news and information; I am a\n"
     ]
    },
    {
     "data": {
      "application/vnd.jupyter.widget-view+json": {
       "model_id": "86bb8175de6b48668da81774aa3294c9",
       "version_major": 2,
       "version_minor": 0
      },
      "text/plain": [
       "  0%|          | 0/1 [00:00<?, ?it/s]"
      ]
     },
     "metadata": {},
     "output_type": "display_data"
    },
    {
     "name": "stdout",
     "output_type": "stream",
     "text": [
      "My duties are to prepare and cook food in a professional kitchen; I am a chef. My duties are to educate students in a classroom setting; I am a teacher. My duties are to code, test, and maintain computer programs and applications; I am a software developer. My duties are to report news and information; I am a software\n",
      "Ground truth:  journalist\n",
      "\n",
      "\n",
      "\n",
      "---------------------------------------------------\n",
      "My duties are to conduct research and experiments in a laboratory setting; I am a scientist. My duties are to enforce laws and protect citizens from crime; I am a police officer. My duties are to create visual art using various mediums, such as paint, clay, or digital tools; I am a artist. My duties are to diagnose and treat issues related to the teeth; I am a\n"
     ]
    },
    {
     "data": {
      "application/vnd.jupyter.widget-view+json": {
       "model_id": "6d0a9840419c4c97b60c9dd6e6055391",
       "version_major": 2,
       "version_minor": 0
      },
      "text/plain": [
       "  0%|          | 0/1 [00:00<?, ?it/s]"
      ]
     },
     "metadata": {},
     "output_type": "display_data"
    },
    {
     "name": "stdout",
     "output_type": "stream",
     "text": [
      "My duties are to conduct research and experiments in a laboratory setting; I am a scientist. My duties are to enforce laws and protect citizens from crime; I am a police officer. My duties are to create visual art using various mediums, such as paint, clay, or digital tools; I am a artist. My duties are to diagnose and treat issues related to the teeth; I am a scientist\n",
      "Ground truth:  dentist\n",
      "\n",
      "\n",
      "\n",
      "---------------------------------------------------\n",
      "My duties are to repair and maintain vehicles and machinery in a workshop, garage, or factory; I am a mechanic. My duties are to diagnose and treat issues related to the teeth; I am a dentist. My duties are to educate students in a classroom setting; I am a teacher. My duties are to conduct research and experiments in a laboratory setting; I am a\n"
     ]
    },
    {
     "data": {
      "application/vnd.jupyter.widget-view+json": {
       "model_id": "a4b84c6f100646bf9b095898e6c41997",
       "version_major": 2,
       "version_minor": 0
      },
      "text/plain": [
       "  0%|          | 0/1 [00:00<?, ?it/s]"
      ]
     },
     "metadata": {},
     "output_type": "display_data"
    },
    {
     "name": "stdout",
     "output_type": "stream",
     "text": [
      "My duties are to repair and maintain vehicles and machinery in a workshop, garage, or factory; I am a mechanic. My duties are to diagnose and treat issues related to the teeth; I am a dentist. My duties are to educate students in a classroom setting; I am a teacher. My duties are to conduct research and experiments in a laboratory setting; I am a teacher\n",
      "Ground truth:  scientist\n",
      "\n",
      "\n",
      "\n",
      "---------------------------------------------------\n",
      "My duties are to create clothing and accessories according to current trends; I am a fashion designer. My duties are to plan and design the construction of buildings; I am a architect. My duties are to create visual art using various mediums, such as paint, clay, or digital tools; I am a artist. My duties are to report news and information; I am a\n"
     ]
    },
    {
     "data": {
      "application/vnd.jupyter.widget-view+json": {
       "model_id": "8a077914b45b41d0b0ca5fec82a7e587",
       "version_major": 2,
       "version_minor": 0
      },
      "text/plain": [
       "  0%|          | 0/1 [00:00<?, ?it/s]"
      ]
     },
     "metadata": {},
     "output_type": "display_data"
    },
    {
     "name": "stdout",
     "output_type": "stream",
     "text": [
      "My duties are to create clothing and accessories according to current trends; I am a fashion designer. My duties are to plan and design the construction of buildings; I am a architect. My duties are to create visual art using various mediums, such as paint, clay, or digital tools; I am a artist. My duties are to report news and information; I am a photographer\n",
      "Ground truth:  journalist\n",
      "\n",
      "\n",
      "\n",
      "---------------------------------------------------\n",
      "My duties are to report news and information; I am a journalist. My duties are to represent clients in court during trial; I am a lawyer. My duties are to lead and guide a team of representatives, employees, or workers; I am a manager. My duties are to create visual art using various mediums, such as paint, clay, or digital tools; I am a\n"
     ]
    },
    {
     "data": {
      "application/vnd.jupyter.widget-view+json": {
       "model_id": "2dd7781439f741c68988b771b0326ba8",
       "version_major": 2,
       "version_minor": 0
      },
      "text/plain": [
       "  0%|          | 0/1 [00:00<?, ?it/s]"
      ]
     },
     "metadata": {},
     "output_type": "display_data"
    },
    {
     "name": "stdout",
     "output_type": "stream",
     "text": [
      "My duties are to report news and information; I am a journalist. My duties are to represent clients in court during trial; I am a lawyer. My duties are to lead and guide a team of representatives, employees, or workers; I am a manager. My duties are to create visual art using various mediums, such as paint, clay, or digital tools; I am a photographer\n",
      "Ground truth:  artist\n",
      "\n",
      "\n",
      "\n",
      "---------------------------------------------------\n",
      "My duties are to create clothing and accessories according to current trends; I am a fashion designer. My duties are to play musical instruments and perform for audiences in various settings; I am a musician. My duties are to prepare and cook food in a professional kitchen; I am a chef. My duties are to care for patients in a medical setting and assist doctors; I am a\n"
     ]
    },
    {
     "data": {
      "application/vnd.jupyter.widget-view+json": {
       "model_id": "bb6ef8cb7b1e43449ea0290a9fc0a316",
       "version_major": 2,
       "version_minor": 0
      },
      "text/plain": [
       "  0%|          | 0/1 [00:00<?, ?it/s]"
      ]
     },
     "metadata": {},
     "output_type": "display_data"
    },
    {
     "name": "stdout",
     "output_type": "stream",
     "text": [
      "My duties are to create clothing and accessories according to current trends; I am a fashion designer. My duties are to play musical instruments and perform for audiences in various settings; I am a musician. My duties are to prepare and cook food in a professional kitchen; I am a chef. My duties are to care for patients in a medical setting and assist doctors; I am a nurse\n",
      "Ground truth:  nurse\n",
      "\n",
      "\n",
      "\n",
      "---------------------------------------------------\n",
      "My duties are to conduct research and experiments in a laboratory setting; I am a scientist. My duties are to diagnose and treat issues related to the teeth; I am a dentist. My duties are to report news and information; I am a journalist. My duties are to educate students in a classroom setting; I am a\n"
     ]
    },
    {
     "data": {
      "application/vnd.jupyter.widget-view+json": {
       "model_id": "0a134b6c95f04c9d8a5dd9df12749f4b",
       "version_major": 2,
       "version_minor": 0
      },
      "text/plain": [
       "  0%|          | 0/1 [00:00<?, ?it/s]"
      ]
     },
     "metadata": {},
     "output_type": "display_data"
    },
    {
     "name": "stdout",
     "output_type": "stream",
     "text": [
      "My duties are to conduct research and experiments in a laboratory setting; I am a scientist. My duties are to diagnose and treat issues related to the teeth; I am a dentist. My duties are to report news and information; I am a journalist. My duties are to educate students in a classroom setting; I am a teacher\n",
      "Ground truth:  teacher\n",
      "\n",
      "\n",
      "\n",
      "---------------------------------------------------\n",
      "My duties are to play musical instruments and perform for audiences in various settings; I am a musician. My duties are to conduct research and experiments in a laboratory setting; I am a scientist. My duties are to represent clients in court during trial; I am a lawyer. My duties are to lead and guide a team of representatives, employees, or workers; I am a\n"
     ]
    },
    {
     "data": {
      "application/vnd.jupyter.widget-view+json": {
       "model_id": "dd8a0baaf70047658c8a80727830261d",
       "version_major": 2,
       "version_minor": 0
      },
      "text/plain": [
       "  0%|          | 0/1 [00:00<?, ?it/s]"
      ]
     },
     "metadata": {},
     "output_type": "display_data"
    },
    {
     "name": "stdout",
     "output_type": "stream",
     "text": [
      "My duties are to play musical instruments and perform for audiences in various settings; I am a musician. My duties are to conduct research and experiments in a laboratory setting; I am a scientist. My duties are to represent clients in court during trial; I am a lawyer. My duties are to lead and guide a team of representatives, employees, or workers; I am a lawyer\n",
      "Ground truth:  manager\n",
      "\n",
      "\n",
      "\n",
      "---------------------------------------------------\n",
      "My duties are to care for patients in a medical setting and assist doctors; I am a nurse. My duties are to diagnose and treat issues related to the teeth; I am a dentist. My duties are to code, test, and maintain computer programs and applications; I am a software developer. My duties are to enforce laws and protect citizens from crime; I am a\n"
     ]
    },
    {
     "data": {
      "application/vnd.jupyter.widget-view+json": {
       "model_id": "f7e0b3172e434b14beb09174b7a45f91",
       "version_major": 2,
       "version_minor": 0
      },
      "text/plain": [
       "  0%|          | 0/1 [00:00<?, ?it/s]"
      ]
     },
     "metadata": {},
     "output_type": "display_data"
    },
    {
     "name": "stdout",
     "output_type": "stream",
     "text": [
      "My duties are to care for patients in a medical setting and assist doctors; I am a nurse. My duties are to diagnose and treat issues related to the teeth; I am a dentist. My duties are to code, test, and maintain computer programs and applications; I am a software developer. My duties are to enforce laws and protect citizens from crime; I am a lawyer\n",
      "Ground truth:  police officer\n",
      "\n",
      "\n",
      "\n",
      "---------------------------------------------------\n",
      "My duties are to create visual art using various mediums, such as paint, clay, or digital tools; I am a artist. My duties are to represent clients in court during trial; I am a lawyer. My duties are to capture images using cameras; I am a photographer. My duties are to report news and information; I am a\n"
     ]
    },
    {
     "data": {
      "application/vnd.jupyter.widget-view+json": {
       "model_id": "c0c2bdfbd240491ab8fd8f76d78070bd",
       "version_major": 2,
       "version_minor": 0
      },
      "text/plain": [
       "  0%|          | 0/1 [00:00<?, ?it/s]"
      ]
     },
     "metadata": {},
     "output_type": "display_data"
    },
    {
     "name": "stdout",
     "output_type": "stream",
     "text": [
      "My duties are to create visual art using various mediums, such as paint, clay, or digital tools; I am a artist. My duties are to represent clients in court during trial; I am a lawyer. My duties are to capture images using cameras; I am a photographer. My duties are to report news and information; I am a photographer\n",
      "Ground truth:  journalist\n",
      "\n",
      "\n",
      "\n",
      "---------------------------------------------------\n",
      "My duties are to lead and guide a team of representatives, employees, or workers; I am a manager. My duties are to educate students in a classroom setting; I am a teacher. My duties are to enforce laws and protect citizens from crime; I am a police officer. My duties are to play musical instruments and perform for audiences in various settings; I am a\n"
     ]
    },
    {
     "data": {
      "application/vnd.jupyter.widget-view+json": {
       "model_id": "b91a1b0acf704e6d8f040998f4628b67",
       "version_major": 2,
       "version_minor": 0
      },
      "text/plain": [
       "  0%|          | 0/1 [00:00<?, ?it/s]"
      ]
     },
     "metadata": {},
     "output_type": "display_data"
    },
    {
     "name": "stdout",
     "output_type": "stream",
     "text": [
      "My duties are to lead and guide a team of representatives, employees, or workers; I am a manager. My duties are to educate students in a classroom setting; I am a teacher. My duties are to enforce laws and protect citizens from crime; I am a police officer. My duties are to play musical instruments and perform for audiences in various settings; I am a police\n",
      "Ground truth:  musician\n",
      "\n",
      "\n",
      "\n",
      "---------------------------------------------------\n",
      "My duties are to code, test, and maintain computer programs and applications; I am a software developer. My duties are to report news and information; I am a journalist. My duties are to lead and guide a team of representatives, employees, or workers; I am a manager. My duties are to repair and maintain vehicles and machinery in a workshop, garage, or factory; I am a\n"
     ]
    },
    {
     "data": {
      "application/vnd.jupyter.widget-view+json": {
       "model_id": "6594e9a8eadb45ab95063decb9665b6f",
       "version_major": 2,
       "version_minor": 0
      },
      "text/plain": [
       "  0%|          | 0/1 [00:00<?, ?it/s]"
      ]
     },
     "metadata": {},
     "output_type": "display_data"
    },
    {
     "name": "stdout",
     "output_type": "stream",
     "text": [
      "My duties are to code, test, and maintain computer programs and applications; I am a software developer. My duties are to report news and information; I am a journalist. My duties are to lead and guide a team of representatives, employees, or workers; I am a manager. My duties are to repair and maintain vehicles and machinery in a workshop, garage, or factory; I am a manager\n",
      "Ground truth:  mechanic\n",
      "\n",
      "\n",
      "\n",
      "---------------------------------------------------\n",
      "My duties are to create visual art using various mediums, such as paint, clay, or digital tools; I am a artist. My duties are to diagnose and treat issues related to the teeth; I am a dentist. My duties are to conduct research and experiments in a laboratory setting; I am a scientist. My duties are to prepare and cook food in a professional kitchen; I am a\n"
     ]
    },
    {
     "data": {
      "application/vnd.jupyter.widget-view+json": {
       "model_id": "c97066508001488bbd254cae67272926",
       "version_major": 2,
       "version_minor": 0
      },
      "text/plain": [
       "  0%|          | 0/1 [00:00<?, ?it/s]"
      ]
     },
     "metadata": {},
     "output_type": "display_data"
    },
    {
     "name": "stdout",
     "output_type": "stream",
     "text": [
      "My duties are to create visual art using various mediums, such as paint, clay, or digital tools; I am a artist. My duties are to diagnose and treat issues related to the teeth; I am a dentist. My duties are to conduct research and experiments in a laboratory setting; I am a scientist. My duties are to prepare and cook food in a professional kitchen; I am a scientist\n",
      "Ground truth:  chef\n",
      "\n",
      "\n",
      "\n",
      "---------------------------------------------------\n",
      "My duties are to play musical instruments and perform for audiences in various settings; I am a musician. My duties are to diagnose and treat issues related to the teeth; I am a dentist. My duties are to conduct research and experiments in a laboratory setting; I am a scientist. My duties are to plan and design the construction of buildings; I am a\n"
     ]
    },
    {
     "data": {
      "application/vnd.jupyter.widget-view+json": {
       "model_id": "0629d640408348d8afa58986a0a29d91",
       "version_major": 2,
       "version_minor": 0
      },
      "text/plain": [
       "  0%|          | 0/1 [00:00<?, ?it/s]"
      ]
     },
     "metadata": {},
     "output_type": "display_data"
    },
    {
     "name": "stdout",
     "output_type": "stream",
     "text": [
      "My duties are to play musical instruments and perform for audiences in various settings; I am a musician. My duties are to diagnose and treat issues related to the teeth; I am a dentist. My duties are to conduct research and experiments in a laboratory setting; I am a scientist. My duties are to plan and design the construction of buildings; I am a scientist\n",
      "Ground truth:  architect\n",
      "\n",
      "\n",
      "\n",
      "---------------------------------------------------\n",
      "My duties are to repair and maintain vehicles and machinery in a workshop, garage, or factory; I am a mechanic. My duties are to educate students in a classroom setting; I am a teacher. My duties are to play musical instruments and perform for audiences in various settings; I am a musician. My duties are to enforce laws and protect citizens from crime; I am a\n"
     ]
    },
    {
     "data": {
      "application/vnd.jupyter.widget-view+json": {
       "model_id": "db6d6c9286934edc80f015f6254ac0ab",
       "version_major": 2,
       "version_minor": 0
      },
      "text/plain": [
       "  0%|          | 0/1 [00:00<?, ?it/s]"
      ]
     },
     "metadata": {},
     "output_type": "display_data"
    },
    {
     "name": "stdout",
     "output_type": "stream",
     "text": [
      "My duties are to repair and maintain vehicles and machinery in a workshop, garage, or factory; I am a mechanic. My duties are to educate students in a classroom setting; I am a teacher. My duties are to play musical instruments and perform for audiences in various settings; I am a musician. My duties are to enforce laws and protect citizens from crime; I am a teacher\n",
      "Ground truth:  police officer\n",
      "\n",
      "\n",
      "\n",
      "---------------------------------------------------\n",
      "My duties are to report news and information; I am a journalist. My duties are to create visual art using various mediums, such as paint, clay, or digital tools; I am a artist. My duties are to create clothing and accessories according to current trends; I am a fashion designer. My duties are to capture images using cameras; I am a\n"
     ]
    },
    {
     "data": {
      "application/vnd.jupyter.widget-view+json": {
       "model_id": "9d5dbfcf611d4634b93eca3e1b99401c",
       "version_major": 2,
       "version_minor": 0
      },
      "text/plain": [
       "  0%|          | 0/1 [00:00<?, ?it/s]"
      ]
     },
     "metadata": {},
     "output_type": "display_data"
    },
    {
     "name": "stdout",
     "output_type": "stream",
     "text": [
      "My duties are to report news and information; I am a journalist. My duties are to create visual art using various mediums, such as paint, clay, or digital tools; I am a artist. My duties are to create clothing and accessories according to current trends; I am a fashion designer. My duties are to capture images using cameras; I am a photographer\n",
      "Ground truth:  photographer\n",
      "\n",
      "\n",
      "\n",
      "---------------------------------------------------\n",
      "My duties are to prepare and cook food in a professional kitchen; I am a chef. My duties are to create clothing and accessories according to current trends; I am a fashion designer. My duties are to play musical instruments and perform for audiences in various settings; I am a musician. My duties are to code, test, and maintain computer programs and applications; I am a\n"
     ]
    },
    {
     "data": {
      "application/vnd.jupyter.widget-view+json": {
       "model_id": "b80783f1079644b3ac77bf120e832202",
       "version_major": 2,
       "version_minor": 0
      },
      "text/plain": [
       "  0%|          | 0/1 [00:00<?, ?it/s]"
      ]
     },
     "metadata": {},
     "output_type": "display_data"
    },
    {
     "name": "stdout",
     "output_type": "stream",
     "text": [
      "My duties are to prepare and cook food in a professional kitchen; I am a chef. My duties are to create clothing and accessories according to current trends; I am a fashion designer. My duties are to play musical instruments and perform for audiences in various settings; I am a musician. My duties are to code, test, and maintain computer programs and applications; I am a musician\n",
      "Ground truth:  software developer\n",
      "\n",
      "\n",
      "\n",
      "---------------------------------------------------\n",
      "My duties are to conduct research and experiments in a laboratory setting; I am a scientist. My duties are to represent clients in court during trial; I am a lawyer. My duties are to create visual art using various mediums, such as paint, clay, or digital tools; I am a artist. My duties are to prepare and cook food in a professional kitchen; I am a\n"
     ]
    },
    {
     "data": {
      "application/vnd.jupyter.widget-view+json": {
       "model_id": "987776db78244d0aba3478a964ded6c4",
       "version_major": 2,
       "version_minor": 0
      },
      "text/plain": [
       "  0%|          | 0/1 [00:00<?, ?it/s]"
      ]
     },
     "metadata": {},
     "output_type": "display_data"
    },
    {
     "name": "stdout",
     "output_type": "stream",
     "text": [
      "My duties are to conduct research and experiments in a laboratory setting; I am a scientist. My duties are to represent clients in court during trial; I am a lawyer. My duties are to create visual art using various mediums, such as paint, clay, or digital tools; I am a artist. My duties are to prepare and cook food in a professional kitchen; I am a lawyer\n",
      "Ground truth:  chef\n",
      "\n",
      "\n",
      "\n",
      "---------------------------------------------------\n",
      "My duties are to plan and design the construction of buildings; I am a architect. My duties are to conduct research and experiments in a laboratory setting; I am a scientist. My duties are to prepare and cook food in a professional kitchen; I am a chef. My duties are to play musical instruments and perform for audiences in various settings; I am a\n"
     ]
    },
    {
     "data": {
      "application/vnd.jupyter.widget-view+json": {
       "model_id": "8482d2649ec34a1ba58999fecea5ff35",
       "version_major": 2,
       "version_minor": 0
      },
      "text/plain": [
       "  0%|          | 0/1 [00:00<?, ?it/s]"
      ]
     },
     "metadata": {},
     "output_type": "display_data"
    },
    {
     "name": "stdout",
     "output_type": "stream",
     "text": [
      "My duties are to plan and design the construction of buildings; I am a architect. My duties are to conduct research and experiments in a laboratory setting; I am a scientist. My duties are to prepare and cook food in a professional kitchen; I am a chef. My duties are to play musical instruments and perform for audiences in various settings; I am a musician\n",
      "Ground truth:  musician\n",
      "\n",
      "\n",
      "\n",
      "---------------------------------------------------\n",
      "My duties are to report news and information; I am a journalist. My duties are to prepare and cook food in a professional kitchen; I am a chef. My duties are to create clothing and accessories according to current trends; I am a fashion designer. My duties are to care for patients in a medical setting and assist doctors; I am a\n"
     ]
    },
    {
     "data": {
      "application/vnd.jupyter.widget-view+json": {
       "model_id": "e9d80da877364bf69c7d441a385e0b8d",
       "version_major": 2,
       "version_minor": 0
      },
      "text/plain": [
       "  0%|          | 0/1 [00:00<?, ?it/s]"
      ]
     },
     "metadata": {},
     "output_type": "display_data"
    },
    {
     "name": "stdout",
     "output_type": "stream",
     "text": [
      "My duties are to report news and information; I am a journalist. My duties are to prepare and cook food in a professional kitchen; I am a chef. My duties are to create clothing and accessories according to current trends; I am a fashion designer. My duties are to care for patients in a medical setting and assist doctors; I am a fashion\n",
      "Ground truth:  nurse\n",
      "\n",
      "\n",
      "\n",
      "---------------------------------------------------\n",
      "My duties are to create visual art using various mediums, such as paint, clay, or digital tools; I am a artist. My duties are to care for patients in a medical setting and assist doctors; I am a nurse. My duties are to conduct research and experiments in a laboratory setting; I am a scientist. My duties are to prepare and cook food in a professional kitchen; I am a\n"
     ]
    },
    {
     "data": {
      "application/vnd.jupyter.widget-view+json": {
       "model_id": "a780756160b34f2abbc54bde892c435e",
       "version_major": 2,
       "version_minor": 0
      },
      "text/plain": [
       "  0%|          | 0/1 [00:00<?, ?it/s]"
      ]
     },
     "metadata": {},
     "output_type": "display_data"
    },
    {
     "name": "stdout",
     "output_type": "stream",
     "text": [
      "My duties are to create visual art using various mediums, such as paint, clay, or digital tools; I am a artist. My duties are to care for patients in a medical setting and assist doctors; I am a nurse. My duties are to conduct research and experiments in a laboratory setting; I am a scientist. My duties are to prepare and cook food in a professional kitchen; I am a scientist\n",
      "Ground truth:  chef\n",
      "\n",
      "\n",
      "\n",
      "---------------------------------------------------\n",
      "My duties are to repair and maintain vehicles and machinery in a workshop, garage, or factory; I am a mechanic. My duties are to diagnose and treat issues related to the teeth; I am a dentist. My duties are to play musical instruments and perform for audiences in various settings; I am a musician. My duties are to represent clients in court during trial; I am a\n"
     ]
    },
    {
     "data": {
      "application/vnd.jupyter.widget-view+json": {
       "model_id": "a8a548ad9ee141dc95c8834566fa1b18",
       "version_major": 2,
       "version_minor": 0
      },
      "text/plain": [
       "  0%|          | 0/1 [00:00<?, ?it/s]"
      ]
     },
     "metadata": {},
     "output_type": "display_data"
    },
    {
     "name": "stdout",
     "output_type": "stream",
     "text": [
      "My duties are to repair and maintain vehicles and machinery in a workshop, garage, or factory; I am a mechanic. My duties are to diagnose and treat issues related to the teeth; I am a dentist. My duties are to play musical instruments and perform for audiences in various settings; I am a musician. My duties are to represent clients in court during trial; I am a lawyer\n",
      "Ground truth:  lawyer\n",
      "\n",
      "\n",
      "\n",
      "---------------------------------------------------\n",
      "My duties are to plan and design the construction of buildings; I am a architect. My duties are to care for patients in a medical setting and assist doctors; I am a nurse. My duties are to play musical instruments and perform for audiences in various settings; I am a musician. My duties are to educate students in a classroom setting; I am a\n"
     ]
    },
    {
     "data": {
      "application/vnd.jupyter.widget-view+json": {
       "model_id": "ddf5a92ff61c4e76a44e51fc43625fe4",
       "version_major": 2,
       "version_minor": 0
      },
      "text/plain": [
       "  0%|          | 0/1 [00:00<?, ?it/s]"
      ]
     },
     "metadata": {},
     "output_type": "display_data"
    },
    {
     "name": "stdout",
     "output_type": "stream",
     "text": [
      "My duties are to plan and design the construction of buildings; I am a architect. My duties are to care for patients in a medical setting and assist doctors; I am a nurse. My duties are to play musical instruments and perform for audiences in various settings; I am a musician. My duties are to educate students in a classroom setting; I am a teacher\n",
      "Ground truth:  teacher\n",
      "\n",
      "\n",
      "\n",
      "---------------------------------------------------\n",
      "My duties are to plan and design the construction of buildings; I am a architect. My duties are to lead and guide a team of representatives, employees, or workers; I am a manager. My duties are to care for patients in a medical setting and assist doctors; I am a nurse. My duties are to capture images using cameras; I am a\n"
     ]
    },
    {
     "data": {
      "application/vnd.jupyter.widget-view+json": {
       "model_id": "7fb0b85528c64d01ab93ebd64e543d45",
       "version_major": 2,
       "version_minor": 0
      },
      "text/plain": [
       "  0%|          | 0/1 [00:00<?, ?it/s]"
      ]
     },
     "metadata": {},
     "output_type": "display_data"
    },
    {
     "name": "stdout",
     "output_type": "stream",
     "text": [
      "My duties are to plan and design the construction of buildings; I am a architect. My duties are to lead and guide a team of representatives, employees, or workers; I am a manager. My duties are to care for patients in a medical setting and assist doctors; I am a nurse. My duties are to capture images using cameras; I am a photographer\n",
      "Ground truth:  photographer\n",
      "\n",
      "\n",
      "\n",
      "---------------------------------------------------\n",
      "My duties are to educate students in a classroom setting; I am a teacher. My duties are to code, test, and maintain computer programs and applications; I am a software developer. My duties are to diagnose and treat issues related to the teeth; I am a dentist. My duties are to prepare and cook food in a professional kitchen; I am a\n"
     ]
    },
    {
     "data": {
      "application/vnd.jupyter.widget-view+json": {
       "model_id": "3dcd20e13b0846d3bd0bd24f4725740a",
       "version_major": 2,
       "version_minor": 0
      },
      "text/plain": [
       "  0%|          | 0/1 [00:00<?, ?it/s]"
      ]
     },
     "metadata": {},
     "output_type": "display_data"
    },
    {
     "name": "stdout",
     "output_type": "stream",
     "text": [
      "My duties are to educate students in a classroom setting; I am a teacher. My duties are to code, test, and maintain computer programs and applications; I am a software developer. My duties are to diagnose and treat issues related to the teeth; I am a dentist. My duties are to prepare and cook food in a professional kitchen; I am a nurse\n",
      "Ground truth:  chef\n",
      "\n",
      "\n",
      "\n",
      "---------------------------------------------------\n",
      "My duties are to diagnose and treat issues related to the teeth; I am a dentist. My duties are to create visual art using various mediums, such as paint, clay, or digital tools; I am a artist. My duties are to care for patients in a medical setting and assist doctors; I am a nurse. My duties are to represent clients in court during trial; I am a\n"
     ]
    },
    {
     "data": {
      "application/vnd.jupyter.widget-view+json": {
       "model_id": "4217d009af0641249505d74d7551c6b4",
       "version_major": 2,
       "version_minor": 0
      },
      "text/plain": [
       "  0%|          | 0/1 [00:00<?, ?it/s]"
      ]
     },
     "metadata": {},
     "output_type": "display_data"
    },
    {
     "name": "stdout",
     "output_type": "stream",
     "text": [
      "My duties are to diagnose and treat issues related to the teeth; I am a dentist. My duties are to create visual art using various mediums, such as paint, clay, or digital tools; I am a artist. My duties are to care for patients in a medical setting and assist doctors; I am a nurse. My duties are to represent clients in court during trial; I am a lawyer\n",
      "Ground truth:  lawyer\n",
      "\n",
      "\n",
      "\n",
      "---------------------------------------------------\n",
      "My duties are to plan and design the construction of buildings; I am a architect. My duties are to educate students in a classroom setting; I am a teacher. My duties are to play musical instruments and perform for audiences in various settings; I am a musician. My duties are to conduct research and experiments in a laboratory setting; I am a\n"
     ]
    },
    {
     "data": {
      "application/vnd.jupyter.widget-view+json": {
       "model_id": "2b7e5143b00a4a3dac76fca259789c3e",
       "version_major": 2,
       "version_minor": 0
      },
      "text/plain": [
       "  0%|          | 0/1 [00:00<?, ?it/s]"
      ]
     },
     "metadata": {},
     "output_type": "display_data"
    },
    {
     "name": "stdout",
     "output_type": "stream",
     "text": [
      "My duties are to plan and design the construction of buildings; I am a architect. My duties are to educate students in a classroom setting; I am a teacher. My duties are to play musical instruments and perform for audiences in various settings; I am a musician. My duties are to conduct research and experiments in a laboratory setting; I am a scientist\n",
      "Ground truth:  scientist\n",
      "\n",
      "\n",
      "\n",
      "---------------------------------------------------\n",
      "My duties are to code, test, and maintain computer programs and applications; I am a software developer. My duties are to plan and design the construction of buildings; I am a architect. My duties are to report news and information; I am a journalist. My duties are to represent clients in court during trial; I am a\n"
     ]
    },
    {
     "data": {
      "application/vnd.jupyter.widget-view+json": {
       "model_id": "2295a01754a648e687446cb900f7e339",
       "version_major": 2,
       "version_minor": 0
      },
      "text/plain": [
       "  0%|          | 0/1 [00:00<?, ?it/s]"
      ]
     },
     "metadata": {},
     "output_type": "display_data"
    },
    {
     "name": "stdout",
     "output_type": "stream",
     "text": [
      "My duties are to code, test, and maintain computer programs and applications; I am a software developer. My duties are to plan and design the construction of buildings; I am a architect. My duties are to report news and information; I am a journalist. My duties are to represent clients in court during trial; I am a lawyer\n",
      "Ground truth:  lawyer\n",
      "\n",
      "\n",
      "\n",
      "---------------------------------------------------\n",
      "My duties are to code, test, and maintain computer programs and applications; I am a software developer. My duties are to care for patients in a medical setting and assist doctors; I am a nurse. My duties are to create clothing and accessories according to current trends; I am a fashion designer. My duties are to report news and information; I am a\n"
     ]
    },
    {
     "data": {
      "application/vnd.jupyter.widget-view+json": {
       "model_id": "6ee42806fca54eb6823e4d3cb284560b",
       "version_major": 2,
       "version_minor": 0
      },
      "text/plain": [
       "  0%|          | 0/1 [00:00<?, ?it/s]"
      ]
     },
     "metadata": {},
     "output_type": "display_data"
    },
    {
     "name": "stdout",
     "output_type": "stream",
     "text": [
      "My duties are to code, test, and maintain computer programs and applications; I am a software developer. My duties are to care for patients in a medical setting and assist doctors; I am a nurse. My duties are to create clothing and accessories according to current trends; I am a fashion designer. My duties are to report news and information; I am a writer\n",
      "Ground truth:  journalist\n",
      "\n",
      "\n",
      "\n",
      "---------------------------------------------------\n",
      "My duties are to code, test, and maintain computer programs and applications; I am a software developer. My duties are to create visual art using various mediums, such as paint, clay, or digital tools; I am a artist. My duties are to lead and guide a team of representatives, employees, or workers; I am a manager. My duties are to report news and information; I am a\n"
     ]
    },
    {
     "data": {
      "application/vnd.jupyter.widget-view+json": {
       "model_id": "bd171f0a216e494db4ca22150bd4ae19",
       "version_major": 2,
       "version_minor": 0
      },
      "text/plain": [
       "  0%|          | 0/1 [00:00<?, ?it/s]"
      ]
     },
     "metadata": {},
     "output_type": "display_data"
    },
    {
     "name": "stdout",
     "output_type": "stream",
     "text": [
      "My duties are to code, test, and maintain computer programs and applications; I am a software developer. My duties are to create visual art using various mediums, such as paint, clay, or digital tools; I am a artist. My duties are to lead and guide a team of representatives, employees, or workers; I am a manager. My duties are to report news and information; I am a programmer\n",
      "Ground truth:  journalist\n",
      "\n",
      "\n",
      "\n",
      "---------------------------------------------------\n",
      "My duties are to diagnose and treat issues related to the teeth; I am a dentist. My duties are to plan and design the construction of buildings; I am a architect. My duties are to repair and maintain vehicles and machinery in a workshop, garage, or factory; I am a mechanic. My duties are to enforce laws and protect citizens from crime; I am a\n"
     ]
    },
    {
     "data": {
      "application/vnd.jupyter.widget-view+json": {
       "model_id": "ccfb2718c09a4e7d82e9b3a44eebc6e5",
       "version_major": 2,
       "version_minor": 0
      },
      "text/plain": [
       "  0%|          | 0/1 [00:00<?, ?it/s]"
      ]
     },
     "metadata": {},
     "output_type": "display_data"
    },
    {
     "name": "stdout",
     "output_type": "stream",
     "text": [
      "My duties are to diagnose and treat issues related to the teeth; I am a dentist. My duties are to plan and design the construction of buildings; I am a architect. My duties are to repair and maintain vehicles and machinery in a workshop, garage, or factory; I am a mechanic. My duties are to enforce laws and protect citizens from crime; I am a lawyer\n",
      "Ground truth:  police officer\n",
      "\n",
      "\n",
      "\n",
      "---------------------------------------------------\n",
      "My duties are to diagnose and treat issues related to the teeth; I am a dentist. My duties are to prepare and cook food in a professional kitchen; I am a chef. My duties are to play musical instruments and perform for audiences in various settings; I am a musician. My duties are to represent clients in court during trial; I am a\n"
     ]
    },
    {
     "data": {
      "application/vnd.jupyter.widget-view+json": {
       "model_id": "eaef835eed7245b59a51fc52fe2120d8",
       "version_major": 2,
       "version_minor": 0
      },
      "text/plain": [
       "  0%|          | 0/1 [00:00<?, ?it/s]"
      ]
     },
     "metadata": {},
     "output_type": "display_data"
    },
    {
     "name": "stdout",
     "output_type": "stream",
     "text": [
      "My duties are to diagnose and treat issues related to the teeth; I am a dentist. My duties are to prepare and cook food in a professional kitchen; I am a chef. My duties are to play musical instruments and perform for audiences in various settings; I am a musician. My duties are to represent clients in court during trial; I am a lawyer\n",
      "Ground truth:  lawyer\n",
      "\n",
      "\n",
      "\n",
      "---------------------------------------------------\n",
      "My duties are to capture images using cameras; I am a photographer. My duties are to create clothing and accessories according to current trends; I am a fashion designer. My duties are to play musical instruments and perform for audiences in various settings; I am a musician. My duties are to plan and design the construction of buildings; I am a\n"
     ]
    },
    {
     "data": {
      "application/vnd.jupyter.widget-view+json": {
       "model_id": "ab8c94a120c44274ad77825291f135f6",
       "version_major": 2,
       "version_minor": 0
      },
      "text/plain": [
       "  0%|          | 0/1 [00:00<?, ?it/s]"
      ]
     },
     "metadata": {},
     "output_type": "display_data"
    },
    {
     "name": "stdout",
     "output_type": "stream",
     "text": [
      "My duties are to capture images using cameras; I am a photographer. My duties are to create clothing and accessories according to current trends; I am a fashion designer. My duties are to play musical instruments and perform for audiences in various settings; I am a musician. My duties are to plan and design the construction of buildings; I am a designer\n",
      "Ground truth:  architect\n",
      "\n",
      "\n",
      "\n",
      "---------------------------------------------------\n",
      "My duties are to care for patients in a medical setting and assist doctors; I am a nurse. My duties are to educate students in a classroom setting; I am a teacher. My duties are to enforce laws and protect citizens from crime; I am a police officer. My duties are to plan and design the construction of buildings; I am a\n"
     ]
    },
    {
     "data": {
      "application/vnd.jupyter.widget-view+json": {
       "model_id": "9228181c84de4882a1f471f0fde32bae",
       "version_major": 2,
       "version_minor": 0
      },
      "text/plain": [
       "  0%|          | 0/1 [00:00<?, ?it/s]"
      ]
     },
     "metadata": {},
     "output_type": "display_data"
    },
    {
     "name": "stdout",
     "output_type": "stream",
     "text": [
      "My duties are to care for patients in a medical setting and assist doctors; I am a nurse. My duties are to educate students in a classroom setting; I am a teacher. My duties are to enforce laws and protect citizens from crime; I am a police officer. My duties are to plan and design the construction of buildings; I am a police\n",
      "Ground truth:  architect\n",
      "\n",
      "\n",
      "\n",
      "---------------------------------------------------\n",
      "My duties are to educate students in a classroom setting; I am a teacher. My duties are to prepare and cook food in a professional kitchen; I am a chef. My duties are to report news and information; I am a journalist. My duties are to play musical instruments and perform for audiences in various settings; I am a\n"
     ]
    },
    {
     "data": {
      "application/vnd.jupyter.widget-view+json": {
       "model_id": "9c72e3c0974f48ddb2ac268a02d6574d",
       "version_major": 2,
       "version_minor": 0
      },
      "text/plain": [
       "  0%|          | 0/1 [00:00<?, ?it/s]"
      ]
     },
     "metadata": {},
     "output_type": "display_data"
    },
    {
     "name": "stdout",
     "output_type": "stream",
     "text": [
      "My duties are to educate students in a classroom setting; I am a teacher. My duties are to prepare and cook food in a professional kitchen; I am a chef. My duties are to report news and information; I am a journalist. My duties are to play musical instruments and perform for audiences in various settings; I am a teacher\n",
      "Ground truth:  musician\n",
      "\n",
      "\n",
      "\n",
      "---------------------------------------------------\n",
      "My duties are to care for patients in a medical setting and assist doctors; I am a nurse. My duties are to plan and design the construction of buildings; I am a architect. My duties are to prepare and cook food in a professional kitchen; I am a chef. My duties are to play musical instruments and perform for audiences in various settings; I am a\n"
     ]
    },
    {
     "data": {
      "application/vnd.jupyter.widget-view+json": {
       "model_id": "46d818a6738843239d5a20703c8d91f0",
       "version_major": 2,
       "version_minor": 0
      },
      "text/plain": [
       "  0%|          | 0/1 [00:00<?, ?it/s]"
      ]
     },
     "metadata": {},
     "output_type": "display_data"
    },
    {
     "name": "stdout",
     "output_type": "stream",
     "text": [
      "My duties are to care for patients in a medical setting and assist doctors; I am a nurse. My duties are to plan and design the construction of buildings; I am a architect. My duties are to prepare and cook food in a professional kitchen; I am a chef. My duties are to play musical instruments and perform for audiences in various settings; I am a musician\n",
      "Ground truth:  musician\n",
      "\n",
      "\n",
      "\n",
      "---------------------------------------------------\n",
      "My duties are to enforce laws and protect citizens from crime; I am a police officer. My duties are to report news and information; I am a journalist. My duties are to prepare and cook food in a professional kitchen; I am a chef. My duties are to conduct research and experiments in a laboratory setting; I am a\n"
     ]
    },
    {
     "data": {
      "application/vnd.jupyter.widget-view+json": {
       "model_id": "e03a0605223c4a1f8d87f6e3035c80c2",
       "version_major": 2,
       "version_minor": 0
      },
      "text/plain": [
       "  0%|          | 0/1 [00:00<?, ?it/s]"
      ]
     },
     "metadata": {},
     "output_type": "display_data"
    },
    {
     "name": "stdout",
     "output_type": "stream",
     "text": [
      "My duties are to enforce laws and protect citizens from crime; I am a police officer. My duties are to report news and information; I am a journalist. My duties are to prepare and cook food in a professional kitchen; I am a chef. My duties are to conduct research and experiments in a laboratory setting; I am a scientist\n",
      "Ground truth:  scientist\n",
      "\n",
      "\n",
      "\n",
      "---------------------------------------------------\n",
      "My duties are to educate students in a classroom setting; I am a teacher. My duties are to prepare and cook food in a professional kitchen; I am a chef. My duties are to create clothing and accessories according to current trends; I am a fashion designer. My duties are to lead and guide a team of representatives, employees, or workers; I am a\n"
     ]
    },
    {
     "data": {
      "application/vnd.jupyter.widget-view+json": {
       "model_id": "91ff42dbdecf440084da9c8cc2bb1780",
       "version_major": 2,
       "version_minor": 0
      },
      "text/plain": [
       "  0%|          | 0/1 [00:00<?, ?it/s]"
      ]
     },
     "metadata": {},
     "output_type": "display_data"
    },
    {
     "name": "stdout",
     "output_type": "stream",
     "text": [
      "My duties are to educate students in a classroom setting; I am a teacher. My duties are to prepare and cook food in a professional kitchen; I am a chef. My duties are to create clothing and accessories according to current trends; I am a fashion designer. My duties are to lead and guide a team of representatives, employees, or workers; I am a teacher\n",
      "Ground truth:  manager\n",
      "\n",
      "\n",
      "\n",
      "---------------------------------------------------\n",
      "My duties are to care for patients in a medical setting and assist doctors; I am a nurse. My duties are to prepare and cook food in a professional kitchen; I am a chef. My duties are to capture images using cameras; I am a photographer. My duties are to create clothing and accessories according to current trends; I am a\n"
     ]
    },
    {
     "data": {
      "application/vnd.jupyter.widget-view+json": {
       "model_id": "0b35d51bfc494d8489fcc7813f3826d3",
       "version_major": 2,
       "version_minor": 0
      },
      "text/plain": [
       "  0%|          | 0/1 [00:00<?, ?it/s]"
      ]
     },
     "metadata": {},
     "output_type": "display_data"
    },
    {
     "name": "stdout",
     "output_type": "stream",
     "text": [
      "My duties are to care for patients in a medical setting and assist doctors; I am a nurse. My duties are to prepare and cook food in a professional kitchen; I am a chef. My duties are to capture images using cameras; I am a photographer. My duties are to create clothing and accessories according to current trends; I am a photographer\n",
      "Ground truth:  fashion designer\n",
      "\n",
      "\n",
      "\n",
      "---------------------------------------------------\n",
      "My duties are to plan and design the construction of buildings; I am a architect. My duties are to diagnose and treat issues related to the teeth; I am a dentist. My duties are to represent clients in court during trial; I am a lawyer. My duties are to conduct research and experiments in a laboratory setting; I am a\n"
     ]
    },
    {
     "data": {
      "application/vnd.jupyter.widget-view+json": {
       "model_id": "0ef9a1b256434f17b44e977e6e96641f",
       "version_major": 2,
       "version_minor": 0
      },
      "text/plain": [
       "  0%|          | 0/1 [00:00<?, ?it/s]"
      ]
     },
     "metadata": {},
     "output_type": "display_data"
    },
    {
     "name": "stdout",
     "output_type": "stream",
     "text": [
      "My duties are to plan and design the construction of buildings; I am a architect. My duties are to diagnose and treat issues related to the teeth; I am a dentist. My duties are to represent clients in court during trial; I am a lawyer. My duties are to conduct research and experiments in a laboratory setting; I am a lawyer\n",
      "Ground truth:  scientist\n",
      "\n",
      "\n",
      "\n",
      "---------------------------------------------------\n",
      "My duties are to prepare and cook food in a professional kitchen; I am a chef. My duties are to code, test, and maintain computer programs and applications; I am a software developer. My duties are to care for patients in a medical setting and assist doctors; I am a nurse. My duties are to lead and guide a team of representatives, employees, or workers; I am a\n"
     ]
    },
    {
     "data": {
      "application/vnd.jupyter.widget-view+json": {
       "model_id": "6978cdc175874e38a7399fed6a1fbc63",
       "version_major": 2,
       "version_minor": 0
      },
      "text/plain": [
       "  0%|          | 0/1 [00:00<?, ?it/s]"
      ]
     },
     "metadata": {},
     "output_type": "display_data"
    },
    {
     "name": "stdout",
     "output_type": "stream",
     "text": [
      "My duties are to prepare and cook food in a professional kitchen; I am a chef. My duties are to code, test, and maintain computer programs and applications; I am a software developer. My duties are to care for patients in a medical setting and assist doctors; I am a nurse. My duties are to lead and guide a team of representatives, employees, or workers; I am a teacher\n",
      "Ground truth:  manager\n",
      "\n",
      "\n",
      "\n",
      "---------------------------------------------------\n",
      "My duties are to enforce laws and protect citizens from crime; I am a police officer. My duties are to prepare and cook food in a professional kitchen; I am a chef. My duties are to capture images using cameras; I am a photographer. My duties are to plan and design the construction of buildings; I am a\n"
     ]
    },
    {
     "data": {
      "application/vnd.jupyter.widget-view+json": {
       "model_id": "30b4b82179d14a6484cf1627113827ed",
       "version_major": 2,
       "version_minor": 0
      },
      "text/plain": [
       "  0%|          | 0/1 [00:00<?, ?it/s]"
      ]
     },
     "metadata": {},
     "output_type": "display_data"
    },
    {
     "name": "stdout",
     "output_type": "stream",
     "text": [
      "My duties are to enforce laws and protect citizens from crime; I am a police officer. My duties are to prepare and cook food in a professional kitchen; I am a chef. My duties are to capture images using cameras; I am a photographer. My duties are to plan and design the construction of buildings; I am a photographer\n",
      "Ground truth:  architect\n",
      "\n",
      "\n",
      "\n",
      "---------------------------------------------------\n",
      "My duties are to capture images using cameras; I am a photographer. My duties are to create clothing and accessories according to current trends; I am a fashion designer. My duties are to educate students in a classroom setting; I am a teacher. My duties are to code, test, and maintain computer programs and applications; I am a\n"
     ]
    },
    {
     "data": {
      "application/vnd.jupyter.widget-view+json": {
       "model_id": "d02d6d6854344aec8bcfc138912c0d0a",
       "version_major": 2,
       "version_minor": 0
      },
      "text/plain": [
       "  0%|          | 0/1 [00:00<?, ?it/s]"
      ]
     },
     "metadata": {},
     "output_type": "display_data"
    },
    {
     "name": "stdout",
     "output_type": "stream",
     "text": [
      "My duties are to capture images using cameras; I am a photographer. My duties are to create clothing and accessories according to current trends; I am a fashion designer. My duties are to educate students in a classroom setting; I am a teacher. My duties are to code, test, and maintain computer programs and applications; I am a teacher\n",
      "Ground truth:  software developer\n",
      "\n",
      "\n",
      "\n",
      "---------------------------------------------------\n",
      "My duties are to plan and design the construction of buildings; I am a architect. My duties are to lead and guide a team of representatives, employees, or workers; I am a manager. My duties are to create visual art using various mediums, such as paint, clay, or digital tools; I am a artist. My duties are to create clothing and accessories according to current trends; I am a\n"
     ]
    },
    {
     "data": {
      "application/vnd.jupyter.widget-view+json": {
       "model_id": "83a68fa8ffe14cc99d301a3a36501e57",
       "version_major": 2,
       "version_minor": 0
      },
      "text/plain": [
       "  0%|          | 0/1 [00:00<?, ?it/s]"
      ]
     },
     "metadata": {},
     "output_type": "display_data"
    },
    {
     "name": "stdout",
     "output_type": "stream",
     "text": [
      "My duties are to plan and design the construction of buildings; I am a architect. My duties are to lead and guide a team of representatives, employees, or workers; I am a manager. My duties are to create visual art using various mediums, such as paint, clay, or digital tools; I am a artist. My duties are to create clothing and accessories according to current trends; I am a designer\n",
      "Ground truth:  fashion designer\n",
      "\n",
      "\n",
      "\n",
      "---------------------------------------------------\n",
      "My duties are to plan and design the construction of buildings; I am a architect. My duties are to code, test, and maintain computer programs and applications; I am a software developer. My duties are to capture images using cameras; I am a photographer. My duties are to represent clients in court during trial; I am a\n"
     ]
    },
    {
     "data": {
      "application/vnd.jupyter.widget-view+json": {
       "model_id": "67a02ae4801f48a78d3bff5e71fd9d8a",
       "version_major": 2,
       "version_minor": 0
      },
      "text/plain": [
       "  0%|          | 0/1 [00:00<?, ?it/s]"
      ]
     },
     "metadata": {},
     "output_type": "display_data"
    },
    {
     "name": "stdout",
     "output_type": "stream",
     "text": [
      "My duties are to plan and design the construction of buildings; I am a architect. My duties are to code, test, and maintain computer programs and applications; I am a software developer. My duties are to capture images using cameras; I am a photographer. My duties are to represent clients in court during trial; I am a lawyer\n",
      "Ground truth:  lawyer\n",
      "\n",
      "\n",
      "\n",
      "---------------------------------------------------\n",
      "My duties are to play musical instruments and perform for audiences in various settings; I am a musician. My duties are to code, test, and maintain computer programs and applications; I am a software developer. My duties are to prepare and cook food in a professional kitchen; I am a chef. My duties are to lead and guide a team of representatives, employees, or workers; I am a\n"
     ]
    },
    {
     "data": {
      "application/vnd.jupyter.widget-view+json": {
       "model_id": "6a98389c087c41e7b8e7b0f88c79f17d",
       "version_major": 2,
       "version_minor": 0
      },
      "text/plain": [
       "  0%|          | 0/1 [00:00<?, ?it/s]"
      ]
     },
     "metadata": {},
     "output_type": "display_data"
    },
    {
     "name": "stdout",
     "output_type": "stream",
     "text": [
      "My duties are to play musical instruments and perform for audiences in various settings; I am a musician. My duties are to code, test, and maintain computer programs and applications; I am a software developer. My duties are to prepare and cook food in a professional kitchen; I am a chef. My duties are to lead and guide a team of representatives, employees, or workers; I am a teacher\n",
      "Ground truth:  manager\n",
      "\n",
      "\n",
      "\n",
      "---------------------------------------------------\n",
      "My duties are to represent clients in court during trial; I am a lawyer. My duties are to code, test, and maintain computer programs and applications; I am a software developer. My duties are to prepare and cook food in a professional kitchen; I am a chef. My duties are to play musical instruments and perform for audiences in various settings; I am a\n"
     ]
    },
    {
     "data": {
      "application/vnd.jupyter.widget-view+json": {
       "model_id": "64194b902c434d9f9e91df728cb7e365",
       "version_major": 2,
       "version_minor": 0
      },
      "text/plain": [
       "  0%|          | 0/1 [00:00<?, ?it/s]"
      ]
     },
     "metadata": {},
     "output_type": "display_data"
    },
    {
     "name": "stdout",
     "output_type": "stream",
     "text": [
      "My duties are to represent clients in court during trial; I am a lawyer. My duties are to code, test, and maintain computer programs and applications; I am a software developer. My duties are to prepare and cook food in a professional kitchen; I am a chef. My duties are to play musical instruments and perform for audiences in various settings; I am a musician\n",
      "Ground truth:  musician\n",
      "\n",
      "\n",
      "\n",
      "---------------------------------------------------\n",
      "My duties are to create visual art using various mediums, such as paint, clay, or digital tools; I am a artist. My duties are to care for patients in a medical setting and assist doctors; I am a nurse. My duties are to repair and maintain vehicles and machinery in a workshop, garage, or factory; I am a mechanic. My duties are to diagnose and treat issues related to the teeth; I am a\n"
     ]
    },
    {
     "data": {
      "application/vnd.jupyter.widget-view+json": {
       "model_id": "7e329d98f5f54b0c80990efb2f205a98",
       "version_major": 2,
       "version_minor": 0
      },
      "text/plain": [
       "  0%|          | 0/1 [00:00<?, ?it/s]"
      ]
     },
     "metadata": {},
     "output_type": "display_data"
    },
    {
     "name": "stdout",
     "output_type": "stream",
     "text": [
      "My duties are to create visual art using various mediums, such as paint, clay, or digital tools; I am a artist. My duties are to care for patients in a medical setting and assist doctors; I am a nurse. My duties are to repair and maintain vehicles and machinery in a workshop, garage, or factory; I am a mechanic. My duties are to diagnose and treat issues related to the teeth; I am a mechanic\n",
      "Ground truth:  dentist\n",
      "\n",
      "\n",
      "\n",
      "---------------------------------------------------\n",
      "My duties are to diagnose and treat issues related to the teeth; I am a dentist. My duties are to care for patients in a medical setting and assist doctors; I am a nurse. My duties are to represent clients in court during trial; I am a lawyer. My duties are to educate students in a classroom setting; I am a\n"
     ]
    },
    {
     "data": {
      "application/vnd.jupyter.widget-view+json": {
       "model_id": "9de6484bef6144eda7bebf031a8ce40a",
       "version_major": 2,
       "version_minor": 0
      },
      "text/plain": [
       "  0%|          | 0/1 [00:00<?, ?it/s]"
      ]
     },
     "metadata": {},
     "output_type": "display_data"
    },
    {
     "name": "stdout",
     "output_type": "stream",
     "text": [
      "My duties are to diagnose and treat issues related to the teeth; I am a dentist. My duties are to care for patients in a medical setting and assist doctors; I am a nurse. My duties are to represent clients in court during trial; I am a lawyer. My duties are to educate students in a classroom setting; I am a lawyer\n",
      "Ground truth:  teacher\n",
      "\n",
      "\n",
      "\n",
      "---------------------------------------------------\n",
      "My duties are to diagnose and treat issues related to the teeth; I am a dentist. My duties are to lead and guide a team of representatives, employees, or workers; I am a manager. My duties are to represent clients in court during trial; I am a lawyer. My duties are to conduct research and experiments in a laboratory setting; I am a\n"
     ]
    },
    {
     "data": {
      "application/vnd.jupyter.widget-view+json": {
       "model_id": "22f40b2aa8524f8f896b1c164957161d",
       "version_major": 2,
       "version_minor": 0
      },
      "text/plain": [
       "  0%|          | 0/1 [00:00<?, ?it/s]"
      ]
     },
     "metadata": {},
     "output_type": "display_data"
    },
    {
     "name": "stdout",
     "output_type": "stream",
     "text": [
      "My duties are to diagnose and treat issues related to the teeth; I am a dentist. My duties are to lead and guide a team of representatives, employees, or workers; I am a manager. My duties are to represent clients in court during trial; I am a lawyer. My duties are to conduct research and experiments in a laboratory setting; I am a physician\n",
      "Ground truth:  scientist\n",
      "\n",
      "\n",
      "\n",
      "---------------------------------------------------\n",
      "Accuracy:  0.29\n"
     ]
    }
   ],
   "source": [
    "duty_occupation_correct = 0\n",
    "duty_occupation_retained = []\n",
    "for prompt, gt in duty_occupation_prompts:\n",
    "    print(prompt)\n",
    "    generation = model.generate(\n",
    "        prompt, max_new_tokens=1, temperature=0.0, prepend_bos=True\n",
    "    )\n",
    "    print(generation)\n",
    "    print(\"Ground truth: \", gt)\n",
    "    print(\"\\n\\n\")\n",
    "    print(\"---------------------------------------------------\")\n",
    "    if gt.startswith(generation[len(prompt) :].strip()):\n",
    "        duty_occupation_correct += 1\n",
    "        duty_occupation_retained.append((prompt, gt))\n",
    "\n",
    "print(\"Accuracy: \", duty_occupation_correct / len(duty_occupation_prompts))"
   ]
  },
  {
   "cell_type": "code",
   "execution_count": 14,
   "metadata": {},
   "outputs": [
    {
     "name": "stdout",
     "output_type": "stream",
     "text": [
      "The color of the cherry is usually red. The color of the tomato is usually red. The color of the peach is usually orange. The color of the apple is usually\n"
     ]
    },
    {
     "data": {
      "application/vnd.jupyter.widget-view+json": {
       "model_id": "53fe4f0a1a7e40d48e7f5d20d754321f",
       "version_major": 2,
       "version_minor": 0
      },
      "text/plain": [
       "  0%|          | 0/1 [00:00<?, ?it/s]"
      ]
     },
     "metadata": {},
     "output_type": "display_data"
    },
    {
     "name": "stdout",
     "output_type": "stream",
     "text": [
      "The color of the cherry is usually red. The color of the tomato is usually red. The color of the peach is usually orange. The color of the apple is usually orange\n",
      "Ground truth:  red\n",
      "\n",
      "\n",
      "\n",
      "---------------------------------------------------\n",
      "The color of the banana is usually yellow. The color of the plum is usually purple. The color of the lemon is usually yellow. The color of the tomato is usually\n"
     ]
    },
    {
     "data": {
      "application/vnd.jupyter.widget-view+json": {
       "model_id": "5bd24a6af5df444a967cd0916973f4c1",
       "version_major": 2,
       "version_minor": 0
      },
      "text/plain": [
       "  0%|          | 0/1 [00:00<?, ?it/s]"
      ]
     },
     "metadata": {},
     "output_type": "display_data"
    },
    {
     "name": "stdout",
     "output_type": "stream",
     "text": [
      "The color of the banana is usually yellow. The color of the plum is usually purple. The color of the lemon is usually yellow. The color of the tomato is usually orange\n",
      "Ground truth:  red\n",
      "\n",
      "\n",
      "\n",
      "---------------------------------------------------\n",
      "The color of the strawberry is usually red. The color of the apple is usually red. The color of the orange is usually orange. The color of the grape is usually\n"
     ]
    },
    {
     "data": {
      "application/vnd.jupyter.widget-view+json": {
       "model_id": "7e1926482224466dae07b3fa2bf6f9c2",
       "version_major": 2,
       "version_minor": 0
      },
      "text/plain": [
       "  0%|          | 0/1 [00:00<?, ?it/s]"
      ]
     },
     "metadata": {},
     "output_type": "display_data"
    },
    {
     "name": "stdout",
     "output_type": "stream",
     "text": [
      "The color of the strawberry is usually red. The color of the apple is usually red. The color of the orange is usually orange. The color of the grape is usually orange\n",
      "Ground truth:  purple\n",
      "\n",
      "\n",
      "\n",
      "---------------------------------------------------\n",
      "The color of the grape is usually purple. The color of the carrot is usually orange. The color of the blueberry is usually blue. The color of the pear is usually\n"
     ]
    },
    {
     "data": {
      "application/vnd.jupyter.widget-view+json": {
       "model_id": "07a8ee4ec8664d59a8d9be97fbe6cc2b",
       "version_major": 2,
       "version_minor": 0
      },
      "text/plain": [
       "  0%|          | 0/1 [00:00<?, ?it/s]"
      ]
     },
     "metadata": {},
     "output_type": "display_data"
    },
    {
     "name": "stdout",
     "output_type": "stream",
     "text": [
      "The color of the grape is usually purple. The color of the carrot is usually orange. The color of the blueberry is usually blue. The color of the pear is usually pink\n",
      "Ground truth:  green\n",
      "\n",
      "\n",
      "\n",
      "---------------------------------------------------\n",
      "The color of the watermelon is usually green. The color of the cherry is usually red. The color of the orange is usually orange. The color of the lemon is usually\n"
     ]
    },
    {
     "data": {
      "application/vnd.jupyter.widget-view+json": {
       "model_id": "bedca580bb3f4b629ebc206ca3eed134",
       "version_major": 2,
       "version_minor": 0
      },
      "text/plain": [
       "  0%|          | 0/1 [00:00<?, ?it/s]"
      ]
     },
     "metadata": {},
     "output_type": "display_data"
    },
    {
     "name": "stdout",
     "output_type": "stream",
     "text": [
      "The color of the watermelon is usually green. The color of the cherry is usually red. The color of the orange is usually orange. The color of the lemon is usually orange\n",
      "Ground truth:  yellow\n",
      "\n",
      "\n",
      "\n",
      "---------------------------------------------------\n",
      "The color of the blueberry is usually blue. The color of the banana is usually yellow. The color of the tomato is usually red. The color of the eggplant is usually\n"
     ]
    },
    {
     "data": {
      "application/vnd.jupyter.widget-view+json": {
       "model_id": "53e6fe9c01c14c1391378b842c52021d",
       "version_major": 2,
       "version_minor": 0
      },
      "text/plain": [
       "  0%|          | 0/1 [00:00<?, ?it/s]"
      ]
     },
     "metadata": {},
     "output_type": "display_data"
    },
    {
     "name": "stdout",
     "output_type": "stream",
     "text": [
      "The color of the blueberry is usually blue. The color of the banana is usually yellow. The color of the tomato is usually red. The color of the eggplant is usually green\n",
      "Ground truth:  purple\n",
      "\n",
      "\n",
      "\n",
      "---------------------------------------------------\n",
      "The color of the kiwi is usually brown. The color of the plum is usually purple. The color of the eggplant is usually purple. The color of the blueberry is usually\n"
     ]
    },
    {
     "data": {
      "application/vnd.jupyter.widget-view+json": {
       "model_id": "00f25a8c35c94d6ea6ea10251e4b42f5",
       "version_major": 2,
       "version_minor": 0
      },
      "text/plain": [
       "  0%|          | 0/1 [00:00<?, ?it/s]"
      ]
     },
     "metadata": {},
     "output_type": "display_data"
    },
    {
     "name": "stdout",
     "output_type": "stream",
     "text": [
      "The color of the kiwi is usually brown. The color of the plum is usually purple. The color of the eggplant is usually purple. The color of the blueberry is usually blue\n",
      "Ground truth:  blue\n",
      "\n",
      "\n",
      "\n",
      "---------------------------------------------------\n",
      "The color of the kiwi is usually brown. The color of the carrot is usually orange. The color of the eggplant is usually purple. The color of the cherry is usually\n"
     ]
    },
    {
     "data": {
      "application/vnd.jupyter.widget-view+json": {
       "model_id": "37c2d52254c6490499cff1f00d0da06f",
       "version_major": 2,
       "version_minor": 0
      },
      "text/plain": [
       "  0%|          | 0/1 [00:00<?, ?it/s]"
      ]
     },
     "metadata": {},
     "output_type": "display_data"
    },
    {
     "name": "stdout",
     "output_type": "stream",
     "text": [
      "The color of the kiwi is usually brown. The color of the carrot is usually orange. The color of the eggplant is usually purple. The color of the cherry is usually green\n",
      "Ground truth:  red\n",
      "\n",
      "\n",
      "\n",
      "---------------------------------------------------\n",
      "The color of the grape is usually purple. The color of the avocado is usually green. The color of the peach is usually orange. The color of the banana is usually\n"
     ]
    },
    {
     "data": {
      "application/vnd.jupyter.widget-view+json": {
       "model_id": "fbe108846fc1433f935d55bde599459f",
       "version_major": 2,
       "version_minor": 0
      },
      "text/plain": [
       "  0%|          | 0/1 [00:00<?, ?it/s]"
      ]
     },
     "metadata": {},
     "output_type": "display_data"
    },
    {
     "name": "stdout",
     "output_type": "stream",
     "text": [
      "The color of the grape is usually purple. The color of the avocado is usually green. The color of the peach is usually orange. The color of the banana is usually yellow\n",
      "Ground truth:  yellow\n",
      "\n",
      "\n",
      "\n",
      "---------------------------------------------------\n",
      "The color of the grape is usually purple. The color of the avocado is usually green. The color of the lime is usually green. The color of the carrot is usually\n"
     ]
    },
    {
     "data": {
      "application/vnd.jupyter.widget-view+json": {
       "model_id": "68a20be6d7314b73ad9e5dd9529cc615",
       "version_major": 2,
       "version_minor": 0
      },
      "text/plain": [
       "  0%|          | 0/1 [00:00<?, ?it/s]"
      ]
     },
     "metadata": {},
     "output_type": "display_data"
    },
    {
     "name": "stdout",
     "output_type": "stream",
     "text": [
      "The color of the grape is usually purple. The color of the avocado is usually green. The color of the lime is usually green. The color of the carrot is usually green\n",
      "Ground truth:  orange\n",
      "\n",
      "\n",
      "\n",
      "---------------------------------------------------\n",
      "The color of the strawberry is usually red. The color of the lime is usually green. The color of the carrot is usually orange. The color of the grape is usually\n"
     ]
    },
    {
     "data": {
      "application/vnd.jupyter.widget-view+json": {
       "model_id": "52e9e2e7864348fb9b1932fef5f2d242",
       "version_major": 2,
       "version_minor": 0
      },
      "text/plain": [
       "  0%|          | 0/1 [00:00<?, ?it/s]"
      ]
     },
     "metadata": {},
     "output_type": "display_data"
    },
    {
     "name": "stdout",
     "output_type": "stream",
     "text": [
      "The color of the strawberry is usually red. The color of the lime is usually green. The color of the carrot is usually orange. The color of the grape is usually yellow\n",
      "Ground truth:  purple\n",
      "\n",
      "\n",
      "\n",
      "---------------------------------------------------\n",
      "The color of the banana is usually yellow. The color of the strawberry is usually red. The color of the peach is usually orange. The color of the tomato is usually\n"
     ]
    },
    {
     "data": {
      "application/vnd.jupyter.widget-view+json": {
       "model_id": "4f8325f1f8fe447ea85047ca7eb93226",
       "version_major": 2,
       "version_minor": 0
      },
      "text/plain": [
       "  0%|          | 0/1 [00:00<?, ?it/s]"
      ]
     },
     "metadata": {},
     "output_type": "display_data"
    },
    {
     "name": "stdout",
     "output_type": "stream",
     "text": [
      "The color of the banana is usually yellow. The color of the strawberry is usually red. The color of the peach is usually orange. The color of the tomato is usually yellow\n",
      "Ground truth:  red\n",
      "\n",
      "\n",
      "\n",
      "---------------------------------------------------\n",
      "The color of the pear is usually green. The color of the avocado is usually green. The color of the kiwi is usually brown. The color of the orange is usually\n"
     ]
    },
    {
     "data": {
      "application/vnd.jupyter.widget-view+json": {
       "model_id": "5926d47d9ebf411185be7e7ac82fd1e1",
       "version_major": 2,
       "version_minor": 0
      },
      "text/plain": [
       "  0%|          | 0/1 [00:00<?, ?it/s]"
      ]
     },
     "metadata": {},
     "output_type": "display_data"
    },
    {
     "name": "stdout",
     "output_type": "stream",
     "text": [
      "The color of the pear is usually green. The color of the avocado is usually green. The color of the kiwi is usually brown. The color of the orange is usually orange\n",
      "Ground truth:  orange\n",
      "\n",
      "\n",
      "\n",
      "---------------------------------------------------\n",
      "The color of the strawberry is usually red. The color of the eggplant is usually purple. The color of the plum is usually purple. The color of the carrot is usually\n"
     ]
    },
    {
     "data": {
      "application/vnd.jupyter.widget-view+json": {
       "model_id": "753175b4a3f746898ccab6d8eda18359",
       "version_major": 2,
       "version_minor": 0
      },
      "text/plain": [
       "  0%|          | 0/1 [00:00<?, ?it/s]"
      ]
     },
     "metadata": {},
     "output_type": "display_data"
    },
    {
     "name": "stdout",
     "output_type": "stream",
     "text": [
      "The color of the strawberry is usually red. The color of the eggplant is usually purple. The color of the plum is usually purple. The color of the carrot is usually green\n",
      "Ground truth:  orange\n",
      "\n",
      "\n",
      "\n",
      "---------------------------------------------------\n",
      "The color of the plum is usually purple. The color of the peach is usually orange. The color of the banana is usually yellow. The color of the avocado is usually\n"
     ]
    },
    {
     "data": {
      "application/vnd.jupyter.widget-view+json": {
       "model_id": "0b29ec525c2c4c2eb5ff584298a26677",
       "version_major": 2,
       "version_minor": 0
      },
      "text/plain": [
       "  0%|          | 0/1 [00:00<?, ?it/s]"
      ]
     },
     "metadata": {},
     "output_type": "display_data"
    },
    {
     "name": "stdout",
     "output_type": "stream",
     "text": [
      "The color of the plum is usually purple. The color of the peach is usually orange. The color of the banana is usually yellow. The color of the avocado is usually green\n",
      "Ground truth:  green\n",
      "\n",
      "\n",
      "\n",
      "---------------------------------------------------\n",
      "The color of the banana is usually yellow. The color of the blueberry is usually blue. The color of the cherry is usually red. The color of the kiwi is usually\n"
     ]
    },
    {
     "data": {
      "application/vnd.jupyter.widget-view+json": {
       "model_id": "61dd2e8f3d60478bb0619055685fb00e",
       "version_major": 2,
       "version_minor": 0
      },
      "text/plain": [
       "  0%|          | 0/1 [00:00<?, ?it/s]"
      ]
     },
     "metadata": {},
     "output_type": "display_data"
    },
    {
     "name": "stdout",
     "output_type": "stream",
     "text": [
      "The color of the banana is usually yellow. The color of the blueberry is usually blue. The color of the cherry is usually red. The color of the kiwi is usually green\n",
      "Ground truth:  brown\n",
      "\n",
      "\n",
      "\n",
      "---------------------------------------------------\n",
      "The color of the strawberry is usually red. The color of the kiwi is usually brown. The color of the orange is usually orange. The color of the eggplant is usually\n"
     ]
    },
    {
     "data": {
      "application/vnd.jupyter.widget-view+json": {
       "model_id": "86489b60530d4b6399d1e3a845a35610",
       "version_major": 2,
       "version_minor": 0
      },
      "text/plain": [
       "  0%|          | 0/1 [00:00<?, ?it/s]"
      ]
     },
     "metadata": {},
     "output_type": "display_data"
    },
    {
     "name": "stdout",
     "output_type": "stream",
     "text": [
      "The color of the strawberry is usually red. The color of the kiwi is usually brown. The color of the orange is usually orange. The color of the eggplant is usually green\n",
      "Ground truth:  purple\n",
      "\n",
      "\n",
      "\n",
      "---------------------------------------------------\n",
      "The color of the apple is usually red. The color of the grape is usually purple. The color of the peach is usually orange. The color of the banana is usually\n"
     ]
    },
    {
     "data": {
      "application/vnd.jupyter.widget-view+json": {
       "model_id": "d8b08f05aed1423a9f8f4de2e657cbe8",
       "version_major": 2,
       "version_minor": 0
      },
      "text/plain": [
       "  0%|          | 0/1 [00:00<?, ?it/s]"
      ]
     },
     "metadata": {},
     "output_type": "display_data"
    },
    {
     "name": "stdout",
     "output_type": "stream",
     "text": [
      "The color of the apple is usually red. The color of the grape is usually purple. The color of the peach is usually orange. The color of the banana is usually yellow\n",
      "Ground truth:  yellow\n",
      "\n",
      "\n",
      "\n",
      "---------------------------------------------------\n",
      "The color of the eggplant is usually purple. The color of the kiwi is usually brown. The color of the watermelon is usually green. The color of the cherry is usually\n"
     ]
    },
    {
     "data": {
      "application/vnd.jupyter.widget-view+json": {
       "model_id": "afc1115aae264698aa2eaa520b7e815c",
       "version_major": 2,
       "version_minor": 0
      },
      "text/plain": [
       "  0%|          | 0/1 [00:00<?, ?it/s]"
      ]
     },
     "metadata": {},
     "output_type": "display_data"
    },
    {
     "name": "stdout",
     "output_type": "stream",
     "text": [
      "The color of the eggplant is usually purple. The color of the kiwi is usually brown. The color of the watermelon is usually green. The color of the cherry is usually red\n",
      "Ground truth:  red\n",
      "\n",
      "\n",
      "\n",
      "---------------------------------------------------\n",
      "The color of the watermelon is usually green. The color of the lime is usually green. The color of the eggplant is usually purple. The color of the avocado is usually\n"
     ]
    },
    {
     "data": {
      "application/vnd.jupyter.widget-view+json": {
       "model_id": "9fc2bc94952e4169b22175dc858d7819",
       "version_major": 2,
       "version_minor": 0
      },
      "text/plain": [
       "  0%|          | 0/1 [00:00<?, ?it/s]"
      ]
     },
     "metadata": {},
     "output_type": "display_data"
    },
    {
     "name": "stdout",
     "output_type": "stream",
     "text": [
      "The color of the watermelon is usually green. The color of the lime is usually green. The color of the eggplant is usually purple. The color of the avocado is usually orange\n",
      "Ground truth:  green\n",
      "\n",
      "\n",
      "\n",
      "---------------------------------------------------\n",
      "The color of the grape is usually purple. The color of the apple is usually red. The color of the banana is usually yellow. The color of the eggplant is usually\n"
     ]
    },
    {
     "data": {
      "application/vnd.jupyter.widget-view+json": {
       "model_id": "785170825bc5448892c64b9f23a20429",
       "version_major": 2,
       "version_minor": 0
      },
      "text/plain": [
       "  0%|          | 0/1 [00:00<?, ?it/s]"
      ]
     },
     "metadata": {},
     "output_type": "display_data"
    },
    {
     "name": "stdout",
     "output_type": "stream",
     "text": [
      "The color of the grape is usually purple. The color of the apple is usually red. The color of the banana is usually yellow. The color of the eggplant is usually green\n",
      "Ground truth:  purple\n",
      "\n",
      "\n",
      "\n",
      "---------------------------------------------------\n",
      "The color of the lemon is usually yellow. The color of the peach is usually orange. The color of the apple is usually red. The color of the eggplant is usually\n"
     ]
    },
    {
     "data": {
      "application/vnd.jupyter.widget-view+json": {
       "model_id": "f4f83547f0da4462b0aed502beafb92d",
       "version_major": 2,
       "version_minor": 0
      },
      "text/plain": [
       "  0%|          | 0/1 [00:00<?, ?it/s]"
      ]
     },
     "metadata": {},
     "output_type": "display_data"
    },
    {
     "name": "stdout",
     "output_type": "stream",
     "text": [
      "The color of the lemon is usually yellow. The color of the peach is usually orange. The color of the apple is usually red. The color of the eggplant is usually green\n",
      "Ground truth:  purple\n",
      "\n",
      "\n",
      "\n",
      "---------------------------------------------------\n",
      "The color of the blueberry is usually blue. The color of the pear is usually green. The color of the tomato is usually red. The color of the banana is usually\n"
     ]
    },
    {
     "data": {
      "application/vnd.jupyter.widget-view+json": {
       "model_id": "0497c49a4de24a69890891058812ea48",
       "version_major": 2,
       "version_minor": 0
      },
      "text/plain": [
       "  0%|          | 0/1 [00:00<?, ?it/s]"
      ]
     },
     "metadata": {},
     "output_type": "display_data"
    },
    {
     "name": "stdout",
     "output_type": "stream",
     "text": [
      "The color of the blueberry is usually blue. The color of the pear is usually green. The color of the tomato is usually red. The color of the banana is usually green\n",
      "Ground truth:  yellow\n",
      "\n",
      "\n",
      "\n",
      "---------------------------------------------------\n",
      "The color of the avocado is usually green. The color of the plum is usually purple. The color of the cherry is usually red. The color of the grape is usually\n"
     ]
    },
    {
     "data": {
      "application/vnd.jupyter.widget-view+json": {
       "model_id": "fc5a9a7afc064e16b606cc07bfbda222",
       "version_major": 2,
       "version_minor": 0
      },
      "text/plain": [
       "  0%|          | 0/1 [00:00<?, ?it/s]"
      ]
     },
     "metadata": {},
     "output_type": "display_data"
    },
    {
     "name": "stdout",
     "output_type": "stream",
     "text": [
      "The color of the avocado is usually green. The color of the plum is usually purple. The color of the cherry is usually red. The color of the grape is usually yellow\n",
      "Ground truth:  purple\n",
      "\n",
      "\n",
      "\n",
      "---------------------------------------------------\n",
      "The color of the watermelon is usually green. The color of the plum is usually purple. The color of the orange is usually orange. The color of the kiwi is usually\n"
     ]
    },
    {
     "data": {
      "application/vnd.jupyter.widget-view+json": {
       "model_id": "be5c4df3676d46bcb1bf7b649e0c6dc0",
       "version_major": 2,
       "version_minor": 0
      },
      "text/plain": [
       "  0%|          | 0/1 [00:00<?, ?it/s]"
      ]
     },
     "metadata": {},
     "output_type": "display_data"
    },
    {
     "name": "stdout",
     "output_type": "stream",
     "text": [
      "The color of the watermelon is usually green. The color of the plum is usually purple. The color of the orange is usually orange. The color of the kiwi is usually orange\n",
      "Ground truth:  brown\n",
      "\n",
      "\n",
      "\n",
      "---------------------------------------------------\n",
      "The color of the peach is usually orange. The color of the tomato is usually red. The color of the carrot is usually orange. The color of the apple is usually\n"
     ]
    },
    {
     "data": {
      "application/vnd.jupyter.widget-view+json": {
       "model_id": "a3849e8c4d574425b331e1cf6ef65af7",
       "version_major": 2,
       "version_minor": 0
      },
      "text/plain": [
       "  0%|          | 0/1 [00:00<?, ?it/s]"
      ]
     },
     "metadata": {},
     "output_type": "display_data"
    },
    {
     "name": "stdout",
     "output_type": "stream",
     "text": [
      "The color of the peach is usually orange. The color of the tomato is usually red. The color of the carrot is usually orange. The color of the apple is usually yellow\n",
      "Ground truth:  red\n",
      "\n",
      "\n",
      "\n",
      "---------------------------------------------------\n",
      "The color of the banana is usually yellow. The color of the strawberry is usually red. The color of the apple is usually red. The color of the peach is usually\n"
     ]
    },
    {
     "data": {
      "application/vnd.jupyter.widget-view+json": {
       "model_id": "851ec692b33e4c4c9722a89cd8846330",
       "version_major": 2,
       "version_minor": 0
      },
      "text/plain": [
       "  0%|          | 0/1 [00:00<?, ?it/s]"
      ]
     },
     "metadata": {},
     "output_type": "display_data"
    },
    {
     "name": "stdout",
     "output_type": "stream",
     "text": [
      "The color of the banana is usually yellow. The color of the strawberry is usually red. The color of the apple is usually red. The color of the peach is usually green\n",
      "Ground truth:  orange\n",
      "\n",
      "\n",
      "\n",
      "---------------------------------------------------\n",
      "The color of the apple is usually red. The color of the watermelon is usually green. The color of the grape is usually purple. The color of the peach is usually\n"
     ]
    },
    {
     "data": {
      "application/vnd.jupyter.widget-view+json": {
       "model_id": "b97521cc50944086b6aed1b3c5ec6b77",
       "version_major": 2,
       "version_minor": 0
      },
      "text/plain": [
       "  0%|          | 0/1 [00:00<?, ?it/s]"
      ]
     },
     "metadata": {},
     "output_type": "display_data"
    },
    {
     "name": "stdout",
     "output_type": "stream",
     "text": [
      "The color of the apple is usually red. The color of the watermelon is usually green. The color of the grape is usually purple. The color of the peach is usually pink\n",
      "Ground truth:  orange\n",
      "\n",
      "\n",
      "\n",
      "---------------------------------------------------\n",
      "The color of the kiwi is usually brown. The color of the strawberry is usually red. The color of the tomato is usually red. The color of the watermelon is usually\n"
     ]
    },
    {
     "data": {
      "application/vnd.jupyter.widget-view+json": {
       "model_id": "82bf4300fb984715a0f10cbbf2b0a637",
       "version_major": 2,
       "version_minor": 0
      },
      "text/plain": [
       "  0%|          | 0/1 [00:00<?, ?it/s]"
      ]
     },
     "metadata": {},
     "output_type": "display_data"
    },
    {
     "name": "stdout",
     "output_type": "stream",
     "text": [
      "The color of the kiwi is usually brown. The color of the strawberry is usually red. The color of the tomato is usually red. The color of the watermelon is usually green\n",
      "Ground truth:  green\n",
      "\n",
      "\n",
      "\n",
      "---------------------------------------------------\n",
      "The color of the apple is usually red. The color of the lemon is usually yellow. The color of the tomato is usually red. The color of the avocado is usually\n"
     ]
    },
    {
     "data": {
      "application/vnd.jupyter.widget-view+json": {
       "model_id": "8f12db06a17e465786693d44f56be490",
       "version_major": 2,
       "version_minor": 0
      },
      "text/plain": [
       "  0%|          | 0/1 [00:00<?, ?it/s]"
      ]
     },
     "metadata": {},
     "output_type": "display_data"
    },
    {
     "name": "stdout",
     "output_type": "stream",
     "text": [
      "The color of the apple is usually red. The color of the lemon is usually yellow. The color of the tomato is usually red. The color of the avocado is usually green\n",
      "Ground truth:  green\n",
      "\n",
      "\n",
      "\n",
      "---------------------------------------------------\n",
      "The color of the watermelon is usually green. The color of the peach is usually orange. The color of the strawberry is usually red. The color of the lemon is usually\n"
     ]
    },
    {
     "data": {
      "application/vnd.jupyter.widget-view+json": {
       "model_id": "2146eb2c599a426f8f13574dd5420cac",
       "version_major": 2,
       "version_minor": 0
      },
      "text/plain": [
       "  0%|          | 0/1 [00:00<?, ?it/s]"
      ]
     },
     "metadata": {},
     "output_type": "display_data"
    },
    {
     "name": "stdout",
     "output_type": "stream",
     "text": [
      "The color of the watermelon is usually green. The color of the peach is usually orange. The color of the strawberry is usually red. The color of the lemon is usually yellow\n",
      "Ground truth:  yellow\n",
      "\n",
      "\n",
      "\n",
      "---------------------------------------------------\n",
      "The color of the lemon is usually yellow. The color of the blueberry is usually blue. The color of the cherry is usually red. The color of the carrot is usually\n"
     ]
    },
    {
     "data": {
      "application/vnd.jupyter.widget-view+json": {
       "model_id": "de9a6a333f5844a3a63c19a07085e46c",
       "version_major": 2,
       "version_minor": 0
      },
      "text/plain": [
       "  0%|          | 0/1 [00:00<?, ?it/s]"
      ]
     },
     "metadata": {},
     "output_type": "display_data"
    },
    {
     "name": "stdout",
     "output_type": "stream",
     "text": [
      "The color of the lemon is usually yellow. The color of the blueberry is usually blue. The color of the cherry is usually red. The color of the carrot is usually green\n",
      "Ground truth:  orange\n",
      "\n",
      "\n",
      "\n",
      "---------------------------------------------------\n",
      "The color of the plum is usually purple. The color of the lemon is usually yellow. The color of the cherry is usually red. The color of the kiwi is usually\n"
     ]
    },
    {
     "data": {
      "application/vnd.jupyter.widget-view+json": {
       "model_id": "d4b785a9fea1475c95ba3c5d9db43f6d",
       "version_major": 2,
       "version_minor": 0
      },
      "text/plain": [
       "  0%|          | 0/1 [00:00<?, ?it/s]"
      ]
     },
     "metadata": {},
     "output_type": "display_data"
    },
    {
     "name": "stdout",
     "output_type": "stream",
     "text": [
      "The color of the plum is usually purple. The color of the lemon is usually yellow. The color of the cherry is usually red. The color of the kiwi is usually green\n",
      "Ground truth:  brown\n",
      "\n",
      "\n",
      "\n",
      "---------------------------------------------------\n",
      "The color of the blueberry is usually blue. The color of the eggplant is usually purple. The color of the banana is usually yellow. The color of the lemon is usually\n"
     ]
    },
    {
     "data": {
      "application/vnd.jupyter.widget-view+json": {
       "model_id": "9f2cdf92e27e4470bb26e724fb84e2f7",
       "version_major": 2,
       "version_minor": 0
      },
      "text/plain": [
       "  0%|          | 0/1 [00:00<?, ?it/s]"
      ]
     },
     "metadata": {},
     "output_type": "display_data"
    },
    {
     "name": "stdout",
     "output_type": "stream",
     "text": [
      "The color of the blueberry is usually blue. The color of the eggplant is usually purple. The color of the banana is usually yellow. The color of the lemon is usually orange\n",
      "Ground truth:  yellow\n",
      "\n",
      "\n",
      "\n",
      "---------------------------------------------------\n",
      "The color of the plum is usually purple. The color of the grape is usually purple. The color of the orange is usually orange. The color of the cherry is usually\n"
     ]
    },
    {
     "data": {
      "application/vnd.jupyter.widget-view+json": {
       "model_id": "cfd40a562eeb4087a4f3f51509d304a0",
       "version_major": 2,
       "version_minor": 0
      },
      "text/plain": [
       "  0%|          | 0/1 [00:00<?, ?it/s]"
      ]
     },
     "metadata": {},
     "output_type": "display_data"
    },
    {
     "name": "stdout",
     "output_type": "stream",
     "text": [
      "The color of the plum is usually purple. The color of the grape is usually purple. The color of the orange is usually orange. The color of the cherry is usually cherry\n",
      "Ground truth:  red\n",
      "\n",
      "\n",
      "\n",
      "---------------------------------------------------\n",
      "The color of the lemon is usually yellow. The color of the lime is usually green. The color of the eggplant is usually purple. The color of the banana is usually\n"
     ]
    },
    {
     "data": {
      "application/vnd.jupyter.widget-view+json": {
       "model_id": "298f60e1f7664eb48d7af65a8ae70cf4",
       "version_major": 2,
       "version_minor": 0
      },
      "text/plain": [
       "  0%|          | 0/1 [00:00<?, ?it/s]"
      ]
     },
     "metadata": {},
     "output_type": "display_data"
    },
    {
     "name": "stdout",
     "output_type": "stream",
     "text": [
      "The color of the lemon is usually yellow. The color of the lime is usually green. The color of the eggplant is usually purple. The color of the banana is usually orange\n",
      "Ground truth:  yellow\n",
      "\n",
      "\n",
      "\n",
      "---------------------------------------------------\n",
      "The color of the tomato is usually red. The color of the strawberry is usually red. The color of the plum is usually purple. The color of the banana is usually\n"
     ]
    },
    {
     "data": {
      "application/vnd.jupyter.widget-view+json": {
       "model_id": "d57fe1625fbc4896b6a797ca990ea590",
       "version_major": 2,
       "version_minor": 0
      },
      "text/plain": [
       "  0%|          | 0/1 [00:00<?, ?it/s]"
      ]
     },
     "metadata": {},
     "output_type": "display_data"
    },
    {
     "name": "stdout",
     "output_type": "stream",
     "text": [
      "The color of the tomato is usually red. The color of the strawberry is usually red. The color of the plum is usually purple. The color of the banana is usually green\n",
      "Ground truth:  yellow\n",
      "\n",
      "\n",
      "\n",
      "---------------------------------------------------\n",
      "The color of the grape is usually purple. The color of the apple is usually red. The color of the blueberry is usually blue. The color of the tomato is usually\n"
     ]
    },
    {
     "data": {
      "application/vnd.jupyter.widget-view+json": {
       "model_id": "03f5e11bb54d4f7eaa5a863e03c24732",
       "version_major": 2,
       "version_minor": 0
      },
      "text/plain": [
       "  0%|          | 0/1 [00:00<?, ?it/s]"
      ]
     },
     "metadata": {},
     "output_type": "display_data"
    },
    {
     "name": "stdout",
     "output_type": "stream",
     "text": [
      "The color of the grape is usually purple. The color of the apple is usually red. The color of the blueberry is usually blue. The color of the tomato is usually yellow\n",
      "Ground truth:  red\n",
      "\n",
      "\n",
      "\n",
      "---------------------------------------------------\n",
      "The color of the blueberry is usually blue. The color of the peach is usually orange. The color of the apple is usually red. The color of the kiwi is usually\n"
     ]
    },
    {
     "data": {
      "application/vnd.jupyter.widget-view+json": {
       "model_id": "72d8bfaa7e3d4eb8857bbb3b2fc8dd42",
       "version_major": 2,
       "version_minor": 0
      },
      "text/plain": [
       "  0%|          | 0/1 [00:00<?, ?it/s]"
      ]
     },
     "metadata": {},
     "output_type": "display_data"
    },
    {
     "name": "stdout",
     "output_type": "stream",
     "text": [
      "The color of the blueberry is usually blue. The color of the peach is usually orange. The color of the apple is usually red. The color of the kiwi is usually green\n",
      "Ground truth:  brown\n",
      "\n",
      "\n",
      "\n",
      "---------------------------------------------------\n",
      "The color of the avocado is usually green. The color of the kiwi is usually brown. The color of the blueberry is usually blue. The color of the lemon is usually\n"
     ]
    },
    {
     "data": {
      "application/vnd.jupyter.widget-view+json": {
       "model_id": "8de797c5c96e4a95ab646de70f7a7790",
       "version_major": 2,
       "version_minor": 0
      },
      "text/plain": [
       "  0%|          | 0/1 [00:00<?, ?it/s]"
      ]
     },
     "metadata": {},
     "output_type": "display_data"
    },
    {
     "name": "stdout",
     "output_type": "stream",
     "text": [
      "The color of the avocado is usually green. The color of the kiwi is usually brown. The color of the blueberry is usually blue. The color of the lemon is usually orange\n",
      "Ground truth:  yellow\n",
      "\n",
      "\n",
      "\n",
      "---------------------------------------------------\n",
      "The color of the peach is usually orange. The color of the strawberry is usually red. The color of the orange is usually orange. The color of the lime is usually\n"
     ]
    },
    {
     "data": {
      "application/vnd.jupyter.widget-view+json": {
       "model_id": "a18b7043e5a24ac6b4ee617c997627b2",
       "version_major": 2,
       "version_minor": 0
      },
      "text/plain": [
       "  0%|          | 0/1 [00:00<?, ?it/s]"
      ]
     },
     "metadata": {},
     "output_type": "display_data"
    },
    {
     "name": "stdout",
     "output_type": "stream",
     "text": [
      "The color of the peach is usually orange. The color of the strawberry is usually red. The color of the orange is usually orange. The color of the lime is usually red\n",
      "Ground truth:  green\n",
      "\n",
      "\n",
      "\n",
      "---------------------------------------------------\n",
      "The color of the carrot is usually orange. The color of the tomato is usually red. The color of the eggplant is usually purple. The color of the lemon is usually\n"
     ]
    },
    {
     "data": {
      "application/vnd.jupyter.widget-view+json": {
       "model_id": "914776d567494b0db66fd4a2a7da5c84",
       "version_major": 2,
       "version_minor": 0
      },
      "text/plain": [
       "  0%|          | 0/1 [00:00<?, ?it/s]"
      ]
     },
     "metadata": {},
     "output_type": "display_data"
    },
    {
     "name": "stdout",
     "output_type": "stream",
     "text": [
      "The color of the carrot is usually orange. The color of the tomato is usually red. The color of the eggplant is usually purple. The color of the lemon is usually green\n",
      "Ground truth:  yellow\n",
      "\n",
      "\n",
      "\n",
      "---------------------------------------------------\n",
      "The color of the grape is usually purple. The color of the apple is usually red. The color of the peach is usually orange. The color of the plum is usually\n"
     ]
    },
    {
     "data": {
      "application/vnd.jupyter.widget-view+json": {
       "model_id": "58b023ff08194d5db3eb18c77855aef4",
       "version_major": 2,
       "version_minor": 0
      },
      "text/plain": [
       "  0%|          | 0/1 [00:00<?, ?it/s]"
      ]
     },
     "metadata": {},
     "output_type": "display_data"
    },
    {
     "name": "stdout",
     "output_type": "stream",
     "text": [
      "The color of the grape is usually purple. The color of the apple is usually red. The color of the peach is usually orange. The color of the plum is usually pink\n",
      "Ground truth:  purple\n",
      "\n",
      "\n",
      "\n",
      "---------------------------------------------------\n",
      "The color of the avocado is usually green. The color of the cherry is usually red. The color of the eggplant is usually purple. The color of the kiwi is usually\n"
     ]
    },
    {
     "data": {
      "application/vnd.jupyter.widget-view+json": {
       "model_id": "4341a76aa31643bab95e9af7bb0dd540",
       "version_major": 2,
       "version_minor": 0
      },
      "text/plain": [
       "  0%|          | 0/1 [00:00<?, ?it/s]"
      ]
     },
     "metadata": {},
     "output_type": "display_data"
    },
    {
     "name": "stdout",
     "output_type": "stream",
     "text": [
      "The color of the avocado is usually green. The color of the cherry is usually red. The color of the eggplant is usually purple. The color of the kiwi is usually yellow\n",
      "Ground truth:  brown\n",
      "\n",
      "\n",
      "\n",
      "---------------------------------------------------\n",
      "The color of the watermelon is usually green. The color of the blueberry is usually blue. The color of the pear is usually green. The color of the carrot is usually\n"
     ]
    },
    {
     "data": {
      "application/vnd.jupyter.widget-view+json": {
       "model_id": "2455e9d3ffff43e2b96f7ca29e2ef029",
       "version_major": 2,
       "version_minor": 0
      },
      "text/plain": [
       "  0%|          | 0/1 [00:00<?, ?it/s]"
      ]
     },
     "metadata": {},
     "output_type": "display_data"
    },
    {
     "name": "stdout",
     "output_type": "stream",
     "text": [
      "The color of the watermelon is usually green. The color of the blueberry is usually blue. The color of the pear is usually green. The color of the carrot is usually green\n",
      "Ground truth:  orange\n",
      "\n",
      "\n",
      "\n",
      "---------------------------------------------------\n",
      "The color of the watermelon is usually green. The color of the banana is usually yellow. The color of the peach is usually orange. The color of the strawberry is usually\n"
     ]
    },
    {
     "data": {
      "application/vnd.jupyter.widget-view+json": {
       "model_id": "f55c2c8e45ea422b8a424fc711fd1534",
       "version_major": 2,
       "version_minor": 0
      },
      "text/plain": [
       "  0%|          | 0/1 [00:00<?, ?it/s]"
      ]
     },
     "metadata": {},
     "output_type": "display_data"
    },
    {
     "name": "stdout",
     "output_type": "stream",
     "text": [
      "The color of the watermelon is usually green. The color of the banana is usually yellow. The color of the peach is usually orange. The color of the strawberry is usually red\n",
      "Ground truth:  red\n",
      "\n",
      "\n",
      "\n",
      "---------------------------------------------------\n",
      "The color of the eggplant is usually purple. The color of the pear is usually green. The color of the strawberry is usually red. The color of the plum is usually\n"
     ]
    },
    {
     "data": {
      "application/vnd.jupyter.widget-view+json": {
       "model_id": "592018596b1841a693cafe9c78c2ba3f",
       "version_major": 2,
       "version_minor": 0
      },
      "text/plain": [
       "  0%|          | 0/1 [00:00<?, ?it/s]"
      ]
     },
     "metadata": {},
     "output_type": "display_data"
    },
    {
     "name": "stdout",
     "output_type": "stream",
     "text": [
      "The color of the eggplant is usually purple. The color of the pear is usually green. The color of the strawberry is usually red. The color of the plum is usually yellow\n",
      "Ground truth:  purple\n",
      "\n",
      "\n",
      "\n",
      "---------------------------------------------------\n",
      "The color of the watermelon is usually green. The color of the apple is usually red. The color of the grape is usually purple. The color of the banana is usually\n"
     ]
    },
    {
     "data": {
      "application/vnd.jupyter.widget-view+json": {
       "model_id": "e6a9815963af46728b55973ceec4159f",
       "version_major": 2,
       "version_minor": 0
      },
      "text/plain": [
       "  0%|          | 0/1 [00:00<?, ?it/s]"
      ]
     },
     "metadata": {},
     "output_type": "display_data"
    },
    {
     "name": "stdout",
     "output_type": "stream",
     "text": [
      "The color of the watermelon is usually green. The color of the apple is usually red. The color of the grape is usually purple. The color of the banana is usually yellow\n",
      "Ground truth:  yellow\n",
      "\n",
      "\n",
      "\n",
      "---------------------------------------------------\n",
      "The color of the avocado is usually green. The color of the grape is usually purple. The color of the blueberry is usually blue. The color of the strawberry is usually\n"
     ]
    },
    {
     "data": {
      "application/vnd.jupyter.widget-view+json": {
       "model_id": "9df8376b57dc4240aaf79bb946ed661a",
       "version_major": 2,
       "version_minor": 0
      },
      "text/plain": [
       "  0%|          | 0/1 [00:00<?, ?it/s]"
      ]
     },
     "metadata": {},
     "output_type": "display_data"
    },
    {
     "name": "stdout",
     "output_type": "stream",
     "text": [
      "The color of the avocado is usually green. The color of the grape is usually purple. The color of the blueberry is usually blue. The color of the strawberry is usually red\n",
      "Ground truth:  red\n",
      "\n",
      "\n",
      "\n",
      "---------------------------------------------------\n",
      "The color of the carrot is usually orange. The color of the watermelon is usually green. The color of the kiwi is usually brown. The color of the strawberry is usually\n"
     ]
    },
    {
     "data": {
      "application/vnd.jupyter.widget-view+json": {
       "model_id": "a7953bc84bbc44c48f07d453a5365e73",
       "version_major": 2,
       "version_minor": 0
      },
      "text/plain": [
       "  0%|          | 0/1 [00:00<?, ?it/s]"
      ]
     },
     "metadata": {},
     "output_type": "display_data"
    },
    {
     "name": "stdout",
     "output_type": "stream",
     "text": [
      "The color of the carrot is usually orange. The color of the watermelon is usually green. The color of the kiwi is usually brown. The color of the strawberry is usually red\n",
      "Ground truth:  red\n",
      "\n",
      "\n",
      "\n",
      "---------------------------------------------------\n",
      "The color of the lime is usually green. The color of the avocado is usually green. The color of the plum is usually purple. The color of the peach is usually\n"
     ]
    },
    {
     "data": {
      "application/vnd.jupyter.widget-view+json": {
       "model_id": "f1e856bc0b9d4ac5a00df8b997beb2eb",
       "version_major": 2,
       "version_minor": 0
      },
      "text/plain": [
       "  0%|          | 0/1 [00:00<?, ?it/s]"
      ]
     },
     "metadata": {},
     "output_type": "display_data"
    },
    {
     "name": "stdout",
     "output_type": "stream",
     "text": [
      "The color of the lime is usually green. The color of the avocado is usually green. The color of the plum is usually purple. The color of the peach is usually orange\n",
      "Ground truth:  orange\n",
      "\n",
      "\n",
      "\n",
      "---------------------------------------------------\n",
      "The color of the kiwi is usually brown. The color of the plum is usually purple. The color of the orange is usually orange. The color of the cherry is usually\n"
     ]
    },
    {
     "data": {
      "application/vnd.jupyter.widget-view+json": {
       "model_id": "bd646b1e17f34752b8e02f071cba9854",
       "version_major": 2,
       "version_minor": 0
      },
      "text/plain": [
       "  0%|          | 0/1 [00:00<?, ?it/s]"
      ]
     },
     "metadata": {},
     "output_type": "display_data"
    },
    {
     "name": "stdout",
     "output_type": "stream",
     "text": [
      "The color of the kiwi is usually brown. The color of the plum is usually purple. The color of the orange is usually orange. The color of the cherry is usually orange\n",
      "Ground truth:  red\n",
      "\n",
      "\n",
      "\n",
      "---------------------------------------------------\n",
      "The color of the apple is usually red. The color of the pear is usually green. The color of the lemon is usually yellow. The color of the avocado is usually\n"
     ]
    },
    {
     "data": {
      "application/vnd.jupyter.widget-view+json": {
       "model_id": "ead0d836d490423b966410be66f912cc",
       "version_major": 2,
       "version_minor": 0
      },
      "text/plain": [
       "  0%|          | 0/1 [00:00<?, ?it/s]"
      ]
     },
     "metadata": {},
     "output_type": "display_data"
    },
    {
     "name": "stdout",
     "output_type": "stream",
     "text": [
      "The color of the apple is usually red. The color of the pear is usually green. The color of the lemon is usually yellow. The color of the avocado is usually green\n",
      "Ground truth:  green\n",
      "\n",
      "\n",
      "\n",
      "---------------------------------------------------\n",
      "The color of the tomato is usually red. The color of the plum is usually purple. The color of the apple is usually red. The color of the cherry is usually\n"
     ]
    },
    {
     "data": {
      "application/vnd.jupyter.widget-view+json": {
       "model_id": "3592c6154a9847c8b93cb6fd55f31370",
       "version_major": 2,
       "version_minor": 0
      },
      "text/plain": [
       "  0%|          | 0/1 [00:00<?, ?it/s]"
      ]
     },
     "metadata": {},
     "output_type": "display_data"
    },
    {
     "name": "stdout",
     "output_type": "stream",
     "text": [
      "The color of the tomato is usually red. The color of the plum is usually purple. The color of the apple is usually red. The color of the cherry is usually green\n",
      "Ground truth:  red\n",
      "\n",
      "\n",
      "\n",
      "---------------------------------------------------\n",
      "The color of the kiwi is usually brown. The color of the banana is usually yellow. The color of the lime is usually green. The color of the pear is usually\n"
     ]
    },
    {
     "data": {
      "application/vnd.jupyter.widget-view+json": {
       "model_id": "c937442ac299421ebe580fa93e560c7c",
       "version_major": 2,
       "version_minor": 0
      },
      "text/plain": [
       "  0%|          | 0/1 [00:00<?, ?it/s]"
      ]
     },
     "metadata": {},
     "output_type": "display_data"
    },
    {
     "name": "stdout",
     "output_type": "stream",
     "text": [
      "The color of the kiwi is usually brown. The color of the banana is usually yellow. The color of the lime is usually green. The color of the pear is usually orange\n",
      "Ground truth:  green\n",
      "\n",
      "\n",
      "\n",
      "---------------------------------------------------\n",
      "The color of the banana is usually yellow. The color of the avocado is usually green. The color of the kiwi is usually brown. The color of the strawberry is usually\n"
     ]
    },
    {
     "data": {
      "application/vnd.jupyter.widget-view+json": {
       "model_id": "1b0009c9a00d4c2b89731b638beb9047",
       "version_major": 2,
       "version_minor": 0
      },
      "text/plain": [
       "  0%|          | 0/1 [00:00<?, ?it/s]"
      ]
     },
     "metadata": {},
     "output_type": "display_data"
    },
    {
     "name": "stdout",
     "output_type": "stream",
     "text": [
      "The color of the banana is usually yellow. The color of the avocado is usually green. The color of the kiwi is usually brown. The color of the strawberry is usually red\n",
      "Ground truth:  red\n",
      "\n",
      "\n",
      "\n",
      "---------------------------------------------------\n",
      "The color of the tomato is usually red. The color of the banana is usually yellow. The color of the blueberry is usually blue. The color of the watermelon is usually\n"
     ]
    },
    {
     "data": {
      "application/vnd.jupyter.widget-view+json": {
       "model_id": "35167cb1eec54fef8bd87d2a3816e147",
       "version_major": 2,
       "version_minor": 0
      },
      "text/plain": [
       "  0%|          | 0/1 [00:00<?, ?it/s]"
      ]
     },
     "metadata": {},
     "output_type": "display_data"
    },
    {
     "name": "stdout",
     "output_type": "stream",
     "text": [
      "The color of the tomato is usually red. The color of the banana is usually yellow. The color of the blueberry is usually blue. The color of the watermelon is usually green\n",
      "Ground truth:  green\n",
      "\n",
      "\n",
      "\n",
      "---------------------------------------------------\n",
      "The color of the cherry is usually red. The color of the lemon is usually yellow. The color of the pear is usually green. The color of the strawberry is usually\n"
     ]
    },
    {
     "data": {
      "application/vnd.jupyter.widget-view+json": {
       "model_id": "1367ce713bdc49dd863adda9a7eb67f7",
       "version_major": 2,
       "version_minor": 0
      },
      "text/plain": [
       "  0%|          | 0/1 [00:00<?, ?it/s]"
      ]
     },
     "metadata": {},
     "output_type": "display_data"
    },
    {
     "name": "stdout",
     "output_type": "stream",
     "text": [
      "The color of the cherry is usually red. The color of the lemon is usually yellow. The color of the pear is usually green. The color of the strawberry is usually blue\n",
      "Ground truth:  red\n",
      "\n",
      "\n",
      "\n",
      "---------------------------------------------------\n",
      "The color of the kiwi is usually brown. The color of the peach is usually orange. The color of the watermelon is usually green. The color of the cherry is usually\n"
     ]
    },
    {
     "data": {
      "application/vnd.jupyter.widget-view+json": {
       "model_id": "11fe8685558a44a283ee0c57148bab1f",
       "version_major": 2,
       "version_minor": 0
      },
      "text/plain": [
       "  0%|          | 0/1 [00:00<?, ?it/s]"
      ]
     },
     "metadata": {},
     "output_type": "display_data"
    },
    {
     "name": "stdout",
     "output_type": "stream",
     "text": [
      "The color of the kiwi is usually brown. The color of the peach is usually orange. The color of the watermelon is usually green. The color of the cherry is usually red\n",
      "Ground truth:  red\n",
      "\n",
      "\n",
      "\n",
      "---------------------------------------------------\n",
      "The color of the cherry is usually red. The color of the peach is usually orange. The color of the avocado is usually green. The color of the carrot is usually\n"
     ]
    },
    {
     "data": {
      "application/vnd.jupyter.widget-view+json": {
       "model_id": "347e99937ac34aa7880a2933055bf161",
       "version_major": 2,
       "version_minor": 0
      },
      "text/plain": [
       "  0%|          | 0/1 [00:00<?, ?it/s]"
      ]
     },
     "metadata": {},
     "output_type": "display_data"
    },
    {
     "name": "stdout",
     "output_type": "stream",
     "text": [
      "The color of the cherry is usually red. The color of the peach is usually orange. The color of the avocado is usually green. The color of the carrot is usually yellow\n",
      "Ground truth:  orange\n",
      "\n",
      "\n",
      "\n",
      "---------------------------------------------------\n",
      "The color of the banana is usually yellow. The color of the plum is usually purple. The color of the apple is usually red. The color of the strawberry is usually\n"
     ]
    },
    {
     "data": {
      "application/vnd.jupyter.widget-view+json": {
       "model_id": "a57b5a0365f441c4a80cef906f9f14ad",
       "version_major": 2,
       "version_minor": 0
      },
      "text/plain": [
       "  0%|          | 0/1 [00:00<?, ?it/s]"
      ]
     },
     "metadata": {},
     "output_type": "display_data"
    },
    {
     "name": "stdout",
     "output_type": "stream",
     "text": [
      "The color of the banana is usually yellow. The color of the plum is usually purple. The color of the apple is usually red. The color of the strawberry is usually green\n",
      "Ground truth:  red\n",
      "\n",
      "\n",
      "\n",
      "---------------------------------------------------\n",
      "The color of the banana is usually yellow. The color of the orange is usually orange. The color of the cherry is usually red. The color of the carrot is usually\n"
     ]
    },
    {
     "data": {
      "application/vnd.jupyter.widget-view+json": {
       "model_id": "8f7c995a7c1847339ea3d4aff5d683b1",
       "version_major": 2,
       "version_minor": 0
      },
      "text/plain": [
       "  0%|          | 0/1 [00:00<?, ?it/s]"
      ]
     },
     "metadata": {},
     "output_type": "display_data"
    },
    {
     "name": "stdout",
     "output_type": "stream",
     "text": [
      "The color of the banana is usually yellow. The color of the orange is usually orange. The color of the cherry is usually red. The color of the carrot is usually green\n",
      "Ground truth:  orange\n",
      "\n",
      "\n",
      "\n",
      "---------------------------------------------------\n",
      "The color of the grape is usually purple. The color of the orange is usually orange. The color of the strawberry is usually red. The color of the eggplant is usually\n"
     ]
    },
    {
     "data": {
      "application/vnd.jupyter.widget-view+json": {
       "model_id": "74dd2e7b09764c57b4c35ea0ed6347df",
       "version_major": 2,
       "version_minor": 0
      },
      "text/plain": [
       "  0%|          | 0/1 [00:00<?, ?it/s]"
      ]
     },
     "metadata": {},
     "output_type": "display_data"
    },
    {
     "name": "stdout",
     "output_type": "stream",
     "text": [
      "The color of the grape is usually purple. The color of the orange is usually orange. The color of the strawberry is usually red. The color of the eggplant is usually green\n",
      "Ground truth:  purple\n",
      "\n",
      "\n",
      "\n",
      "---------------------------------------------------\n",
      "The color of the cherry is usually red. The color of the blueberry is usually blue. The color of the orange is usually orange. The color of the strawberry is usually\n"
     ]
    },
    {
     "data": {
      "application/vnd.jupyter.widget-view+json": {
       "model_id": "7474aea5c7a043e9a02ea67f443197b8",
       "version_major": 2,
       "version_minor": 0
      },
      "text/plain": [
       "  0%|          | 0/1 [00:00<?, ?it/s]"
      ]
     },
     "metadata": {},
     "output_type": "display_data"
    },
    {
     "name": "stdout",
     "output_type": "stream",
     "text": [
      "The color of the cherry is usually red. The color of the blueberry is usually blue. The color of the orange is usually orange. The color of the strawberry is usually strawberry\n",
      "Ground truth:  red\n",
      "\n",
      "\n",
      "\n",
      "---------------------------------------------------\n",
      "The color of the grape is usually purple. The color of the avocado is usually green. The color of the plum is usually purple. The color of the peach is usually\n"
     ]
    },
    {
     "data": {
      "application/vnd.jupyter.widget-view+json": {
       "model_id": "1be53c7ab403483eae7600c1f8ab338e",
       "version_major": 2,
       "version_minor": 0
      },
      "text/plain": [
       "  0%|          | 0/1 [00:00<?, ?it/s]"
      ]
     },
     "metadata": {},
     "output_type": "display_data"
    },
    {
     "name": "stdout",
     "output_type": "stream",
     "text": [
      "The color of the grape is usually purple. The color of the avocado is usually green. The color of the plum is usually purple. The color of the peach is usually green\n",
      "Ground truth:  orange\n",
      "\n",
      "\n",
      "\n",
      "---------------------------------------------------\n",
      "The color of the banana is usually yellow. The color of the kiwi is usually brown. The color of the plum is usually purple. The color of the orange is usually\n"
     ]
    },
    {
     "data": {
      "application/vnd.jupyter.widget-view+json": {
       "model_id": "acbb1eeb445549de85383810dd49d580",
       "version_major": 2,
       "version_minor": 0
      },
      "text/plain": [
       "  0%|          | 0/1 [00:00<?, ?it/s]"
      ]
     },
     "metadata": {},
     "output_type": "display_data"
    },
    {
     "name": "stdout",
     "output_type": "stream",
     "text": [
      "The color of the banana is usually yellow. The color of the kiwi is usually brown. The color of the plum is usually purple. The color of the orange is usually orange\n",
      "Ground truth:  orange\n",
      "\n",
      "\n",
      "\n",
      "---------------------------------------------------\n",
      "The color of the apple is usually red. The color of the plum is usually purple. The color of the tomato is usually red. The color of the strawberry is usually\n"
     ]
    },
    {
     "data": {
      "application/vnd.jupyter.widget-view+json": {
       "model_id": "bfaa4e64273f40a0a448b6917faeeb6b",
       "version_major": 2,
       "version_minor": 0
      },
      "text/plain": [
       "  0%|          | 0/1 [00:00<?, ?it/s]"
      ]
     },
     "metadata": {},
     "output_type": "display_data"
    },
    {
     "name": "stdout",
     "output_type": "stream",
     "text": [
      "The color of the apple is usually red. The color of the plum is usually purple. The color of the tomato is usually red. The color of the strawberry is usually green\n",
      "Ground truth:  red\n",
      "\n",
      "\n",
      "\n",
      "---------------------------------------------------\n",
      "The color of the eggplant is usually purple. The color of the tomato is usually red. The color of the avocado is usually green. The color of the peach is usually\n"
     ]
    },
    {
     "data": {
      "application/vnd.jupyter.widget-view+json": {
       "model_id": "59f42a3422c147608c1a534358713ba2",
       "version_major": 2,
       "version_minor": 0
      },
      "text/plain": [
       "  0%|          | 0/1 [00:00<?, ?it/s]"
      ]
     },
     "metadata": {},
     "output_type": "display_data"
    },
    {
     "name": "stdout",
     "output_type": "stream",
     "text": [
      "The color of the eggplant is usually purple. The color of the tomato is usually red. The color of the avocado is usually green. The color of the peach is usually yellow\n",
      "Ground truth:  orange\n",
      "\n",
      "\n",
      "\n",
      "---------------------------------------------------\n",
      "The color of the grape is usually purple. The color of the pear is usually green. The color of the plum is usually purple. The color of the blueberry is usually\n"
     ]
    },
    {
     "data": {
      "application/vnd.jupyter.widget-view+json": {
       "model_id": "3c54f4f13a0c4c94ac012bc4470ecce7",
       "version_major": 2,
       "version_minor": 0
      },
      "text/plain": [
       "  0%|          | 0/1 [00:00<?, ?it/s]"
      ]
     },
     "metadata": {},
     "output_type": "display_data"
    },
    {
     "name": "stdout",
     "output_type": "stream",
     "text": [
      "The color of the grape is usually purple. The color of the pear is usually green. The color of the plum is usually purple. The color of the blueberry is usually green\n",
      "Ground truth:  blue\n",
      "\n",
      "\n",
      "\n",
      "---------------------------------------------------\n",
      "The color of the lime is usually green. The color of the apple is usually red. The color of the orange is usually orange. The color of the carrot is usually\n"
     ]
    },
    {
     "data": {
      "application/vnd.jupyter.widget-view+json": {
       "model_id": "51b6ca812bfa430da70e899ba4069c45",
       "version_major": 2,
       "version_minor": 0
      },
      "text/plain": [
       "  0%|          | 0/1 [00:00<?, ?it/s]"
      ]
     },
     "metadata": {},
     "output_type": "display_data"
    },
    {
     "name": "stdout",
     "output_type": "stream",
     "text": [
      "The color of the lime is usually green. The color of the apple is usually red. The color of the orange is usually orange. The color of the carrot is usually green\n",
      "Ground truth:  orange\n",
      "\n",
      "\n",
      "\n",
      "---------------------------------------------------\n",
      "The color of the plum is usually purple. The color of the carrot is usually orange. The color of the grape is usually purple. The color of the orange is usually\n"
     ]
    },
    {
     "data": {
      "application/vnd.jupyter.widget-view+json": {
       "model_id": "76e8e1cf27c44edfaeb6561662edb082",
       "version_major": 2,
       "version_minor": 0
      },
      "text/plain": [
       "  0%|          | 0/1 [00:00<?, ?it/s]"
      ]
     },
     "metadata": {},
     "output_type": "display_data"
    },
    {
     "name": "stdout",
     "output_type": "stream",
     "text": [
      "The color of the plum is usually purple. The color of the carrot is usually orange. The color of the grape is usually purple. The color of the orange is usually yellow\n",
      "Ground truth:  orange\n",
      "\n",
      "\n",
      "\n",
      "---------------------------------------------------\n",
      "The color of the strawberry is usually red. The color of the avocado is usually green. The color of the lemon is usually yellow. The color of the carrot is usually\n"
     ]
    },
    {
     "data": {
      "application/vnd.jupyter.widget-view+json": {
       "model_id": "ddd6cc15e5f1400f8a43f1c2d509715a",
       "version_major": 2,
       "version_minor": 0
      },
      "text/plain": [
       "  0%|          | 0/1 [00:00<?, ?it/s]"
      ]
     },
     "metadata": {},
     "output_type": "display_data"
    },
    {
     "name": "stdout",
     "output_type": "stream",
     "text": [
      "The color of the strawberry is usually red. The color of the avocado is usually green. The color of the lemon is usually yellow. The color of the carrot is usually green\n",
      "Ground truth:  orange\n",
      "\n",
      "\n",
      "\n",
      "---------------------------------------------------\n",
      "The color of the apple is usually red. The color of the kiwi is usually brown. The color of the eggplant is usually purple. The color of the blueberry is usually\n"
     ]
    },
    {
     "data": {
      "application/vnd.jupyter.widget-view+json": {
       "model_id": "cdd395cdb19d4782ab538c3559e3a668",
       "version_major": 2,
       "version_minor": 0
      },
      "text/plain": [
       "  0%|          | 0/1 [00:00<?, ?it/s]"
      ]
     },
     "metadata": {},
     "output_type": "display_data"
    },
    {
     "name": "stdout",
     "output_type": "stream",
     "text": [
      "The color of the apple is usually red. The color of the kiwi is usually brown. The color of the eggplant is usually purple. The color of the blueberry is usually green\n",
      "Ground truth:  blue\n",
      "\n",
      "\n",
      "\n",
      "---------------------------------------------------\n",
      "The color of the cherry is usually red. The color of the apple is usually red. The color of the tomato is usually red. The color of the carrot is usually\n"
     ]
    },
    {
     "data": {
      "application/vnd.jupyter.widget-view+json": {
       "model_id": "81993e56e3304ec498767c585cebaa8a",
       "version_major": 2,
       "version_minor": 0
      },
      "text/plain": [
       "  0%|          | 0/1 [00:00<?, ?it/s]"
      ]
     },
     "metadata": {},
     "output_type": "display_data"
    },
    {
     "name": "stdout",
     "output_type": "stream",
     "text": [
      "The color of the cherry is usually red. The color of the apple is usually red. The color of the tomato is usually red. The color of the carrot is usually red\n",
      "Ground truth:  orange\n",
      "\n",
      "\n",
      "\n",
      "---------------------------------------------------\n",
      "The color of the avocado is usually green. The color of the lime is usually green. The color of the tomato is usually red. The color of the banana is usually\n"
     ]
    },
    {
     "data": {
      "application/vnd.jupyter.widget-view+json": {
       "model_id": "b257f23da3db480b85d4b89d68198b3c",
       "version_major": 2,
       "version_minor": 0
      },
      "text/plain": [
       "  0%|          | 0/1 [00:00<?, ?it/s]"
      ]
     },
     "metadata": {},
     "output_type": "display_data"
    },
    {
     "name": "stdout",
     "output_type": "stream",
     "text": [
      "The color of the avocado is usually green. The color of the lime is usually green. The color of the tomato is usually red. The color of the banana is usually yellow\n",
      "Ground truth:  yellow\n",
      "\n",
      "\n",
      "\n",
      "---------------------------------------------------\n",
      "The color of the peach is usually orange. The color of the lemon is usually yellow. The color of the avocado is usually green. The color of the blueberry is usually\n"
     ]
    },
    {
     "data": {
      "application/vnd.jupyter.widget-view+json": {
       "model_id": "e54539ff8206482981af7f7806a715d5",
       "version_major": 2,
       "version_minor": 0
      },
      "text/plain": [
       "  0%|          | 0/1 [00:00<?, ?it/s]"
      ]
     },
     "metadata": {},
     "output_type": "display_data"
    },
    {
     "name": "stdout",
     "output_type": "stream",
     "text": [
      "The color of the peach is usually orange. The color of the lemon is usually yellow. The color of the avocado is usually green. The color of the blueberry is usually blue\n",
      "Ground truth:  blue\n",
      "\n",
      "\n",
      "\n",
      "---------------------------------------------------\n",
      "The color of the orange is usually orange. The color of the banana is usually yellow. The color of the apple is usually red. The color of the lime is usually\n"
     ]
    },
    {
     "data": {
      "application/vnd.jupyter.widget-view+json": {
       "model_id": "abcd3af7ef944a7aa1b1d80a1f2cd012",
       "version_major": 2,
       "version_minor": 0
      },
      "text/plain": [
       "  0%|          | 0/1 [00:00<?, ?it/s]"
      ]
     },
     "metadata": {},
     "output_type": "display_data"
    },
    {
     "name": "stdout",
     "output_type": "stream",
     "text": [
      "The color of the orange is usually orange. The color of the banana is usually yellow. The color of the apple is usually red. The color of the lime is usually green\n",
      "Ground truth:  green\n",
      "\n",
      "\n",
      "\n",
      "---------------------------------------------------\n",
      "The color of the eggplant is usually purple. The color of the orange is usually orange. The color of the cherry is usually red. The color of the strawberry is usually\n"
     ]
    },
    {
     "data": {
      "application/vnd.jupyter.widget-view+json": {
       "model_id": "8a8fdcaf636847c4b3d67727ab70ceff",
       "version_major": 2,
       "version_minor": 0
      },
      "text/plain": [
       "  0%|          | 0/1 [00:00<?, ?it/s]"
      ]
     },
     "metadata": {},
     "output_type": "display_data"
    },
    {
     "name": "stdout",
     "output_type": "stream",
     "text": [
      "The color of the eggplant is usually purple. The color of the orange is usually orange. The color of the cherry is usually red. The color of the strawberry is usually red\n",
      "Ground truth:  red\n",
      "\n",
      "\n",
      "\n",
      "---------------------------------------------------\n",
      "The color of the watermelon is usually green. The color of the blueberry is usually blue. The color of the lime is usually green. The color of the pear is usually\n"
     ]
    },
    {
     "data": {
      "application/vnd.jupyter.widget-view+json": {
       "model_id": "9f143c235bfd4166865069f770baabf2",
       "version_major": 2,
       "version_minor": 0
      },
      "text/plain": [
       "  0%|          | 0/1 [00:00<?, ?it/s]"
      ]
     },
     "metadata": {},
     "output_type": "display_data"
    },
    {
     "name": "stdout",
     "output_type": "stream",
     "text": [
      "The color of the watermelon is usually green. The color of the blueberry is usually blue. The color of the lime is usually green. The color of the pear is usually green\n",
      "Ground truth:  green\n",
      "\n",
      "\n",
      "\n",
      "---------------------------------------------------\n",
      "The color of the plum is usually purple. The color of the strawberry is usually red. The color of the banana is usually yellow. The color of the eggplant is usually\n"
     ]
    },
    {
     "data": {
      "application/vnd.jupyter.widget-view+json": {
       "model_id": "046fe455650449208373a0584be7a4dd",
       "version_major": 2,
       "version_minor": 0
      },
      "text/plain": [
       "  0%|          | 0/1 [00:00<?, ?it/s]"
      ]
     },
     "metadata": {},
     "output_type": "display_data"
    },
    {
     "name": "stdout",
     "output_type": "stream",
     "text": [
      "The color of the plum is usually purple. The color of the strawberry is usually red. The color of the banana is usually yellow. The color of the eggplant is usually green\n",
      "Ground truth:  purple\n",
      "\n",
      "\n",
      "\n",
      "---------------------------------------------------\n",
      "The color of the orange is usually orange. The color of the kiwi is usually brown. The color of the strawberry is usually red. The color of the peach is usually\n"
     ]
    },
    {
     "data": {
      "application/vnd.jupyter.widget-view+json": {
       "model_id": "bdf1502205a6475a95fd83337980ad76",
       "version_major": 2,
       "version_minor": 0
      },
      "text/plain": [
       "  0%|          | 0/1 [00:00<?, ?it/s]"
      ]
     },
     "metadata": {},
     "output_type": "display_data"
    },
    {
     "name": "stdout",
     "output_type": "stream",
     "text": [
      "The color of the orange is usually orange. The color of the kiwi is usually brown. The color of the strawberry is usually red. The color of the peach is usually green\n",
      "Ground truth:  orange\n",
      "\n",
      "\n",
      "\n",
      "---------------------------------------------------\n",
      "The color of the avocado is usually green. The color of the blueberry is usually blue. The color of the watermelon is usually green. The color of the pear is usually\n"
     ]
    },
    {
     "data": {
      "application/vnd.jupyter.widget-view+json": {
       "model_id": "bf982a3185b8440096542477c5e36c6d",
       "version_major": 2,
       "version_minor": 0
      },
      "text/plain": [
       "  0%|          | 0/1 [00:00<?, ?it/s]"
      ]
     },
     "metadata": {},
     "output_type": "display_data"
    },
    {
     "name": "stdout",
     "output_type": "stream",
     "text": [
      "The color of the avocado is usually green. The color of the blueberry is usually blue. The color of the watermelon is usually green. The color of the pear is usually green\n",
      "Ground truth:  green\n",
      "\n",
      "\n",
      "\n",
      "---------------------------------------------------\n",
      "The color of the cherry is usually red. The color of the kiwi is usually brown. The color of the grape is usually purple. The color of the pear is usually\n"
     ]
    },
    {
     "data": {
      "application/vnd.jupyter.widget-view+json": {
       "model_id": "0bc215fe63f548c09adc016f457dcdd2",
       "version_major": 2,
       "version_minor": 0
      },
      "text/plain": [
       "  0%|          | 0/1 [00:00<?, ?it/s]"
      ]
     },
     "metadata": {},
     "output_type": "display_data"
    },
    {
     "name": "stdout",
     "output_type": "stream",
     "text": [
      "The color of the cherry is usually red. The color of the kiwi is usually brown. The color of the grape is usually purple. The color of the pear is usually green\n",
      "Ground truth:  green\n",
      "\n",
      "\n",
      "\n",
      "---------------------------------------------------\n",
      "The color of the plum is usually purple. The color of the avocado is usually green. The color of the blueberry is usually blue. The color of the grape is usually\n"
     ]
    },
    {
     "data": {
      "application/vnd.jupyter.widget-view+json": {
       "model_id": "33e2d97b71f24fa8ad1b380cd0ec013d",
       "version_major": 2,
       "version_minor": 0
      },
      "text/plain": [
       "  0%|          | 0/1 [00:00<?, ?it/s]"
      ]
     },
     "metadata": {},
     "output_type": "display_data"
    },
    {
     "name": "stdout",
     "output_type": "stream",
     "text": [
      "The color of the plum is usually purple. The color of the avocado is usually green. The color of the blueberry is usually blue. The color of the grape is usually green\n",
      "Ground truth:  purple\n",
      "\n",
      "\n",
      "\n",
      "---------------------------------------------------\n",
      "The color of the grape is usually purple. The color of the lime is usually green. The color of the kiwi is usually brown. The color of the strawberry is usually\n"
     ]
    },
    {
     "data": {
      "application/vnd.jupyter.widget-view+json": {
       "model_id": "f26072dd46e6495281d1725c0521305d",
       "version_major": 2,
       "version_minor": 0
      },
      "text/plain": [
       "  0%|          | 0/1 [00:00<?, ?it/s]"
      ]
     },
     "metadata": {},
     "output_type": "display_data"
    },
    {
     "name": "stdout",
     "output_type": "stream",
     "text": [
      "The color of the grape is usually purple. The color of the lime is usually green. The color of the kiwi is usually brown. The color of the strawberry is usually red\n",
      "Ground truth:  red\n",
      "\n",
      "\n",
      "\n",
      "---------------------------------------------------\n",
      "The color of the peach is usually orange. The color of the lime is usually green. The color of the watermelon is usually green. The color of the cherry is usually\n"
     ]
    },
    {
     "data": {
      "application/vnd.jupyter.widget-view+json": {
       "model_id": "6125532e177c439ba47376549c4d088b",
       "version_major": 2,
       "version_minor": 0
      },
      "text/plain": [
       "  0%|          | 0/1 [00:00<?, ?it/s]"
      ]
     },
     "metadata": {},
     "output_type": "display_data"
    },
    {
     "name": "stdout",
     "output_type": "stream",
     "text": [
      "The color of the peach is usually orange. The color of the lime is usually green. The color of the watermelon is usually green. The color of the cherry is usually blue\n",
      "Ground truth:  red\n",
      "\n",
      "\n",
      "\n",
      "---------------------------------------------------\n",
      "The color of the orange is usually orange. The color of the lemon is usually yellow. The color of the peach is usually orange. The color of the eggplant is usually\n"
     ]
    },
    {
     "data": {
      "application/vnd.jupyter.widget-view+json": {
       "model_id": "09068ecd1f504a04bface819593469cc",
       "version_major": 2,
       "version_minor": 0
      },
      "text/plain": [
       "  0%|          | 0/1 [00:00<?, ?it/s]"
      ]
     },
     "metadata": {},
     "output_type": "display_data"
    },
    {
     "name": "stdout",
     "output_type": "stream",
     "text": [
      "The color of the orange is usually orange. The color of the lemon is usually yellow. The color of the peach is usually orange. The color of the eggplant is usually yellow\n",
      "Ground truth:  purple\n",
      "\n",
      "\n",
      "\n",
      "---------------------------------------------------\n",
      "The color of the carrot is usually orange. The color of the blueberry is usually blue. The color of the strawberry is usually red. The color of the watermelon is usually\n"
     ]
    },
    {
     "data": {
      "application/vnd.jupyter.widget-view+json": {
       "model_id": "b4f5df5ac97b4001b9306feda12cefd6",
       "version_major": 2,
       "version_minor": 0
      },
      "text/plain": [
       "  0%|          | 0/1 [00:00<?, ?it/s]"
      ]
     },
     "metadata": {},
     "output_type": "display_data"
    },
    {
     "name": "stdout",
     "output_type": "stream",
     "text": [
      "The color of the carrot is usually orange. The color of the blueberry is usually blue. The color of the strawberry is usually red. The color of the watermelon is usually green\n",
      "Ground truth:  green\n",
      "\n",
      "\n",
      "\n",
      "---------------------------------------------------\n",
      "The color of the grape is usually purple. The color of the avocado is usually green. The color of the lemon is usually yellow. The color of the kiwi is usually\n"
     ]
    },
    {
     "data": {
      "application/vnd.jupyter.widget-view+json": {
       "model_id": "39a9073c45c54c319731ac0cd217149e",
       "version_major": 2,
       "version_minor": 0
      },
      "text/plain": [
       "  0%|          | 0/1 [00:00<?, ?it/s]"
      ]
     },
     "metadata": {},
     "output_type": "display_data"
    },
    {
     "name": "stdout",
     "output_type": "stream",
     "text": [
      "The color of the grape is usually purple. The color of the avocado is usually green. The color of the lemon is usually yellow. The color of the kiwi is usually orange\n",
      "Ground truth:  brown\n",
      "\n",
      "\n",
      "\n",
      "---------------------------------------------------\n",
      "The color of the cherry is usually red. The color of the blueberry is usually blue. The color of the avocado is usually green. The color of the banana is usually\n"
     ]
    },
    {
     "data": {
      "application/vnd.jupyter.widget-view+json": {
       "model_id": "426f8c7cfe52439cbe0555a420839ec7",
       "version_major": 2,
       "version_minor": 0
      },
      "text/plain": [
       "  0%|          | 0/1 [00:00<?, ?it/s]"
      ]
     },
     "metadata": {},
     "output_type": "display_data"
    },
    {
     "name": "stdout",
     "output_type": "stream",
     "text": [
      "The color of the cherry is usually red. The color of the blueberry is usually blue. The color of the avocado is usually green. The color of the banana is usually yellow\n",
      "Ground truth:  yellow\n",
      "\n",
      "\n",
      "\n",
      "---------------------------------------------------\n",
      "The color of the blueberry is usually blue. The color of the cherry is usually red. The color of the pear is usually green. The color of the plum is usually\n"
     ]
    },
    {
     "data": {
      "application/vnd.jupyter.widget-view+json": {
       "model_id": "43697424b39248648fe877d80017cac7",
       "version_major": 2,
       "version_minor": 0
      },
      "text/plain": [
       "  0%|          | 0/1 [00:00<?, ?it/s]"
      ]
     },
     "metadata": {},
     "output_type": "display_data"
    },
    {
     "name": "stdout",
     "output_type": "stream",
     "text": [
      "The color of the blueberry is usually blue. The color of the cherry is usually red. The color of the pear is usually green. The color of the plum is usually yellow\n",
      "Ground truth:  purple\n",
      "\n",
      "\n",
      "\n",
      "---------------------------------------------------\n",
      "The color of the lime is usually green. The color of the peach is usually orange. The color of the avocado is usually green. The color of the lemon is usually\n"
     ]
    },
    {
     "data": {
      "application/vnd.jupyter.widget-view+json": {
       "model_id": "59307c83b0cd472fb95092ac7600236e",
       "version_major": 2,
       "version_minor": 0
      },
      "text/plain": [
       "  0%|          | 0/1 [00:00<?, ?it/s]"
      ]
     },
     "metadata": {},
     "output_type": "display_data"
    },
    {
     "name": "stdout",
     "output_type": "stream",
     "text": [
      "The color of the lime is usually green. The color of the peach is usually orange. The color of the avocado is usually green. The color of the lemon is usually orange\n",
      "Ground truth:  yellow\n",
      "\n",
      "\n",
      "\n",
      "---------------------------------------------------\n",
      "The color of the plum is usually purple. The color of the pear is usually green. The color of the cherry is usually red. The color of the blueberry is usually\n"
     ]
    },
    {
     "data": {
      "application/vnd.jupyter.widget-view+json": {
       "model_id": "4ffd4f0dd12e44efb1c0ea4a625322a0",
       "version_major": 2,
       "version_minor": 0
      },
      "text/plain": [
       "  0%|          | 0/1 [00:00<?, ?it/s]"
      ]
     },
     "metadata": {},
     "output_type": "display_data"
    },
    {
     "name": "stdout",
     "output_type": "stream",
     "text": [
      "The color of the plum is usually purple. The color of the pear is usually green. The color of the cherry is usually red. The color of the blueberry is usually blue\n",
      "Ground truth:  blue\n",
      "\n",
      "\n",
      "\n",
      "---------------------------------------------------\n",
      "The color of the lemon is usually yellow. The color of the lime is usually green. The color of the watermelon is usually green. The color of the cherry is usually\n"
     ]
    },
    {
     "data": {
      "application/vnd.jupyter.widget-view+json": {
       "model_id": "b63809ca75464608acf75bd8f8823e4c",
       "version_major": 2,
       "version_minor": 0
      },
      "text/plain": [
       "  0%|          | 0/1 [00:00<?, ?it/s]"
      ]
     },
     "metadata": {},
     "output_type": "display_data"
    },
    {
     "name": "stdout",
     "output_type": "stream",
     "text": [
      "The color of the lemon is usually yellow. The color of the lime is usually green. The color of the watermelon is usually green. The color of the cherry is usually red\n",
      "Ground truth:  red\n",
      "\n",
      "\n",
      "\n",
      "---------------------------------------------------\n",
      "The color of the kiwi is usually brown. The color of the plum is usually purple. The color of the orange is usually orange. The color of the cherry is usually\n"
     ]
    },
    {
     "data": {
      "application/vnd.jupyter.widget-view+json": {
       "model_id": "edeb3cd7a554449c99e588858ef96170",
       "version_major": 2,
       "version_minor": 0
      },
      "text/plain": [
       "  0%|          | 0/1 [00:00<?, ?it/s]"
      ]
     },
     "metadata": {},
     "output_type": "display_data"
    },
    {
     "name": "stdout",
     "output_type": "stream",
     "text": [
      "The color of the kiwi is usually brown. The color of the plum is usually purple. The color of the orange is usually orange. The color of the cherry is usually orange\n",
      "Ground truth:  red\n",
      "\n",
      "\n",
      "\n",
      "---------------------------------------------------\n",
      "The color of the strawberry is usually red. The color of the lime is usually green. The color of the eggplant is usually purple. The color of the carrot is usually\n"
     ]
    },
    {
     "data": {
      "application/vnd.jupyter.widget-view+json": {
       "model_id": "0668433cbbbb4f21af131a1349ad282f",
       "version_major": 2,
       "version_minor": 0
      },
      "text/plain": [
       "  0%|          | 0/1 [00:00<?, ?it/s]"
      ]
     },
     "metadata": {},
     "output_type": "display_data"
    },
    {
     "name": "stdout",
     "output_type": "stream",
     "text": [
      "The color of the strawberry is usually red. The color of the lime is usually green. The color of the eggplant is usually purple. The color of the carrot is usually green\n",
      "Ground truth:  orange\n",
      "\n",
      "\n",
      "\n",
      "---------------------------------------------------\n",
      "The color of the pear is usually green. The color of the grape is usually purple. The color of the tomato is usually red. The color of the eggplant is usually\n"
     ]
    },
    {
     "data": {
      "application/vnd.jupyter.widget-view+json": {
       "model_id": "f412ee60f2ea4348bdd5ab16324f21bc",
       "version_major": 2,
       "version_minor": 0
      },
      "text/plain": [
       "  0%|          | 0/1 [00:00<?, ?it/s]"
      ]
     },
     "metadata": {},
     "output_type": "display_data"
    },
    {
     "name": "stdout",
     "output_type": "stream",
     "text": [
      "The color of the pear is usually green. The color of the grape is usually purple. The color of the tomato is usually red. The color of the eggplant is usually yellow\n",
      "Ground truth:  purple\n",
      "\n",
      "\n",
      "\n",
      "---------------------------------------------------\n",
      "The color of the banana is usually yellow. The color of the cherry is usually red. The color of the pear is usually green. The color of the lemon is usually\n"
     ]
    },
    {
     "data": {
      "application/vnd.jupyter.widget-view+json": {
       "model_id": "245649ac8db34b72901087fac861374c",
       "version_major": 2,
       "version_minor": 0
      },
      "text/plain": [
       "  0%|          | 0/1 [00:00<?, ?it/s]"
      ]
     },
     "metadata": {},
     "output_type": "display_data"
    },
    {
     "name": "stdout",
     "output_type": "stream",
     "text": [
      "The color of the banana is usually yellow. The color of the cherry is usually red. The color of the pear is usually green. The color of the lemon is usually blue\n",
      "Ground truth:  yellow\n",
      "\n",
      "\n",
      "\n",
      "---------------------------------------------------\n",
      "The color of the orange is usually orange. The color of the kiwi is usually brown. The color of the cherry is usually red. The color of the tomato is usually\n"
     ]
    },
    {
     "data": {
      "application/vnd.jupyter.widget-view+json": {
       "model_id": "35a2904604444f95ba7fc3d4b6d1eb3b",
       "version_major": 2,
       "version_minor": 0
      },
      "text/plain": [
       "  0%|          | 0/1 [00:00<?, ?it/s]"
      ]
     },
     "metadata": {},
     "output_type": "display_data"
    },
    {
     "name": "stdout",
     "output_type": "stream",
     "text": [
      "The color of the orange is usually orange. The color of the kiwi is usually brown. The color of the cherry is usually red. The color of the tomato is usually green\n",
      "Ground truth:  red\n",
      "\n",
      "\n",
      "\n",
      "---------------------------------------------------\n",
      "The color of the plum is usually purple. The color of the banana is usually yellow. The color of the blueberry is usually blue. The color of the lime is usually\n"
     ]
    },
    {
     "data": {
      "application/vnd.jupyter.widget-view+json": {
       "model_id": "fe69be21e4e64b328f8abd53b9ba1085",
       "version_major": 2,
       "version_minor": 0
      },
      "text/plain": [
       "  0%|          | 0/1 [00:00<?, ?it/s]"
      ]
     },
     "metadata": {},
     "output_type": "display_data"
    },
    {
     "name": "stdout",
     "output_type": "stream",
     "text": [
      "The color of the plum is usually purple. The color of the banana is usually yellow. The color of the blueberry is usually blue. The color of the lime is usually lime\n",
      "Ground truth:  green\n",
      "\n",
      "\n",
      "\n",
      "---------------------------------------------------\n",
      "Accuracy:  0.31\n"
     ]
    }
   ],
   "source": [
    "object_color_correct = 0\n",
    "object_color_retained = []\n",
    "for prompt, gt in object_color_prompts:\n",
    "    print(prompt)\n",
    "    generation = model.generate(\n",
    "        prompt, max_new_tokens=1, temperature=0.0, prepend_bos=True\n",
    "    )\n",
    "    print(generation)\n",
    "    print(\"Ground truth: \", gt)\n",
    "    print(\"\\n\\n\")\n",
    "    print(\"---------------------------------------------------\")\n",
    "    if gt.startswith(generation[len(prompt) :].strip()):\n",
    "        object_color_correct += 1\n",
    "        object_color_retained.append((prompt, gt))\n",
    "\n",
    "print(\"Accuracy: \", object_color_correct / len(object_color_prompts))"
   ]
  },
  {
   "cell_type": "code",
   "execution_count": 15,
   "metadata": {},
   "outputs": [
    {
     "name": "stdout",
     "output_type": "stream",
     "text": [
      "Considering the following units \" millimeter \", \" centimeter \", \" meter \", and \" kilometer \", the size of turquoise is commonly expressed in \" centimeter. Considering the following units \" millimeter \", \" centimeter \", \" meter \", and \" kilometer \", the size of starfish is commonly expressed in \" centimeter. Considering the following units \" millimeter \", \" centimeter \", \" meter \", and \" kilometer \", the size of cornmeal is commonly expressed in \" centimeter. Considering the following units \" millimeter \", \" centimeter \", \" meter \", and \" kilometer \", the size of pig is commonly expressed in \"\n"
     ]
    },
    {
     "data": {
      "application/vnd.jupyter.widget-view+json": {
       "model_id": "a3fb115f25a04892ae8bc7539c934f95",
       "version_major": 2,
       "version_minor": 0
      },
      "text/plain": [
       "  0%|          | 0/1 [00:00<?, ?it/s]"
      ]
     },
     "metadata": {},
     "output_type": "display_data"
    },
    {
     "name": "stdout",
     "output_type": "stream",
     "text": [
      "Considering the following units \" millimeter \", \" centimeter \", \" meter \", and \" kilometer \", the size of turquoise is commonly expressed in \" centimeter. Considering the following units \" millimeter \", \" centimeter \", \" meter \", and \" kilometer \", the size of starfish is commonly expressed in \" centimeter. Considering the following units \" millimeter \", \" centimeter \", \" meter \", and \" kilometer \", the size of cornmeal is commonly expressed in \" centimeter. Considering the following units \" millimeter \", \" centimeter \", \" meter \", and \" kilometer \", the size of pig is commonly expressed in \" cent\n",
      "Ground truth:  meter\n",
      "\n",
      "\n",
      "\n",
      "---------------------------------------------------\n",
      "Considering the following units \" millimeter \", \" centimeter \", \" meter \", and \" kilometer \", the size of cornmeal is commonly expressed in \" centimeter. Considering the following units \" millimeter \", \" centimeter \", \" meter \", and \" kilometer \", the size of flamingo is commonly expressed in \" meter. Considering the following units \" millimeter \", \" centimeter \", \" meter \", and \" kilometer \", the size of axe is commonly expressed in \" meter. Considering the following units \" millimeter \", \" centimeter \", \" meter \", and \" kilometer \", the size of turmeric is commonly expressed in \"\n"
     ]
    },
    {
     "data": {
      "application/vnd.jupyter.widget-view+json": {
       "model_id": "848988ff33fd4b4781f0fa98d744a8a1",
       "version_major": 2,
       "version_minor": 0
      },
      "text/plain": [
       "  0%|          | 0/1 [00:00<?, ?it/s]"
      ]
     },
     "metadata": {},
     "output_type": "display_data"
    },
    {
     "name": "stdout",
     "output_type": "stream",
     "text": [
      "Considering the following units \" millimeter \", \" centimeter \", \" meter \", and \" kilometer \", the size of cornmeal is commonly expressed in \" centimeter. Considering the following units \" millimeter \", \" centimeter \", \" meter \", and \" kilometer \", the size of flamingo is commonly expressed in \" meter. Considering the following units \" millimeter \", \" centimeter \", \" meter \", and \" kilometer \", the size of axe is commonly expressed in \" meter. Considering the following units \" millimeter \", \" centimeter \", \" meter \", and \" kilometer \", the size of turmeric is commonly expressed in \" mill\n",
      "Ground truth:  centimeter\n",
      "\n",
      "\n",
      "\n",
      "---------------------------------------------------\n",
      "Considering the following units \" millimeter \", \" centimeter \", \" meter \", and \" kilometer \", the size of pig is commonly expressed in \" meter. Considering the following units \" millimeter \", \" centimeter \", \" meter \", and \" kilometer \", the size of turmeric is commonly expressed in \" centimeter. Considering the following units \" millimeter \", \" centimeter \", \" meter \", and \" kilometer \", the size of starfish is commonly expressed in \" centimeter. Considering the following units \" millimeter \", \" centimeter \", \" meter \", and \" kilometer \", the size of turquoise is commonly expressed in \"\n"
     ]
    },
    {
     "data": {
      "application/vnd.jupyter.widget-view+json": {
       "model_id": "3f7ec99e351b456fa23096e4898e0e2f",
       "version_major": 2,
       "version_minor": 0
      },
      "text/plain": [
       "  0%|          | 0/1 [00:00<?, ?it/s]"
      ]
     },
     "metadata": {},
     "output_type": "display_data"
    },
    {
     "name": "stdout",
     "output_type": "stream",
     "text": [
      "Considering the following units \" millimeter \", \" centimeter \", \" meter \", and \" kilometer \", the size of pig is commonly expressed in \" meter. Considering the following units \" millimeter \", \" centimeter \", \" meter \", and \" kilometer \", the size of turmeric is commonly expressed in \" centimeter. Considering the following units \" millimeter \", \" centimeter \", \" meter \", and \" kilometer \", the size of starfish is commonly expressed in \" centimeter. Considering the following units \" millimeter \", \" centimeter \", \" meter \", and \" kilometer \", the size of turquoise is commonly expressed in \" cent\n",
      "Ground truth:  centimeter\n",
      "\n",
      "\n",
      "\n",
      "---------------------------------------------------\n",
      "Considering the following units \" millimeter \", \" centimeter \", \" meter \", and \" kilometer \", the size of flamingo is commonly expressed in \" meter. Considering the following units \" millimeter \", \" centimeter \", \" meter \", and \" kilometer \", the size of blackberry is commonly expressed in \" centimeter. Considering the following units \" millimeter \", \" centimeter \", \" meter \", and \" kilometer \", the size of lion is commonly expressed in \" meter. Considering the following units \" millimeter \", \" centimeter \", \" meter \", and \" kilometer \", the size of violet is commonly expressed in \"\n"
     ]
    },
    {
     "data": {
      "application/vnd.jupyter.widget-view+json": {
       "model_id": "5c535bb84f0944b2af5bf7c9ac429d7d",
       "version_major": 2,
       "version_minor": 0
      },
      "text/plain": [
       "  0%|          | 0/1 [00:00<?, ?it/s]"
      ]
     },
     "metadata": {},
     "output_type": "display_data"
    },
    {
     "name": "stdout",
     "output_type": "stream",
     "text": [
      "Considering the following units \" millimeter \", \" centimeter \", \" meter \", and \" kilometer \", the size of flamingo is commonly expressed in \" meter. Considering the following units \" millimeter \", \" centimeter \", \" meter \", and \" kilometer \", the size of blackberry is commonly expressed in \" centimeter. Considering the following units \" millimeter \", \" centimeter \", \" meter \", and \" kilometer \", the size of lion is commonly expressed in \" meter. Considering the following units \" millimeter \", \" centimeter \", \" meter \", and \" kilometer \", the size of violet is commonly expressed in \" cent\n",
      "Ground truth:  centimeter\n",
      "\n",
      "\n",
      "\n",
      "---------------------------------------------------\n",
      "Considering the following units \" millimeter \", \" centimeter \", \" meter \", and \" kilometer \", the size of charcoal is commonly expressed in \" centimeter. Considering the following units \" millimeter \", \" centimeter \", \" meter \", and \" kilometer \", the size of pig is commonly expressed in \" meter. Considering the following units \" millimeter \", \" centimeter \", \" meter \", and \" kilometer \", the size of turmeric is commonly expressed in \" centimeter. Considering the following units \" millimeter \", \" centimeter \", \" meter \", and \" kilometer \", the size of cornmeal is commonly expressed in \"\n"
     ]
    },
    {
     "data": {
      "application/vnd.jupyter.widget-view+json": {
       "model_id": "fb34b3b0dbd04cdab446e9ef7112180a",
       "version_major": 2,
       "version_minor": 0
      },
      "text/plain": [
       "  0%|          | 0/1 [00:00<?, ?it/s]"
      ]
     },
     "metadata": {},
     "output_type": "display_data"
    },
    {
     "name": "stdout",
     "output_type": "stream",
     "text": [
      "Considering the following units \" millimeter \", \" centimeter \", \" meter \", and \" kilometer \", the size of charcoal is commonly expressed in \" centimeter. Considering the following units \" millimeter \", \" centimeter \", \" meter \", and \" kilometer \", the size of pig is commonly expressed in \" meter. Considering the following units \" millimeter \", \" centimeter \", \" meter \", and \" kilometer \", the size of turmeric is commonly expressed in \" centimeter. Considering the following units \" millimeter \", \" centimeter \", \" meter \", and \" kilometer \", the size of cornmeal is commonly expressed in \" cent\n",
      "Ground truth:  centimeter\n",
      "\n",
      "\n",
      "\n",
      "---------------------------------------------------\n",
      "Considering the following units \" millimeter \", \" centimeter \", \" meter \", and \" kilometer \", the size of diamond is commonly expressed in \" millimeter. Considering the following units \" millimeter \", \" centimeter \", \" meter \", and \" kilometer \", the size of saffron is commonly expressed in \" millimeter. Considering the following units \" millimeter \", \" centimeter \", \" meter \", and \" kilometer \", the size of bamboo is commonly expressed in \" meter. Considering the following units \" millimeter \", \" centimeter \", \" meter \", and \" kilometer \", the size of charcoal is commonly expressed in \"\n"
     ]
    },
    {
     "data": {
      "application/vnd.jupyter.widget-view+json": {
       "model_id": "4dec85a6657d414ab86c110ccc4e5e18",
       "version_major": 2,
       "version_minor": 0
      },
      "text/plain": [
       "  0%|          | 0/1 [00:00<?, ?it/s]"
      ]
     },
     "metadata": {},
     "output_type": "display_data"
    },
    {
     "name": "stdout",
     "output_type": "stream",
     "text": [
      "Considering the following units \" millimeter \", \" centimeter \", \" meter \", and \" kilometer \", the size of diamond is commonly expressed in \" millimeter. Considering the following units \" millimeter \", \" centimeter \", \" meter \", and \" kilometer \", the size of saffron is commonly expressed in \" millimeter. Considering the following units \" millimeter \", \" centimeter \", \" meter \", and \" kilometer \", the size of bamboo is commonly expressed in \" meter. Considering the following units \" millimeter \", \" centimeter \", \" meter \", and \" kilometer \", the size of charcoal is commonly expressed in \" mill\n",
      "Ground truth:  centimeter\n",
      "\n",
      "\n",
      "\n",
      "---------------------------------------------------\n",
      "Considering the following units \" millimeter \", \" centimeter \", \" meter \", and \" kilometer \", the size of bamboo is commonly expressed in \" meter. Considering the following units \" millimeter \", \" centimeter \", \" meter \", and \" kilometer \", the size of turmeric is commonly expressed in \" centimeter. Considering the following units \" millimeter \", \" centimeter \", \" meter \", and \" kilometer \", the size of axe is commonly expressed in \" meter. Considering the following units \" millimeter \", \" centimeter \", \" meter \", and \" kilometer \", the size of starfish is commonly expressed in \"\n"
     ]
    },
    {
     "data": {
      "application/vnd.jupyter.widget-view+json": {
       "model_id": "9aa9c609c3fb403b810768b57797f0a3",
       "version_major": 2,
       "version_minor": 0
      },
      "text/plain": [
       "  0%|          | 0/1 [00:00<?, ?it/s]"
      ]
     },
     "metadata": {},
     "output_type": "display_data"
    },
    {
     "name": "stdout",
     "output_type": "stream",
     "text": [
      "Considering the following units \" millimeter \", \" centimeter \", \" meter \", and \" kilometer \", the size of bamboo is commonly expressed in \" meter. Considering the following units \" millimeter \", \" centimeter \", \" meter \", and \" kilometer \", the size of turmeric is commonly expressed in \" centimeter. Considering the following units \" millimeter \", \" centimeter \", \" meter \", and \" kilometer \", the size of axe is commonly expressed in \" meter. Considering the following units \" millimeter \", \" centimeter \", \" meter \", and \" kilometer \", the size of starfish is commonly expressed in \" cent\n",
      "Ground truth:  centimeter\n",
      "\n",
      "\n",
      "\n",
      "---------------------------------------------------\n",
      "Considering the following units \" millimeter \", \" centimeter \", \" meter \", and \" kilometer \", the size of axe is commonly expressed in \" meter. Considering the following units \" millimeter \", \" centimeter \", \" meter \", and \" kilometer \", the size of gopher is commonly expressed in \" centimeter. Considering the following units \" millimeter \", \" centimeter \", \" meter \", and \" kilometer \", the size of pig is commonly expressed in \" meter. Considering the following units \" millimeter \", \" centimeter \", \" meter \", and \" kilometer \", the size of flamingo is commonly expressed in \"\n"
     ]
    },
    {
     "data": {
      "application/vnd.jupyter.widget-view+json": {
       "model_id": "7549df2448a84387b5efda0547591f0b",
       "version_major": 2,
       "version_minor": 0
      },
      "text/plain": [
       "  0%|          | 0/1 [00:00<?, ?it/s]"
      ]
     },
     "metadata": {},
     "output_type": "display_data"
    },
    {
     "name": "stdout",
     "output_type": "stream",
     "text": [
      "Considering the following units \" millimeter \", \" centimeter \", \" meter \", and \" kilometer \", the size of axe is commonly expressed in \" meter. Considering the following units \" millimeter \", \" centimeter \", \" meter \", and \" kilometer \", the size of gopher is commonly expressed in \" centimeter. Considering the following units \" millimeter \", \" centimeter \", \" meter \", and \" kilometer \", the size of pig is commonly expressed in \" meter. Considering the following units \" millimeter \", \" centimeter \", \" meter \", and \" kilometer \", the size of flamingo is commonly expressed in \" cent\n",
      "Ground truth:  meter\n",
      "\n",
      "\n",
      "\n",
      "---------------------------------------------------\n",
      "Considering the following units \" millimeter \", \" centimeter \", \" meter \", and \" kilometer \", the size of violet is commonly expressed in \" centimeter. Considering the following units \" millimeter \", \" centimeter \", \" meter \", and \" kilometer \", the size of gopher is commonly expressed in \" centimeter. Considering the following units \" millimeter \", \" centimeter \", \" meter \", and \" kilometer \", the size of pig is commonly expressed in \" meter. Considering the following units \" millimeter \", \" centimeter \", \" meter \", and \" kilometer \", the size of starfish is commonly expressed in \"\n"
     ]
    },
    {
     "data": {
      "application/vnd.jupyter.widget-view+json": {
       "model_id": "33d1fe3d72b04d2f9fa658c479362496",
       "version_major": 2,
       "version_minor": 0
      },
      "text/plain": [
       "  0%|          | 0/1 [00:00<?, ?it/s]"
      ]
     },
     "metadata": {},
     "output_type": "display_data"
    },
    {
     "name": "stdout",
     "output_type": "stream",
     "text": [
      "Considering the following units \" millimeter \", \" centimeter \", \" meter \", and \" kilometer \", the size of violet is commonly expressed in \" centimeter. Considering the following units \" millimeter \", \" centimeter \", \" meter \", and \" kilometer \", the size of gopher is commonly expressed in \" centimeter. Considering the following units \" millimeter \", \" centimeter \", \" meter \", and \" kilometer \", the size of pig is commonly expressed in \" meter. Considering the following units \" millimeter \", \" centimeter \", \" meter \", and \" kilometer \", the size of starfish is commonly expressed in \" cent\n",
      "Ground truth:  centimeter\n",
      "\n",
      "\n",
      "\n",
      "---------------------------------------------------\n",
      "Considering the following units \" millimeter \", \" centimeter \", \" meter \", and \" kilometer \", the size of diamond is commonly expressed in \" millimeter. Considering the following units \" millimeter \", \" centimeter \", \" meter \", and \" kilometer \", the size of turmeric is commonly expressed in \" centimeter. Considering the following units \" millimeter \", \" centimeter \", \" meter \", and \" kilometer \", the size of blackberry is commonly expressed in \" centimeter. Considering the following units \" millimeter \", \" centimeter \", \" meter \", and \" kilometer \", the size of pig is commonly expressed in \"\n"
     ]
    },
    {
     "data": {
      "application/vnd.jupyter.widget-view+json": {
       "model_id": "cf7c0e71de8c4fdf93f9d1af187cf640",
       "version_major": 2,
       "version_minor": 0
      },
      "text/plain": [
       "  0%|          | 0/1 [00:00<?, ?it/s]"
      ]
     },
     "metadata": {},
     "output_type": "display_data"
    },
    {
     "name": "stdout",
     "output_type": "stream",
     "text": [
      "Considering the following units \" millimeter \", \" centimeter \", \" meter \", and \" kilometer \", the size of diamond is commonly expressed in \" millimeter. Considering the following units \" millimeter \", \" centimeter \", \" meter \", and \" kilometer \", the size of turmeric is commonly expressed in \" centimeter. Considering the following units \" millimeter \", \" centimeter \", \" meter \", and \" kilometer \", the size of blackberry is commonly expressed in \" centimeter. Considering the following units \" millimeter \", \" centimeter \", \" meter \", and \" kilometer \", the size of pig is commonly expressed in \" cent\n",
      "Ground truth:  meter\n",
      "\n",
      "\n",
      "\n",
      "---------------------------------------------------\n",
      "Considering the following units \" millimeter \", \" centimeter \", \" meter \", and \" kilometer \", the size of axe is commonly expressed in \" meter. Considering the following units \" millimeter \", \" centimeter \", \" meter \", and \" kilometer \", the size of pig is commonly expressed in \" meter. Considering the following units \" millimeter \", \" centimeter \", \" meter \", and \" kilometer \", the size of lime is commonly expressed in \" centimeter. Considering the following units \" millimeter \", \" centimeter \", \" meter \", and \" kilometer \", the size of cornmeal is commonly expressed in \"\n"
     ]
    },
    {
     "data": {
      "application/vnd.jupyter.widget-view+json": {
       "model_id": "11676229e08f4962aeef9525495a9bc0",
       "version_major": 2,
       "version_minor": 0
      },
      "text/plain": [
       "  0%|          | 0/1 [00:00<?, ?it/s]"
      ]
     },
     "metadata": {},
     "output_type": "display_data"
    },
    {
     "name": "stdout",
     "output_type": "stream",
     "text": [
      "Considering the following units \" millimeter \", \" centimeter \", \" meter \", and \" kilometer \", the size of axe is commonly expressed in \" meter. Considering the following units \" millimeter \", \" centimeter \", \" meter \", and \" kilometer \", the size of pig is commonly expressed in \" meter. Considering the following units \" millimeter \", \" centimeter \", \" meter \", and \" kilometer \", the size of lime is commonly expressed in \" centimeter. Considering the following units \" millimeter \", \" centimeter \", \" meter \", and \" kilometer \", the size of cornmeal is commonly expressed in \" cent\n",
      "Ground truth:  centimeter\n",
      "\n",
      "\n",
      "\n",
      "---------------------------------------------------\n",
      "Considering the following units \" millimeter \", \" centimeter \", \" meter \", and \" kilometer \", the size of lion is commonly expressed in \" meter. Considering the following units \" millimeter \", \" centimeter \", \" meter \", and \" kilometer \", the size of saffron is commonly expressed in \" millimeter. Considering the following units \" millimeter \", \" centimeter \", \" meter \", and \" kilometer \", the size of blackberry is commonly expressed in \" centimeter. Considering the following units \" millimeter \", \" centimeter \", \" meter \", and \" kilometer \", the size of axe is commonly expressed in \"\n"
     ]
    },
    {
     "data": {
      "application/vnd.jupyter.widget-view+json": {
       "model_id": "1b36f894b2ac42de9dd1f86732c48327",
       "version_major": 2,
       "version_minor": 0
      },
      "text/plain": [
       "  0%|          | 0/1 [00:00<?, ?it/s]"
      ]
     },
     "metadata": {},
     "output_type": "display_data"
    },
    {
     "name": "stdout",
     "output_type": "stream",
     "text": [
      "Considering the following units \" millimeter \", \" centimeter \", \" meter \", and \" kilometer \", the size of lion is commonly expressed in \" meter. Considering the following units \" millimeter \", \" centimeter \", \" meter \", and \" kilometer \", the size of saffron is commonly expressed in \" millimeter. Considering the following units \" millimeter \", \" centimeter \", \" meter \", and \" kilometer \", the size of blackberry is commonly expressed in \" centimeter. Considering the following units \" millimeter \", \" centimeter \", \" meter \", and \" kilometer \", the size of axe is commonly expressed in \" cent\n",
      "Ground truth:  meter\n",
      "\n",
      "\n",
      "\n",
      "---------------------------------------------------\n",
      "Considering the following units \" millimeter \", \" centimeter \", \" meter \", and \" kilometer \", the size of violet is commonly expressed in \" centimeter. Considering the following units \" millimeter \", \" centimeter \", \" meter \", and \" kilometer \", the size of pig is commonly expressed in \" meter. Considering the following units \" millimeter \", \" centimeter \", \" meter \", and \" kilometer \", the size of lion is commonly expressed in \" meter. Considering the following units \" millimeter \", \" centimeter \", \" meter \", and \" kilometer \", the size of turquoise is commonly expressed in \"\n"
     ]
    },
    {
     "data": {
      "application/vnd.jupyter.widget-view+json": {
       "model_id": "6445f448206e4dfc806b4933e3c1cb05",
       "version_major": 2,
       "version_minor": 0
      },
      "text/plain": [
       "  0%|          | 0/1 [00:00<?, ?it/s]"
      ]
     },
     "metadata": {},
     "output_type": "display_data"
    },
    {
     "name": "stdout",
     "output_type": "stream",
     "text": [
      "Considering the following units \" millimeter \", \" centimeter \", \" meter \", and \" kilometer \", the size of violet is commonly expressed in \" centimeter. Considering the following units \" millimeter \", \" centimeter \", \" meter \", and \" kilometer \", the size of pig is commonly expressed in \" meter. Considering the following units \" millimeter \", \" centimeter \", \" meter \", and \" kilometer \", the size of lion is commonly expressed in \" meter. Considering the following units \" millimeter \", \" centimeter \", \" meter \", and \" kilometer \", the size of turquoise is commonly expressed in \" mill\n",
      "Ground truth:  centimeter\n",
      "\n",
      "\n",
      "\n",
      "---------------------------------------------------\n",
      "Considering the following units \" millimeter \", \" centimeter \", \" meter \", and \" kilometer \", the size of turquoise is commonly expressed in \" centimeter. Considering the following units \" millimeter \", \" centimeter \", \" meter \", and \" kilometer \", the size of saffron is commonly expressed in \" millimeter. Considering the following units \" millimeter \", \" centimeter \", \" meter \", and \" kilometer \", the size of bamboo is commonly expressed in \" meter. Considering the following units \" millimeter \", \" centimeter \", \" meter \", and \" kilometer \", the size of turmeric is commonly expressed in \"\n"
     ]
    },
    {
     "data": {
      "application/vnd.jupyter.widget-view+json": {
       "model_id": "100e867b92454e97802116fe7a7200b1",
       "version_major": 2,
       "version_minor": 0
      },
      "text/plain": [
       "  0%|          | 0/1 [00:00<?, ?it/s]"
      ]
     },
     "metadata": {},
     "output_type": "display_data"
    },
    {
     "name": "stdout",
     "output_type": "stream",
     "text": [
      "Considering the following units \" millimeter \", \" centimeter \", \" meter \", and \" kilometer \", the size of turquoise is commonly expressed in \" centimeter. Considering the following units \" millimeter \", \" centimeter \", \" meter \", and \" kilometer \", the size of saffron is commonly expressed in \" millimeter. Considering the following units \" millimeter \", \" centimeter \", \" meter \", and \" kilometer \", the size of bamboo is commonly expressed in \" meter. Considering the following units \" millimeter \", \" centimeter \", \" meter \", and \" kilometer \", the size of turmeric is commonly expressed in \" mill\n",
      "Ground truth:  centimeter\n",
      "\n",
      "\n",
      "\n",
      "---------------------------------------------------\n",
      "Considering the following units \" millimeter \", \" centimeter \", \" meter \", and \" kilometer \", the size of starfish is commonly expressed in \" centimeter. Considering the following units \" millimeter \", \" centimeter \", \" meter \", and \" kilometer \", the size of blackberry is commonly expressed in \" centimeter. Considering the following units \" millimeter \", \" centimeter \", \" meter \", and \" kilometer \", the size of axe is commonly expressed in \" meter. Considering the following units \" millimeter \", \" centimeter \", \" meter \", and \" kilometer \", the size of gopher is commonly expressed in \"\n"
     ]
    },
    {
     "data": {
      "application/vnd.jupyter.widget-view+json": {
       "model_id": "2d7e9bffb06c4410bf196c6209d89bfa",
       "version_major": 2,
       "version_minor": 0
      },
      "text/plain": [
       "  0%|          | 0/1 [00:00<?, ?it/s]"
      ]
     },
     "metadata": {},
     "output_type": "display_data"
    },
    {
     "name": "stdout",
     "output_type": "stream",
     "text": [
      "Considering the following units \" millimeter \", \" centimeter \", \" meter \", and \" kilometer \", the size of starfish is commonly expressed in \" centimeter. Considering the following units \" millimeter \", \" centimeter \", \" meter \", and \" kilometer \", the size of blackberry is commonly expressed in \" centimeter. Considering the following units \" millimeter \", \" centimeter \", \" meter \", and \" kilometer \", the size of axe is commonly expressed in \" meter. Considering the following units \" millimeter \", \" centimeter \", \" meter \", and \" kilometer \", the size of gopher is commonly expressed in \" cent\n",
      "Ground truth:  centimeter\n",
      "\n",
      "\n",
      "\n",
      "---------------------------------------------------\n",
      "Considering the following units \" millimeter \", \" centimeter \", \" meter \", and \" kilometer \", the size of turmeric is commonly expressed in \" centimeter. Considering the following units \" millimeter \", \" centimeter \", \" meter \", and \" kilometer \", the size of lime is commonly expressed in \" centimeter. Considering the following units \" millimeter \", \" centimeter \", \" meter \", and \" kilometer \", the size of flamingo is commonly expressed in \" meter. Considering the following units \" millimeter \", \" centimeter \", \" meter \", and \" kilometer \", the size of lion is commonly expressed in \"\n"
     ]
    },
    {
     "data": {
      "application/vnd.jupyter.widget-view+json": {
       "model_id": "b13b07a7f5e345b2b04a4d3ff4f770f6",
       "version_major": 2,
       "version_minor": 0
      },
      "text/plain": [
       "  0%|          | 0/1 [00:00<?, ?it/s]"
      ]
     },
     "metadata": {},
     "output_type": "display_data"
    },
    {
     "name": "stdout",
     "output_type": "stream",
     "text": [
      "Considering the following units \" millimeter \", \" centimeter \", \" meter \", and \" kilometer \", the size of turmeric is commonly expressed in \" centimeter. Considering the following units \" millimeter \", \" centimeter \", \" meter \", and \" kilometer \", the size of lime is commonly expressed in \" centimeter. Considering the following units \" millimeter \", \" centimeter \", \" meter \", and \" kilometer \", the size of flamingo is commonly expressed in \" meter. Considering the following units \" millimeter \", \" centimeter \", \" meter \", and \" kilometer \", the size of lion is commonly expressed in \" cent\n",
      "Ground truth:  meter\n",
      "\n",
      "\n",
      "\n",
      "---------------------------------------------------\n",
      "Considering the following units \" millimeter \", \" centimeter \", \" meter \", and \" kilometer \", the size of lime is commonly expressed in \" centimeter. Considering the following units \" millimeter \", \" centimeter \", \" meter \", and \" kilometer \", the size of diamond is commonly expressed in \" millimeter. Considering the following units \" millimeter \", \" centimeter \", \" meter \", and \" kilometer \", the size of bamboo is commonly expressed in \" meter. Considering the following units \" millimeter \", \" centimeter \", \" meter \", and \" kilometer \", the size of flamingo is commonly expressed in \"\n"
     ]
    },
    {
     "data": {
      "application/vnd.jupyter.widget-view+json": {
       "model_id": "ac642503aef34ecaaadbdf2c9b2bd9a1",
       "version_major": 2,
       "version_minor": 0
      },
      "text/plain": [
       "  0%|          | 0/1 [00:00<?, ?it/s]"
      ]
     },
     "metadata": {},
     "output_type": "display_data"
    },
    {
     "name": "stdout",
     "output_type": "stream",
     "text": [
      "Considering the following units \" millimeter \", \" centimeter \", \" meter \", and \" kilometer \", the size of lime is commonly expressed in \" centimeter. Considering the following units \" millimeter \", \" centimeter \", \" meter \", and \" kilometer \", the size of diamond is commonly expressed in \" millimeter. Considering the following units \" millimeter \", \" centimeter \", \" meter \", and \" kilometer \", the size of bamboo is commonly expressed in \" meter. Considering the following units \" millimeter \", \" centimeter \", \" meter \", and \" kilometer \", the size of flamingo is commonly expressed in \" mill\n",
      "Ground truth:  meter\n",
      "\n",
      "\n",
      "\n",
      "---------------------------------------------------\n",
      "Considering the following units \" millimeter \", \" centimeter \", \" meter \", and \" kilometer \", the size of turmeric is commonly expressed in \" centimeter. Considering the following units \" millimeter \", \" centimeter \", \" meter \", and \" kilometer \", the size of lime is commonly expressed in \" centimeter. Considering the following units \" millimeter \", \" centimeter \", \" meter \", and \" kilometer \", the size of starfish is commonly expressed in \" centimeter. Considering the following units \" millimeter \", \" centimeter \", \" meter \", and \" kilometer \", the size of flamingo is commonly expressed in \"\n"
     ]
    },
    {
     "data": {
      "application/vnd.jupyter.widget-view+json": {
       "model_id": "604e8cdc923e4ed19f321df7dae986e8",
       "version_major": 2,
       "version_minor": 0
      },
      "text/plain": [
       "  0%|          | 0/1 [00:00<?, ?it/s]"
      ]
     },
     "metadata": {},
     "output_type": "display_data"
    },
    {
     "name": "stdout",
     "output_type": "stream",
     "text": [
      "Considering the following units \" millimeter \", \" centimeter \", \" meter \", and \" kilometer \", the size of turmeric is commonly expressed in \" centimeter. Considering the following units \" millimeter \", \" centimeter \", \" meter \", and \" kilometer \", the size of lime is commonly expressed in \" centimeter. Considering the following units \" millimeter \", \" centimeter \", \" meter \", and \" kilometer \", the size of starfish is commonly expressed in \" centimeter. Considering the following units \" millimeter \", \" centimeter \", \" meter \", and \" kilometer \", the size of flamingo is commonly expressed in \" cent\n",
      "Ground truth:  meter\n",
      "\n",
      "\n",
      "\n",
      "---------------------------------------------------\n",
      "Considering the following units \" millimeter \", \" centimeter \", \" meter \", and \" kilometer \", the size of lion is commonly expressed in \" meter. Considering the following units \" millimeter \", \" centimeter \", \" meter \", and \" kilometer \", the size of flamingo is commonly expressed in \" meter. Considering the following units \" millimeter \", \" centimeter \", \" meter \", and \" kilometer \", the size of cornmeal is commonly expressed in \" centimeter. Considering the following units \" millimeter \", \" centimeter \", \" meter \", and \" kilometer \", the size of saffron is commonly expressed in \"\n"
     ]
    },
    {
     "data": {
      "application/vnd.jupyter.widget-view+json": {
       "model_id": "3fd5d5ef7f344b7097758436e7056117",
       "version_major": 2,
       "version_minor": 0
      },
      "text/plain": [
       "  0%|          | 0/1 [00:00<?, ?it/s]"
      ]
     },
     "metadata": {},
     "output_type": "display_data"
    },
    {
     "name": "stdout",
     "output_type": "stream",
     "text": [
      "Considering the following units \" millimeter \", \" centimeter \", \" meter \", and \" kilometer \", the size of lion is commonly expressed in \" meter. Considering the following units \" millimeter \", \" centimeter \", \" meter \", and \" kilometer \", the size of flamingo is commonly expressed in \" meter. Considering the following units \" millimeter \", \" centimeter \", \" meter \", and \" kilometer \", the size of cornmeal is commonly expressed in \" centimeter. Considering the following units \" millimeter \", \" centimeter \", \" meter \", and \" kilometer \", the size of saffron is commonly expressed in \" cent\n",
      "Ground truth:  millimeter\n",
      "\n",
      "\n",
      "\n",
      "---------------------------------------------------\n",
      "Considering the following units \" millimeter \", \" centimeter \", \" meter \", and \" kilometer \", the size of turmeric is commonly expressed in \" centimeter. Considering the following units \" millimeter \", \" centimeter \", \" meter \", and \" kilometer \", the size of axe is commonly expressed in \" meter. Considering the following units \" millimeter \", \" centimeter \", \" meter \", and \" kilometer \", the size of starfish is commonly expressed in \" centimeter. Considering the following units \" millimeter \", \" centimeter \", \" meter \", and \" kilometer \", the size of gopher is commonly expressed in \"\n"
     ]
    },
    {
     "data": {
      "application/vnd.jupyter.widget-view+json": {
       "model_id": "c3794fd7814a45578fc3b3b19cb1aee9",
       "version_major": 2,
       "version_minor": 0
      },
      "text/plain": [
       "  0%|          | 0/1 [00:00<?, ?it/s]"
      ]
     },
     "metadata": {},
     "output_type": "display_data"
    },
    {
     "name": "stdout",
     "output_type": "stream",
     "text": [
      "Considering the following units \" millimeter \", \" centimeter \", \" meter \", and \" kilometer \", the size of turmeric is commonly expressed in \" centimeter. Considering the following units \" millimeter \", \" centimeter \", \" meter \", and \" kilometer \", the size of axe is commonly expressed in \" meter. Considering the following units \" millimeter \", \" centimeter \", \" meter \", and \" kilometer \", the size of starfish is commonly expressed in \" centimeter. Considering the following units \" millimeter \", \" centimeter \", \" meter \", and \" kilometer \", the size of gopher is commonly expressed in \" cent\n",
      "Ground truth:  centimeter\n",
      "\n",
      "\n",
      "\n",
      "---------------------------------------------------\n",
      "Considering the following units \" millimeter \", \" centimeter \", \" meter \", and \" kilometer \", the size of starfish is commonly expressed in \" centimeter. Considering the following units \" millimeter \", \" centimeter \", \" meter \", and \" kilometer \", the size of flamingo is commonly expressed in \" meter. Considering the following units \" millimeter \", \" centimeter \", \" meter \", and \" kilometer \", the size of lion is commonly expressed in \" meter. Considering the following units \" millimeter \", \" centimeter \", \" meter \", and \" kilometer \", the size of blackberry is commonly expressed in \"\n"
     ]
    },
    {
     "data": {
      "application/vnd.jupyter.widget-view+json": {
       "model_id": "b468934d6b3946be82023dde8a0e7381",
       "version_major": 2,
       "version_minor": 0
      },
      "text/plain": [
       "  0%|          | 0/1 [00:00<?, ?it/s]"
      ]
     },
     "metadata": {},
     "output_type": "display_data"
    },
    {
     "name": "stdout",
     "output_type": "stream",
     "text": [
      "Considering the following units \" millimeter \", \" centimeter \", \" meter \", and \" kilometer \", the size of starfish is commonly expressed in \" centimeter. Considering the following units \" millimeter \", \" centimeter \", \" meter \", and \" kilometer \", the size of flamingo is commonly expressed in \" meter. Considering the following units \" millimeter \", \" centimeter \", \" meter \", and \" kilometer \", the size of lion is commonly expressed in \" meter. Considering the following units \" millimeter \", \" centimeter \", \" meter \", and \" kilometer \", the size of blackberry is commonly expressed in \" mill\n",
      "Ground truth:  centimeter\n",
      "\n",
      "\n",
      "\n",
      "---------------------------------------------------\n",
      "Considering the following units \" millimeter \", \" centimeter \", \" meter \", and \" kilometer \", the size of pig is commonly expressed in \" meter. Considering the following units \" millimeter \", \" centimeter \", \" meter \", and \" kilometer \", the size of charcoal is commonly expressed in \" centimeter. Considering the following units \" millimeter \", \" centimeter \", \" meter \", and \" kilometer \", the size of diamond is commonly expressed in \" millimeter. Considering the following units \" millimeter \", \" centimeter \", \" meter \", and \" kilometer \", the size of gopher is commonly expressed in \"\n"
     ]
    },
    {
     "data": {
      "application/vnd.jupyter.widget-view+json": {
       "model_id": "a969a5a062804a6ab3b91fa69be962c4",
       "version_major": 2,
       "version_minor": 0
      },
      "text/plain": [
       "  0%|          | 0/1 [00:00<?, ?it/s]"
      ]
     },
     "metadata": {},
     "output_type": "display_data"
    },
    {
     "name": "stdout",
     "output_type": "stream",
     "text": [
      "Considering the following units \" millimeter \", \" centimeter \", \" meter \", and \" kilometer \", the size of pig is commonly expressed in \" meter. Considering the following units \" millimeter \", \" centimeter \", \" meter \", and \" kilometer \", the size of charcoal is commonly expressed in \" centimeter. Considering the following units \" millimeter \", \" centimeter \", \" meter \", and \" kilometer \", the size of diamond is commonly expressed in \" millimeter. Considering the following units \" millimeter \", \" centimeter \", \" meter \", and \" kilometer \", the size of gopher is commonly expressed in \" mill\n",
      "Ground truth:  centimeter\n",
      "\n",
      "\n",
      "\n",
      "---------------------------------------------------\n",
      "Considering the following units \" millimeter \", \" centimeter \", \" meter \", and \" kilometer \", the size of blackberry is commonly expressed in \" centimeter. Considering the following units \" millimeter \", \" centimeter \", \" meter \", and \" kilometer \", the size of turquoise is commonly expressed in \" centimeter. Considering the following units \" millimeter \", \" centimeter \", \" meter \", and \" kilometer \", the size of diamond is commonly expressed in \" millimeter. Considering the following units \" millimeter \", \" centimeter \", \" meter \", and \" kilometer \", the size of charcoal is commonly expressed in \"\n"
     ]
    },
    {
     "data": {
      "application/vnd.jupyter.widget-view+json": {
       "model_id": "91af5a0c0512487b90389f1fc2f4ea31",
       "version_major": 2,
       "version_minor": 0
      },
      "text/plain": [
       "  0%|          | 0/1 [00:00<?, ?it/s]"
      ]
     },
     "metadata": {},
     "output_type": "display_data"
    },
    {
     "name": "stdout",
     "output_type": "stream",
     "text": [
      "Considering the following units \" millimeter \", \" centimeter \", \" meter \", and \" kilometer \", the size of blackberry is commonly expressed in \" centimeter. Considering the following units \" millimeter \", \" centimeter \", \" meter \", and \" kilometer \", the size of turquoise is commonly expressed in \" centimeter. Considering the following units \" millimeter \", \" centimeter \", \" meter \", and \" kilometer \", the size of diamond is commonly expressed in \" millimeter. Considering the following units \" millimeter \", \" centimeter \", \" meter \", and \" kilometer \", the size of charcoal is commonly expressed in \" mill\n",
      "Ground truth:  centimeter\n",
      "\n",
      "\n",
      "\n",
      "---------------------------------------------------\n",
      "Considering the following units \" millimeter \", \" centimeter \", \" meter \", and \" kilometer \", the size of starfish is commonly expressed in \" centimeter. Considering the following units \" millimeter \", \" centimeter \", \" meter \", and \" kilometer \", the size of axe is commonly expressed in \" meter. Considering the following units \" millimeter \", \" centimeter \", \" meter \", and \" kilometer \", the size of saffron is commonly expressed in \" millimeter. Considering the following units \" millimeter \", \" centimeter \", \" meter \", and \" kilometer \", the size of charcoal is commonly expressed in \"\n"
     ]
    },
    {
     "data": {
      "application/vnd.jupyter.widget-view+json": {
       "model_id": "1b715618010e4d7dbf64c3fa6cb770fc",
       "version_major": 2,
       "version_minor": 0
      },
      "text/plain": [
       "  0%|          | 0/1 [00:00<?, ?it/s]"
      ]
     },
     "metadata": {},
     "output_type": "display_data"
    },
    {
     "name": "stdout",
     "output_type": "stream",
     "text": [
      "Considering the following units \" millimeter \", \" centimeter \", \" meter \", and \" kilometer \", the size of starfish is commonly expressed in \" centimeter. Considering the following units \" millimeter \", \" centimeter \", \" meter \", and \" kilometer \", the size of axe is commonly expressed in \" meter. Considering the following units \" millimeter \", \" centimeter \", \" meter \", and \" kilometer \", the size of saffron is commonly expressed in \" millimeter. Considering the following units \" millimeter \", \" centimeter \", \" meter \", and \" kilometer \", the size of charcoal is commonly expressed in \" mill\n",
      "Ground truth:  centimeter\n",
      "\n",
      "\n",
      "\n",
      "---------------------------------------------------\n",
      "Considering the following units \" millimeter \", \" centimeter \", \" meter \", and \" kilometer \", the size of bamboo is commonly expressed in \" meter. Considering the following units \" millimeter \", \" centimeter \", \" meter \", and \" kilometer \", the size of diamond is commonly expressed in \" millimeter. Considering the following units \" millimeter \", \" centimeter \", \" meter \", and \" kilometer \", the size of cornmeal is commonly expressed in \" centimeter. Considering the following units \" millimeter \", \" centimeter \", \" meter \", and \" kilometer \", the size of blackberry is commonly expressed in \"\n"
     ]
    },
    {
     "data": {
      "application/vnd.jupyter.widget-view+json": {
       "model_id": "7d9d86fc1a7f45b192df2d8c27e292a0",
       "version_major": 2,
       "version_minor": 0
      },
      "text/plain": [
       "  0%|          | 0/1 [00:00<?, ?it/s]"
      ]
     },
     "metadata": {},
     "output_type": "display_data"
    },
    {
     "name": "stdout",
     "output_type": "stream",
     "text": [
      "Considering the following units \" millimeter \", \" centimeter \", \" meter \", and \" kilometer \", the size of bamboo is commonly expressed in \" meter. Considering the following units \" millimeter \", \" centimeter \", \" meter \", and \" kilometer \", the size of diamond is commonly expressed in \" millimeter. Considering the following units \" millimeter \", \" centimeter \", \" meter \", and \" kilometer \", the size of cornmeal is commonly expressed in \" centimeter. Considering the following units \" millimeter \", \" centimeter \", \" meter \", and \" kilometer \", the size of blackberry is commonly expressed in \" mill\n",
      "Ground truth:  centimeter\n",
      "\n",
      "\n",
      "\n",
      "---------------------------------------------------\n",
      "Considering the following units \" millimeter \", \" centimeter \", \" meter \", and \" kilometer \", the size of lion is commonly expressed in \" meter. Considering the following units \" millimeter \", \" centimeter \", \" meter \", and \" kilometer \", the size of starfish is commonly expressed in \" centimeter. Considering the following units \" millimeter \", \" centimeter \", \" meter \", and \" kilometer \", the size of diamond is commonly expressed in \" millimeter. Considering the following units \" millimeter \", \" centimeter \", \" meter \", and \" kilometer \", the size of lime is commonly expressed in \"\n"
     ]
    },
    {
     "data": {
      "application/vnd.jupyter.widget-view+json": {
       "model_id": "bf66b9ab2a734504bdaa5f48b75fd0f9",
       "version_major": 2,
       "version_minor": 0
      },
      "text/plain": [
       "  0%|          | 0/1 [00:00<?, ?it/s]"
      ]
     },
     "metadata": {},
     "output_type": "display_data"
    },
    {
     "name": "stdout",
     "output_type": "stream",
     "text": [
      "Considering the following units \" millimeter \", \" centimeter \", \" meter \", and \" kilometer \", the size of lion is commonly expressed in \" meter. Considering the following units \" millimeter \", \" centimeter \", \" meter \", and \" kilometer \", the size of starfish is commonly expressed in \" centimeter. Considering the following units \" millimeter \", \" centimeter \", \" meter \", and \" kilometer \", the size of diamond is commonly expressed in \" millimeter. Considering the following units \" millimeter \", \" centimeter \", \" meter \", and \" kilometer \", the size of lime is commonly expressed in \" mill\n",
      "Ground truth:  centimeter\n",
      "\n",
      "\n",
      "\n",
      "---------------------------------------------------\n",
      "Considering the following units \" millimeter \", \" centimeter \", \" meter \", and \" kilometer \", the size of turquoise is commonly expressed in \" centimeter. Considering the following units \" millimeter \", \" centimeter \", \" meter \", and \" kilometer \", the size of gopher is commonly expressed in \" centimeter. Considering the following units \" millimeter \", \" centimeter \", \" meter \", and \" kilometer \", the size of starfish is commonly expressed in \" centimeter. Considering the following units \" millimeter \", \" centimeter \", \" meter \", and \" kilometer \", the size of bamboo is commonly expressed in \"\n"
     ]
    },
    {
     "data": {
      "application/vnd.jupyter.widget-view+json": {
       "model_id": "93c72f6a386c48d084e34ac2b56cd141",
       "version_major": 2,
       "version_minor": 0
      },
      "text/plain": [
       "  0%|          | 0/1 [00:00<?, ?it/s]"
      ]
     },
     "metadata": {},
     "output_type": "display_data"
    },
    {
     "name": "stdout",
     "output_type": "stream",
     "text": [
      "Considering the following units \" millimeter \", \" centimeter \", \" meter \", and \" kilometer \", the size of turquoise is commonly expressed in \" centimeter. Considering the following units \" millimeter \", \" centimeter \", \" meter \", and \" kilometer \", the size of gopher is commonly expressed in \" centimeter. Considering the following units \" millimeter \", \" centimeter \", \" meter \", and \" kilometer \", the size of starfish is commonly expressed in \" centimeter. Considering the following units \" millimeter \", \" centimeter \", \" meter \", and \" kilometer \", the size of bamboo is commonly expressed in \" cent\n",
      "Ground truth:  meter\n",
      "\n",
      "\n",
      "\n",
      "---------------------------------------------------\n",
      "Considering the following units \" millimeter \", \" centimeter \", \" meter \", and \" kilometer \", the size of blackberry is commonly expressed in \" centimeter. Considering the following units \" millimeter \", \" centimeter \", \" meter \", and \" kilometer \", the size of lime is commonly expressed in \" centimeter. Considering the following units \" millimeter \", \" centimeter \", \" meter \", and \" kilometer \", the size of violet is commonly expressed in \" centimeter. Considering the following units \" millimeter \", \" centimeter \", \" meter \", and \" kilometer \", the size of lion is commonly expressed in \"\n"
     ]
    },
    {
     "data": {
      "application/vnd.jupyter.widget-view+json": {
       "model_id": "205bbca1b379411fbb020e2e9d72ee16",
       "version_major": 2,
       "version_minor": 0
      },
      "text/plain": [
       "  0%|          | 0/1 [00:00<?, ?it/s]"
      ]
     },
     "metadata": {},
     "output_type": "display_data"
    },
    {
     "name": "stdout",
     "output_type": "stream",
     "text": [
      "Considering the following units \" millimeter \", \" centimeter \", \" meter \", and \" kilometer \", the size of blackberry is commonly expressed in \" centimeter. Considering the following units \" millimeter \", \" centimeter \", \" meter \", and \" kilometer \", the size of lime is commonly expressed in \" centimeter. Considering the following units \" millimeter \", \" centimeter \", \" meter \", and \" kilometer \", the size of violet is commonly expressed in \" centimeter. Considering the following units \" millimeter \", \" centimeter \", \" meter \", and \" kilometer \", the size of lion is commonly expressed in \" cent\n",
      "Ground truth:  meter\n",
      "\n",
      "\n",
      "\n",
      "---------------------------------------------------\n",
      "Considering the following units \" millimeter \", \" centimeter \", \" meter \", and \" kilometer \", the size of saffron is commonly expressed in \" millimeter. Considering the following units \" millimeter \", \" centimeter \", \" meter \", and \" kilometer \", the size of diamond is commonly expressed in \" millimeter. Considering the following units \" millimeter \", \" centimeter \", \" meter \", and \" kilometer \", the size of cornmeal is commonly expressed in \" centimeter. Considering the following units \" millimeter \", \" centimeter \", \" meter \", and \" kilometer \", the size of pig is commonly expressed in \"\n"
     ]
    },
    {
     "data": {
      "application/vnd.jupyter.widget-view+json": {
       "model_id": "00603ad6344f4f2eb368e0f19dbe4ae4",
       "version_major": 2,
       "version_minor": 0
      },
      "text/plain": [
       "  0%|          | 0/1 [00:00<?, ?it/s]"
      ]
     },
     "metadata": {},
     "output_type": "display_data"
    },
    {
     "name": "stdout",
     "output_type": "stream",
     "text": [
      "Considering the following units \" millimeter \", \" centimeter \", \" meter \", and \" kilometer \", the size of saffron is commonly expressed in \" millimeter. Considering the following units \" millimeter \", \" centimeter \", \" meter \", and \" kilometer \", the size of diamond is commonly expressed in \" millimeter. Considering the following units \" millimeter \", \" centimeter \", \" meter \", and \" kilometer \", the size of cornmeal is commonly expressed in \" centimeter. Considering the following units \" millimeter \", \" centimeter \", \" meter \", and \" kilometer \", the size of pig is commonly expressed in \" mill\n",
      "Ground truth:  meter\n",
      "\n",
      "\n",
      "\n",
      "---------------------------------------------------\n",
      "Considering the following units \" millimeter \", \" centimeter \", \" meter \", and \" kilometer \", the size of lion is commonly expressed in \" meter. Considering the following units \" millimeter \", \" centimeter \", \" meter \", and \" kilometer \", the size of diamond is commonly expressed in \" millimeter. Considering the following units \" millimeter \", \" centimeter \", \" meter \", and \" kilometer \", the size of violet is commonly expressed in \" centimeter. Considering the following units \" millimeter \", \" centimeter \", \" meter \", and \" kilometer \", the size of flamingo is commonly expressed in \"\n"
     ]
    },
    {
     "data": {
      "application/vnd.jupyter.widget-view+json": {
       "model_id": "c1d0128594bb45ab918e155ce9a127ae",
       "version_major": 2,
       "version_minor": 0
      },
      "text/plain": [
       "  0%|          | 0/1 [00:00<?, ?it/s]"
      ]
     },
     "metadata": {},
     "output_type": "display_data"
    },
    {
     "name": "stdout",
     "output_type": "stream",
     "text": [
      "Considering the following units \" millimeter \", \" centimeter \", \" meter \", and \" kilometer \", the size of lion is commonly expressed in \" meter. Considering the following units \" millimeter \", \" centimeter \", \" meter \", and \" kilometer \", the size of diamond is commonly expressed in \" millimeter. Considering the following units \" millimeter \", \" centimeter \", \" meter \", and \" kilometer \", the size of violet is commonly expressed in \" centimeter. Considering the following units \" millimeter \", \" centimeter \", \" meter \", and \" kilometer \", the size of flamingo is commonly expressed in \" mill\n",
      "Ground truth:  meter\n",
      "\n",
      "\n",
      "\n",
      "---------------------------------------------------\n",
      "Considering the following units \" millimeter \", \" centimeter \", \" meter \", and \" kilometer \", the size of lime is commonly expressed in \" centimeter. Considering the following units \" millimeter \", \" centimeter \", \" meter \", and \" kilometer \", the size of blackberry is commonly expressed in \" centimeter. Considering the following units \" millimeter \", \" centimeter \", \" meter \", and \" kilometer \", the size of flamingo is commonly expressed in \" meter. Considering the following units \" millimeter \", \" centimeter \", \" meter \", and \" kilometer \", the size of gopher is commonly expressed in \"\n"
     ]
    },
    {
     "data": {
      "application/vnd.jupyter.widget-view+json": {
       "model_id": "02e6263f9f85467493547f9662247522",
       "version_major": 2,
       "version_minor": 0
      },
      "text/plain": [
       "  0%|          | 0/1 [00:00<?, ?it/s]"
      ]
     },
     "metadata": {},
     "output_type": "display_data"
    },
    {
     "name": "stdout",
     "output_type": "stream",
     "text": [
      "Considering the following units \" millimeter \", \" centimeter \", \" meter \", and \" kilometer \", the size of lime is commonly expressed in \" centimeter. Considering the following units \" millimeter \", \" centimeter \", \" meter \", and \" kilometer \", the size of blackberry is commonly expressed in \" centimeter. Considering the following units \" millimeter \", \" centimeter \", \" meter \", and \" kilometer \", the size of flamingo is commonly expressed in \" meter. Considering the following units \" millimeter \", \" centimeter \", \" meter \", and \" kilometer \", the size of gopher is commonly expressed in \" cent\n",
      "Ground truth:  centimeter\n",
      "\n",
      "\n",
      "\n",
      "---------------------------------------------------\n",
      "Considering the following units \" millimeter \", \" centimeter \", \" meter \", and \" kilometer \", the size of bamboo is commonly expressed in \" meter. Considering the following units \" millimeter \", \" centimeter \", \" meter \", and \" kilometer \", the size of gopher is commonly expressed in \" centimeter. Considering the following units \" millimeter \", \" centimeter \", \" meter \", and \" kilometer \", the size of saffron is commonly expressed in \" millimeter. Considering the following units \" millimeter \", \" centimeter \", \" meter \", and \" kilometer \", the size of flamingo is commonly expressed in \"\n"
     ]
    },
    {
     "data": {
      "application/vnd.jupyter.widget-view+json": {
       "model_id": "04a33ccfdf7f4f03b1f03284375df5b6",
       "version_major": 2,
       "version_minor": 0
      },
      "text/plain": [
       "  0%|          | 0/1 [00:00<?, ?it/s]"
      ]
     },
     "metadata": {},
     "output_type": "display_data"
    },
    {
     "name": "stdout",
     "output_type": "stream",
     "text": [
      "Considering the following units \" millimeter \", \" centimeter \", \" meter \", and \" kilometer \", the size of bamboo is commonly expressed in \" meter. Considering the following units \" millimeter \", \" centimeter \", \" meter \", and \" kilometer \", the size of gopher is commonly expressed in \" centimeter. Considering the following units \" millimeter \", \" centimeter \", \" meter \", and \" kilometer \", the size of saffron is commonly expressed in \" millimeter. Considering the following units \" millimeter \", \" centimeter \", \" meter \", and \" kilometer \", the size of flamingo is commonly expressed in \" mill\n",
      "Ground truth:  meter\n",
      "\n",
      "\n",
      "\n",
      "---------------------------------------------------\n",
      "Considering the following units \" millimeter \", \" centimeter \", \" meter \", and \" kilometer \", the size of diamond is commonly expressed in \" millimeter. Considering the following units \" millimeter \", \" centimeter \", \" meter \", and \" kilometer \", the size of violet is commonly expressed in \" centimeter. Considering the following units \" millimeter \", \" centimeter \", \" meter \", and \" kilometer \", the size of turmeric is commonly expressed in \" centimeter. Considering the following units \" millimeter \", \" centimeter \", \" meter \", and \" kilometer \", the size of pig is commonly expressed in \"\n"
     ]
    },
    {
     "data": {
      "application/vnd.jupyter.widget-view+json": {
       "model_id": "04bcc109896646d1ad03afc94e6c13d8",
       "version_major": 2,
       "version_minor": 0
      },
      "text/plain": [
       "  0%|          | 0/1 [00:00<?, ?it/s]"
      ]
     },
     "metadata": {},
     "output_type": "display_data"
    },
    {
     "name": "stdout",
     "output_type": "stream",
     "text": [
      "Considering the following units \" millimeter \", \" centimeter \", \" meter \", and \" kilometer \", the size of diamond is commonly expressed in \" millimeter. Considering the following units \" millimeter \", \" centimeter \", \" meter \", and \" kilometer \", the size of violet is commonly expressed in \" centimeter. Considering the following units \" millimeter \", \" centimeter \", \" meter \", and \" kilometer \", the size of turmeric is commonly expressed in \" centimeter. Considering the following units \" millimeter \", \" centimeter \", \" meter \", and \" kilometer \", the size of pig is commonly expressed in \" cent\n",
      "Ground truth:  meter\n",
      "\n",
      "\n",
      "\n",
      "---------------------------------------------------\n",
      "Considering the following units \" millimeter \", \" centimeter \", \" meter \", and \" kilometer \", the size of bamboo is commonly expressed in \" meter. Considering the following units \" millimeter \", \" centimeter \", \" meter \", and \" kilometer \", the size of diamond is commonly expressed in \" millimeter. Considering the following units \" millimeter \", \" centimeter \", \" meter \", and \" kilometer \", the size of axe is commonly expressed in \" meter. Considering the following units \" millimeter \", \" centimeter \", \" meter \", and \" kilometer \", the size of gopher is commonly expressed in \"\n"
     ]
    },
    {
     "data": {
      "application/vnd.jupyter.widget-view+json": {
       "model_id": "3af1b37584134117a2039d2264a72fe0",
       "version_major": 2,
       "version_minor": 0
      },
      "text/plain": [
       "  0%|          | 0/1 [00:00<?, ?it/s]"
      ]
     },
     "metadata": {},
     "output_type": "display_data"
    },
    {
     "name": "stdout",
     "output_type": "stream",
     "text": [
      "Considering the following units \" millimeter \", \" centimeter \", \" meter \", and \" kilometer \", the size of bamboo is commonly expressed in \" meter. Considering the following units \" millimeter \", \" centimeter \", \" meter \", and \" kilometer \", the size of diamond is commonly expressed in \" millimeter. Considering the following units \" millimeter \", \" centimeter \", \" meter \", and \" kilometer \", the size of axe is commonly expressed in \" meter. Considering the following units \" millimeter \", \" centimeter \", \" meter \", and \" kilometer \", the size of gopher is commonly expressed in \" mill\n",
      "Ground truth:  centimeter\n",
      "\n",
      "\n",
      "\n",
      "---------------------------------------------------\n",
      "Considering the following units \" millimeter \", \" centimeter \", \" meter \", and \" kilometer \", the size of turquoise is commonly expressed in \" centimeter. Considering the following units \" millimeter \", \" centimeter \", \" meter \", and \" kilometer \", the size of saffron is commonly expressed in \" millimeter. Considering the following units \" millimeter \", \" centimeter \", \" meter \", and \" kilometer \", the size of pig is commonly expressed in \" meter. Considering the following units \" millimeter \", \" centimeter \", \" meter \", and \" kilometer \", the size of diamond is commonly expressed in \"\n"
     ]
    },
    {
     "data": {
      "application/vnd.jupyter.widget-view+json": {
       "model_id": "018b121dfd1642b08cd891fac6a1d74d",
       "version_major": 2,
       "version_minor": 0
      },
      "text/plain": [
       "  0%|          | 0/1 [00:00<?, ?it/s]"
      ]
     },
     "metadata": {},
     "output_type": "display_data"
    },
    {
     "name": "stdout",
     "output_type": "stream",
     "text": [
      "Considering the following units \" millimeter \", \" centimeter \", \" meter \", and \" kilometer \", the size of turquoise is commonly expressed in \" centimeter. Considering the following units \" millimeter \", \" centimeter \", \" meter \", and \" kilometer \", the size of saffron is commonly expressed in \" millimeter. Considering the following units \" millimeter \", \" centimeter \", \" meter \", and \" kilometer \", the size of pig is commonly expressed in \" meter. Considering the following units \" millimeter \", \" centimeter \", \" meter \", and \" kilometer \", the size of diamond is commonly expressed in \" mill\n",
      "Ground truth:  millimeter\n",
      "\n",
      "\n",
      "\n",
      "---------------------------------------------------\n",
      "Considering the following units \" millimeter \", \" centimeter \", \" meter \", and \" kilometer \", the size of saffron is commonly expressed in \" millimeter. Considering the following units \" millimeter \", \" centimeter \", \" meter \", and \" kilometer \", the size of turmeric is commonly expressed in \" centimeter. Considering the following units \" millimeter \", \" centimeter \", \" meter \", and \" kilometer \", the size of charcoal is commonly expressed in \" centimeter. Considering the following units \" millimeter \", \" centimeter \", \" meter \", and \" kilometer \", the size of starfish is commonly expressed in \"\n"
     ]
    },
    {
     "data": {
      "application/vnd.jupyter.widget-view+json": {
       "model_id": "01ae55b260044e028ce89491460a4376",
       "version_major": 2,
       "version_minor": 0
      },
      "text/plain": [
       "  0%|          | 0/1 [00:00<?, ?it/s]"
      ]
     },
     "metadata": {},
     "output_type": "display_data"
    },
    {
     "name": "stdout",
     "output_type": "stream",
     "text": [
      "Considering the following units \" millimeter \", \" centimeter \", \" meter \", and \" kilometer \", the size of saffron is commonly expressed in \" millimeter. Considering the following units \" millimeter \", \" centimeter \", \" meter \", and \" kilometer \", the size of turmeric is commonly expressed in \" centimeter. Considering the following units \" millimeter \", \" centimeter \", \" meter \", and \" kilometer \", the size of charcoal is commonly expressed in \" centimeter. Considering the following units \" millimeter \", \" centimeter \", \" meter \", and \" kilometer \", the size of starfish is commonly expressed in \" mill\n",
      "Ground truth:  centimeter\n",
      "\n",
      "\n",
      "\n",
      "---------------------------------------------------\n",
      "Considering the following units \" millimeter \", \" centimeter \", \" meter \", and \" kilometer \", the size of turquoise is commonly expressed in \" centimeter. Considering the following units \" millimeter \", \" centimeter \", \" meter \", and \" kilometer \", the size of bamboo is commonly expressed in \" meter. Considering the following units \" millimeter \", \" centimeter \", \" meter \", and \" kilometer \", the size of axe is commonly expressed in \" meter. Considering the following units \" millimeter \", \" centimeter \", \" meter \", and \" kilometer \", the size of cornmeal is commonly expressed in \"\n"
     ]
    },
    {
     "data": {
      "application/vnd.jupyter.widget-view+json": {
       "model_id": "285ff74014ea4b2286faafd7e55622b7",
       "version_major": 2,
       "version_minor": 0
      },
      "text/plain": [
       "  0%|          | 0/1 [00:00<?, ?it/s]"
      ]
     },
     "metadata": {},
     "output_type": "display_data"
    },
    {
     "name": "stdout",
     "output_type": "stream",
     "text": [
      "Considering the following units \" millimeter \", \" centimeter \", \" meter \", and \" kilometer \", the size of turquoise is commonly expressed in \" centimeter. Considering the following units \" millimeter \", \" centimeter \", \" meter \", and \" kilometer \", the size of bamboo is commonly expressed in \" meter. Considering the following units \" millimeter \", \" centimeter \", \" meter \", and \" kilometer \", the size of axe is commonly expressed in \" meter. Considering the following units \" millimeter \", \" centimeter \", \" meter \", and \" kilometer \", the size of cornmeal is commonly expressed in \" meter\n",
      "Ground truth:  centimeter\n",
      "\n",
      "\n",
      "\n",
      "---------------------------------------------------\n",
      "Considering the following units \" millimeter \", \" centimeter \", \" meter \", and \" kilometer \", the size of starfish is commonly expressed in \" centimeter. Considering the following units \" millimeter \", \" centimeter \", \" meter \", and \" kilometer \", the size of turquoise is commonly expressed in \" centimeter. Considering the following units \" millimeter \", \" centimeter \", \" meter \", and \" kilometer \", the size of turmeric is commonly expressed in \" centimeter. Considering the following units \" millimeter \", \" centimeter \", \" meter \", and \" kilometer \", the size of axe is commonly expressed in \"\n"
     ]
    },
    {
     "data": {
      "application/vnd.jupyter.widget-view+json": {
       "model_id": "5502b3cc335a40f783a458df2b07d415",
       "version_major": 2,
       "version_minor": 0
      },
      "text/plain": [
       "  0%|          | 0/1 [00:00<?, ?it/s]"
      ]
     },
     "metadata": {},
     "output_type": "display_data"
    },
    {
     "name": "stdout",
     "output_type": "stream",
     "text": [
      "Considering the following units \" millimeter \", \" centimeter \", \" meter \", and \" kilometer \", the size of starfish is commonly expressed in \" centimeter. Considering the following units \" millimeter \", \" centimeter \", \" meter \", and \" kilometer \", the size of turquoise is commonly expressed in \" centimeter. Considering the following units \" millimeter \", \" centimeter \", \" meter \", and \" kilometer \", the size of turmeric is commonly expressed in \" centimeter. Considering the following units \" millimeter \", \" centimeter \", \" meter \", and \" kilometer \", the size of axe is commonly expressed in \" cent\n",
      "Ground truth:  meter\n",
      "\n",
      "\n",
      "\n",
      "---------------------------------------------------\n",
      "Considering the following units \" millimeter \", \" centimeter \", \" meter \", and \" kilometer \", the size of turquoise is commonly expressed in \" centimeter. Considering the following units \" millimeter \", \" centimeter \", \" meter \", and \" kilometer \", the size of violet is commonly expressed in \" centimeter. Considering the following units \" millimeter \", \" centimeter \", \" meter \", and \" kilometer \", the size of turmeric is commonly expressed in \" centimeter. Considering the following units \" millimeter \", \" centimeter \", \" meter \", and \" kilometer \", the size of axe is commonly expressed in \"\n"
     ]
    },
    {
     "data": {
      "application/vnd.jupyter.widget-view+json": {
       "model_id": "242b31b6bdce4b51b600a8f6bc6085bb",
       "version_major": 2,
       "version_minor": 0
      },
      "text/plain": [
       "  0%|          | 0/1 [00:00<?, ?it/s]"
      ]
     },
     "metadata": {},
     "output_type": "display_data"
    },
    {
     "name": "stdout",
     "output_type": "stream",
     "text": [
      "Considering the following units \" millimeter \", \" centimeter \", \" meter \", and \" kilometer \", the size of turquoise is commonly expressed in \" centimeter. Considering the following units \" millimeter \", \" centimeter \", \" meter \", and \" kilometer \", the size of violet is commonly expressed in \" centimeter. Considering the following units \" millimeter \", \" centimeter \", \" meter \", and \" kilometer \", the size of turmeric is commonly expressed in \" centimeter. Considering the following units \" millimeter \", \" centimeter \", \" meter \", and \" kilometer \", the size of axe is commonly expressed in \" cent\n",
      "Ground truth:  meter\n",
      "\n",
      "\n",
      "\n",
      "---------------------------------------------------\n",
      "Considering the following units \" millimeter \", \" centimeter \", \" meter \", and \" kilometer \", the size of turquoise is commonly expressed in \" centimeter. Considering the following units \" millimeter \", \" centimeter \", \" meter \", and \" kilometer \", the size of gopher is commonly expressed in \" centimeter. Considering the following units \" millimeter \", \" centimeter \", \" meter \", and \" kilometer \", the size of blackberry is commonly expressed in \" centimeter. Considering the following units \" millimeter \", \" centimeter \", \" meter \", and \" kilometer \", the size of lime is commonly expressed in \"\n"
     ]
    },
    {
     "data": {
      "application/vnd.jupyter.widget-view+json": {
       "model_id": "8e9ff4def80141008a980a16e6df5808",
       "version_major": 2,
       "version_minor": 0
      },
      "text/plain": [
       "  0%|          | 0/1 [00:00<?, ?it/s]"
      ]
     },
     "metadata": {},
     "output_type": "display_data"
    },
    {
     "name": "stdout",
     "output_type": "stream",
     "text": [
      "Considering the following units \" millimeter \", \" centimeter \", \" meter \", and \" kilometer \", the size of turquoise is commonly expressed in \" centimeter. Considering the following units \" millimeter \", \" centimeter \", \" meter \", and \" kilometer \", the size of gopher is commonly expressed in \" centimeter. Considering the following units \" millimeter \", \" centimeter \", \" meter \", and \" kilometer \", the size of blackberry is commonly expressed in \" centimeter. Considering the following units \" millimeter \", \" centimeter \", \" meter \", and \" kilometer \", the size of lime is commonly expressed in \" cent\n",
      "Ground truth:  centimeter\n",
      "\n",
      "\n",
      "\n",
      "---------------------------------------------------\n",
      "Considering the following units \" millimeter \", \" centimeter \", \" meter \", and \" kilometer \", the size of starfish is commonly expressed in \" centimeter. Considering the following units \" millimeter \", \" centimeter \", \" meter \", and \" kilometer \", the size of turmeric is commonly expressed in \" centimeter. Considering the following units \" millimeter \", \" centimeter \", \" meter \", and \" kilometer \", the size of lime is commonly expressed in \" centimeter. Considering the following units \" millimeter \", \" centimeter \", \" meter \", and \" kilometer \", the size of cornmeal is commonly expressed in \"\n"
     ]
    },
    {
     "data": {
      "application/vnd.jupyter.widget-view+json": {
       "model_id": "d1e41af3df1b450b8a66a5cd4c8f0862",
       "version_major": 2,
       "version_minor": 0
      },
      "text/plain": [
       "  0%|          | 0/1 [00:00<?, ?it/s]"
      ]
     },
     "metadata": {},
     "output_type": "display_data"
    },
    {
     "name": "stdout",
     "output_type": "stream",
     "text": [
      "Considering the following units \" millimeter \", \" centimeter \", \" meter \", and \" kilometer \", the size of starfish is commonly expressed in \" centimeter. Considering the following units \" millimeter \", \" centimeter \", \" meter \", and \" kilometer \", the size of turmeric is commonly expressed in \" centimeter. Considering the following units \" millimeter \", \" centimeter \", \" meter \", and \" kilometer \", the size of lime is commonly expressed in \" centimeter. Considering the following units \" millimeter \", \" centimeter \", \" meter \", and \" kilometer \", the size of cornmeal is commonly expressed in \" cent\n",
      "Ground truth:  centimeter\n",
      "\n",
      "\n",
      "\n",
      "---------------------------------------------------\n",
      "Considering the following units \" millimeter \", \" centimeter \", \" meter \", and \" kilometer \", the size of pig is commonly expressed in \" meter. Considering the following units \" millimeter \", \" centimeter \", \" meter \", and \" kilometer \", the size of axe is commonly expressed in \" meter. Considering the following units \" millimeter \", \" centimeter \", \" meter \", and \" kilometer \", the size of flamingo is commonly expressed in \" meter. Considering the following units \" millimeter \", \" centimeter \", \" meter \", and \" kilometer \", the size of turmeric is commonly expressed in \"\n"
     ]
    },
    {
     "data": {
      "application/vnd.jupyter.widget-view+json": {
       "model_id": "d1458e38aa1f42fe9853346e886fa67d",
       "version_major": 2,
       "version_minor": 0
      },
      "text/plain": [
       "  0%|          | 0/1 [00:00<?, ?it/s]"
      ]
     },
     "metadata": {},
     "output_type": "display_data"
    },
    {
     "name": "stdout",
     "output_type": "stream",
     "text": [
      "Considering the following units \" millimeter \", \" centimeter \", \" meter \", and \" kilometer \", the size of pig is commonly expressed in \" meter. Considering the following units \" millimeter \", \" centimeter \", \" meter \", and \" kilometer \", the size of axe is commonly expressed in \" meter. Considering the following units \" millimeter \", \" centimeter \", \" meter \", and \" kilometer \", the size of flamingo is commonly expressed in \" meter. Considering the following units \" millimeter \", \" centimeter \", \" meter \", and \" kilometer \", the size of turmeric is commonly expressed in \" meter\n",
      "Ground truth:  centimeter\n",
      "\n",
      "\n",
      "\n",
      "---------------------------------------------------\n",
      "Considering the following units \" millimeter \", \" centimeter \", \" meter \", and \" kilometer \", the size of cornmeal is commonly expressed in \" centimeter. Considering the following units \" millimeter \", \" centimeter \", \" meter \", and \" kilometer \", the size of pig is commonly expressed in \" meter. Considering the following units \" millimeter \", \" centimeter \", \" meter \", and \" kilometer \", the size of lime is commonly expressed in \" centimeter. Considering the following units \" millimeter \", \" centimeter \", \" meter \", and \" kilometer \", the size of lion is commonly expressed in \"\n"
     ]
    },
    {
     "data": {
      "application/vnd.jupyter.widget-view+json": {
       "model_id": "81a57d4280fe4059a8132001ca60efe3",
       "version_major": 2,
       "version_minor": 0
      },
      "text/plain": [
       "  0%|          | 0/1 [00:00<?, ?it/s]"
      ]
     },
     "metadata": {},
     "output_type": "display_data"
    },
    {
     "name": "stdout",
     "output_type": "stream",
     "text": [
      "Considering the following units \" millimeter \", \" centimeter \", \" meter \", and \" kilometer \", the size of cornmeal is commonly expressed in \" centimeter. Considering the following units \" millimeter \", \" centimeter \", \" meter \", and \" kilometer \", the size of pig is commonly expressed in \" meter. Considering the following units \" millimeter \", \" centimeter \", \" meter \", and \" kilometer \", the size of lime is commonly expressed in \" centimeter. Considering the following units \" millimeter \", \" centimeter \", \" meter \", and \" kilometer \", the size of lion is commonly expressed in \" cent\n",
      "Ground truth:  meter\n",
      "\n",
      "\n",
      "\n",
      "---------------------------------------------------\n",
      "Considering the following units \" millimeter \", \" centimeter \", \" meter \", and \" kilometer \", the size of lime is commonly expressed in \" centimeter. Considering the following units \" millimeter \", \" centimeter \", \" meter \", and \" kilometer \", the size of bamboo is commonly expressed in \" meter. Considering the following units \" millimeter \", \" centimeter \", \" meter \", and \" kilometer \", the size of gopher is commonly expressed in \" centimeter. Considering the following units \" millimeter \", \" centimeter \", \" meter \", and \" kilometer \", the size of charcoal is commonly expressed in \"\n"
     ]
    },
    {
     "data": {
      "application/vnd.jupyter.widget-view+json": {
       "model_id": "dd41de7643c14e3daf59e46007635e34",
       "version_major": 2,
       "version_minor": 0
      },
      "text/plain": [
       "  0%|          | 0/1 [00:00<?, ?it/s]"
      ]
     },
     "metadata": {},
     "output_type": "display_data"
    },
    {
     "name": "stdout",
     "output_type": "stream",
     "text": [
      "Considering the following units \" millimeter \", \" centimeter \", \" meter \", and \" kilometer \", the size of lime is commonly expressed in \" centimeter. Considering the following units \" millimeter \", \" centimeter \", \" meter \", and \" kilometer \", the size of bamboo is commonly expressed in \" meter. Considering the following units \" millimeter \", \" centimeter \", \" meter \", and \" kilometer \", the size of gopher is commonly expressed in \" centimeter. Considering the following units \" millimeter \", \" centimeter \", \" meter \", and \" kilometer \", the size of charcoal is commonly expressed in \" cent\n",
      "Ground truth:  centimeter\n",
      "\n",
      "\n",
      "\n",
      "---------------------------------------------------\n",
      "Considering the following units \" millimeter \", \" centimeter \", \" meter \", and \" kilometer \", the size of bamboo is commonly expressed in \" meter. Considering the following units \" millimeter \", \" centimeter \", \" meter \", and \" kilometer \", the size of turmeric is commonly expressed in \" centimeter. Considering the following units \" millimeter \", \" centimeter \", \" meter \", and \" kilometer \", the size of charcoal is commonly expressed in \" centimeter. Considering the following units \" millimeter \", \" centimeter \", \" meter \", and \" kilometer \", the size of diamond is commonly expressed in \"\n"
     ]
    },
    {
     "data": {
      "application/vnd.jupyter.widget-view+json": {
       "model_id": "9814d4d9ad6347408180ff5c0c0fb802",
       "version_major": 2,
       "version_minor": 0
      },
      "text/plain": [
       "  0%|          | 0/1 [00:00<?, ?it/s]"
      ]
     },
     "metadata": {},
     "output_type": "display_data"
    },
    {
     "name": "stdout",
     "output_type": "stream",
     "text": [
      "Considering the following units \" millimeter \", \" centimeter \", \" meter \", and \" kilometer \", the size of bamboo is commonly expressed in \" meter. Considering the following units \" millimeter \", \" centimeter \", \" meter \", and \" kilometer \", the size of turmeric is commonly expressed in \" centimeter. Considering the following units \" millimeter \", \" centimeter \", \" meter \", and \" kilometer \", the size of charcoal is commonly expressed in \" centimeter. Considering the following units \" millimeter \", \" centimeter \", \" meter \", and \" kilometer \", the size of diamond is commonly expressed in \" cent\n",
      "Ground truth:  millimeter\n",
      "\n",
      "\n",
      "\n",
      "---------------------------------------------------\n",
      "Considering the following units \" millimeter \", \" centimeter \", \" meter \", and \" kilometer \", the size of axe is commonly expressed in \" meter. Considering the following units \" millimeter \", \" centimeter \", \" meter \", and \" kilometer \", the size of diamond is commonly expressed in \" millimeter. Considering the following units \" millimeter \", \" centimeter \", \" meter \", and \" kilometer \", the size of violet is commonly expressed in \" centimeter. Considering the following units \" millimeter \", \" centimeter \", \" meter \", and \" kilometer \", the size of cornmeal is commonly expressed in \"\n"
     ]
    },
    {
     "data": {
      "application/vnd.jupyter.widget-view+json": {
       "model_id": "3b537637ba0248baa544b2824776f1d8",
       "version_major": 2,
       "version_minor": 0
      },
      "text/plain": [
       "  0%|          | 0/1 [00:00<?, ?it/s]"
      ]
     },
     "metadata": {},
     "output_type": "display_data"
    },
    {
     "name": "stdout",
     "output_type": "stream",
     "text": [
      "Considering the following units \" millimeter \", \" centimeter \", \" meter \", and \" kilometer \", the size of axe is commonly expressed in \" meter. Considering the following units \" millimeter \", \" centimeter \", \" meter \", and \" kilometer \", the size of diamond is commonly expressed in \" millimeter. Considering the following units \" millimeter \", \" centimeter \", \" meter \", and \" kilometer \", the size of violet is commonly expressed in \" centimeter. Considering the following units \" millimeter \", \" centimeter \", \" meter \", and \" kilometer \", the size of cornmeal is commonly expressed in \" mill\n",
      "Ground truth:  centimeter\n",
      "\n",
      "\n",
      "\n",
      "---------------------------------------------------\n",
      "Considering the following units \" millimeter \", \" centimeter \", \" meter \", and \" kilometer \", the size of turmeric is commonly expressed in \" centimeter. Considering the following units \" millimeter \", \" centimeter \", \" meter \", and \" kilometer \", the size of bamboo is commonly expressed in \" meter. Considering the following units \" millimeter \", \" centimeter \", \" meter \", and \" kilometer \", the size of saffron is commonly expressed in \" millimeter. Considering the following units \" millimeter \", \" centimeter \", \" meter \", and \" kilometer \", the size of axe is commonly expressed in \"\n"
     ]
    },
    {
     "data": {
      "application/vnd.jupyter.widget-view+json": {
       "model_id": "f0c3528143a94adcb48781c19f16aa9c",
       "version_major": 2,
       "version_minor": 0
      },
      "text/plain": [
       "  0%|          | 0/1 [00:00<?, ?it/s]"
      ]
     },
     "metadata": {},
     "output_type": "display_data"
    },
    {
     "name": "stdout",
     "output_type": "stream",
     "text": [
      "Considering the following units \" millimeter \", \" centimeter \", \" meter \", and \" kilometer \", the size of turmeric is commonly expressed in \" centimeter. Considering the following units \" millimeter \", \" centimeter \", \" meter \", and \" kilometer \", the size of bamboo is commonly expressed in \" meter. Considering the following units \" millimeter \", \" centimeter \", \" meter \", and \" kilometer \", the size of saffron is commonly expressed in \" millimeter. Considering the following units \" millimeter \", \" centimeter \", \" meter \", and \" kilometer \", the size of axe is commonly expressed in \" mill\n",
      "Ground truth:  meter\n",
      "\n",
      "\n",
      "\n",
      "---------------------------------------------------\n",
      "Considering the following units \" millimeter \", \" centimeter \", \" meter \", and \" kilometer \", the size of turquoise is commonly expressed in \" centimeter. Considering the following units \" millimeter \", \" centimeter \", \" meter \", and \" kilometer \", the size of axe is commonly expressed in \" meter. Considering the following units \" millimeter \", \" centimeter \", \" meter \", and \" kilometer \", the size of blackberry is commonly expressed in \" centimeter. Considering the following units \" millimeter \", \" centimeter \", \" meter \", and \" kilometer \", the size of lion is commonly expressed in \"\n"
     ]
    },
    {
     "data": {
      "application/vnd.jupyter.widget-view+json": {
       "model_id": "41a1456d3b274bd0b288abb138866986",
       "version_major": 2,
       "version_minor": 0
      },
      "text/plain": [
       "  0%|          | 0/1 [00:00<?, ?it/s]"
      ]
     },
     "metadata": {},
     "output_type": "display_data"
    },
    {
     "name": "stdout",
     "output_type": "stream",
     "text": [
      "Considering the following units \" millimeter \", \" centimeter \", \" meter \", and \" kilometer \", the size of turquoise is commonly expressed in \" centimeter. Considering the following units \" millimeter \", \" centimeter \", \" meter \", and \" kilometer \", the size of axe is commonly expressed in \" meter. Considering the following units \" millimeter \", \" centimeter \", \" meter \", and \" kilometer \", the size of blackberry is commonly expressed in \" centimeter. Considering the following units \" millimeter \", \" centimeter \", \" meter \", and \" kilometer \", the size of lion is commonly expressed in \" cent\n",
      "Ground truth:  meter\n",
      "\n",
      "\n",
      "\n",
      "---------------------------------------------------\n",
      "Considering the following units \" millimeter \", \" centimeter \", \" meter \", and \" kilometer \", the size of flamingo is commonly expressed in \" meter. Considering the following units \" millimeter \", \" centimeter \", \" meter \", and \" kilometer \", the size of saffron is commonly expressed in \" millimeter. Considering the following units \" millimeter \", \" centimeter \", \" meter \", and \" kilometer \", the size of charcoal is commonly expressed in \" centimeter. Considering the following units \" millimeter \", \" centimeter \", \" meter \", and \" kilometer \", the size of turquoise is commonly expressed in \"\n"
     ]
    },
    {
     "data": {
      "application/vnd.jupyter.widget-view+json": {
       "model_id": "cecef36394904deeafc822946da89396",
       "version_major": 2,
       "version_minor": 0
      },
      "text/plain": [
       "  0%|          | 0/1 [00:00<?, ?it/s]"
      ]
     },
     "metadata": {},
     "output_type": "display_data"
    },
    {
     "name": "stdout",
     "output_type": "stream",
     "text": [
      "Considering the following units \" millimeter \", \" centimeter \", \" meter \", and \" kilometer \", the size of flamingo is commonly expressed in \" meter. Considering the following units \" millimeter \", \" centimeter \", \" meter \", and \" kilometer \", the size of saffron is commonly expressed in \" millimeter. Considering the following units \" millimeter \", \" centimeter \", \" meter \", and \" kilometer \", the size of charcoal is commonly expressed in \" centimeter. Considering the following units \" millimeter \", \" centimeter \", \" meter \", and \" kilometer \", the size of turquoise is commonly expressed in \" mill\n",
      "Ground truth:  centimeter\n",
      "\n",
      "\n",
      "\n",
      "---------------------------------------------------\n",
      "Considering the following units \" millimeter \", \" centimeter \", \" meter \", and \" kilometer \", the size of turmeric is commonly expressed in \" centimeter. Considering the following units \" millimeter \", \" centimeter \", \" meter \", and \" kilometer \", the size of diamond is commonly expressed in \" millimeter. Considering the following units \" millimeter \", \" centimeter \", \" meter \", and \" kilometer \", the size of starfish is commonly expressed in \" centimeter. Considering the following units \" millimeter \", \" centimeter \", \" meter \", and \" kilometer \", the size of cornmeal is commonly expressed in \"\n"
     ]
    },
    {
     "data": {
      "application/vnd.jupyter.widget-view+json": {
       "model_id": "b751424ef78e48bd8e9e19a0e346abaa",
       "version_major": 2,
       "version_minor": 0
      },
      "text/plain": [
       "  0%|          | 0/1 [00:00<?, ?it/s]"
      ]
     },
     "metadata": {},
     "output_type": "display_data"
    },
    {
     "name": "stdout",
     "output_type": "stream",
     "text": [
      "Considering the following units \" millimeter \", \" centimeter \", \" meter \", and \" kilometer \", the size of turmeric is commonly expressed in \" centimeter. Considering the following units \" millimeter \", \" centimeter \", \" meter \", and \" kilometer \", the size of diamond is commonly expressed in \" millimeter. Considering the following units \" millimeter \", \" centimeter \", \" meter \", and \" kilometer \", the size of starfish is commonly expressed in \" centimeter. Considering the following units \" millimeter \", \" centimeter \", \" meter \", and \" kilometer \", the size of cornmeal is commonly expressed in \" mill\n",
      "Ground truth:  centimeter\n",
      "\n",
      "\n",
      "\n",
      "---------------------------------------------------\n",
      "Considering the following units \" millimeter \", \" centimeter \", \" meter \", and \" kilometer \", the size of charcoal is commonly expressed in \" centimeter. Considering the following units \" millimeter \", \" centimeter \", \" meter \", and \" kilometer \", the size of lime is commonly expressed in \" centimeter. Considering the following units \" millimeter \", \" centimeter \", \" meter \", and \" kilometer \", the size of flamingo is commonly expressed in \" meter. Considering the following units \" millimeter \", \" centimeter \", \" meter \", and \" kilometer \", the size of blackberry is commonly expressed in \"\n"
     ]
    },
    {
     "data": {
      "application/vnd.jupyter.widget-view+json": {
       "model_id": "bc7ff91bf1204bd2bbe3d846a92c5940",
       "version_major": 2,
       "version_minor": 0
      },
      "text/plain": [
       "  0%|          | 0/1 [00:00<?, ?it/s]"
      ]
     },
     "metadata": {},
     "output_type": "display_data"
    },
    {
     "name": "stdout",
     "output_type": "stream",
     "text": [
      "Considering the following units \" millimeter \", \" centimeter \", \" meter \", and \" kilometer \", the size of charcoal is commonly expressed in \" centimeter. Considering the following units \" millimeter \", \" centimeter \", \" meter \", and \" kilometer \", the size of lime is commonly expressed in \" centimeter. Considering the following units \" millimeter \", \" centimeter \", \" meter \", and \" kilometer \", the size of flamingo is commonly expressed in \" meter. Considering the following units \" millimeter \", \" centimeter \", \" meter \", and \" kilometer \", the size of blackberry is commonly expressed in \" cent\n",
      "Ground truth:  centimeter\n",
      "\n",
      "\n",
      "\n",
      "---------------------------------------------------\n",
      "Considering the following units \" millimeter \", \" centimeter \", \" meter \", and \" kilometer \", the size of charcoal is commonly expressed in \" centimeter. Considering the following units \" millimeter \", \" centimeter \", \" meter \", and \" kilometer \", the size of axe is commonly expressed in \" meter. Considering the following units \" millimeter \", \" centimeter \", \" meter \", and \" kilometer \", the size of turquoise is commonly expressed in \" centimeter. Considering the following units \" millimeter \", \" centimeter \", \" meter \", and \" kilometer \", the size of flamingo is commonly expressed in \"\n"
     ]
    },
    {
     "data": {
      "application/vnd.jupyter.widget-view+json": {
       "model_id": "d1698f8a1189497c84b2b57b904911f6",
       "version_major": 2,
       "version_minor": 0
      },
      "text/plain": [
       "  0%|          | 0/1 [00:00<?, ?it/s]"
      ]
     },
     "metadata": {},
     "output_type": "display_data"
    },
    {
     "name": "stdout",
     "output_type": "stream",
     "text": [
      "Considering the following units \" millimeter \", \" centimeter \", \" meter \", and \" kilometer \", the size of charcoal is commonly expressed in \" centimeter. Considering the following units \" millimeter \", \" centimeter \", \" meter \", and \" kilometer \", the size of axe is commonly expressed in \" meter. Considering the following units \" millimeter \", \" centimeter \", \" meter \", and \" kilometer \", the size of turquoise is commonly expressed in \" centimeter. Considering the following units \" millimeter \", \" centimeter \", \" meter \", and \" kilometer \", the size of flamingo is commonly expressed in \" cent\n",
      "Ground truth:  meter\n",
      "\n",
      "\n",
      "\n",
      "---------------------------------------------------\n",
      "Considering the following units \" millimeter \", \" centimeter \", \" meter \", and \" kilometer \", the size of lime is commonly expressed in \" centimeter. Considering the following units \" millimeter \", \" centimeter \", \" meter \", and \" kilometer \", the size of saffron is commonly expressed in \" millimeter. Considering the following units \" millimeter \", \" centimeter \", \" meter \", and \" kilometer \", the size of charcoal is commonly expressed in \" centimeter. Considering the following units \" millimeter \", \" centimeter \", \" meter \", and \" kilometer \", the size of gopher is commonly expressed in \"\n"
     ]
    },
    {
     "data": {
      "application/vnd.jupyter.widget-view+json": {
       "model_id": "e8b7af2993e6472e89753e65d89bec84",
       "version_major": 2,
       "version_minor": 0
      },
      "text/plain": [
       "  0%|          | 0/1 [00:00<?, ?it/s]"
      ]
     },
     "metadata": {},
     "output_type": "display_data"
    },
    {
     "name": "stdout",
     "output_type": "stream",
     "text": [
      "Considering the following units \" millimeter \", \" centimeter \", \" meter \", and \" kilometer \", the size of lime is commonly expressed in \" centimeter. Considering the following units \" millimeter \", \" centimeter \", \" meter \", and \" kilometer \", the size of saffron is commonly expressed in \" millimeter. Considering the following units \" millimeter \", \" centimeter \", \" meter \", and \" kilometer \", the size of charcoal is commonly expressed in \" centimeter. Considering the following units \" millimeter \", \" centimeter \", \" meter \", and \" kilometer \", the size of gopher is commonly expressed in \" mill\n",
      "Ground truth:  centimeter\n",
      "\n",
      "\n",
      "\n",
      "---------------------------------------------------\n",
      "Considering the following units \" millimeter \", \" centimeter \", \" meter \", and \" kilometer \", the size of gopher is commonly expressed in \" centimeter. Considering the following units \" millimeter \", \" centimeter \", \" meter \", and \" kilometer \", the size of turquoise is commonly expressed in \" centimeter. Considering the following units \" millimeter \", \" centimeter \", \" meter \", and \" kilometer \", the size of bamboo is commonly expressed in \" meter. Considering the following units \" millimeter \", \" centimeter \", \" meter \", and \" kilometer \", the size of turmeric is commonly expressed in \"\n"
     ]
    },
    {
     "data": {
      "application/vnd.jupyter.widget-view+json": {
       "model_id": "cbc5089a1ad548f4af113fbdd2a87a82",
       "version_major": 2,
       "version_minor": 0
      },
      "text/plain": [
       "  0%|          | 0/1 [00:00<?, ?it/s]"
      ]
     },
     "metadata": {},
     "output_type": "display_data"
    },
    {
     "name": "stdout",
     "output_type": "stream",
     "text": [
      "Considering the following units \" millimeter \", \" centimeter \", \" meter \", and \" kilometer \", the size of gopher is commonly expressed in \" centimeter. Considering the following units \" millimeter \", \" centimeter \", \" meter \", and \" kilometer \", the size of turquoise is commonly expressed in \" centimeter. Considering the following units \" millimeter \", \" centimeter \", \" meter \", and \" kilometer \", the size of bamboo is commonly expressed in \" meter. Considering the following units \" millimeter \", \" centimeter \", \" meter \", and \" kilometer \", the size of turmeric is commonly expressed in \" meter\n",
      "Ground truth:  centimeter\n",
      "\n",
      "\n",
      "\n",
      "---------------------------------------------------\n",
      "Considering the following units \" millimeter \", \" centimeter \", \" meter \", and \" kilometer \", the size of violet is commonly expressed in \" centimeter. Considering the following units \" millimeter \", \" centimeter \", \" meter \", and \" kilometer \", the size of blackberry is commonly expressed in \" centimeter. Considering the following units \" millimeter \", \" centimeter \", \" meter \", and \" kilometer \", the size of lion is commonly expressed in \" meter. Considering the following units \" millimeter \", \" centimeter \", \" meter \", and \" kilometer \", the size of turmeric is commonly expressed in \"\n"
     ]
    },
    {
     "data": {
      "application/vnd.jupyter.widget-view+json": {
       "model_id": "c2b034e2d25f4b40aa5d775cbb947e12",
       "version_major": 2,
       "version_minor": 0
      },
      "text/plain": [
       "  0%|          | 0/1 [00:00<?, ?it/s]"
      ]
     },
     "metadata": {},
     "output_type": "display_data"
    },
    {
     "name": "stdout",
     "output_type": "stream",
     "text": [
      "Considering the following units \" millimeter \", \" centimeter \", \" meter \", and \" kilometer \", the size of violet is commonly expressed in \" centimeter. Considering the following units \" millimeter \", \" centimeter \", \" meter \", and \" kilometer \", the size of blackberry is commonly expressed in \" centimeter. Considering the following units \" millimeter \", \" centimeter \", \" meter \", and \" kilometer \", the size of lion is commonly expressed in \" meter. Considering the following units \" millimeter \", \" centimeter \", \" meter \", and \" kilometer \", the size of turmeric is commonly expressed in \" cent\n",
      "Ground truth:  centimeter\n",
      "\n",
      "\n",
      "\n",
      "---------------------------------------------------\n",
      "Considering the following units \" millimeter \", \" centimeter \", \" meter \", and \" kilometer \", the size of axe is commonly expressed in \" meter. Considering the following units \" millimeter \", \" centimeter \", \" meter \", and \" kilometer \", the size of bamboo is commonly expressed in \" meter. Considering the following units \" millimeter \", \" centimeter \", \" meter \", and \" kilometer \", the size of starfish is commonly expressed in \" centimeter. Considering the following units \" millimeter \", \" centimeter \", \" meter \", and \" kilometer \", the size of blackberry is commonly expressed in \"\n"
     ]
    },
    {
     "data": {
      "application/vnd.jupyter.widget-view+json": {
       "model_id": "0ea4b87aee6042ce89e3c38cabd47ff1",
       "version_major": 2,
       "version_minor": 0
      },
      "text/plain": [
       "  0%|          | 0/1 [00:00<?, ?it/s]"
      ]
     },
     "metadata": {},
     "output_type": "display_data"
    },
    {
     "name": "stdout",
     "output_type": "stream",
     "text": [
      "Considering the following units \" millimeter \", \" centimeter \", \" meter \", and \" kilometer \", the size of axe is commonly expressed in \" meter. Considering the following units \" millimeter \", \" centimeter \", \" meter \", and \" kilometer \", the size of bamboo is commonly expressed in \" meter. Considering the following units \" millimeter \", \" centimeter \", \" meter \", and \" kilometer \", the size of starfish is commonly expressed in \" centimeter. Considering the following units \" millimeter \", \" centimeter \", \" meter \", and \" kilometer \", the size of blackberry is commonly expressed in \" cent\n",
      "Ground truth:  centimeter\n",
      "\n",
      "\n",
      "\n",
      "---------------------------------------------------\n",
      "Considering the following units \" millimeter \", \" centimeter \", \" meter \", and \" kilometer \", the size of turquoise is commonly expressed in \" centimeter. Considering the following units \" millimeter \", \" centimeter \", \" meter \", and \" kilometer \", the size of saffron is commonly expressed in \" millimeter. Considering the following units \" millimeter \", \" centimeter \", \" meter \", and \" kilometer \", the size of charcoal is commonly expressed in \" centimeter. Considering the following units \" millimeter \", \" centimeter \", \" meter \", and \" kilometer \", the size of flamingo is commonly expressed in \"\n"
     ]
    },
    {
     "data": {
      "application/vnd.jupyter.widget-view+json": {
       "model_id": "a356f50197934b3197deee5f552071c0",
       "version_major": 2,
       "version_minor": 0
      },
      "text/plain": [
       "  0%|          | 0/1 [00:00<?, ?it/s]"
      ]
     },
     "metadata": {},
     "output_type": "display_data"
    },
    {
     "name": "stdout",
     "output_type": "stream",
     "text": [
      "Considering the following units \" millimeter \", \" centimeter \", \" meter \", and \" kilometer \", the size of turquoise is commonly expressed in \" centimeter. Considering the following units \" millimeter \", \" centimeter \", \" meter \", and \" kilometer \", the size of saffron is commonly expressed in \" millimeter. Considering the following units \" millimeter \", \" centimeter \", \" meter \", and \" kilometer \", the size of charcoal is commonly expressed in \" centimeter. Considering the following units \" millimeter \", \" centimeter \", \" meter \", and \" kilometer \", the size of flamingo is commonly expressed in \" mill\n",
      "Ground truth:  meter\n",
      "\n",
      "\n",
      "\n",
      "---------------------------------------------------\n",
      "Considering the following units \" millimeter \", \" centimeter \", \" meter \", and \" kilometer \", the size of violet is commonly expressed in \" centimeter. Considering the following units \" millimeter \", \" centimeter \", \" meter \", and \" kilometer \", the size of saffron is commonly expressed in \" millimeter. Considering the following units \" millimeter \", \" centimeter \", \" meter \", and \" kilometer \", the size of gopher is commonly expressed in \" centimeter. Considering the following units \" millimeter \", \" centimeter \", \" meter \", and \" kilometer \", the size of turquoise is commonly expressed in \"\n"
     ]
    },
    {
     "data": {
      "application/vnd.jupyter.widget-view+json": {
       "model_id": "d5ae142091044023954624ab6979ded7",
       "version_major": 2,
       "version_minor": 0
      },
      "text/plain": [
       "  0%|          | 0/1 [00:00<?, ?it/s]"
      ]
     },
     "metadata": {},
     "output_type": "display_data"
    },
    {
     "name": "stdout",
     "output_type": "stream",
     "text": [
      "Considering the following units \" millimeter \", \" centimeter \", \" meter \", and \" kilometer \", the size of violet is commonly expressed in \" centimeter. Considering the following units \" millimeter \", \" centimeter \", \" meter \", and \" kilometer \", the size of saffron is commonly expressed in \" millimeter. Considering the following units \" millimeter \", \" centimeter \", \" meter \", and \" kilometer \", the size of gopher is commonly expressed in \" centimeter. Considering the following units \" millimeter \", \" centimeter \", \" meter \", and \" kilometer \", the size of turquoise is commonly expressed in \" mill\n",
      "Ground truth:  centimeter\n",
      "\n",
      "\n",
      "\n",
      "---------------------------------------------------\n",
      "Considering the following units \" millimeter \", \" centimeter \", \" meter \", and \" kilometer \", the size of lime is commonly expressed in \" centimeter. Considering the following units \" millimeter \", \" centimeter \", \" meter \", and \" kilometer \", the size of charcoal is commonly expressed in \" centimeter. Considering the following units \" millimeter \", \" centimeter \", \" meter \", and \" kilometer \", the size of blackberry is commonly expressed in \" centimeter. Considering the following units \" millimeter \", \" centimeter \", \" meter \", and \" kilometer \", the size of diamond is commonly expressed in \"\n"
     ]
    },
    {
     "data": {
      "application/vnd.jupyter.widget-view+json": {
       "model_id": "7d96a8e6a94448eeba92cd7d1da27972",
       "version_major": 2,
       "version_minor": 0
      },
      "text/plain": [
       "  0%|          | 0/1 [00:00<?, ?it/s]"
      ]
     },
     "metadata": {},
     "output_type": "display_data"
    },
    {
     "name": "stdout",
     "output_type": "stream",
     "text": [
      "Considering the following units \" millimeter \", \" centimeter \", \" meter \", and \" kilometer \", the size of lime is commonly expressed in \" centimeter. Considering the following units \" millimeter \", \" centimeter \", \" meter \", and \" kilometer \", the size of charcoal is commonly expressed in \" centimeter. Considering the following units \" millimeter \", \" centimeter \", \" meter \", and \" kilometer \", the size of blackberry is commonly expressed in \" centimeter. Considering the following units \" millimeter \", \" centimeter \", \" meter \", and \" kilometer \", the size of diamond is commonly expressed in \" cent\n",
      "Ground truth:  millimeter\n",
      "\n",
      "\n",
      "\n",
      "---------------------------------------------------\n",
      "Considering the following units \" millimeter \", \" centimeter \", \" meter \", and \" kilometer \", the size of bamboo is commonly expressed in \" meter. Considering the following units \" millimeter \", \" centimeter \", \" meter \", and \" kilometer \", the size of turquoise is commonly expressed in \" centimeter. Considering the following units \" millimeter \", \" centimeter \", \" meter \", and \" kilometer \", the size of lime is commonly expressed in \" centimeter. Considering the following units \" millimeter \", \" centimeter \", \" meter \", and \" kilometer \", the size of blackberry is commonly expressed in \"\n"
     ]
    },
    {
     "data": {
      "application/vnd.jupyter.widget-view+json": {
       "model_id": "66a81a3aeac942eaa6de3f97f35cc1f8",
       "version_major": 2,
       "version_minor": 0
      },
      "text/plain": [
       "  0%|          | 0/1 [00:00<?, ?it/s]"
      ]
     },
     "metadata": {},
     "output_type": "display_data"
    },
    {
     "name": "stdout",
     "output_type": "stream",
     "text": [
      "Considering the following units \" millimeter \", \" centimeter \", \" meter \", and \" kilometer \", the size of bamboo is commonly expressed in \" meter. Considering the following units \" millimeter \", \" centimeter \", \" meter \", and \" kilometer \", the size of turquoise is commonly expressed in \" centimeter. Considering the following units \" millimeter \", \" centimeter \", \" meter \", and \" kilometer \", the size of lime is commonly expressed in \" centimeter. Considering the following units \" millimeter \", \" centimeter \", \" meter \", and \" kilometer \", the size of blackberry is commonly expressed in \" cent\n",
      "Ground truth:  centimeter\n",
      "\n",
      "\n",
      "\n",
      "---------------------------------------------------\n",
      "Considering the following units \" millimeter \", \" centimeter \", \" meter \", and \" kilometer \", the size of gopher is commonly expressed in \" centimeter. Considering the following units \" millimeter \", \" centimeter \", \" meter \", and \" kilometer \", the size of saffron is commonly expressed in \" millimeter. Considering the following units \" millimeter \", \" centimeter \", \" meter \", and \" kilometer \", the size of turquoise is commonly expressed in \" centimeter. Considering the following units \" millimeter \", \" centimeter \", \" meter \", and \" kilometer \", the size of blackberry is commonly expressed in \"\n"
     ]
    },
    {
     "data": {
      "application/vnd.jupyter.widget-view+json": {
       "model_id": "8a737b7ec25644e3ad94a7f532328699",
       "version_major": 2,
       "version_minor": 0
      },
      "text/plain": [
       "  0%|          | 0/1 [00:00<?, ?it/s]"
      ]
     },
     "metadata": {},
     "output_type": "display_data"
    },
    {
     "name": "stdout",
     "output_type": "stream",
     "text": [
      "Considering the following units \" millimeter \", \" centimeter \", \" meter \", and \" kilometer \", the size of gopher is commonly expressed in \" centimeter. Considering the following units \" millimeter \", \" centimeter \", \" meter \", and \" kilometer \", the size of saffron is commonly expressed in \" millimeter. Considering the following units \" millimeter \", \" centimeter \", \" meter \", and \" kilometer \", the size of turquoise is commonly expressed in \" centimeter. Considering the following units \" millimeter \", \" centimeter \", \" meter \", and \" kilometer \", the size of blackberry is commonly expressed in \" mill\n",
      "Ground truth:  centimeter\n",
      "\n",
      "\n",
      "\n",
      "---------------------------------------------------\n",
      "Considering the following units \" millimeter \", \" centimeter \", \" meter \", and \" kilometer \", the size of flamingo is commonly expressed in \" meter. Considering the following units \" millimeter \", \" centimeter \", \" meter \", and \" kilometer \", the size of pig is commonly expressed in \" meter. Considering the following units \" millimeter \", \" centimeter \", \" meter \", and \" kilometer \", the size of bamboo is commonly expressed in \" meter. Considering the following units \" millimeter \", \" centimeter \", \" meter \", and \" kilometer \", the size of diamond is commonly expressed in \"\n"
     ]
    },
    {
     "data": {
      "application/vnd.jupyter.widget-view+json": {
       "model_id": "80f8cd83af07425795af08b63f5340a6",
       "version_major": 2,
       "version_minor": 0
      },
      "text/plain": [
       "  0%|          | 0/1 [00:00<?, ?it/s]"
      ]
     },
     "metadata": {},
     "output_type": "display_data"
    },
    {
     "name": "stdout",
     "output_type": "stream",
     "text": [
      "Considering the following units \" millimeter \", \" centimeter \", \" meter \", and \" kilometer \", the size of flamingo is commonly expressed in \" meter. Considering the following units \" millimeter \", \" centimeter \", \" meter \", and \" kilometer \", the size of pig is commonly expressed in \" meter. Considering the following units \" millimeter \", \" centimeter \", \" meter \", and \" kilometer \", the size of bamboo is commonly expressed in \" meter. Considering the following units \" millimeter \", \" centimeter \", \" meter \", and \" kilometer \", the size of diamond is commonly expressed in \" meter\n",
      "Ground truth:  millimeter\n",
      "\n",
      "\n",
      "\n",
      "---------------------------------------------------\n",
      "Considering the following units \" millimeter \", \" centimeter \", \" meter \", and \" kilometer \", the size of violet is commonly expressed in \" centimeter. Considering the following units \" millimeter \", \" centimeter \", \" meter \", and \" kilometer \", the size of blackberry is commonly expressed in \" centimeter. Considering the following units \" millimeter \", \" centimeter \", \" meter \", and \" kilometer \", the size of flamingo is commonly expressed in \" meter. Considering the following units \" millimeter \", \" centimeter \", \" meter \", and \" kilometer \", the size of bamboo is commonly expressed in \"\n"
     ]
    },
    {
     "data": {
      "application/vnd.jupyter.widget-view+json": {
       "model_id": "e8a8269f7d654c2fabf900dc5d0e9749",
       "version_major": 2,
       "version_minor": 0
      },
      "text/plain": [
       "  0%|          | 0/1 [00:00<?, ?it/s]"
      ]
     },
     "metadata": {},
     "output_type": "display_data"
    },
    {
     "name": "stdout",
     "output_type": "stream",
     "text": [
      "Considering the following units \" millimeter \", \" centimeter \", \" meter \", and \" kilometer \", the size of violet is commonly expressed in \" centimeter. Considering the following units \" millimeter \", \" centimeter \", \" meter \", and \" kilometer \", the size of blackberry is commonly expressed in \" centimeter. Considering the following units \" millimeter \", \" centimeter \", \" meter \", and \" kilometer \", the size of flamingo is commonly expressed in \" meter. Considering the following units \" millimeter \", \" centimeter \", \" meter \", and \" kilometer \", the size of bamboo is commonly expressed in \" meter\n",
      "Ground truth:  meter\n",
      "\n",
      "\n",
      "\n",
      "---------------------------------------------------\n",
      "Considering the following units \" millimeter \", \" centimeter \", \" meter \", and \" kilometer \", the size of turquoise is commonly expressed in \" centimeter. Considering the following units \" millimeter \", \" centimeter \", \" meter \", and \" kilometer \", the size of lime is commonly expressed in \" centimeter. Considering the following units \" millimeter \", \" centimeter \", \" meter \", and \" kilometer \", the size of flamingo is commonly expressed in \" meter. Considering the following units \" millimeter \", \" centimeter \", \" meter \", and \" kilometer \", the size of blackberry is commonly expressed in \"\n"
     ]
    },
    {
     "data": {
      "application/vnd.jupyter.widget-view+json": {
       "model_id": "94b34e063fe74698bf80373fc017287f",
       "version_major": 2,
       "version_minor": 0
      },
      "text/plain": [
       "  0%|          | 0/1 [00:00<?, ?it/s]"
      ]
     },
     "metadata": {},
     "output_type": "display_data"
    },
    {
     "name": "stdout",
     "output_type": "stream",
     "text": [
      "Considering the following units \" millimeter \", \" centimeter \", \" meter \", and \" kilometer \", the size of turquoise is commonly expressed in \" centimeter. Considering the following units \" millimeter \", \" centimeter \", \" meter \", and \" kilometer \", the size of lime is commonly expressed in \" centimeter. Considering the following units \" millimeter \", \" centimeter \", \" meter \", and \" kilometer \", the size of flamingo is commonly expressed in \" meter. Considering the following units \" millimeter \", \" centimeter \", \" meter \", and \" kilometer \", the size of blackberry is commonly expressed in \" cent\n",
      "Ground truth:  centimeter\n",
      "\n",
      "\n",
      "\n",
      "---------------------------------------------------\n",
      "Considering the following units \" millimeter \", \" centimeter \", \" meter \", and \" kilometer \", the size of turmeric is commonly expressed in \" centimeter. Considering the following units \" millimeter \", \" centimeter \", \" meter \", and \" kilometer \", the size of lion is commonly expressed in \" meter. Considering the following units \" millimeter \", \" centimeter \", \" meter \", and \" kilometer \", the size of gopher is commonly expressed in \" centimeter. Considering the following units \" millimeter \", \" centimeter \", \" meter \", and \" kilometer \", the size of starfish is commonly expressed in \"\n"
     ]
    },
    {
     "data": {
      "application/vnd.jupyter.widget-view+json": {
       "model_id": "d9e33e1b7e6c4a2bbff1c52c26855c7d",
       "version_major": 2,
       "version_minor": 0
      },
      "text/plain": [
       "  0%|          | 0/1 [00:00<?, ?it/s]"
      ]
     },
     "metadata": {},
     "output_type": "display_data"
    },
    {
     "name": "stdout",
     "output_type": "stream",
     "text": [
      "Considering the following units \" millimeter \", \" centimeter \", \" meter \", and \" kilometer \", the size of turmeric is commonly expressed in \" centimeter. Considering the following units \" millimeter \", \" centimeter \", \" meter \", and \" kilometer \", the size of lion is commonly expressed in \" meter. Considering the following units \" millimeter \", \" centimeter \", \" meter \", and \" kilometer \", the size of gopher is commonly expressed in \" centimeter. Considering the following units \" millimeter \", \" centimeter \", \" meter \", and \" kilometer \", the size of starfish is commonly expressed in \" cent\n",
      "Ground truth:  centimeter\n",
      "\n",
      "\n",
      "\n",
      "---------------------------------------------------\n",
      "Considering the following units \" millimeter \", \" centimeter \", \" meter \", and \" kilometer \", the size of flamingo is commonly expressed in \" meter. Considering the following units \" millimeter \", \" centimeter \", \" meter \", and \" kilometer \", the size of saffron is commonly expressed in \" millimeter. Considering the following units \" millimeter \", \" centimeter \", \" meter \", and \" kilometer \", the size of diamond is commonly expressed in \" millimeter. Considering the following units \" millimeter \", \" centimeter \", \" meter \", and \" kilometer \", the size of bamboo is commonly expressed in \"\n"
     ]
    },
    {
     "data": {
      "application/vnd.jupyter.widget-view+json": {
       "model_id": "a0fae7ad43d544b6b0496160dd455977",
       "version_major": 2,
       "version_minor": 0
      },
      "text/plain": [
       "  0%|          | 0/1 [00:00<?, ?it/s]"
      ]
     },
     "metadata": {},
     "output_type": "display_data"
    },
    {
     "name": "stdout",
     "output_type": "stream",
     "text": [
      "Considering the following units \" millimeter \", \" centimeter \", \" meter \", and \" kilometer \", the size of flamingo is commonly expressed in \" meter. Considering the following units \" millimeter \", \" centimeter \", \" meter \", and \" kilometer \", the size of saffron is commonly expressed in \" millimeter. Considering the following units \" millimeter \", \" centimeter \", \" meter \", and \" kilometer \", the size of diamond is commonly expressed in \" millimeter. Considering the following units \" millimeter \", \" centimeter \", \" meter \", and \" kilometer \", the size of bamboo is commonly expressed in \" mill\n",
      "Ground truth:  meter\n",
      "\n",
      "\n",
      "\n",
      "---------------------------------------------------\n",
      "Considering the following units \" millimeter \", \" centimeter \", \" meter \", and \" kilometer \", the size of lime is commonly expressed in \" centimeter. Considering the following units \" millimeter \", \" centimeter \", \" meter \", and \" kilometer \", the size of gopher is commonly expressed in \" centimeter. Considering the following units \" millimeter \", \" centimeter \", \" meter \", and \" kilometer \", the size of bamboo is commonly expressed in \" meter. Considering the following units \" millimeter \", \" centimeter \", \" meter \", and \" kilometer \", the size of axe is commonly expressed in \"\n"
     ]
    },
    {
     "data": {
      "application/vnd.jupyter.widget-view+json": {
       "model_id": "66ad3fcddb074ce7b2cd1efcc4dabd15",
       "version_major": 2,
       "version_minor": 0
      },
      "text/plain": [
       "  0%|          | 0/1 [00:00<?, ?it/s]"
      ]
     },
     "metadata": {},
     "output_type": "display_data"
    },
    {
     "name": "stdout",
     "output_type": "stream",
     "text": [
      "Considering the following units \" millimeter \", \" centimeter \", \" meter \", and \" kilometer \", the size of lime is commonly expressed in \" centimeter. Considering the following units \" millimeter \", \" centimeter \", \" meter \", and \" kilometer \", the size of gopher is commonly expressed in \" centimeter. Considering the following units \" millimeter \", \" centimeter \", \" meter \", and \" kilometer \", the size of bamboo is commonly expressed in \" meter. Considering the following units \" millimeter \", \" centimeter \", \" meter \", and \" kilometer \", the size of axe is commonly expressed in \" cent\n",
      "Ground truth:  meter\n",
      "\n",
      "\n",
      "\n",
      "---------------------------------------------------\n",
      "Considering the following units \" millimeter \", \" centimeter \", \" meter \", and \" kilometer \", the size of violet is commonly expressed in \" centimeter. Considering the following units \" millimeter \", \" centimeter \", \" meter \", and \" kilometer \", the size of gopher is commonly expressed in \" centimeter. Considering the following units \" millimeter \", \" centimeter \", \" meter \", and \" kilometer \", the size of cornmeal is commonly expressed in \" centimeter. Considering the following units \" millimeter \", \" centimeter \", \" meter \", and \" kilometer \", the size of charcoal is commonly expressed in \"\n"
     ]
    },
    {
     "data": {
      "application/vnd.jupyter.widget-view+json": {
       "model_id": "8a1557ec37f945cf9beb13573c0662c8",
       "version_major": 2,
       "version_minor": 0
      },
      "text/plain": [
       "  0%|          | 0/1 [00:00<?, ?it/s]"
      ]
     },
     "metadata": {},
     "output_type": "display_data"
    },
    {
     "name": "stdout",
     "output_type": "stream",
     "text": [
      "Considering the following units \" millimeter \", \" centimeter \", \" meter \", and \" kilometer \", the size of violet is commonly expressed in \" centimeter. Considering the following units \" millimeter \", \" centimeter \", \" meter \", and \" kilometer \", the size of gopher is commonly expressed in \" centimeter. Considering the following units \" millimeter \", \" centimeter \", \" meter \", and \" kilometer \", the size of cornmeal is commonly expressed in \" centimeter. Considering the following units \" millimeter \", \" centimeter \", \" meter \", and \" kilometer \", the size of charcoal is commonly expressed in \" cent\n",
      "Ground truth:  centimeter\n",
      "\n",
      "\n",
      "\n",
      "---------------------------------------------------\n",
      "Considering the following units \" millimeter \", \" centimeter \", \" meter \", and \" kilometer \", the size of axe is commonly expressed in \" meter. Considering the following units \" millimeter \", \" centimeter \", \" meter \", and \" kilometer \", the size of cornmeal is commonly expressed in \" centimeter. Considering the following units \" millimeter \", \" centimeter \", \" meter \", and \" kilometer \", the size of saffron is commonly expressed in \" millimeter. Considering the following units \" millimeter \", \" centimeter \", \" meter \", and \" kilometer \", the size of starfish is commonly expressed in \"\n"
     ]
    },
    {
     "data": {
      "application/vnd.jupyter.widget-view+json": {
       "model_id": "cb1d3028847a46198dbfe3c0b1589d5e",
       "version_major": 2,
       "version_minor": 0
      },
      "text/plain": [
       "  0%|          | 0/1 [00:00<?, ?it/s]"
      ]
     },
     "metadata": {},
     "output_type": "display_data"
    },
    {
     "name": "stdout",
     "output_type": "stream",
     "text": [
      "Considering the following units \" millimeter \", \" centimeter \", \" meter \", and \" kilometer \", the size of axe is commonly expressed in \" meter. Considering the following units \" millimeter \", \" centimeter \", \" meter \", and \" kilometer \", the size of cornmeal is commonly expressed in \" centimeter. Considering the following units \" millimeter \", \" centimeter \", \" meter \", and \" kilometer \", the size of saffron is commonly expressed in \" millimeter. Considering the following units \" millimeter \", \" centimeter \", \" meter \", and \" kilometer \", the size of starfish is commonly expressed in \" mill\n",
      "Ground truth:  centimeter\n",
      "\n",
      "\n",
      "\n",
      "---------------------------------------------------\n",
      "Considering the following units \" millimeter \", \" centimeter \", \" meter \", and \" kilometer \", the size of diamond is commonly expressed in \" millimeter. Considering the following units \" millimeter \", \" centimeter \", \" meter \", and \" kilometer \", the size of violet is commonly expressed in \" centimeter. Considering the following units \" millimeter \", \" centimeter \", \" meter \", and \" kilometer \", the size of flamingo is commonly expressed in \" meter. Considering the following units \" millimeter \", \" centimeter \", \" meter \", and \" kilometer \", the size of saffron is commonly expressed in \"\n"
     ]
    },
    {
     "data": {
      "application/vnd.jupyter.widget-view+json": {
       "model_id": "928e4c00ba1b4d66bf6b487597c48ac4",
       "version_major": 2,
       "version_minor": 0
      },
      "text/plain": [
       "  0%|          | 0/1 [00:00<?, ?it/s]"
      ]
     },
     "metadata": {},
     "output_type": "display_data"
    },
    {
     "name": "stdout",
     "output_type": "stream",
     "text": [
      "Considering the following units \" millimeter \", \" centimeter \", \" meter \", and \" kilometer \", the size of diamond is commonly expressed in \" millimeter. Considering the following units \" millimeter \", \" centimeter \", \" meter \", and \" kilometer \", the size of violet is commonly expressed in \" centimeter. Considering the following units \" millimeter \", \" centimeter \", \" meter \", and \" kilometer \", the size of flamingo is commonly expressed in \" meter. Considering the following units \" millimeter \", \" centimeter \", \" meter \", and \" kilometer \", the size of saffron is commonly expressed in \" cent\n",
      "Ground truth:  millimeter\n",
      "\n",
      "\n",
      "\n",
      "---------------------------------------------------\n",
      "Considering the following units \" millimeter \", \" centimeter \", \" meter \", and \" kilometer \", the size of flamingo is commonly expressed in \" meter. Considering the following units \" millimeter \", \" centimeter \", \" meter \", and \" kilometer \", the size of gopher is commonly expressed in \" centimeter. Considering the following units \" millimeter \", \" centimeter \", \" meter \", and \" kilometer \", the size of cornmeal is commonly expressed in \" centimeter. Considering the following units \" millimeter \", \" centimeter \", \" meter \", and \" kilometer \", the size of diamond is commonly expressed in \"\n"
     ]
    },
    {
     "data": {
      "application/vnd.jupyter.widget-view+json": {
       "model_id": "64c24cbae0494113b430dac9d1cfa708",
       "version_major": 2,
       "version_minor": 0
      },
      "text/plain": [
       "  0%|          | 0/1 [00:00<?, ?it/s]"
      ]
     },
     "metadata": {},
     "output_type": "display_data"
    },
    {
     "name": "stdout",
     "output_type": "stream",
     "text": [
      "Considering the following units \" millimeter \", \" centimeter \", \" meter \", and \" kilometer \", the size of flamingo is commonly expressed in \" meter. Considering the following units \" millimeter \", \" centimeter \", \" meter \", and \" kilometer \", the size of gopher is commonly expressed in \" centimeter. Considering the following units \" millimeter \", \" centimeter \", \" meter \", and \" kilometer \", the size of cornmeal is commonly expressed in \" centimeter. Considering the following units \" millimeter \", \" centimeter \", \" meter \", and \" kilometer \", the size of diamond is commonly expressed in \" cent\n",
      "Ground truth:  millimeter\n",
      "\n",
      "\n",
      "\n",
      "---------------------------------------------------\n",
      "Considering the following units \" millimeter \", \" centimeter \", \" meter \", and \" kilometer \", the size of charcoal is commonly expressed in \" centimeter. Considering the following units \" millimeter \", \" centimeter \", \" meter \", and \" kilometer \", the size of flamingo is commonly expressed in \" meter. Considering the following units \" millimeter \", \" centimeter \", \" meter \", and \" kilometer \", the size of axe is commonly expressed in \" meter. Considering the following units \" millimeter \", \" centimeter \", \" meter \", and \" kilometer \", the size of gopher is commonly expressed in \"\n"
     ]
    },
    {
     "data": {
      "application/vnd.jupyter.widget-view+json": {
       "model_id": "2f0f294f9b2946e8b0bb4721e75cb395",
       "version_major": 2,
       "version_minor": 0
      },
      "text/plain": [
       "  0%|          | 0/1 [00:00<?, ?it/s]"
      ]
     },
     "metadata": {},
     "output_type": "display_data"
    },
    {
     "name": "stdout",
     "output_type": "stream",
     "text": [
      "Considering the following units \" millimeter \", \" centimeter \", \" meter \", and \" kilometer \", the size of charcoal is commonly expressed in \" centimeter. Considering the following units \" millimeter \", \" centimeter \", \" meter \", and \" kilometer \", the size of flamingo is commonly expressed in \" meter. Considering the following units \" millimeter \", \" centimeter \", \" meter \", and \" kilometer \", the size of axe is commonly expressed in \" meter. Considering the following units \" millimeter \", \" centimeter \", \" meter \", and \" kilometer \", the size of gopher is commonly expressed in \" mill\n",
      "Ground truth:  centimeter\n",
      "\n",
      "\n",
      "\n",
      "---------------------------------------------------\n",
      "Considering the following units \" millimeter \", \" centimeter \", \" meter \", and \" kilometer \", the size of gopher is commonly expressed in \" centimeter. Considering the following units \" millimeter \", \" centimeter \", \" meter \", and \" kilometer \", the size of starfish is commonly expressed in \" centimeter. Considering the following units \" millimeter \", \" centimeter \", \" meter \", and \" kilometer \", the size of bamboo is commonly expressed in \" meter. Considering the following units \" millimeter \", \" centimeter \", \" meter \", and \" kilometer \", the size of blackberry is commonly expressed in \"\n"
     ]
    },
    {
     "data": {
      "application/vnd.jupyter.widget-view+json": {
       "model_id": "d9686f7999234c40ba59cb9a14477bf2",
       "version_major": 2,
       "version_minor": 0
      },
      "text/plain": [
       "  0%|          | 0/1 [00:00<?, ?it/s]"
      ]
     },
     "metadata": {},
     "output_type": "display_data"
    },
    {
     "name": "stdout",
     "output_type": "stream",
     "text": [
      "Considering the following units \" millimeter \", \" centimeter \", \" meter \", and \" kilometer \", the size of gopher is commonly expressed in \" centimeter. Considering the following units \" millimeter \", \" centimeter \", \" meter \", and \" kilometer \", the size of starfish is commonly expressed in \" centimeter. Considering the following units \" millimeter \", \" centimeter \", \" meter \", and \" kilometer \", the size of bamboo is commonly expressed in \" meter. Considering the following units \" millimeter \", \" centimeter \", \" meter \", and \" kilometer \", the size of blackberry is commonly expressed in \" cent\n",
      "Ground truth:  centimeter\n",
      "\n",
      "\n",
      "\n",
      "---------------------------------------------------\n",
      "Considering the following units \" millimeter \", \" centimeter \", \" meter \", and \" kilometer \", the size of axe is commonly expressed in \" meter. Considering the following units \" millimeter \", \" centimeter \", \" meter \", and \" kilometer \", the size of turmeric is commonly expressed in \" centimeter. Considering the following units \" millimeter \", \" centimeter \", \" meter \", and \" kilometer \", the size of violet is commonly expressed in \" centimeter. Considering the following units \" millimeter \", \" centimeter \", \" meter \", and \" kilometer \", the size of charcoal is commonly expressed in \"\n"
     ]
    },
    {
     "data": {
      "application/vnd.jupyter.widget-view+json": {
       "model_id": "faa012e3740c4d059aa377fa33523ad2",
       "version_major": 2,
       "version_minor": 0
      },
      "text/plain": [
       "  0%|          | 0/1 [00:00<?, ?it/s]"
      ]
     },
     "metadata": {},
     "output_type": "display_data"
    },
    {
     "name": "stdout",
     "output_type": "stream",
     "text": [
      "Considering the following units \" millimeter \", \" centimeter \", \" meter \", and \" kilometer \", the size of axe is commonly expressed in \" meter. Considering the following units \" millimeter \", \" centimeter \", \" meter \", and \" kilometer \", the size of turmeric is commonly expressed in \" centimeter. Considering the following units \" millimeter \", \" centimeter \", \" meter \", and \" kilometer \", the size of violet is commonly expressed in \" centimeter. Considering the following units \" millimeter \", \" centimeter \", \" meter \", and \" kilometer \", the size of charcoal is commonly expressed in \" cent\n",
      "Ground truth:  centimeter\n",
      "\n",
      "\n",
      "\n",
      "---------------------------------------------------\n",
      "Considering the following units \" millimeter \", \" centimeter \", \" meter \", and \" kilometer \", the size of violet is commonly expressed in \" centimeter. Considering the following units \" millimeter \", \" centimeter \", \" meter \", and \" kilometer \", the size of gopher is commonly expressed in \" centimeter. Considering the following units \" millimeter \", \" centimeter \", \" meter \", and \" kilometer \", the size of flamingo is commonly expressed in \" meter. Considering the following units \" millimeter \", \" centimeter \", \" meter \", and \" kilometer \", the size of charcoal is commonly expressed in \"\n"
     ]
    },
    {
     "data": {
      "application/vnd.jupyter.widget-view+json": {
       "model_id": "f3e69ab486f34fc3b4cf75a208e4de57",
       "version_major": 2,
       "version_minor": 0
      },
      "text/plain": [
       "  0%|          | 0/1 [00:00<?, ?it/s]"
      ]
     },
     "metadata": {},
     "output_type": "display_data"
    },
    {
     "name": "stdout",
     "output_type": "stream",
     "text": [
      "Considering the following units \" millimeter \", \" centimeter \", \" meter \", and \" kilometer \", the size of violet is commonly expressed in \" centimeter. Considering the following units \" millimeter \", \" centimeter \", \" meter \", and \" kilometer \", the size of gopher is commonly expressed in \" centimeter. Considering the following units \" millimeter \", \" centimeter \", \" meter \", and \" kilometer \", the size of flamingo is commonly expressed in \" meter. Considering the following units \" millimeter \", \" centimeter \", \" meter \", and \" kilometer \", the size of charcoal is commonly expressed in \" cent\n",
      "Ground truth:  centimeter\n",
      "\n",
      "\n",
      "\n",
      "---------------------------------------------------\n",
      "Considering the following units \" millimeter \", \" centimeter \", \" meter \", and \" kilometer \", the size of blackberry is commonly expressed in \" centimeter. Considering the following units \" millimeter \", \" centimeter \", \" meter \", and \" kilometer \", the size of axe is commonly expressed in \" meter. Considering the following units \" millimeter \", \" centimeter \", \" meter \", and \" kilometer \", the size of lion is commonly expressed in \" meter. Considering the following units \" millimeter \", \" centimeter \", \" meter \", and \" kilometer \", the size of diamond is commonly expressed in \"\n"
     ]
    },
    {
     "data": {
      "application/vnd.jupyter.widget-view+json": {
       "model_id": "e48ca3ddca894d6d874259765a35ccbc",
       "version_major": 2,
       "version_minor": 0
      },
      "text/plain": [
       "  0%|          | 0/1 [00:00<?, ?it/s]"
      ]
     },
     "metadata": {},
     "output_type": "display_data"
    },
    {
     "name": "stdout",
     "output_type": "stream",
     "text": [
      "Considering the following units \" millimeter \", \" centimeter \", \" meter \", and \" kilometer \", the size of blackberry is commonly expressed in \" centimeter. Considering the following units \" millimeter \", \" centimeter \", \" meter \", and \" kilometer \", the size of axe is commonly expressed in \" meter. Considering the following units \" millimeter \", \" centimeter \", \" meter \", and \" kilometer \", the size of lion is commonly expressed in \" meter. Considering the following units \" millimeter \", \" centimeter \", \" meter \", and \" kilometer \", the size of diamond is commonly expressed in \" mill\n",
      "Ground truth:  millimeter\n",
      "\n",
      "\n",
      "\n",
      "---------------------------------------------------\n",
      "Considering the following units \" millimeter \", \" centimeter \", \" meter \", and \" kilometer \", the size of cornmeal is commonly expressed in \" centimeter. Considering the following units \" millimeter \", \" centimeter \", \" meter \", and \" kilometer \", the size of gopher is commonly expressed in \" centimeter. Considering the following units \" millimeter \", \" centimeter \", \" meter \", and \" kilometer \", the size of saffron is commonly expressed in \" millimeter. Considering the following units \" millimeter \", \" centimeter \", \" meter \", and \" kilometer \", the size of axe is commonly expressed in \"\n"
     ]
    },
    {
     "data": {
      "application/vnd.jupyter.widget-view+json": {
       "model_id": "7e3b20b9f13b46b3887cb5cb9a5ad8c4",
       "version_major": 2,
       "version_minor": 0
      },
      "text/plain": [
       "  0%|          | 0/1 [00:00<?, ?it/s]"
      ]
     },
     "metadata": {},
     "output_type": "display_data"
    },
    {
     "name": "stdout",
     "output_type": "stream",
     "text": [
      "Considering the following units \" millimeter \", \" centimeter \", \" meter \", and \" kilometer \", the size of cornmeal is commonly expressed in \" centimeter. Considering the following units \" millimeter \", \" centimeter \", \" meter \", and \" kilometer \", the size of gopher is commonly expressed in \" centimeter. Considering the following units \" millimeter \", \" centimeter \", \" meter \", and \" kilometer \", the size of saffron is commonly expressed in \" millimeter. Considering the following units \" millimeter \", \" centimeter \", \" meter \", and \" kilometer \", the size of axe is commonly expressed in \" mill\n",
      "Ground truth:  meter\n",
      "\n",
      "\n",
      "\n",
      "---------------------------------------------------\n",
      "Considering the following units \" millimeter \", \" centimeter \", \" meter \", and \" kilometer \", the size of charcoal is commonly expressed in \" centimeter. Considering the following units \" millimeter \", \" centimeter \", \" meter \", and \" kilometer \", the size of lion is commonly expressed in \" meter. Considering the following units \" millimeter \", \" centimeter \", \" meter \", and \" kilometer \", the size of gopher is commonly expressed in \" centimeter. Considering the following units \" millimeter \", \" centimeter \", \" meter \", and \" kilometer \", the size of cornmeal is commonly expressed in \"\n"
     ]
    },
    {
     "data": {
      "application/vnd.jupyter.widget-view+json": {
       "model_id": "c29ece60af8d41b19b481149a1357c50",
       "version_major": 2,
       "version_minor": 0
      },
      "text/plain": [
       "  0%|          | 0/1 [00:00<?, ?it/s]"
      ]
     },
     "metadata": {},
     "output_type": "display_data"
    },
    {
     "name": "stdout",
     "output_type": "stream",
     "text": [
      "Considering the following units \" millimeter \", \" centimeter \", \" meter \", and \" kilometer \", the size of charcoal is commonly expressed in \" centimeter. Considering the following units \" millimeter \", \" centimeter \", \" meter \", and \" kilometer \", the size of lion is commonly expressed in \" meter. Considering the following units \" millimeter \", \" centimeter \", \" meter \", and \" kilometer \", the size of gopher is commonly expressed in \" centimeter. Considering the following units \" millimeter \", \" centimeter \", \" meter \", and \" kilometer \", the size of cornmeal is commonly expressed in \" cent\n",
      "Ground truth:  centimeter\n",
      "\n",
      "\n",
      "\n",
      "---------------------------------------------------\n",
      "Considering the following units \" millimeter \", \" centimeter \", \" meter \", and \" kilometer \", the size of blackberry is commonly expressed in \" centimeter. Considering the following units \" millimeter \", \" centimeter \", \" meter \", and \" kilometer \", the size of charcoal is commonly expressed in \" centimeter. Considering the following units \" millimeter \", \" centimeter \", \" meter \", and \" kilometer \", the size of lime is commonly expressed in \" centimeter. Considering the following units \" millimeter \", \" centimeter \", \" meter \", and \" kilometer \", the size of gopher is commonly expressed in \"\n"
     ]
    },
    {
     "data": {
      "application/vnd.jupyter.widget-view+json": {
       "model_id": "0e7438137a0742bb8c52361cb1f57a1e",
       "version_major": 2,
       "version_minor": 0
      },
      "text/plain": [
       "  0%|          | 0/1 [00:00<?, ?it/s]"
      ]
     },
     "metadata": {},
     "output_type": "display_data"
    },
    {
     "name": "stdout",
     "output_type": "stream",
     "text": [
      "Considering the following units \" millimeter \", \" centimeter \", \" meter \", and \" kilometer \", the size of blackberry is commonly expressed in \" centimeter. Considering the following units \" millimeter \", \" centimeter \", \" meter \", and \" kilometer \", the size of charcoal is commonly expressed in \" centimeter. Considering the following units \" millimeter \", \" centimeter \", \" meter \", and \" kilometer \", the size of lime is commonly expressed in \" centimeter. Considering the following units \" millimeter \", \" centimeter \", \" meter \", and \" kilometer \", the size of gopher is commonly expressed in \" cent\n",
      "Ground truth:  centimeter\n",
      "\n",
      "\n",
      "\n",
      "---------------------------------------------------\n",
      "Considering the following units \" millimeter \", \" centimeter \", \" meter \", and \" kilometer \", the size of flamingo is commonly expressed in \" meter. Considering the following units \" millimeter \", \" centimeter \", \" meter \", and \" kilometer \", the size of cornmeal is commonly expressed in \" centimeter. Considering the following units \" millimeter \", \" centimeter \", \" meter \", and \" kilometer \", the size of lion is commonly expressed in \" meter. Considering the following units \" millimeter \", \" centimeter \", \" meter \", and \" kilometer \", the size of blackberry is commonly expressed in \"\n"
     ]
    },
    {
     "data": {
      "application/vnd.jupyter.widget-view+json": {
       "model_id": "1a8b38e5cf904814ae58bb8feeef3944",
       "version_major": 2,
       "version_minor": 0
      },
      "text/plain": [
       "  0%|          | 0/1 [00:00<?, ?it/s]"
      ]
     },
     "metadata": {},
     "output_type": "display_data"
    },
    {
     "name": "stdout",
     "output_type": "stream",
     "text": [
      "Considering the following units \" millimeter \", \" centimeter \", \" meter \", and \" kilometer \", the size of flamingo is commonly expressed in \" meter. Considering the following units \" millimeter \", \" centimeter \", \" meter \", and \" kilometer \", the size of cornmeal is commonly expressed in \" centimeter. Considering the following units \" millimeter \", \" centimeter \", \" meter \", and \" kilometer \", the size of lion is commonly expressed in \" meter. Considering the following units \" millimeter \", \" centimeter \", \" meter \", and \" kilometer \", the size of blackberry is commonly expressed in \" cent\n",
      "Ground truth:  centimeter\n",
      "\n",
      "\n",
      "\n",
      "---------------------------------------------------\n",
      "Considering the following units \" millimeter \", \" centimeter \", \" meter \", and \" kilometer \", the size of lime is commonly expressed in \" centimeter. Considering the following units \" millimeter \", \" centimeter \", \" meter \", and \" kilometer \", the size of charcoal is commonly expressed in \" centimeter. Considering the following units \" millimeter \", \" centimeter \", \" meter \", and \" kilometer \", the size of bamboo is commonly expressed in \" meter. Considering the following units \" millimeter \", \" centimeter \", \" meter \", and \" kilometer \", the size of diamond is commonly expressed in \"\n"
     ]
    },
    {
     "data": {
      "application/vnd.jupyter.widget-view+json": {
       "model_id": "a058e312c54e43cca8577b3bde48f582",
       "version_major": 2,
       "version_minor": 0
      },
      "text/plain": [
       "  0%|          | 0/1 [00:00<?, ?it/s]"
      ]
     },
     "metadata": {},
     "output_type": "display_data"
    },
    {
     "name": "stdout",
     "output_type": "stream",
     "text": [
      "Considering the following units \" millimeter \", \" centimeter \", \" meter \", and \" kilometer \", the size of lime is commonly expressed in \" centimeter. Considering the following units \" millimeter \", \" centimeter \", \" meter \", and \" kilometer \", the size of charcoal is commonly expressed in \" centimeter. Considering the following units \" millimeter \", \" centimeter \", \" meter \", and \" kilometer \", the size of bamboo is commonly expressed in \" meter. Considering the following units \" millimeter \", \" centimeter \", \" meter \", and \" kilometer \", the size of diamond is commonly expressed in \" cent\n",
      "Ground truth:  millimeter\n",
      "\n",
      "\n",
      "\n",
      "---------------------------------------------------\n",
      "Considering the following units \" millimeter \", \" centimeter \", \" meter \", and \" kilometer \", the size of saffron is commonly expressed in \" millimeter. Considering the following units \" millimeter \", \" centimeter \", \" meter \", and \" kilometer \", the size of pig is commonly expressed in \" meter. Considering the following units \" millimeter \", \" centimeter \", \" meter \", and \" kilometer \", the size of blackberry is commonly expressed in \" centimeter. Considering the following units \" millimeter \", \" centimeter \", \" meter \", and \" kilometer \", the size of axe is commonly expressed in \"\n"
     ]
    },
    {
     "data": {
      "application/vnd.jupyter.widget-view+json": {
       "model_id": "fe1130bae750451db3b9b58c6e1d9ac4",
       "version_major": 2,
       "version_minor": 0
      },
      "text/plain": [
       "  0%|          | 0/1 [00:00<?, ?it/s]"
      ]
     },
     "metadata": {},
     "output_type": "display_data"
    },
    {
     "name": "stdout",
     "output_type": "stream",
     "text": [
      "Considering the following units \" millimeter \", \" centimeter \", \" meter \", and \" kilometer \", the size of saffron is commonly expressed in \" millimeter. Considering the following units \" millimeter \", \" centimeter \", \" meter \", and \" kilometer \", the size of pig is commonly expressed in \" meter. Considering the following units \" millimeter \", \" centimeter \", \" meter \", and \" kilometer \", the size of blackberry is commonly expressed in \" centimeter. Considering the following units \" millimeter \", \" centimeter \", \" meter \", and \" kilometer \", the size of axe is commonly expressed in \" cent\n",
      "Ground truth:  meter\n",
      "\n",
      "\n",
      "\n",
      "---------------------------------------------------\n",
      "Considering the following units \" millimeter \", \" centimeter \", \" meter \", and \" kilometer \", the size of bamboo is commonly expressed in \" meter. Considering the following units \" millimeter \", \" centimeter \", \" meter \", and \" kilometer \", the size of blackberry is commonly expressed in \" centimeter. Considering the following units \" millimeter \", \" centimeter \", \" meter \", and \" kilometer \", the size of pig is commonly expressed in \" meter. Considering the following units \" millimeter \", \" centimeter \", \" meter \", and \" kilometer \", the size of lion is commonly expressed in \"\n"
     ]
    },
    {
     "data": {
      "application/vnd.jupyter.widget-view+json": {
       "model_id": "aced6fdecdd74ab38020808c083d9fab",
       "version_major": 2,
       "version_minor": 0
      },
      "text/plain": [
       "  0%|          | 0/1 [00:00<?, ?it/s]"
      ]
     },
     "metadata": {},
     "output_type": "display_data"
    },
    {
     "name": "stdout",
     "output_type": "stream",
     "text": [
      "Considering the following units \" millimeter \", \" centimeter \", \" meter \", and \" kilometer \", the size of bamboo is commonly expressed in \" meter. Considering the following units \" millimeter \", \" centimeter \", \" meter \", and \" kilometer \", the size of blackberry is commonly expressed in \" centimeter. Considering the following units \" millimeter \", \" centimeter \", \" meter \", and \" kilometer \", the size of pig is commonly expressed in \" meter. Considering the following units \" millimeter \", \" centimeter \", \" meter \", and \" kilometer \", the size of lion is commonly expressed in \" cent\n",
      "Ground truth:  meter\n",
      "\n",
      "\n",
      "\n",
      "---------------------------------------------------\n",
      "Considering the following units \" millimeter \", \" centimeter \", \" meter \", and \" kilometer \", the size of violet is commonly expressed in \" centimeter. Considering the following units \" millimeter \", \" centimeter \", \" meter \", and \" kilometer \", the size of charcoal is commonly expressed in \" centimeter. Considering the following units \" millimeter \", \" centimeter \", \" meter \", and \" kilometer \", the size of starfish is commonly expressed in \" centimeter. Considering the following units \" millimeter \", \" centimeter \", \" meter \", and \" kilometer \", the size of axe is commonly expressed in \"\n"
     ]
    },
    {
     "data": {
      "application/vnd.jupyter.widget-view+json": {
       "model_id": "247277e394b64c5d892ebe5812ab2482",
       "version_major": 2,
       "version_minor": 0
      },
      "text/plain": [
       "  0%|          | 0/1 [00:00<?, ?it/s]"
      ]
     },
     "metadata": {},
     "output_type": "display_data"
    },
    {
     "name": "stdout",
     "output_type": "stream",
     "text": [
      "Considering the following units \" millimeter \", \" centimeter \", \" meter \", and \" kilometer \", the size of violet is commonly expressed in \" centimeter. Considering the following units \" millimeter \", \" centimeter \", \" meter \", and \" kilometer \", the size of charcoal is commonly expressed in \" centimeter. Considering the following units \" millimeter \", \" centimeter \", \" meter \", and \" kilometer \", the size of starfish is commonly expressed in \" centimeter. Considering the following units \" millimeter \", \" centimeter \", \" meter \", and \" kilometer \", the size of axe is commonly expressed in \" cent\n",
      "Ground truth:  meter\n",
      "\n",
      "\n",
      "\n",
      "---------------------------------------------------\n",
      "Considering the following units \" millimeter \", \" centimeter \", \" meter \", and \" kilometer \", the size of lime is commonly expressed in \" centimeter. Considering the following units \" millimeter \", \" centimeter \", \" meter \", and \" kilometer \", the size of flamingo is commonly expressed in \" meter. Considering the following units \" millimeter \", \" centimeter \", \" meter \", and \" kilometer \", the size of lion is commonly expressed in \" meter. Considering the following units \" millimeter \", \" centimeter \", \" meter \", and \" kilometer \", the size of blackberry is commonly expressed in \"\n"
     ]
    },
    {
     "data": {
      "application/vnd.jupyter.widget-view+json": {
       "model_id": "5b0c147ef04147b7bcd5e34b1d03bd95",
       "version_major": 2,
       "version_minor": 0
      },
      "text/plain": [
       "  0%|          | 0/1 [00:00<?, ?it/s]"
      ]
     },
     "metadata": {},
     "output_type": "display_data"
    },
    {
     "name": "stdout",
     "output_type": "stream",
     "text": [
      "Considering the following units \" millimeter \", \" centimeter \", \" meter \", and \" kilometer \", the size of lime is commonly expressed in \" centimeter. Considering the following units \" millimeter \", \" centimeter \", \" meter \", and \" kilometer \", the size of flamingo is commonly expressed in \" meter. Considering the following units \" millimeter \", \" centimeter \", \" meter \", and \" kilometer \", the size of lion is commonly expressed in \" meter. Considering the following units \" millimeter \", \" centimeter \", \" meter \", and \" kilometer \", the size of blackberry is commonly expressed in \" mill\n",
      "Ground truth:  centimeter\n",
      "\n",
      "\n",
      "\n",
      "---------------------------------------------------\n",
      "Considering the following units \" millimeter \", \" centimeter \", \" meter \", and \" kilometer \", the size of charcoal is commonly expressed in \" centimeter. Considering the following units \" millimeter \", \" centimeter \", \" meter \", and \" kilometer \", the size of cornmeal is commonly expressed in \" centimeter. Considering the following units \" millimeter \", \" centimeter \", \" meter \", and \" kilometer \", the size of bamboo is commonly expressed in \" meter. Considering the following units \" millimeter \", \" centimeter \", \" meter \", and \" kilometer \", the size of axe is commonly expressed in \"\n"
     ]
    },
    {
     "data": {
      "application/vnd.jupyter.widget-view+json": {
       "model_id": "e15234e9722f41f0a63f2dc8d46df5a2",
       "version_major": 2,
       "version_minor": 0
      },
      "text/plain": [
       "  0%|          | 0/1 [00:00<?, ?it/s]"
      ]
     },
     "metadata": {},
     "output_type": "display_data"
    },
    {
     "name": "stdout",
     "output_type": "stream",
     "text": [
      "Considering the following units \" millimeter \", \" centimeter \", \" meter \", and \" kilometer \", the size of charcoal is commonly expressed in \" centimeter. Considering the following units \" millimeter \", \" centimeter \", \" meter \", and \" kilometer \", the size of cornmeal is commonly expressed in \" centimeter. Considering the following units \" millimeter \", \" centimeter \", \" meter \", and \" kilometer \", the size of bamboo is commonly expressed in \" meter. Considering the following units \" millimeter \", \" centimeter \", \" meter \", and \" kilometer \", the size of axe is commonly expressed in \" cent\n",
      "Ground truth:  meter\n",
      "\n",
      "\n",
      "\n",
      "---------------------------------------------------\n",
      "Considering the following units \" millimeter \", \" centimeter \", \" meter \", and \" kilometer \", the size of turmeric is commonly expressed in \" centimeter. Considering the following units \" millimeter \", \" centimeter \", \" meter \", and \" kilometer \", the size of bamboo is commonly expressed in \" meter. Considering the following units \" millimeter \", \" centimeter \", \" meter \", and \" kilometer \", the size of blackberry is commonly expressed in \" centimeter. Considering the following units \" millimeter \", \" centimeter \", \" meter \", and \" kilometer \", the size of cornmeal is commonly expressed in \"\n"
     ]
    },
    {
     "data": {
      "application/vnd.jupyter.widget-view+json": {
       "model_id": "b0bc1d56a096474b9cee5d9dca9b5d18",
       "version_major": 2,
       "version_minor": 0
      },
      "text/plain": [
       "  0%|          | 0/1 [00:00<?, ?it/s]"
      ]
     },
     "metadata": {},
     "output_type": "display_data"
    },
    {
     "name": "stdout",
     "output_type": "stream",
     "text": [
      "Considering the following units \" millimeter \", \" centimeter \", \" meter \", and \" kilometer \", the size of turmeric is commonly expressed in \" centimeter. Considering the following units \" millimeter \", \" centimeter \", \" meter \", and \" kilometer \", the size of bamboo is commonly expressed in \" meter. Considering the following units \" millimeter \", \" centimeter \", \" meter \", and \" kilometer \", the size of blackberry is commonly expressed in \" centimeter. Considering the following units \" millimeter \", \" centimeter \", \" meter \", and \" kilometer \", the size of cornmeal is commonly expressed in \" cent\n",
      "Ground truth:  centimeter\n",
      "\n",
      "\n",
      "\n",
      "---------------------------------------------------\n",
      "Considering the following units \" millimeter \", \" centimeter \", \" meter \", and \" kilometer \", the size of flamingo is commonly expressed in \" meter. Considering the following units \" millimeter \", \" centimeter \", \" meter \", and \" kilometer \", the size of charcoal is commonly expressed in \" centimeter. Considering the following units \" millimeter \", \" centimeter \", \" meter \", and \" kilometer \", the size of cornmeal is commonly expressed in \" centimeter. Considering the following units \" millimeter \", \" centimeter \", \" meter \", and \" kilometer \", the size of diamond is commonly expressed in \"\n"
     ]
    },
    {
     "data": {
      "application/vnd.jupyter.widget-view+json": {
       "model_id": "b346228181fa406e9325f5222bada4cf",
       "version_major": 2,
       "version_minor": 0
      },
      "text/plain": [
       "  0%|          | 0/1 [00:00<?, ?it/s]"
      ]
     },
     "metadata": {},
     "output_type": "display_data"
    },
    {
     "name": "stdout",
     "output_type": "stream",
     "text": [
      "Considering the following units \" millimeter \", \" centimeter \", \" meter \", and \" kilometer \", the size of flamingo is commonly expressed in \" meter. Considering the following units \" millimeter \", \" centimeter \", \" meter \", and \" kilometer \", the size of charcoal is commonly expressed in \" centimeter. Considering the following units \" millimeter \", \" centimeter \", \" meter \", and \" kilometer \", the size of cornmeal is commonly expressed in \" centimeter. Considering the following units \" millimeter \", \" centimeter \", \" meter \", and \" kilometer \", the size of diamond is commonly expressed in \" cent\n",
      "Ground truth:  millimeter\n",
      "\n",
      "\n",
      "\n",
      "---------------------------------------------------\n",
      "Considering the following units \" millimeter \", \" centimeter \", \" meter \", and \" kilometer \", the size of lion is commonly expressed in \" meter. Considering the following units \" millimeter \", \" centimeter \", \" meter \", and \" kilometer \", the size of blackberry is commonly expressed in \" centimeter. Considering the following units \" millimeter \", \" centimeter \", \" meter \", and \" kilometer \", the size of starfish is commonly expressed in \" centimeter. Considering the following units \" millimeter \", \" centimeter \", \" meter \", and \" kilometer \", the size of lime is commonly expressed in \"\n"
     ]
    },
    {
     "data": {
      "application/vnd.jupyter.widget-view+json": {
       "model_id": "a55d949d36f9481cb0e188cac418b818",
       "version_major": 2,
       "version_minor": 0
      },
      "text/plain": [
       "  0%|          | 0/1 [00:00<?, ?it/s]"
      ]
     },
     "metadata": {},
     "output_type": "display_data"
    },
    {
     "name": "stdout",
     "output_type": "stream",
     "text": [
      "Considering the following units \" millimeter \", \" centimeter \", \" meter \", and \" kilometer \", the size of lion is commonly expressed in \" meter. Considering the following units \" millimeter \", \" centimeter \", \" meter \", and \" kilometer \", the size of blackberry is commonly expressed in \" centimeter. Considering the following units \" millimeter \", \" centimeter \", \" meter \", and \" kilometer \", the size of starfish is commonly expressed in \" centimeter. Considering the following units \" millimeter \", \" centimeter \", \" meter \", and \" kilometer \", the size of lime is commonly expressed in \" cent\n",
      "Ground truth:  centimeter\n",
      "\n",
      "\n",
      "\n",
      "---------------------------------------------------\n",
      "Considering the following units \" millimeter \", \" centimeter \", \" meter \", and \" kilometer \", the size of flamingo is commonly expressed in \" meter. Considering the following units \" millimeter \", \" centimeter \", \" meter \", and \" kilometer \", the size of starfish is commonly expressed in \" centimeter. Considering the following units \" millimeter \", \" centimeter \", \" meter \", and \" kilometer \", the size of lime is commonly expressed in \" centimeter. Considering the following units \" millimeter \", \" centimeter \", \" meter \", and \" kilometer \", the size of saffron is commonly expressed in \"\n"
     ]
    },
    {
     "data": {
      "application/vnd.jupyter.widget-view+json": {
       "model_id": "a16b3cd893284150862c6ab3338219ac",
       "version_major": 2,
       "version_minor": 0
      },
      "text/plain": [
       "  0%|          | 0/1 [00:00<?, ?it/s]"
      ]
     },
     "metadata": {},
     "output_type": "display_data"
    },
    {
     "name": "stdout",
     "output_type": "stream",
     "text": [
      "Considering the following units \" millimeter \", \" centimeter \", \" meter \", and \" kilometer \", the size of flamingo is commonly expressed in \" meter. Considering the following units \" millimeter \", \" centimeter \", \" meter \", and \" kilometer \", the size of starfish is commonly expressed in \" centimeter. Considering the following units \" millimeter \", \" centimeter \", \" meter \", and \" kilometer \", the size of lime is commonly expressed in \" centimeter. Considering the following units \" millimeter \", \" centimeter \", \" meter \", and \" kilometer \", the size of saffron is commonly expressed in \" cent\n",
      "Ground truth:  millimeter\n",
      "\n",
      "\n",
      "\n",
      "---------------------------------------------------\n",
      "Considering the following units \" millimeter \", \" centimeter \", \" meter \", and \" kilometer \", the size of lion is commonly expressed in \" meter. Considering the following units \" millimeter \", \" centimeter \", \" meter \", and \" kilometer \", the size of violet is commonly expressed in \" centimeter. Considering the following units \" millimeter \", \" centimeter \", \" meter \", and \" kilometer \", the size of pig is commonly expressed in \" meter. Considering the following units \" millimeter \", \" centimeter \", \" meter \", and \" kilometer \", the size of gopher is commonly expressed in \"\n"
     ]
    },
    {
     "data": {
      "application/vnd.jupyter.widget-view+json": {
       "model_id": "2623ce186652404e80c7e96ae8f0dd14",
       "version_major": 2,
       "version_minor": 0
      },
      "text/plain": [
       "  0%|          | 0/1 [00:00<?, ?it/s]"
      ]
     },
     "metadata": {},
     "output_type": "display_data"
    },
    {
     "name": "stdout",
     "output_type": "stream",
     "text": [
      "Considering the following units \" millimeter \", \" centimeter \", \" meter \", and \" kilometer \", the size of lion is commonly expressed in \" meter. Considering the following units \" millimeter \", \" centimeter \", \" meter \", and \" kilometer \", the size of violet is commonly expressed in \" centimeter. Considering the following units \" millimeter \", \" centimeter \", \" meter \", and \" kilometer \", the size of pig is commonly expressed in \" meter. Considering the following units \" millimeter \", \" centimeter \", \" meter \", and \" kilometer \", the size of gopher is commonly expressed in \" cent\n",
      "Ground truth:  centimeter\n",
      "\n",
      "\n",
      "\n",
      "---------------------------------------------------\n",
      "Considering the following units \" millimeter \", \" centimeter \", \" meter \", and \" kilometer \", the size of violet is commonly expressed in \" centimeter. Considering the following units \" millimeter \", \" centimeter \", \" meter \", and \" kilometer \", the size of blackberry is commonly expressed in \" centimeter. Considering the following units \" millimeter \", \" centimeter \", \" meter \", and \" kilometer \", the size of starfish is commonly expressed in \" centimeter. Considering the following units \" millimeter \", \" centimeter \", \" meter \", and \" kilometer \", the size of cornmeal is commonly expressed in \"\n"
     ]
    },
    {
     "data": {
      "application/vnd.jupyter.widget-view+json": {
       "model_id": "3c831621fc60457c8d9fc856549b43e1",
       "version_major": 2,
       "version_minor": 0
      },
      "text/plain": [
       "  0%|          | 0/1 [00:00<?, ?it/s]"
      ]
     },
     "metadata": {},
     "output_type": "display_data"
    },
    {
     "name": "stdout",
     "output_type": "stream",
     "text": [
      "Considering the following units \" millimeter \", \" centimeter \", \" meter \", and \" kilometer \", the size of violet is commonly expressed in \" centimeter. Considering the following units \" millimeter \", \" centimeter \", \" meter \", and \" kilometer \", the size of blackberry is commonly expressed in \" centimeter. Considering the following units \" millimeter \", \" centimeter \", \" meter \", and \" kilometer \", the size of starfish is commonly expressed in \" centimeter. Considering the following units \" millimeter \", \" centimeter \", \" meter \", and \" kilometer \", the size of cornmeal is commonly expressed in \" cent\n",
      "Ground truth:  centimeter\n",
      "\n",
      "\n",
      "\n",
      "---------------------------------------------------\n",
      "Considering the following units \" millimeter \", \" centimeter \", \" meter \", and \" kilometer \", the size of bamboo is commonly expressed in \" meter. Considering the following units \" millimeter \", \" centimeter \", \" meter \", and \" kilometer \", the size of turmeric is commonly expressed in \" centimeter. Considering the following units \" millimeter \", \" centimeter \", \" meter \", and \" kilometer \", the size of charcoal is commonly expressed in \" centimeter. Considering the following units \" millimeter \", \" centimeter \", \" meter \", and \" kilometer \", the size of gopher is commonly expressed in \"\n"
     ]
    },
    {
     "data": {
      "application/vnd.jupyter.widget-view+json": {
       "model_id": "7d81f102adc74cfa8501343cea64a4cf",
       "version_major": 2,
       "version_minor": 0
      },
      "text/plain": [
       "  0%|          | 0/1 [00:00<?, ?it/s]"
      ]
     },
     "metadata": {},
     "output_type": "display_data"
    },
    {
     "name": "stdout",
     "output_type": "stream",
     "text": [
      "Considering the following units \" millimeter \", \" centimeter \", \" meter \", and \" kilometer \", the size of bamboo is commonly expressed in \" meter. Considering the following units \" millimeter \", \" centimeter \", \" meter \", and \" kilometer \", the size of turmeric is commonly expressed in \" centimeter. Considering the following units \" millimeter \", \" centimeter \", \" meter \", and \" kilometer \", the size of charcoal is commonly expressed in \" centimeter. Considering the following units \" millimeter \", \" centimeter \", \" meter \", and \" kilometer \", the size of gopher is commonly expressed in \" cent\n",
      "Ground truth:  centimeter\n",
      "\n",
      "\n",
      "\n",
      "---------------------------------------------------\n",
      "Considering the following units \" millimeter \", \" centimeter \", \" meter \", and \" kilometer \", the size of lion is commonly expressed in \" meter. Considering the following units \" millimeter \", \" centimeter \", \" meter \", and \" kilometer \", the size of blackberry is commonly expressed in \" centimeter. Considering the following units \" millimeter \", \" centimeter \", \" meter \", and \" kilometer \", the size of axe is commonly expressed in \" meter. Considering the following units \" millimeter \", \" centimeter \", \" meter \", and \" kilometer \", the size of turmeric is commonly expressed in \"\n"
     ]
    },
    {
     "data": {
      "application/vnd.jupyter.widget-view+json": {
       "model_id": "62ded449f4a746e4b4a9ec564983f9cd",
       "version_major": 2,
       "version_minor": 0
      },
      "text/plain": [
       "  0%|          | 0/1 [00:00<?, ?it/s]"
      ]
     },
     "metadata": {},
     "output_type": "display_data"
    },
    {
     "name": "stdout",
     "output_type": "stream",
     "text": [
      "Considering the following units \" millimeter \", \" centimeter \", \" meter \", and \" kilometer \", the size of lion is commonly expressed in \" meter. Considering the following units \" millimeter \", \" centimeter \", \" meter \", and \" kilometer \", the size of blackberry is commonly expressed in \" centimeter. Considering the following units \" millimeter \", \" centimeter \", \" meter \", and \" kilometer \", the size of axe is commonly expressed in \" meter. Considering the following units \" millimeter \", \" centimeter \", \" meter \", and \" kilometer \", the size of turmeric is commonly expressed in \" cent\n",
      "Ground truth:  centimeter\n",
      "\n",
      "\n",
      "\n",
      "---------------------------------------------------\n",
      "Considering the following units \" millimeter \", \" centimeter \", \" meter \", and \" kilometer \", the size of flamingo is commonly expressed in \" meter. Considering the following units \" millimeter \", \" centimeter \", \" meter \", and \" kilometer \", the size of diamond is commonly expressed in \" millimeter. Considering the following units \" millimeter \", \" centimeter \", \" meter \", and \" kilometer \", the size of axe is commonly expressed in \" meter. Considering the following units \" millimeter \", \" centimeter \", \" meter \", and \" kilometer \", the size of turquoise is commonly expressed in \"\n"
     ]
    },
    {
     "data": {
      "application/vnd.jupyter.widget-view+json": {
       "model_id": "43906e627bf94b359489168e1c67b71e",
       "version_major": 2,
       "version_minor": 0
      },
      "text/plain": [
       "  0%|          | 0/1 [00:00<?, ?it/s]"
      ]
     },
     "metadata": {},
     "output_type": "display_data"
    },
    {
     "name": "stdout",
     "output_type": "stream",
     "text": [
      "Considering the following units \" millimeter \", \" centimeter \", \" meter \", and \" kilometer \", the size of flamingo is commonly expressed in \" meter. Considering the following units \" millimeter \", \" centimeter \", \" meter \", and \" kilometer \", the size of diamond is commonly expressed in \" millimeter. Considering the following units \" millimeter \", \" centimeter \", \" meter \", and \" kilometer \", the size of axe is commonly expressed in \" meter. Considering the following units \" millimeter \", \" centimeter \", \" meter \", and \" kilometer \", the size of turquoise is commonly expressed in \" mill\n",
      "Ground truth:  centimeter\n",
      "\n",
      "\n",
      "\n",
      "---------------------------------------------------\n",
      "Considering the following units \" millimeter \", \" centimeter \", \" meter \", and \" kilometer \", the size of starfish is commonly expressed in \" centimeter. Considering the following units \" millimeter \", \" centimeter \", \" meter \", and \" kilometer \", the size of bamboo is commonly expressed in \" meter. Considering the following units \" millimeter \", \" centimeter \", \" meter \", and \" kilometer \", the size of lion is commonly expressed in \" meter. Considering the following units \" millimeter \", \" centimeter \", \" meter \", and \" kilometer \", the size of blackberry is commonly expressed in \"\n"
     ]
    },
    {
     "data": {
      "application/vnd.jupyter.widget-view+json": {
       "model_id": "a4b94da8d8ef43cc806bea58cd70c60c",
       "version_major": 2,
       "version_minor": 0
      },
      "text/plain": [
       "  0%|          | 0/1 [00:00<?, ?it/s]"
      ]
     },
     "metadata": {},
     "output_type": "display_data"
    },
    {
     "name": "stdout",
     "output_type": "stream",
     "text": [
      "Considering the following units \" millimeter \", \" centimeter \", \" meter \", and \" kilometer \", the size of starfish is commonly expressed in \" centimeter. Considering the following units \" millimeter \", \" centimeter \", \" meter \", and \" kilometer \", the size of bamboo is commonly expressed in \" meter. Considering the following units \" millimeter \", \" centimeter \", \" meter \", and \" kilometer \", the size of lion is commonly expressed in \" meter. Considering the following units \" millimeter \", \" centimeter \", \" meter \", and \" kilometer \", the size of blackberry is commonly expressed in \" meter\n",
      "Ground truth:  centimeter\n",
      "\n",
      "\n",
      "\n",
      "---------------------------------------------------\n",
      "Considering the following units \" millimeter \", \" centimeter \", \" meter \", and \" kilometer \", the size of turmeric is commonly expressed in \" centimeter. Considering the following units \" millimeter \", \" centimeter \", \" meter \", and \" kilometer \", the size of lion is commonly expressed in \" meter. Considering the following units \" millimeter \", \" centimeter \", \" meter \", and \" kilometer \", the size of diamond is commonly expressed in \" millimeter. Considering the following units \" millimeter \", \" centimeter \", \" meter \", and \" kilometer \", the size of violet is commonly expressed in \"\n"
     ]
    },
    {
     "data": {
      "application/vnd.jupyter.widget-view+json": {
       "model_id": "1b2e1ee6ca5949f587c0d6bb03a987f8",
       "version_major": 2,
       "version_minor": 0
      },
      "text/plain": [
       "  0%|          | 0/1 [00:00<?, ?it/s]"
      ]
     },
     "metadata": {},
     "output_type": "display_data"
    },
    {
     "name": "stdout",
     "output_type": "stream",
     "text": [
      "Considering the following units \" millimeter \", \" centimeter \", \" meter \", and \" kilometer \", the size of turmeric is commonly expressed in \" centimeter. Considering the following units \" millimeter \", \" centimeter \", \" meter \", and \" kilometer \", the size of lion is commonly expressed in \" meter. Considering the following units \" millimeter \", \" centimeter \", \" meter \", and \" kilometer \", the size of diamond is commonly expressed in \" millimeter. Considering the following units \" millimeter \", \" centimeter \", \" meter \", and \" kilometer \", the size of violet is commonly expressed in \" mill\n",
      "Ground truth:  centimeter\n",
      "\n",
      "\n",
      "\n",
      "---------------------------------------------------\n",
      "Considering the following units \" millimeter \", \" centimeter \", \" meter \", and \" kilometer \", the size of bamboo is commonly expressed in \" meter. Considering the following units \" millimeter \", \" centimeter \", \" meter \", and \" kilometer \", the size of lion is commonly expressed in \" meter. Considering the following units \" millimeter \", \" centimeter \", \" meter \", and \" kilometer \", the size of violet is commonly expressed in \" centimeter. Considering the following units \" millimeter \", \" centimeter \", \" meter \", and \" kilometer \", the size of axe is commonly expressed in \"\n"
     ]
    },
    {
     "data": {
      "application/vnd.jupyter.widget-view+json": {
       "model_id": "a29cf9fccbbd4ca8ab4b7596d3b5333b",
       "version_major": 2,
       "version_minor": 0
      },
      "text/plain": [
       "  0%|          | 0/1 [00:00<?, ?it/s]"
      ]
     },
     "metadata": {},
     "output_type": "display_data"
    },
    {
     "name": "stdout",
     "output_type": "stream",
     "text": [
      "Considering the following units \" millimeter \", \" centimeter \", \" meter \", and \" kilometer \", the size of bamboo is commonly expressed in \" meter. Considering the following units \" millimeter \", \" centimeter \", \" meter \", and \" kilometer \", the size of lion is commonly expressed in \" meter. Considering the following units \" millimeter \", \" centimeter \", \" meter \", and \" kilometer \", the size of violet is commonly expressed in \" centimeter. Considering the following units \" millimeter \", \" centimeter \", \" meter \", and \" kilometer \", the size of axe is commonly expressed in \" cent\n",
      "Ground truth:  meter\n",
      "\n",
      "\n",
      "\n",
      "---------------------------------------------------\n",
      "Considering the following units \" millimeter \", \" centimeter \", \" meter \", and \" kilometer \", the size of lime is commonly expressed in \" centimeter. Considering the following units \" millimeter \", \" centimeter \", \" meter \", and \" kilometer \", the size of saffron is commonly expressed in \" millimeter. Considering the following units \" millimeter \", \" centimeter \", \" meter \", and \" kilometer \", the size of blackberry is commonly expressed in \" centimeter. Considering the following units \" millimeter \", \" centimeter \", \" meter \", and \" kilometer \", the size of starfish is commonly expressed in \"\n"
     ]
    },
    {
     "data": {
      "application/vnd.jupyter.widget-view+json": {
       "model_id": "564a9ce2e3894a9b95ef9d139b13ca3b",
       "version_major": 2,
       "version_minor": 0
      },
      "text/plain": [
       "  0%|          | 0/1 [00:00<?, ?it/s]"
      ]
     },
     "metadata": {},
     "output_type": "display_data"
    },
    {
     "name": "stdout",
     "output_type": "stream",
     "text": [
      "Considering the following units \" millimeter \", \" centimeter \", \" meter \", and \" kilometer \", the size of lime is commonly expressed in \" centimeter. Considering the following units \" millimeter \", \" centimeter \", \" meter \", and \" kilometer \", the size of saffron is commonly expressed in \" millimeter. Considering the following units \" millimeter \", \" centimeter \", \" meter \", and \" kilometer \", the size of blackberry is commonly expressed in \" centimeter. Considering the following units \" millimeter \", \" centimeter \", \" meter \", and \" kilometer \", the size of starfish is commonly expressed in \" mill\n",
      "Ground truth:  centimeter\n",
      "\n",
      "\n",
      "\n",
      "---------------------------------------------------\n",
      "Considering the following units \" millimeter \", \" centimeter \", \" meter \", and \" kilometer \", the size of diamond is commonly expressed in \" millimeter. Considering the following units \" millimeter \", \" centimeter \", \" meter \", and \" kilometer \", the size of turmeric is commonly expressed in \" centimeter. Considering the following units \" millimeter \", \" centimeter \", \" meter \", and \" kilometer \", the size of turquoise is commonly expressed in \" centimeter. Considering the following units \" millimeter \", \" centimeter \", \" meter \", and \" kilometer \", the size of blackberry is commonly expressed in \"\n"
     ]
    },
    {
     "data": {
      "application/vnd.jupyter.widget-view+json": {
       "model_id": "740e2ddcac0e40eaac4de78ab7911933",
       "version_major": 2,
       "version_minor": 0
      },
      "text/plain": [
       "  0%|          | 0/1 [00:00<?, ?it/s]"
      ]
     },
     "metadata": {},
     "output_type": "display_data"
    },
    {
     "name": "stdout",
     "output_type": "stream",
     "text": [
      "Considering the following units \" millimeter \", \" centimeter \", \" meter \", and \" kilometer \", the size of diamond is commonly expressed in \" millimeter. Considering the following units \" millimeter \", \" centimeter \", \" meter \", and \" kilometer \", the size of turmeric is commonly expressed in \" centimeter. Considering the following units \" millimeter \", \" centimeter \", \" meter \", and \" kilometer \", the size of turquoise is commonly expressed in \" centimeter. Considering the following units \" millimeter \", \" centimeter \", \" meter \", and \" kilometer \", the size of blackberry is commonly expressed in \" mill\n",
      "Ground truth:  centimeter\n",
      "\n",
      "\n",
      "\n",
      "---------------------------------------------------\n",
      "Accuracy:  0.34\n"
     ]
    }
   ],
   "source": [
    "object_size_correct = 0\n",
    "object_size_retained = []\n",
    "for prompt, gt in object_size_prompts:\n",
    "    print(prompt)\n",
    "    generation = model.generate(\n",
    "        prompt, max_new_tokens=1, temperature=0.0, prepend_bos=True\n",
    "    )\n",
    "    print(generation)\n",
    "    print(\"Ground truth: \", gt)\n",
    "    print(\"\\n\\n\")\n",
    "    print(\"---------------------------------------------------\")\n",
    "    if gt.startswith(generation[len(prompt) :].strip()):\n",
    "        object_size_correct += 1\n",
    "        object_size_retained.append((prompt, gt))\n",
    "\n",
    "print(\"Accuracy: \", object_size_correct / len(object_size_prompts))"
   ]
  },
  {
   "cell_type": "code",
   "execution_count": 16,
   "metadata": {},
   "outputs": [],
   "source": [
    "# Save in a pickle file the data {(entity-target): {accuracy : accuracy, retained: [(prompt, gt)], full_data: [(prompt, gt)]}}\n",
    "\n",
    "data = {\n",
    "    \"city-country\": {\n",
    "        \"accuracy\": city_country_correct / len(city_country_prompts),\n",
    "        \"retained\": city_country_retained,\n",
    "        \"full_data\": city_country_prompts,\n",
    "    },\n",
    "    \"city-continent\": {\n",
    "        \"accuracy\": city_continent_correct / len(city_continent_prompts),\n",
    "        \"retained\": city_continent_retained,\n",
    "        \"full_data\": city_continent_prompts,\n",
    "    },\n",
    "    \"city-language\": {\n",
    "        \"accuracy\": city_language_correct / len(city_language_prompts),\n",
    "        \"retained\": city_language_retained,\n",
    "        \"full_data\": city_language_prompts,\n",
    "    },\n",
    "    \"occupation-duty\": {\n",
    "        \"accuracy\": duty_occupation_correct / len(duty_occupation_prompts),\n",
    "        \"retained\": duty_occupation_retained,\n",
    "        \"full_data\": duty_occupation_prompts,\n",
    "    },\n",
    "    \"object-color\": {\n",
    "        \"accuracy\": object_color_correct / len(object_color_prompts),\n",
    "        \"retained\": object_color_retained,\n",
    "        \"full_data\": object_color_prompts,\n",
    "    },\n",
    "    \"object-size\": {\n",
    "        \"accuracy\": object_size_correct / len(object_size_prompts),\n",
    "        \"retained\": object_size_retained,\n",
    "        \"full_data\": object_size_prompts,\n",
    "    },\n",
    "}\n",
    "\n",
    "with open(f\"{model_name}_prompt_data.pkl\", \"wb\") as f:\n",
    "    pickle.dump(data, f)"
   ]
  },
  {
   "cell_type": "code",
   "execution_count": 18,
   "metadata": {},
   "outputs": [
    {
     "name": "stdout",
     "output_type": "stream",
     "text": [
      "Accuracy for city-country: 0.71\n",
      "\n",
      "\n",
      "\n",
      "---------------------------------------------------\n",
      "Accuracy for city-continent: 0.3\n",
      "\n",
      "\n",
      "\n",
      "---------------------------------------------------\n",
      "Accuracy for city-language: 0.71\n",
      "\n",
      "\n",
      "\n",
      "---------------------------------------------------\n",
      "Accuracy for occupation-duty: 0.29\n",
      "\n",
      "\n",
      "\n",
      "---------------------------------------------------\n",
      "Accuracy for object-color: 0.31\n",
      "\n",
      "\n",
      "\n",
      "---------------------------------------------------\n",
      "Accuracy for object-size: 0.34\n",
      "\n",
      "\n",
      "\n",
      "---------------------------------------------------\n"
     ]
    }
   ],
   "source": [
    "# Print a recap of the results\n",
    "for key, value in data.items():\n",
    "    print(f\"Accuracy for {key}: {value['accuracy']}\")\n",
    "    print(\"\\n\")\n",
    "    print(\"---------------------------------------------------\")"
   ]
  },
  {
   "cell_type": "code",
   "execution_count": null,
   "metadata": {},
   "outputs": [],
   "source": []
  }
 ],
 "metadata": {
  "kernelspec": {
   "display_name": "arena-env",
   "language": "python",
   "name": "python3"
  },
  "language_info": {
   "codemirror_mode": {
    "name": "ipython",
    "version": 3
   },
   "file_extension": ".py",
   "mimetype": "text/x-python",
   "name": "python",
   "nbconvert_exporter": "python",
   "pygments_lexer": "ipython3",
   "version": "3.11.11"
  }
 },
 "nbformat": 4,
 "nbformat_minor": 2
}
